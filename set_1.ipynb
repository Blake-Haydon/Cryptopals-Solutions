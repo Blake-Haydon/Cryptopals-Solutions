{
 "cells": [
  {
   "cell_type": "code",
   "execution_count": 1,
   "metadata": {},
   "outputs": [
    {
     "name": "stdout",
     "output_type": "stream",
     "text": [
      "0.5000028839062313\n",
      "0.6699420031683737\n"
     ]
    }
   ],
   "source": [
    "from src.helper_functions import hamming_distance, has_repeated_blocks\n",
    "from src.symmetric_encryption import is_ecb_mode\n",
    "from src.xor import xor_hex_strings\n",
    "# \n",
    "import src.analysis as analysis\n",
    "import src.aes128 as aes128\n",
    "import src.convert as convert\n",
    "import src.padding as padding\n",
    "import src.load as load\n",
    "import src.xor as xor\n",
    "# \n",
    "import base64"
   ]
  },
  {
   "attachments": {},
   "cell_type": "markdown",
   "metadata": {},
   "source": [
    "## **Challenge 1: Convert hex to base64**"
   ]
  },
  {
   "cell_type": "code",
   "execution_count": 2,
   "metadata": {},
   "outputs": [
    {
     "data": {
      "text/plain": [
       "b'SSdtIGtpbGxpbmcgeW91ciBicmFpbiBsaWtlIGEgcG9pc29ub3VzIG11c2hyb29t'"
      ]
     },
     "execution_count": 2,
     "metadata": {},
     "output_type": "execute_result"
    }
   ],
   "source": [
    "convert.hex2b64(\"49276d206b696c6c696e6720796f757220627261696e206c696b65206120706f69736f6e6f7573206d757368726f6f6d\")"
   ]
  },
  {
   "attachments": {},
   "cell_type": "markdown",
   "metadata": {},
   "source": [
    "## **Challenge 2: Fixed XOR**"
   ]
  },
  {
   "cell_type": "code",
   "execution_count": 3,
   "metadata": {},
   "outputs": [
    {
     "data": {
      "text/plain": [
       "'746865206b696420646f6e277420706c6179'"
      ]
     },
     "execution_count": 3,
     "metadata": {},
     "output_type": "execute_result"
    }
   ],
   "source": [
    "xor_hex_strings(\n",
    "    \"1c0111001f010100061a024b53535009181c\", \n",
    "    \"686974207468652062756c6c277320657965\",\n",
    ").hex()"
   ]
  },
  {
   "attachments": {},
   "cell_type": "markdown",
   "metadata": {},
   "source": [
    "## **Challenge 3: Single-byte XOR cipher**"
   ]
  },
  {
   "cell_type": "code",
   "execution_count": 4,
   "metadata": {},
   "outputs": [
    {
     "name": "stdout",
     "output_type": "stream",
     "text": [
      "The best plaintext is: \n",
      "Cooking MC's like a pound of bacon\n"
     ]
    }
   ],
   "source": [
    "cyphertext = convert.hex2bytes(\"1b37373331363f78151b7f2b783431333d78397828372d363c78373e783a393b3736\")\n",
    "\n",
    "best_plaintext = \"\"\n",
    "best_score = 0\n",
    "for i in range(256):\n",
    "    key = convert.int2bytes(i)\n",
    "    plaintext = xor.single_byte_decrypt(cyphertext, key)\n",
    "    plaintext = plaintext.decode(\"ascii\", \"ignore\")\n",
    "    score = analysis.score_string(plaintext)\n",
    "    \n",
    "    # Keep track of most likely plaintext\n",
    "    if score > best_score:\n",
    "        best_plaintext = plaintext\n",
    "        best_score = score\n",
    "\n",
    "print(f\"The best plaintext is: \\n{best_plaintext}\")"
   ]
  },
  {
   "attachments": {},
   "cell_type": "markdown",
   "metadata": {},
   "source": [
    "## **Challenge 4: Detect single-character XOR**"
   ]
  },
  {
   "cell_type": "code",
   "execution_count": 5,
   "metadata": {},
   "outputs": [
    {
     "name": "stdout",
     "output_type": "stream",
     "text": [
      "The best plaintext is: \n",
      "Now that the party is jumping\n",
      "\n"
     ]
    }
   ],
   "source": [
    "cyphertext_list = load.file_as_bytes(\"challenge_data/4.txt\")\n",
    "cyphertext_list = cyphertext_list.split(b\"\\n\")\n",
    "\n",
    "best_plaintext = \"\"\n",
    "best_score = 0\n",
    "for i in range(len(cyphertext_list)):\n",
    "    cyphertext = cyphertext_list[i].decode(\"ascii\")\n",
    "    cyphertext = convert.hex2bytes(cyphertext)\n",
    "\n",
    "    for j in range(256):\n",
    "        key = convert.int2bytes(j)\n",
    "        plaintext = xor.single_byte_decrypt(cyphertext, key)\n",
    "        plaintext = plaintext.decode(\"ascii\", \"ignore\")\n",
    "        score = analysis.score_string(plaintext)\n",
    "        \n",
    "        # Keep track of most likely plaintext\n",
    "        if score > best_score:\n",
    "            best_plaintext = plaintext\n",
    "            best_score = score\n",
    "\n",
    "\n",
    "print(f\"The best plaintext is: \\n{best_plaintext}\")"
   ]
  },
  {
   "attachments": {},
   "cell_type": "markdown",
   "metadata": {},
   "source": [
    "## **Challenge 5: Implement repeating-key XOR**"
   ]
  },
  {
   "cell_type": "code",
   "execution_count": 6,
   "metadata": {},
   "outputs": [
    {
     "data": {
      "text/plain": [
       "'0b3637272a2b2e63622c2e69692a23693a2a3c6324202d623d63343c2a26226324272765272a282b2f20430a652e2c652a3124333a653e2b2027630c692b20283165286326302e27282f'"
      ]
     },
     "execution_count": 6,
     "metadata": {},
     "output_type": "execute_result"
    }
   ],
   "source": [
    "string = \"\"\"Burning 'em, if you ain't quick and nimble\n",
    "I go crazy when I hear a cymbal\"\"\"\n",
    "byte_str = convert.string2bytes(string)\n",
    "xor_key = convert.string2bytes(\"ICE\")\n",
    "\n",
    "xor.repeating_key_encrypt(byte_str, xor_key).hex()"
   ]
  },
  {
   "attachments": {},
   "cell_type": "markdown",
   "metadata": {},
   "source": [
    "## **Challenge 6: Break repeating-key XOR**\n",
    "# TODO: THIS CHALLENGE IS NOT COMPLETE"
   ]
  },
  {
   "cell_type": "code",
   "execution_count": 7,
   "metadata": {},
   "outputs": [
    {
     "name": "stdout",
     "output_type": "stream",
     "text": [
      "The hamming distance between b'this is a test' and b'wokka wokka!!!' is 37\n"
     ]
    }
   ],
   "source": [
    "# Check that the hamming distance function works\n",
    "a = b\"this is a test\"\n",
    "b = b\"wokka wokka!!!\"\n",
    "\n",
    "# should be 37\n",
    "print(f\"The hamming distance between {a} and {b} is {hamming_distance(a, b)}\")"
   ]
  },
  {
   "cell_type": "code",
   "execution_count": 8,
   "metadata": {},
   "outputs": [
    {
     "name": "stdout",
     "output_type": "stream",
     "text": [
      "Key size 1 has a normalized hamming distance of 15.0\n",
      "Key size 2 has a normalized hamming distance of 12.5\n",
      "Key size 3 has a normalized hamming distance of 10.333333333333334\n",
      "Key size 4 has a normalized hamming distance of 11.0\n",
      "Key size 5 has a normalized hamming distance of 13.0\n",
      "Key size 6 has a normalized hamming distance of 13.166666666666666\n",
      "Key size 7 has a normalized hamming distance of 12.714285714285714\n",
      "Key size 8 has a normalized hamming distance of 12.25\n",
      "Key size 9 has a normalized hamming distance of 12.88888888888889\n",
      "Key size 10 has a normalized hamming distance of 13.7\n",
      "Key size 11 has a normalized hamming distance of 12.636363636363637\n",
      "Key size 12 has a normalized hamming distance of 12.25\n",
      "Key size 13 has a normalized hamming distance of 12.153846153846153\n",
      "Key size 14 has a normalized hamming distance of 12.714285714285714\n",
      "Key size 15 has a normalized hamming distance of 12.866666666666667\n",
      "Key size 16 has a normalized hamming distance of 11.8125\n",
      "Key size 17 has a normalized hamming distance of 12.235294117647058\n",
      "Key size 18 has a normalized hamming distance of 12.555555555555555\n",
      "Key size 19 has a normalized hamming distance of 11.31578947368421\n",
      "Key size 20 has a normalized hamming distance of 11.15\n",
      "Key size 21 has a normalized hamming distance of 12.571428571428571\n",
      "Key size 22 has a normalized hamming distance of 12.636363636363637\n",
      "Key size 23 has a normalized hamming distance of 11.826086956521738\n",
      "Key size 24 has a normalized hamming distance of 10.958333333333334\n",
      "Key size 25 has a normalized hamming distance of 12.16\n",
      "Key size 26 has a normalized hamming distance of 13.346153846153847\n",
      "Key size 27 has a normalized hamming distance of 12.666666666666666\n",
      "Key size 28 has a normalized hamming distance of 11.5\n",
      "Key size 29 has a normalized hamming distance of 11.689655172413794\n",
      "Key size 30 has a normalized hamming distance of 13.066666666666666\n",
      "Key size 31 has a normalized hamming distance of 11.709677419354838\n",
      "Key size 32 has a normalized hamming distance of 11.34375\n",
      "Key size 33 has a normalized hamming distance of 13.06060606060606\n",
      "Key size 34 has a normalized hamming distance of 12.970588235294118\n",
      "Key size 35 has a normalized hamming distance of 11.771428571428572\n",
      "Key size 36 has a normalized hamming distance of 12.083333333333334\n",
      "Key size 37 has a normalized hamming distance of 11.675675675675675\n",
      "Key size 38 has a normalized hamming distance of 11.631578947368421\n",
      "Key size 39 has a normalized hamming distance of 12.461538461538462\n",
      "Key size 40 has a normalized hamming distance of 11.6\n",
      "The minimum hamming distance is 10.333333333333334, with key_size 3\n"
     ]
    }
   ],
   "source": [
    "cyphertext = load.file_as_bytes(\"challenge_data/6.txt\", remove_newlines=True)\n",
    "\n",
    "# Find the key_size with the minimum hamming distance\n",
    "min_dist = float(\"inf\")\n",
    "min_key_size = 0\n",
    "for key_size in range(1, 41):\n",
    "    blocks = convert.bytes2blocks(padding.apply_pkcs_7(cyphertext, key_size), key_size)\n",
    "    \n",
    "    # Calculate the hamming distance between each block\n",
    "    a = hamming_distance(blocks[0], blocks[1])\n",
    "    b = hamming_distance(blocks[1], blocks[2])\n",
    "    c = hamming_distance(blocks[2], blocks[3])\n",
    "    d = hamming_distance(blocks[3], blocks[4])\n",
    "\n",
    "    # Normalize the hamming distance\n",
    "    dist = (a + b + c + d) / key_size\n",
    "    print(f\"Key size {key_size} has a normalized hamming distance of {dist}\")\n",
    "    if dist < min_dist:\n",
    "        min_dist = dist\n",
    "        min_key_size = key_size\n",
    "\n",
    "print(f\"The minimum hamming distance is {min_dist}, with key_size {min_key_size}\")"
   ]
  },
  {
   "cell_type": "code",
   "execution_count": 14,
   "metadata": {},
   "outputs": [
    {
     "name": "stdout",
     "output_type": "stream",
     "text": [
      "Best Key b\"'\\x00\\x00\\x00\\x00\\x00\\x00\\x00\\x00\\x00\"\n",
      "Best Score 0.6908247602798366\n",
      "Best Plaintext oUIfTQsPAh\u001ePE048Gmllo0kcDk4TAQTHThsBFkU2fB4BSWQgVB\u0017dQzNTTmVSegBHVBwNRU\u0017HBAxTEjwMoghJGgkRTxuMIRpHKwAFoUdZEQQJAGvmB1MANxYGcBoXQR0BUlvwXwAgEwoFu08SSAhFTmr+Fgk4RQYFdBpGB08fWXO+amI2DB0PvQ1IBlUaGwfdQnQEHgFJ`gkRAlJ6f0LASDoAGhNJ`k9FSA8dDVjEOgFSGQELvRMGAEwxX1iiFQYHCQdUdxdBFBZJeTj1CxsBBQ9Ge08dTnhOSCCSBAcMRVhIdEEATyBUCHvLHRlJAgAOalwAUjBpZR\u001eJAgJUAAELe04CEFMBJhfVTQIHAh9P`054MGk2UgHBCVQGBwlTsgIQUwg7EA~FSQ8PEE87fDpfRyscSWvzT1QCEFMaswUWEXQMBk\u0017PAg4DQ1JMwU4ALwtJDQOOFw0VVB1PchxFXigLTRLBEgcKVVN4sk9iBgELR1jdDAAAFwoFoww6Ql5NLgaBIg4cSTRWvWI1Bk9HKn\u00137CE8BGwFTvjcEBx4MThrcDgYHKxpUlhdJGQZZVCaFVwcDBVMHjUV4LAcKQR\u0017JUlk3TwAmoQdJEwATARiFTg5JFwQ5d15NHQYEGk\u001e4dzBDADsdoE4UVBUaDE\u0012JTwgHRTkArmc6AUETCg~AN1xGYlUKcxJTEUgsAA\u0017ABwcXOwlS`QELQQcbE0D9GioWGgwcfgcHSAtPTgTAABY9C1VNdAINGxgXRH@waWUfSQcJfBkRRU8ZAULDDTUWF01jhgkRTxVJKl}JJwFJHQYAcUgRSAsWSR\u001fKIgBSAAxOfBoLUlQwW1uiGxpOCEtU~iROCk8gUw~1C1IJCAACbU8QRSxORTeSHQYGTlQJd1lOBAAXRTWCUh0FDxhU}XhzLFtHJ1mbTkoNVDEAvU4bARZFOwTXTRAPRlQYb042WwAuGxHaAk5UHAoA}CYdVBZ0ChvLSQMYVAcXvTwaUy1SBQTTAAAAAAAMdggHRSQJExuJGgkGAAdHjBoqER1JJ0CDFQZFRhsBflMMIEUHHULPDxBPH0EzwArBkkdCFraDEVHAQANr29lSEBAWk\u00134G09fDXhxsi0RAk4ITlvbCk0LTx4cdjBFeCsGHEbTAB1EeFZVnRlFTi4AGAbORU4CEFMXwBwfCBpOAAfdHUMxVVUxrmM9ElARGg}BAg4PAQQzcB4EGhoIFwHKUDFbTCsWeg0OTwEbRSHnSARTBDpFawsPCwIATxiOPBpUKhMdsh5PAUgGQQePCxYRdG87sQoPD1QbE0T9GkFiFAUXu0cdGgkADwbNUwg1DhdNfQsTVBgXVH~aKkg7TgNHsB0DAAA9DgvACjpFX0BJwQAZHB1OeE\u0012PYjYMAg5MaQBFKjoHDAbAcxZSAwZOeREBC0k2HQ_iKwYbR0MVekVUHBZJBwW0DRMDDk5rihoGACFVVWreBU4MRREYuVQcFgAdQnvRHU0OCxVUfgsAK05ZLhCJZChWERpFvQALSRwTMRCeTRkcABcb`0M9Gk0jGQPdR1ARGgNFcRtJeSchEVnDBhpBHQlSpTdPBzAXSQ\u001eHTBsJA0UcvUl5bw0KB0HFAkETCgYAilVXKhcbC0TAGgdFUAIOdhZJdAsdTR\u0017HDBFDUk43`kcrAAUdRyHnBwpOTkJEryo8RR8USSLOEENSSDdXuSAdDRdLAA\u0017HEAAeHQYReDYJC00MDxqUZSFQOV1ImwYdB0dXHRPNAA9PGgMKhwtTTSoBDBaPHU54W04mrhoPHgAdHEvAZGU/OjV6uSQMBwcNGA\u0012SaTtfADsX`UJHWREYSQfnSARTBjsI`wNOTgkVHR~ANFNLJ1IIshVIHQYKAGvmBwcKLAwRcB0HDxNPAU\u001e4Q083UhoaekcTDRcAAg~CFkU1RQUEewFBfjwdACOPTikBSR0TswRIEVIXBgDURTULFk0OexMYTwFUN0HAIQAQBwkHqGIzQQAGBR\u001fEdCwRCEkHblQcF0w0U0\u0012lUggAAwANexAAHgoGAwLxRRMfDE4DfRYbTn8aKmrxCBsURVQfcVlOGwEWRTnXFwwCHUEVoRcAMlVDKRTHSUdMHQMAfC0dCAkcdCneGAxOazkAeEk2HQAjHA\u0016OAFIbBxNJfEhJBxctDBPKSRoOVBwbsj8aQS4dBwKHKjUECQAaexscEDMNUhLBC0ETBxdUkFUAJQAGARaJGk9FVAYG`lMNMRcXTRHBDxNPeG43sQA7HRxJFUqUCQhBFAoNrwctRQYFDE\u00133PT9SUDdJrydcSWRtcwfNFVAHAU5TajtFGgwbCkbYBhlFeFsAeRcbAwZOVC~EWgdPYyARiRcGAQwKQR~WUlQwXwAgbxoLFAAcARaUBwFOUwImdgcDDU5rIADXUj0dU2Icek4TUh0YFULASEkcC3QI`wMMQkE9SB\u001fAMk9TNlIOdxNUHQZCAAHAHh1FXjYCcBsFABkOBkL7FgALVQROc0EaDwxOSU\u001fdGgI8EVIBfAUEVA5SRjKUQTYbCk5tBRsdRVQcDhLDADBFHwhJfQ8XClJBNl\u0013AC1IdBghVbwARABoHCACFXjwdGEkDdBMHBgAwW1~nUgAaRyone0VTGgoZUwb7EhxNCAAFqAMXTjwaTSCSEAESUlQNeFJOZU5LXHvMHE0EF0EAeh9FeRp5LQCFTkAZREgMr04CEFMcMQvAQ0lkay0AewcqXwA1Fw@FAk4dBkIAdA4aB0l0PD\u0016MSQ8PEE87fDtbTmIGDAnLAB0cRSo3fBwBRTYKFhuOHUETCgZUjVQHYhoGGkTABwdJAB0AtTpFNwQcTRHDBBgDUkks`ioRHUkKCE\u0012THEVCC08EbgF0BBwJSQHOGkgGADpffDETDU5tBzDJEFMLTx0bfHQJCx8ADRmUDRdMN1RH~gYGTi5jMUuFeQEaSRAEhkURDAUCQRLKUmQ5XgBIlwYbQFIRSBqJGgwBGgtzuRNNDwcVWE\u001fBT3hJVCcCtQwGQx9IBE\u0013KTwwdASEXa01jIgQATw}IPRpXKwYKekdEGwsRTx_DSToGMUlSdQZOFRwKUkv5VEMnUh0Bu0MBGgAAZDPGUwY7CBdNoB5BFwMdUz\u0017aQSwWSQoIslMcRUILTxHCEDUXF01jiw4BTwVBNluBYhAIGhNMbUgIRU5CRFjkOhwGBAQLsVQOHFkvUkrwF0lkbXkboUVUBgAcFA\u0017gRQYFCBpBwU8FQSsaVyDTAkJHYhsRtQAXABxUFzaFFggICkEDoR1OPxoqER\u0016JDQhNEUgKskJPDAUAJhPQAg0XQRUBagArU04lUh\u0017GDlNUGwpOdU9jeTY1HFmARE4xGA4LfCxSQTZSDxTJSw1ICFUdegpTNjUcXk\u0017OAUEDBxtUwRpCLQtFTgePVB8NSRoKtREKLUUVAkKkERgOCwAsrkE2Ug8bCUTNSAhVHQYKryI7RQUFABHEVA0dWXQauy1SHgYOVBaIB08XQ0kUdnRvPgwQTgrbGBwAOVRE~hAGAQBJEU@ETgpPGR8EkUUGBQgaQRnaHEshGk03fQANR1QdBALAFwAcUwE9fFxNY2QxGA\u0013LACxSQTZScxsJSw1ICFrdBgpTJjsIa00GAE1ULB\u0016NPRpPLF5JfgJUVAUAAA~KCAFFXjUecBBOFRwOBgf+T04pC0kDblMdC0VXBg~dFkU2CgtNbAEUVBwTWXOTVG5SGg8efB0cRSo+Aw@KRSANExlJdBQaBAsANU\u001eTKxFJL0dMoRwRTAtPBRPQMAAATQcBalRlIkw5Qwf2GggaR0YBeg5ZTgIcAAP3SVIaAQcVbU8QTyEaYy\u0017fDE4ITlhImk8DCkkcC3OFMQIEC0EbfVIqCFZBO1ndBgZUVA4QsgUWSR4QJwPRTWM=\n",
      "Best Key b\"''\\x00\\x00\\x00\\x00\\x00\\x00\\x00\\x00\"\n",
      "Best Score 0.7214483619609309\n",
      "Best Plaintext orIfTQsPAh\u001ewE048Gmllo\u0017kcDk4TAQToThsBFkU2fe4BSWQgVB\u0017CQzNTTmVSe@BHVBwNRU\u0017oBAxTEjwMo@hJGgkRTxujIRpHKwAFordZEQQJAGvJB1MANxYGceoXQR0BUlvPXwAgEwoFu\u00178SSAhFTmr\fFgk4RQYFdepGB08fWXO\famI2DB0Pvv1IBlUaGwfCQnQEHgFJ`@kRAlJ6f0LfSDoAGhNJ`L9FSA8dDVjbOgFSGQELvuMGAEwxX1iNFQYHCQdUd_dBFBZJeTj\u0016CxsBBQ9Ge\u00178dTnhOSCCtBAcMRVhIdbEATyBUCHvkHRlJAgAOaKwAUjBpZR\u001emAgJUAAELe\u00174CEFMBJhfqTQIHAh9P`\u001754MGk2UgHeCVQGBwlTs@IQUwg7EA~aSQ8PEE87fcpfRyscSWv]T1QCEFMasPUWEXQMBk\u0017wAg4DQ1JMwr4ALwtJDQOhFw0VVB1PcOxFXigLTRLeEgcKVVN4sL9iBgELR1jCDAAAFwoFoPw6Ql5NLgaeIg4cSTRWvpI1Bk9HKn\u0013\u0010CE8BGwFTvMcEBx4MThrDDgYHKxpUlOdJGQZZVCaaVwcDBVMHjrV4LAcKQR\u0017mUlk3TwAmovdJEwATARiaTg5JFwQ5d\u00165NHQYEGk\u001e\u0013dzBDADsdob4UVBUaDE\u0012mTwgHRTkArJc6AUETCg~fN1xGYlUKc_JTEUgsAA\u0017fBwcXOwlS`vELQQcbE0D\u001eGioWGgwcf@cHSAtPTgTfABY9C1VNdfINGxgXRH@PaWUfSQcJfekRRU8ZAULcDTUWF01jh@kRTxVJKl}mJwFJHQYAcrgRSAsWSR\u001flIgBSAAxOfeoLUlQwW1uNGxpOCEtU~NROCk8gUw~\u0016C1IJCAACbr8QRSxORTetHQYGTlQJd\u0016lOBAAXRTWdUh0FDxhU}hzLFtHJ1mETkoNVDEAvr4bARZFOwTTRAPRlQYb\u001742WwAuGxHFAk5UHAoA}dYdVBZ0ChvkSQMYVAcXvswaUy1SBQTsAAAAAAAMd@gHRSQJExumGgkGAAdHjeoqER1JJ0CcFQZFRhsBfKMMIEUHHULwDxBPH0EzPArBkkdCFrFDEVHAQANr\u00159lSEBAWk\u0013\u0013G09fDXhxsN0RAk4ITlvECk0LTx4cdMBFeCsGHEbsAB1EeFZVnulFTi4AGAbhRU4CEFMXwewfCBpOAAfCHUMxVVUxrJM9ElARGg}eAg4PAQQzce4EGhoIFwHlUDFbTCsWe@0OTwEbRSHISARTBDpFaPsPCwIATxihPBpUKhMdsO5PAUgGQQewCxYRdG87svoPD1QbE0T\u001eGkFiFAUXu\u0017cdGgkADwbiUwg1DhdNfvsTVBgXVH~FKkg7TgNHse0DAAA9DgvfCjpFX0BJwvAZHB1OeE\u0012wYjYMAg5MavBFKjoHDAbfcxZSAwZOeuEBC0k2HQ_NKwYbR0MVeLVUHBZJBwW\u0017DRMDDk5riOoGACFVVWrBBU4MRREYuqQcFgAdQnvuHU0OCxVUf@sAK05ZLhCmZChWERpFvvALSRwTMRCBTRkcABcb`\u0017M9Gk0jGQPCR1ARGgNFcutJeSchEVncBhpBHQlSpsdPBzAXSQ\u001eoTBsJA0Ucvrl5bw0KB0HaAkETCgYAiKVXKhcbC0TfGgdFUAIOdOZJdAsdTR\u0017oDBFDUk43`LcrAAUdRyHIBwpOTkJEr^o8RR8USSLhEENSSDdXutAdDRdLAA\u0017oEAAeHQYRecYJC00MDxqrZSFQOV1ImPYdB0dXHRPiAA9PGgMKhPtTTSoBDBawHU54W04mrOoPHgAdHEvfZGU/OjV6utQMBwcNGA\u0012taTtfADsX`rJHWREYSQfISARTBjsI`PNOTgkVHR~fNFNLJ1IIsOVIHQYKAGvJBwcKLAwRce0HDxNPAU\u001e\u0013Q083UhoaeLcTDRcAAg~dFkU1RQUEePFBfjwdACOwTikBSR0TsPRIEVIXBgDrRTULFk0Oe_MYTwFUN0HfIQAQBwkHq`IzQQAGBR\u001fbdCwRCEkHbKQcF0w0U0\u0012KUggAAwANe_AAHgoGAwL_RRMfDE4DfuYbTn8aKmr_CBsURVQfcqlOGwEWRTnFwwCHUEVoucAMlVDKRToSUdMHQMAfd0dCAkcdCnBGAxOazkAebk2HQAjHA\u0016hAFIbBxNJfbhJBxctDBPlSRoOVBwbsM8aQS4dBwKoKjUECQAae_scEDMNUhLeC0ETBxdUkaUAJQAGARamGk9FVAYG`KMNMRcXTRHeDxNPeG43svA7HRxJFUqrCQhBFAoNrPctRQYFDE\u0013\u0014PT9SUDdJr^dcSWRtcwfiFVAHAU5TaMtFGgwbCkb~BhlFeFsAeucbAwZOVC~bWgdPYyARiucGAQwKQR~pUlQwXwAgb_oLFAAcARarBwFOUwImd@cDDU5rIADUj0dU2IceL4TUh0YFULfSEkcC3QI`PMMQkE9SB\u001ffMk9TNlIOd_NUHQZCAAHfHh1FXjYCcesFABkOBkL\u0010FgALVQROc\u0017EaDwxOSU\u001fCGgI8EVIBffUEVA5SRjKrQTYbCk5tBusdRVQcDhLcADBFHwhJfv8XClJBNl\u0013fC1IdBghVbPARABoHCACaXjwdGEkDdeMHBgAwW1~IUgAaRyone\u0017VTGgoZUwb\u0010EhxNCAAFqfMXTjwaTSCtEAESUlQNeaJOZU5LXHvjHE0EF0EAeO9FeRp5LQCaTkAZREgMr\u00174CEFMcMQvfQ0lkay0AePcqXwA1Fw@aAk4dBkIAdf4aB0l0PD\u0016jSQ8PEE87fctbTmIGDAnkAB0cRSo3fewBRTYKFhuhHUETCgZUjqQHYhoGGkTfBwdJAB0AtspFNwQcTRHcBBgDUkks`NoRHUkKCE\u0012sHEVCC08Eb@F0BBwJSQHhGkgGADpffcETDU5tBzDmEFMLTx0bfoQJCx8ADRmrDRdMN1RH~@YGTi5jMUuaeQEaSRAEhLURDAUCQRLlUmQ5XgBIlPYbQFIRSBqmGgwBGgtzuuNNDwcVWE\u001feT3hJVCcCtvwGQx9IBE\u0013lTwwdASEXa\u00171jIgQATw}nPRpXKwYKeLdEGwsRTx_cSToGMUlSdvZOFRwKUkv\u0012VEMnUh0Bu\u0017MBGgAAZDP`UwY7CBdNoe5BFwMdUz\u0017FQSwWSQoIsKMcRUILTxHdEDUXF01jiP4BTwVBNlueYhAIGhNMbrgIRU5CRFjLOhwGBAQLsqQOHFkvUkrPF0lkbXkborVUBgAcFA\u0017@RQYFCBpBwr8FQSsaVyDsAkJHYhsRtvAXABxUFzaaFggICkEDou1OPxoqER\u0016mDQhNEUgKsLJPDAUAJhPvAg0XQRUBa@ArU04lUh\u0017`DlNUGwpOdr9jeTY1HFmfRE4xGA4LfdxSQTZSDxTmSw1ICFUde@pTNjUcXk\u0017hAUEDBxtUwupCLQtFTgewVB8NSRoKtuEKLUUVAkKLERgOCwAsrLE2Ug8bCUTiSAhVHQYKr^I7RQUFABHbVA0dWXQau^1SHgYOVBanB08XQ0kUdIRvPgwQTgrEGBwAOVRE~OAGAQBJEU@bTgpPGR8EkrUGBQgaQRnFHEshGk03fvANR1QdBALfFwAcUwE9faxNY2QxGA\u0013kACxSQTZSc_sJSw1ICFrCBgpTJjsIa\u00170GAE1ULB\u0016iPRpPLF5Jf@JUVAUAAA~lCAFFXjUeceBOFRwOBgf\fT04pC0kDbKMdC0VXBg~CFkU2CgtNbfEUVBwTWXOsVG5SGg8efe0cRSo+Aw@lRSANExlJdeQaBAsANU\u001esKxFJL0dMouwRTAtPBRPvMAAATQcBaKRlIkw5Qwf\u0015GggaR0YBe@5ZTgIcAAP\u0014SVIaAQcVbr8QTyEaYy\u0017ADE4ITlhImL8DCkkcC3OaMQIEC0EbfqIqCFZBO1nCBgZUVA4Qs@UWSR4QJwPuTWM=\n",
      "Best Key b\"'' \\x00\\x00\\x00\\x00\\x00\\x00\\x00\"\n",
      "Best Score 0.7561478612189898\n",
      "Best Plaintext orifTQsPAh\u001ewe048Gmllo\u0017KcDk4TAQTothsBFkU2fe\u0014BSWQgVB\u0017CqzNTTmVSe@bHVBwNRU\u0017obAxTEjwMo@HJGgkRTxujiRpHKwAForDZEQQJAGvJb1MANxYGceOXQR0BUlvPxwAgEwoFu\u0017\u0018SSAhFTmr\ffgk4RQYFdePGB08fWXO\fAmI2DB0Pvv\u0011IBlUaGwfCqnQEHgFJ`@KRAlJ6f0LfsDoAGhNJ`L\u0019FSA8dDVjbogFSGQELvumGAEwxX1iNfQYHCQdUd_DBFBZJeTj\u0016cxsBBQ9Ge\u0017\u0018dTnhOSCCtbAcMRVhIdbeATyBUCHvkhRlJAgAOaKWAUjBpZR\u001emagJUAAELe\u0017\u0014CEFMBJhfqtQIHAh9P`\u0017\u00154MGk2UgHecVQGBwlTs@iQUwg7EA~asQ8PEE87fcPfRyscSWv]t1QCEFMasPuWEXQMBk\u0017wag4DQ1JMwr\u0014ALwtJDQOhfw0VVB1PcOXFXigLTRLeegcKVVN4sL\u0019iBgELR1jCdAAAFwoFoPW6Ql5NLgaeig4cSTRWvpi1Bk9HKn\u0013\u0010cE8BGwFTvMCEBx4MThrDdgYHKxpUlODJGQZZVCaavwcDBVMHjrv4LAcKQR\u0017mulk3TwAmovDJEwATARiatg5JFwQ5d\u0016\u0015NHQYEGk\u001e\u0013DzBDADsdob\u0014UVBUaDE\u0012mtwgHRTkArJC6AUETCg~fn1xGYlUKc_jTEUgsAA\u0017fbwcXOwlS`veLQQcbE0D\u001egioWGgwcf@CHSAtPTgTfaBY9C1VNdfiNGxgXRH@PAWUfSQcJfeKRRU8ZAULcdTUWF01jh@KRTxVJKl}mjwFJHQYAcrGRSAsWSR\u001fligBSAAxOfeOLUlQwW1uNgxpOCEtU~NrOCk8gUw~\u0016c1IJCAACbr\u0018QRSxORTethQYGTlQJd\u0016LOBAAXRTWduh0FDxhU}HzLFtHJ1mEtkoNVDEAvr\u0014bARZFOwTtRAPRlQYb\u0017\u00142WwAuGxHFak5UHAoA}dydVBZ0ChvksQMYVAcXvsWaUy1SBQTsaAAAAAAMd@GHRSQJExumggkGAAdHjeOqER1JJ0CcfQZFRhsBfKmMIEUHHULwdxBPH0EzParBkkdCFrFdEVHAQANr\u0015\u0019lSEBAWk\u0013\u0013g09fDXhxsN\u0010RAk4ITlvEck0LTx4cdMbFeCsGHEbsaB1EeFZVnuLFTi4AGAbhrU4CEFMXweWfCBpOAAfChUMxVVUxrJm9ElARGg}eag4PAQQzce\u0014EGhoIFwHluDFbTCsWe@\u0010OTwEbRSHIsARTBDpFaPSPCwIATxihpBpUKhMdsO\u0015PAUgGQQewcxYRdG87svOPD1QbE0T\u001egkFiFAUXu\u0017CdGgkADwbiuwg1DhdNfvSTVBgXVH~Fkkg7TgNHse\u0010DAAA9DgvfcjpFX0BJwvaZHB1OeE\u0012wyjYMAg5MavbFKjoHDAbfCxZSAwZOeueBC0k2HQ_NkwYbR0MVeLvUHBZJBwW\u0017dRMDDk5riOOGACFVVWrBbU4MRREYuqqcFgAdQnvuhU0OCxVUf@SAK05ZLhCmzChWERpFvvaLSRwTMRCBtRkcABcb`\u0017m9Gk0jGQPCr1ARGgNFcuTJeSchEVncbhpBHQlSpsDPBzAXSQ\u001eotBsJA0UcvrL5bw0KB0HaakETCgYAiKvXKhcbC0TfggdFUAIOdOzJdAsdTR\u0017odBFDUk43`LCrAAUdRyHIbwpOTkJEr^O8RR8USSLheENSSDdXutadDRdLAA\u0017oeAAeHQYRecyJC00MDxqrzSFQOV1ImPydB0dXHRPiaA9PGgMKhPTTTSoBDBawhU54W04mrOOPHgAdHEvfzGU/OjV6utqMBwcNGA\u0012tATtfADsX`rjHWREYSQfIsARTBjsI`PnOTgkVHR~fnFNLJ1IIsOvIHQYKAGvJbwcKLAwRce\u0010HDxNPAU\u001e\u0013q083UhoaeLCTDRcAAg~dfkU1RQUEePfBfjwdACOwtikBSR0TsPrIEVIXBgDrrTULFk0Oe_mYTwFUN0HfiQAQBwkHq`izQQAGBR\u001fbDCwRCEkHbKqcF0w0U0\u0012KuggAAwANe_aAHgoGAwL_rRMfDE4DfuybTn8aKmr_cBsURVQfcqLOGwEWRTnfwwCHUEVouCAMlVDKRTosUdMHQMAfd\u0010dCAkcdCnBgAxOazkAebK2HQAjHA\u0016haFIbBxNJfbHJBxctDBPlsRoOVBwbsM\u0018aQS4dBwKokjUECQAae_ScEDMNUhLec0ETBxdUkauAJQAGARamgk9FVAYG`KmNMRcXTRHedxNPeG43sva7HRxJFUqrcQhBFAoNrPCtRQYFDE\u0013\u0014pT9SUDdJr^DcSWRtcwfifVAHAU5TaMTFGgwbCkb~bhlFeFsAeuCbAwZOVC~bwgdPYyARiuCGAQwKQR~pulQwXwAgb_OLFAAcARarbwFOUwImd@CDDU5rIADuj0dU2IceL\u0014TUh0YFULfsEkcC3QI`PmMQkE9SB\u001ffmk9TNlIOd_nUHQZCAAHfhh1FXjYCceSFABkOBkL\u0010fgALVQROc\u0017eaDwxOSU\u001fCggI8EVIBffuEVA5SRjKrqTYbCk5tBuSdRVQcDhLcaDBFHwhJfv\u0018XClJBNl\u0013fc1IdBghVbPaRABoHCACaxjwdGEkDdemHBgAwW1~IugAaRyone\u0017vTGgoZUwb\u0010ehxNCAAFqfmXTjwaTSCteAESUlQNeajOZU5LXHvjhE0EF0EAeO\u0019FeRp5LQCatkAZREgMr\u0017\u0014CEFMcMQvfq0lkay0AePCqXwA1Fw@aak4dBkIAdf\u0014aB0l0PD\u0016jsQ8PEE87fcTbTmIGDAnkaB0cRSo3feWBRTYKFhuhhUETCgZUjqqHYhoGGkTfbwdJAB0AtsPFNwQcTRHcbBgDUkks`NORHUkKCE\u0012shEVCC08Eb@f0BBwJSQHhgkgGADpffceTDU5tBzDmeFMLTx0bfoqJCx8ADRmrdRdMN1RH~@yGTi5jMUuaEQEaSRAEhLuRDAUCQRLlumQ5XgBIlPybQFIRSBqmggwBGgtzuunNDwcVWE\u001fet3hJVCcCtvWGQx9IBE\u0013ltwwdASEXa\u0017\u0011jIgQATw}npRpXKwYKeLDEGwsRTx_csToGMUlSdvzOFRwKUkv\u0012vEMnUh0Bu\u0017mBGgAAZDP`uwY7CBdNoe\u0015BFwMdUz\u0017FqSwWSQoIsKmcRUILTxHdeDUXF01jiP\u0014BTwVBNlueyhAIGhNMbrGIRU5CRFjLohwGBAQLsqqOHFkvUkrPf0lkbXkborvUBgAcFA\u0017@rQYFCBpBwr\u0018FQSsaVyDsakJHYhsRtvaXABxUFzaafggICkEDou\u0011OPxoqER\u0016mdQhNEUgKsLjPDAUAJhPvag0XQRUBa@arU04lUh\u0017`dlNUGwpOdr\u0019jeTY1HFmfrE4xGA4LfdXSQTZSDxTmsw1ICFUde@PTNjUcXk\u0017haUEDBxtUwuPCLQtFTgewvB8NSRoKtueKLUUVAkKLeRgOCwAsrLe2Ug8bCUTisAhVHQYKr^i7RQUFABHbvA0dWXQau^\u0011SHgYOVBanb08XQ0kUdIrvPgwQTgrEgBwAOVRE~OaGAQBJEU@btgpPGR8EkruGBQgaQRnFhEshGk03fvaNR1QdBALffwAcUwE9faXNY2QxGA\u0013kaCxSQTZSc_SJSw1ICFrCbgpTJjsIa\u0017\u0010GAE1ULB\u0016ipRpPLF5Jf@jUVAUAAA~lcAFFXjUecebOFRwOBgf\ft04pC0kDbKmdC0VXBg~CfkU2CgtNbfeUVBwTWXOsvG5SGg8efe\u0010cRSo+Aw@lrSANExlJdeqaBAsANU\u001eskxFJL0dMouWRTAtPBRPvmAAATQcBaKrlIkw5Qwf\u0015gggaR0YBe@\u0015ZTgIcAAP\u0014sVIaAQcVbr\u0018QTyEaYy\u0017AdE4ITlhImL\u0018DCkkcC3OamQIEC0EbfqiqCFZBO1nCbgZUVA4Qs@uWSR4QJwPutWM=\n",
      "Best Key b\"'' !\\x00\\x00\\x00\\x00\\x00\\x00\"\n",
      "Best Score 0.7867350139841394\n",
      "Best Plaintext oriGTQsPAh\u001ewe\u001148Gmllo\u0017KBDk4TAQTotIsBFkU2fe\u0014cSWQgVB\u0017Cq[NTTmVSe@biVBwNRU\u0017ob`xTEjwMo@HkGgkRTxujispHKwAForD{EQQJAGvJb\u0010MANxYGceOyQR0BUlvPxVAgEwoFu\u0017\u0018rSAhFTmr\ffFk4RQYFdePfB08fWXO\fALI2DB0Pvv\u0011hBlUaGwfCqOQEHgFJ`@KsAlJ6f0LfseoAGhNJ`L\u0019gSA8dDVjboFFSGQELvumfAEwxX1iNfpYHCQdUd_DcFBZJeTj\u0016cYsBBQ9Ge\u0017\u0018ETnhOSCCtb`cMRVhIdbe`TyBUCHvkhslJAgAOaKW`UjBpZR\u001emaFJUAAELe\u0017\u0014bEFMBJhfqtpIHAh9P`\u0017\u0015\u0015MGk2UgHecwQGBwlTs@ipUwg7EA~asp8PEE87fcPGRyscSWv]t\u0010QCEFMasPuvEXQMBk\u0017waF4DQ1JMwr\u0014`LwtJDQOhfV0VVB1PcOXgXigLTRLeeFcKVVN4sL\u0019HBgELR1jCd`AAFwoFoPW\u0017Ql5NLgaeiF4cSTRWvpi\u0010Bk9HKn\u0013\u0010cd8BGwFTvMCdBx4MThrDdFYHKxpUlODkGQZZVCaavVcDBVMHjrv\u0015LAcKQR\u0017muMk3TwAmovDkEwATARiatF5JFwQ5d\u0016\u0015oHQYEGk\u001e\u0013D[BDADsdob\u0014tVBUaDE\u0012mtVgHRTkArJC\u0017AUETCg~fn\u0010xGYlUKc_juEUgsAA\u0017fbVcXOwlS`vemQQcbE0D\u001egHoWGgwcf@CiSAtPTgTfacY9C1VNdfioGxgXRH@PAvUfSQcJfeKsRU8ZAULcduUWF01jh@KsTxVJKl}mjVFJHQYAcrGsSAsWSR\u001fliFBSAAxOfeOmUlQwW1uNgYpOCEtU~NrnCk8gUw~\u0016c\u0010IJCAACbr\u0018pRSxORTethpYGTlQJd\u0016LnBAAXRTWduI0FDxhU}H[LFtHJ1mEtJoNVDEAvr\u0014CARZFOwTtsAPRlQYb\u0017\u0014\u0013WwAuGxHFaJ5UHAoA}dyEVBZ0ChvkspMYVAcXvsW@Uy1SBQTsa`AAAAAMd@GiRSQJExumgFkGAAdHjeOPER1JJ0CcfpZFRhsBfKmlIEUHHULwdYBPH0EzPaSBkkdCFrFddVHAQANr\u0015\u0019MSEBAWk\u0013\u0013g\u00119fDXhxsN\u0010sAk4ITlvEcJ0LTx4cdMbgeCsGHEbsac1EeFZVnuLgTi4AGAbhrt4CEFMXweWGCBpOAAfChtMxVVUxrJm\u0018ElARGg}eaF4PAQQzce\u0014dGhoIFwHlueFbTCsWe@\u0010nTwEbRSHIs`RTBDpFaPSqCwIATxihpcpUKhMdsO\u0015qAUgGQQewcYYRdG87svOqD1QbE0T\u001egJFiFAUXu\u0017CEGgkADwbiuVg1DhdNfvSuVBgXVH~FkJg7TgNHse\u0010eAAA9DgvfcKpFX0BJwva{HB1OeE\u0012wyKYMAg5MavbgKjoHDAbfCYZSAwZOeuecC0k2HQ_NkVYbR0MVeLvtHBZJBwW\u0017dsMDDk5riOOfACFVVWrBbt4MRREYuqqBFgAdQnvuht0OCxVUf@S`K05ZLhCmzbhWERpFvvamSRwTMRCBtskcABcb`\u0017m\u0018Gk0jGQPCr\u0010ARGgNFcuTkeSchEVncbIpBHQlSpsDqBzAXSQ\u001eotcsJA0UcvrL\u0014bw0KB0HaaJETCgYAiKvyKhcbC0TfgFdFUAIOdOzkdAsdTR\u0017odcFDUk43`LCSAAUdRyHIbVpOTkJEr^O\u0019RR8USSLhedNSSDdXutaEDRdLAA\u0017oe`AeHQYRecykC00MDxqrzrFQOV1ImPyEB0dXHRPia`9PGgMKhPTuTSoBDBawht54W04mrOOqHgAdHEvfzfU/OjV6utqlBwcNGA\u0012tAutfADsX`rjiWREYSQfIs`RTBjsI`PnnTgkVHR~fngNLJ1IIsOvhHQYKAGvJbVcKLAwRce\u0010iDxNPAU\u001e\u0013q\u001183UhoaeLCuDRcAAg~dfJU1RQUEePfcfjwdACOwtHkBSR0TsPrhEVIXBgDrruULFk0Oe_mxTwFUN0HfipAQBwkHq`i[QQAGBR\u001fbDbwRCEkHbKqBF0w0U0\u0012KuFgAAwANe_a`HgoGAwL_rsMfDE4DfuyCTn8aKmr_ccsURVQfcqLnGwEWRTnfVwCHUEVouC`MlVDKRTostdMHQMAfd\u0010ECAkcdCnBg`xOazkAebK\u0013HQAjHA\u0016hagIbBxNJfbHkBxctDBPlssoOVBwbsM\u0018@QS4dBwKokKUECQAae_SBEDMNUhLec\u0011ETBxdUkau`JQAGARamgJ9FVAYG`KmoMRcXTRHedYNPeG43sva\u0016HRxJFUqrcphBFAoNrPCURQYFDE\u0013\u0014pu9SUDdJr^DBSWRtcwfifwAHAU5TaMTgGgwbCkb~bIlFeFsAeuCCAwZOVC~bwFdPYyARiuCfAQwKQR~puMQwXwAgb_OmFAAcARarbVFOUwImd@CeDU5rIADuK0dU2IceL\u0014uUh0YFULfsdkcC3QI`PmlQkE9SB\u001ffmJ9TNlIOd_ntHQZCAAHfhI1FXjYCceSgABkOBkL\u0010fFALVQROc\u0017e@DwxOSU\u001fCgFI8EVIBffudVA5SRjKrquYbCk5tBuSERVQcDhLcaeBFHwhJfv\u0018yClJBNl\u0013fc\u0010IdBghVbPasABoHCACaxKwdGEkDdemiBgAwW1~IuFAaRyone\u0017vuGgoZUwb\u0010eIxNCAAFqfmyTjwaTSCte`ESUlQNeajnZU5LXHvjhd0EF0EAeO\u0019geRp5LQCatJAZREgMr\u0017\u0014bEFMcMQvfq\u0011lkay0AePCPXwA1Fw@aaJ4dBkIAdf\u0014@B0l0PD\u0016jsp8PEE87fcTCTmIGDAnkac0cRSo3feWcRTYKFhuhhtETCgZUjqqiYhoGGkTfbVdJAB0AtsPgNwQcTRHcbcgDUkks`NOsHUkKCE\u0012shdVCC08Eb@f\u0011BBwJSQHhgJgGADpffceuDU5tBzDmegMLTx0bfoqkCx8ADRmrdsdMN1RH~@yfTi5jMUuaEpEaSRAEhLusDAUCQRLluLQ5XgBIlPyCQFIRSBqmgFwBGgtzuunoDwcVWE\u001fet\u0012hJVCcCtvWfQx9IBE\u0013ltVwdASEXa\u0017\u0011KIgQATw}npspXKwYKeLDdGwsRTx_csuoGMUlSdvznFRwKUkv\u0012vdMnUh0Bu\u0017mcGgAAZDP`uVY7CBdNoe\u0015cFwMdUz\u0017FqrwWSQoIsKmBRUILTxHdeeUXF01jiP\u0014cTwVBNlueyIAIGhNMbrGhRU5CRFjLoIwGBAQLsqqnHFkvUkrPf\u0011lkbXkborvtBgAcFA\u0017@rpYFCBpBwr\u0018gQSsaVyDsaJJHYhsRtvayABxUFzaafFgICkEDou\u0011nPxoqER\u0016mdphNEUgKsLjqDAUAJhPvaF0XQRUBa@aSU04lUh\u0017`dMNUGwpOdr\u0019KeTY1HFmfrd4xGA4LfdXrQTZSDxTmsV1ICFUde@PuNjUcXk\u0017hatEDBxtUwuPbLQtFTgewvc8NSRoKtuejLUUVAkKLesgOCwAsrLe\u0013Ug8bCUTis`hVHQYKr^i\u0016RQUFABHbv`0dWXQau^\u0011rHgYOVBanb\u00118XQ0kUdIrWPgwQTgrEgcwAOVRE~OafAQBJEU@btFpPGR8EkrufBQgaQRnFhdshGk03fvaoR1QdBALffVAcUwE9faXoY2QxGA\u0013kabxSQTZSc_SkSw1ICFrCbFpTJjsIa\u0017\u0010fAE1ULB\u0016ipspPLF5Jf@jtVAUAAA~lc`FFXjUecebnFRwOBgf\ft\u00114pC0kDbKmEC0VXBg~CfJU2CgtNbfetVBwTWXOsvf5SGg8efe\u0010BRSo+Aw@lrrANExlJdeq@BAsANU\u001eskYFJL0dMouWsTAtPBRPvm`AATQcBaKrMIkw5Qwf\u0015gFgaR0YBe@\u0015{TgIcAAP\u0014swIaAQcVbr\u0018pTyEaYy\u0017Add4ITlhImL\u0018eCkkcC3OampIEC0EbfqiPCFZBO1nCbFZUVA4Qs@uvSR4QJwPutvM=\n",
      "Best Key b\"'' ! \\x00\\x00\\x00\\x00\\x00\"\n",
      "Best Score 0.8329904384155207\n",
      "Best Plaintext oriGtQsPAh\u001ewe\u0011\u00148Gmllo\u0017KBdk4TAQTotISBFkU2fe\u0014csWQgVB\u0017Cq[nTTmVSe@bivBwNRU\u0017ob`XTEjwMo@HkggkRTxujisPHKwAForD{eQQJAGvJb\u0010mANxYGceOyqR0BUlvPxVagEwoFu\u0017\u0018rsAhFTmr\ffFK4RQYFdePfb08fWXO\fALi2DB0Pvv\u0011hblUaGwfCqOqEHgFJ`@KsalJ6f0LfseOAGhNJ`L\u0019gsA8dDVjboFfSGQELvumfaEwxX1iNfpyHCQdUd_DcfBZJeTj\u0016cYSBBQ9Ge\u0017\u0018EtnhOSCCtb`CMRVhIdbe`tyBUCHvkhsLJAgAOaKW`ujBpZR\u001emaFjUAAELe\u0017\u0014beFMBJhfqtpiHAh9P`\u0017\u0015\u0015mGk2UgHecwqGBwlTs@ipuwg7EA~asp\u0018PEE87fcPGryscSWv]t\u0010qCEFMasPuveXQMBk\u0017waF\u0014DQ1JMwr\u0014`lwtJDQOhfV\u0010VVB1PcOXgxigLTRLeeFCKVVN4sL\u0019HbgELR1jCd`aAFwoFoPW\u0017ql5NLgaeiF\u0014cSTRWvpi\u0010bk9HKn\u0013\u0010cd\u0018BGwFTvMCdbx4MThrDdFyHKxpUlODkgQZZVCaavVCDBVMHjrv\u0015lAcKQR\u0017muMK3TwAmovDkewATARiatF\u0015JFwQ5d\u0016\u0015ohQYEGk\u001e\u0013D[bDADsdob\u0014tvBUaDE\u0012mtVGHRTkArJC\u0017aUETCg~fn\u0010XGYlUKc_jueUgsAA\u0017fbVCXOwlS`vemqQcbE0D\u001egHOWGgwcf@CisAtPTgTfacy9C1VNdfiogxgXRH@PAvufSQcJfeKsrU8ZAULcduuWF01jh@KstxVJKl}mjVfJHQYAcrGssAsWSR\u001fliFbSAAxOfeOmulQwW1uNgYPOCEtU~Nrnck8gUw~\u0016c\u0010iJCAACbr\u0018prSxORTethpyGTlQJd\u0016LnbAAXRTWduI\u0010FDxhU}H[lFtHJ1mEtJONVDEAvr\u0014CaRZFOwTtsaPRlQYb\u0017\u0014\u0013wwAuGxHFaJ\u0015UHAoA}dyEvBZ0ChvkspmYVAcXvsW@uy1SBQTsa`aAAAAMd@GirSQJExumgFKGAAdHjeOPeR1JJ0CcfpzFRhsBfKmliEUHHULwdYbPH0EzPaSbkkdCFrFddvHAQANr\u0015\u0019MsEBAWk\u0013\u0013g\u0011\u0019fDXhxsN\u0010sak4ITlvEcJ\u0010LTx4cdMbgECsGHEbsac\u0011EeFZVnuLgti4AGAbhrt\u0014CEFMXweWGcBpOAAfChtmxVVUxrJm\u0018elARGg}eaF\u0014PAQQzce\u0014dghoIFwHluefbTCsWe@\u0010ntwEbRSHIs`rTBDpFaPSqcwIATxihpcPUKhMdsO\u0015qaUgGQQewcYyRdG87svOqd1QbE0T\u001egJfiFAUXu\u0017CEggkADwbiuVG1DhdNfvSuvBgXVH~FkJG7TgNHse\u0010eaAA9DgvfcKPFX0BJwva{hB1OeE\u0012wyKyMAg5MavbgkjoHDAbfCYzSAwZOeuecc0k2HQ_NkVybR0MVeLvthBZJBwW\u0017dsmDDk5riOOfaCFVVWrBbt\u0014MRREYuqqBfgAdQnvuht\u0010OCxVUf@S`k05ZLhCmzbHWERpFvvamsRwTMRCBtsKcABcb`\u0017m\u0018gk0jGQPCr\u0010aRGgNFcuTkESchEVncbIPBHQlSpsDqbzAXSQ\u001eotcSJA0UcvrL\u0014Bw0KB0HaaJeTCgYAiKvykhcbC0TfgFDFUAIOdOzkDAsdTR\u0017odcfDUk43`LCSaAUdRyHIbVPOTkJEr^O\u0019rR8USSLhednSSDdXutaEdRdLAA\u0017oe`aeHQYRecykc00MDxqrzrfQOV1ImPyEb0dXHRPia`\u0019PGgMKhPTutSoBDBawht\u00154W04mrOOqhgAdHEvfzfu/OjV6utqlbwcNGA\u0012tAuTfADsX`rjiwREYSQfIs`rTBjsI`PnntgkVHR~fngnLJ1IIsOvhhQYKAGvJbVCKLAwRce\u0010idxNPAU\u001e\u0013q\u0011\u00183UhoaeLCudRcAAg~dfJu1RQUEePfcFjwdACOwtHKBSR0TsPrheVIXBgDrruuLFk0Oe_mxtwFUN0HfipaQBwkHq`i[qQAGBR\u001fbDbWRCEkHbKqBf0w0U0\u0012KuFGAAwANe_a`hgoGAwL_rsmfDE4DfuyCtn8aKmr_ccSURVQfcqLngwEWRTnfVWCHUEVouC`mlVDKRTostDMHQMAfd\u0010EcAkcdCnBg`XOazkAebK\u0013hQAjHA\u0016hagibBxNJfbHkbxctDBPlssOOVBwbsM\u0018@qS4dBwKokKuECQAae_SBeDMNUhLec\u0011eTBxdUkau`jQAGARamgJ\u0019FVAYG`KmomRcXTRHedYnPeG43sva\u0016hRxJFUqrcpHBFAoNrPCUrQYFDE\u0013\u0014pu\u0019SUDdJr^DBsWRtcwfifwaHAU5TaMTgggwbCkb~bILFeFsAeuCCawZOVC~bwFDPYyARiuCfaQwKQR~puMqwXwAgb_OmfAAcARarbVfOUwImd@CedU5rIADuK\u0010dU2IceL\u0014uuh0YFULfsdKcC3QI`PmlqkE9SB\u001ffmJ\u0019TNlIOd_nthQZCAAHfhI\u0011FXjYCceSgaBkOBkL\u0010fFaLVQROc\u0017e@dwxOSU\u001fCgFi8EVIBffudvA5SRjKrquybCk5tBuSErVQcDhLcaebFHwhJfv\u0018yclJBNl\u0013fc\u0010idBghVbPasaBoHCACaxKWdGEkDdemibgAwW1~IuFaaRyone\u0017vuggoZUwb\u0010eIXNCAAFqfmytjwaTSCte`eSUlQNeajnzU5LXHvjhd\u0010EF0EAeO\u0019gERp5LQCatJaZREgMr\u0017\u0014beFMcMQvfq\u0011Lkay0AePCPxwA1Fw@aaJ\u0014dBkIAdf\u0014@b0l0PD\u0016jsp\u0018PEE87fcTCtmIGDAnkac\u0010cRSo3feWcrTYKFhuhhteTCgZUjqqiyhoGGkTfbVDJAB0AtsPgnwQcTRHcbcGDUkks`NOshUkKCE\u0012shdvCC08Eb@f\u0011bBwJSQHhgJGGADpffceudU5tBzDmegmLTx0bfoqkcx8ADRmrdsDMN1RH~@yfti5jMUuaEpeaSRAEhLusdAUCQRLluLq5XgBIlPyCqFIRSBqmgFWBGgtzuunodwcVWE\u001fet\u0012HJVCcCtvWfqx9IBE\u0013ltVWdASEXa\u0017\u0011KigQATw}npsPXKwYKeLDdgwsRTx_csuOGMUlSdvznfRwKUkv\u0012vdmnUh0Bu\u0017mcggAAZDP`uVy7CBdNoe\u0015cfwMdUz\u0017FqrWWSQoIsKmBrUILTxHdeeuXF01jiP\u0014ctwVBNlueyIaIGhNMbrGhrU5CRFjLoIWGBAQLsqqnhFkvUkrPf\u0011LkbXkborvtbgAcFA\u0017@rpyFCBpBwr\u0018gqSsaVyDsaJjHYhsRtvayaBxUFzaafFGICkEDou\u0011npxoqER\u0016mdpHNEUgKsLjqdAUAJhPvaF\u0010XQRUBa@aSu04lUh\u0017`dMnUGwpOdr\u0019KETY1HFmfrd\u0014xGA4LfdXrqTZSDxTmsV\u0011ICFUde@PunjUcXk\u0017hateDBxtUwuPblQtFTgewvc\u0018NSRoKtuejlUUVAkKLesGOCwAsrLe\u0013ug8bCUTis`HVHQYKr^i\u0016rQUFABHbv`\u0010dWXQau^\u0011rhgYOVBanb\u0011\u0018XQ0kUdIrWpgwQTgrEgcWAOVRE~OafaQBJEU@btFPPGR8EkrufbQgaQRnFhdShGk03fvaor1QdBALffVacUwE9faXoy2QxGA\u0013kabXSQTZSc_Sksw1ICFrCbFPTJjsIa\u0017\u0010faE1ULB\u0016ipsPPLF5Jf@jtvAUAAA~lc`fFXjUecebnfRwOBgf\ft\u0011\u0014pC0kDbKmEc0VXBg~CfJu2CgtNbfetvBwTWXOsvf\u0015SGg8efe\u0010BrSo+Aw@lrraNExlJdeq@bAsANU\u001eskYfJL0dMouWstAtPBRPvm`aATQcBaKrMikw5Qwf\u0015gFGaR0YBe@\u0015{tgIcAAP\u0014swiaAQcVbr\u0018ptyEaYy\u0017Add\u0014ITlhImL\u0018eckkcC3OampiEC0EbfqiPcFZBO1nCbFzUVA4Qs@uvsR4QJwPutvm=\n",
      "Best Key b\"'' !  \\x00\\x00\\x00\\x00\"\n",
      "Best Score 0.8649191110026878\n",
      "Best Plaintext oriGtqsPAh\u001ewe\u0011\u0014\u0018Gmllo\u0017KBdK4TAQTotISbFkU2fe\u0014cswQgVB\u0017Cq[ntTmVSe@bivbwNRU\u0017ob`XtEjwMo@HkgGkRTxujisPhKwAForD{eqQJAGvJb\u0010maNxYGceOyqr0BUlvPxVaGEwoFu\u0017\u0018rsahFTmr\ffFK\u0014RQYFdePfb\u00108fWXO\fALi\u0012DB0Pvv\u0011hbLUaGwfCqOqeHgFJ`@KsaLJ6f0LfseOaGhNJ`L\u0019gsa8dDVjboFfsGQELvumfaewxX1iNfpyhCQdUd_DcfbZJeTj\u0016cYSbBQ9Ge\u0017\u0018EtNhOSCCtb`CmRVhIdbe`tYBUCHvkhsLjAgAOaKW`uJBpZR\u001emaFjuAAELe\u0017\u0014befMBJhfqtpihAh9P`\u0017\u0015\u0015mgk2UgHecwqgBwlTs@ipuWg7EA~asp\u0018pEE87fcPGrYscSWv]t\u0010qcEFMasPuvexQMBk\u0017waF\u0014dQ1JMwr\u0014`lWtJDQOhfV\u0010vVB1PcOXgxIgLTRLeeFCkVVN4sL\u0019HbGELR1jCd`aaFwoFoPW\u0017qL5NLgaeiF\u0014CSTRWvpi\u0010bK9HKn\u0013\u0010cd\u0018bGwFTvMCdbX4MThrDdFyhKxpUlODkgqZZVCaavVCdBVMHjrv\u0015lacKQR\u0017muMK\u0013TwAmovDkeWATARiatF\u0015jFwQ5d\u0016\u0015ohqYEGk\u001e\u0013D[bdADsdob\u0014tvbUaDE\u0012mtVGhRTkArJC\u0017auETCg~fn\u0010XgYlUKc_jueugsAA\u0017fbVCxOwlS`vemqqcbE0D\u001egHOwGgwcf@CisatPTgTfacy\u0019C1VNdfiogXgXRH@PAvuFSQcJfeKsru8ZAULcduuwF01jh@KstXVJKl}mjVfjHQYAcrGssasWSR\u001fliFbsAAxOfeOmuLQwW1uNgYPoCEtU~NrncK8gUw~\u0016c\u0010ijCAACbr\u0018prsxORTethpygTlQJd\u0016LnbaAXRTWduI\u0010fDxhU}H[lftHJ1mEtJOnVDEAvr\u0014CarZFOwTtsapRlQYb\u0017\u0014\u0013wWAuGxHFaJ\u0015uHAoA}dyEvbZ0ChvkspmyVAcXvsW@uY1SBQTsa`aaAAAMd@GirsQJExumgFKgAAdHjeOPer1JJ0CcfpzfRhsBfKmlieUHHULwdYbpH0EzPaSbKkdCFrFddvhAQANr\u0015\u0019MseBAWk\u0013\u0013g\u0011\u0019FDXhxsN\u0010saK4ITlvEcJ\u0010lTx4cdMbgEcsGHEbsac\u0011eeFZVnuLgtI4AGAbhrt\u0014cEFMXweWGcbpOAAfChtmXVVUxrJm\u0018eLARGg}eaF\u0014pAQQzce\u0014dgHoIFwHluefBTCsWe@\u0010ntWEbRSHIs`rtBDpFaPSqcWIATxihpcPuKhMdsO\u0015qaugGQQewcYyrdG87svOqd\u0011QbE0T\u001egJfIFAUXu\u0017CEgGkADwbiuVG\u0011DhdNfvSuvbgXVH~FkJG\u0017TgNHse\u0010eaaA9DgvfcKPfX0BJwva{hb1OeE\u0012wyKymAg5MavbgkJoHDAbfCYzsAwZOeuecc\u0010k2HQ_NkVyBR0MVeLvthbZJBwW\u0017dsmdDk5riOOfacFVVWrBbt\u0014mRREYuqqBfGAdQnvuht\u0010oCxVUf@S`k\u00105ZLhCmzbHwERpFvvamsrwTMRCBtsKCABcb`\u0017m\u0018gK0jGQPCr\u0010arGgNFcuTkEschEVncbIPbHQlSpsDqbZAXSQ\u001eotcSjA0UcvrL\u0014BW0KB0HaaJetCgYAiKvykHcbC0TfgFDfUAIOdOzkDasdTR\u0017odcfdUk43`LCSaaUdRyHIbVPoTkJEr^O\u0019rr8USSLhednsSDdXutaEdrdLAA\u0017oe`aEHQYRecykc\u00100MDxqrzrfqOV1ImPyEb\u0010dXHRPia`\u0019pGgMKhPTutsoBDBawht\u0015\u0014W04mrOOqhGAdHEvfzfu\u000fOjV6utqlbWcNGA\u0012tAuTFADsX`rjiwrEYSQfIs`rtBjsI`PnntGkVHR~fngnlJ1IIsOvhhqYKAGvJbVCkLAwRce\u0010idXNPAU\u001e\u0013q\u0011\u0018\u0013UhoaeLCudrcAAg~dfJu\u0011RQUEePfcFJwdACOwtHKbSR0TsPrhevIXBgDrruulFk0Oe_mxtWFUN0HfipaqBwkHq`i[qqAGBR\u001fbDbWrCEkHbKqBf\u0010w0U0\u0012KuFGaAwANe_a`hGoGAwL_rsmFDE4DfuyCtN8aKmr_ccSuRVQfcqLngWEWRTnfVWcHUEVouC`mLVDKRTostDmHQMAfd\u0010EcakcdCnBg`XoazkAebK\u0013hqAjHA\u0016hagiBBxNJfbHkbXctDBPlssOoVBwbsM\u0018@qs4dBwKokKueCQAae_SBedMNUhLec\u0011etBxdUkau`jqAGARamgJ\u0019fVAYG`KmomrcXTRHedYnpeG43sva\u0016hrxJFUqrcpHbFAoNrPCUrqYFDE\u0013\u0014pu\u0019sUDdJr^DBswRtcwfifwahAU5TaMTggGwbCkb~bILfeFsAeuCCaWZOVC~bwFDpYyARiuCfaqwKQR~puMqWXwAgb_OmfaAcARarbVfoUwImd@Cedu5rIADuK\u0010DU2IceL\u0014uuH0YFULfsdKCC3QI`PmlqKE9SB\u001ffmJ\u0019tNlIOd_nthqZCAAHfhI\u0011fXjYCceSgabkOBkL\u0010fFalVQROc\u0017e@dWxOSU\u001fCgFi\u0018EVIBffudva5SRjKrquyBCk5tBuSErvQcDhLcaebfHwhJfv\u0018ycLJBNl\u0013fc\u0010iDBghVbPasaboHCACaxKWDGEkDdemibGAwW1~IuFaARyone\u0017vugGoZUwb\u0010eIXnCAAFqfmytJwaTSCte`esUlQNeajnzu5LXHvjhd\u0010eF0EAeO\u0019gErp5LQCatJazREgMr\u0017\u0014befMcMQvfq\u0011LKay0AePCPxWA1Fw@aaJ\u0014DBkIAdf\u0014@b\u0010l0PD\u0016jsp\u0018pEE87fcTCtMIGDAnkac\u0010CRSo3feWcrtYKFhuhhtetCgZUjqqiyHoGGkTfbVDjAB0AtsPgnWQcTRHcbcGdUkks`NOshukKCE\u0012shdvcC08Eb@f\u0011bbwJSQHhgJGgADpffceudu5tBzDmegmlTx0bfoqkcX8ADRmrdsDmN1RH~@yftI5jMUuaEpeASRAEhLusdaUCQRLluLq\u0015XgBIlPyCqfIRSBqmgFWbGgtzuunodWcVWE\u001fet\u0012HjVCcCtvWfqX9IBE\u0013ltVWDASEXa\u0017\u0011KiGQATw}npsPxKwYKeLDdgWsRTx_csuOgMUlSdvznfrwKUkv\u0012vdmNUh0Bu\u0017mcgGAAZDP`uVy\u0017CBdNoe\u0015cfWMdUz\u0017FqrWwSQoIsKmBruILTxHdeeuxF01jiP\u0014ctWVBNlueyIaiGhNMbrGhru5CRFjLoIWgBAQLsqqnhfkvUkrPf\u0011LKbXkborvtbGAcFA\u0017@rpyfCBpBwr\u0018gqssaVyDsaJjhYhsRtvayabxUFzaafFGiCkEDou\u0011npXoqER\u0016mdpHnEUgKsLjqdaUAJhPvaF\u0010xQRUBa@aSu\u00104lUh\u0017`dMnuGwpOdr\u0019KEtY1HFmfrd\u0014XGA4LfdXrqtZSDxTmsV\u0011iCFUde@PunJUcXk\u0017hatedBxtUwuPblqtFTgewvc\u0018nSRoKtuejluUVAkKLesGoCwAsrLe\u0013uG8bCUTis`HvHQYKr^i\u0016rqUFABHbv`\u0010DWXQau^\u0011rhGYOVBanb\u0011\u0018xQ0kUdIrWpGwQTgrEgcWaOVRE~OafaqBJEU@btFPpGR8EkrufbqgaQRnFhdSHGk03fvaor\u0011QdBALffVaCUwE9faXoy\u0012QxGA\u0013kabXsQTZSc_SksW1ICFrCbFPtJjsIa\u0017\u0010fae1ULB\u0016ipsPpLF5Jf@jtvaUAAA~lc`ffXjUecebnfrwOBgf\ft\u0011\u0014PC0kDbKmEc\u0010VXBg~CfJu\u0012CgtNbfetvbwTWXOsvf\u0015sGg8efe\u0010Brso+Aw@lrranExlJdeq@basANU\u001eskYfjL0dMouWstatPBRPvm`aaTQcBaKrMiKw5Qwf\u0015gFGAR0YBe@\u0015{tGIcAAP\u0014swiAAQcVbr\u0018ptYEaYy\u0017Add\u0014iTlhImL\u0018ecKkcC3OampieC0EbfqiPcfZBO1nCbFzuVA4Qs@uvsr4QJwPutvm\u001d\n",
      "Best Key b\"'' !  &\\x00\\x00\\x00\"\n",
      "Best Score 0.9043008711704968\n",
      "Best Plaintext oriGtqUPAh\u001ewe\u0011\u0014\u0018amllo\u0017KBdK\u0012TAQTotISb`kU2fe\u0014cswwgVB\u0017Cq[ntrmVSe@bivbQNRU\u0017ob`XtcjwMo@HkgGMRTxujisPhmwAForD{eqwJAGvJb\u0010mahxYGceOyqr\u0016BUlvPxVaGcwoFu\u0017\u0018rsaNFTmr\ffFK\u0014tQYFdePfb\u0010\u001efWXO\fALi\u0012bB0Pvv\u0011hbLsaGwfCqOqengFJ`@KsaLl6f0LfseOaahNJ`L\u0019gsa\u001edDVjboFfsaQELvumfaeQxX1iNfpyheQdUd_Dcfb|JeTj\u0016cYSbdQ9Ge\u0017\u0018EtNNOSCCtb`CmtVhIdbe`tYdUCHvkhsLjggAOaKW`uJdpZR\u001emaFjugAELe\u0017\u0014befkBJhfqtpihgh9P`\u0017\u0015\u0015mgM2UgHecwqgdwlTs@ipuWA7EA~asp\u0018pcE87fcPGrYUcSWv]t\u0010qccFMasPuvexwMBk\u0017waF\u0014dw1JMwr\u0014`lWRJDQOhfV\u0010vpB1PcOXgxIALTRLeeFCkpVN4sL\u0019HbGcLR1jCd`aa`woFoPW\u0017qL\u0013NLgaeiF\u0014CuTRWvpi\u0010bK\u001fHKn\u0013\u0010cd\u0018bawFTvMCdbX\u0012MThrDdFyhmxpUlODkgq|ZVCaavVCddVMHjrv\u0015laEKQR\u0017muMK\u0013rwAmovDkeWgTARiatF\u0015j`wQ5d\u0016\u0015ohqEGk\u001e\u0013D[bdgDsdob\u0014tvbsaDE\u0012mtVGhtTkArJC\u0017aucTCg~fn\u0010XglUKc_jueuAsAA\u0017fbVCxiwlS`vemqqEbE0D\u001egHOwagwcf@CisaRPTgTfacy\u0019e1VNdfiogXAXRH@PAvuFuQcJfeKsru\u001eZAULcduuw`01jh@KstXpJKl}mjVfjnQYAcrGssaUWSR\u001fliFbsgAxOfeOmuLwwW1uNgYPoeEtU~NrncK\u001egUw~\u0016c\u0010ijeAACbr\u0018prs^ORTethpygrlQJd\u0016LnbagXRTWduI\u0010fbxhU}H[lfRHJ1mEtJOnpDEAvr\u0014Car|FOwTtsaptlQYb\u0017\u0014\u0013wWguGxHFaJ\u0015unAoA}dyEvb|0ChvkspmypAcXvsW@uY\u0017SBQTsa`aagAAMd@GirswJExumgFKggAdHjeOPer\u0017JJ0CcfpzfthsBfKmliesHHULwdYbpn0EzPaSbKMdCFrFddvhgQANr\u0015\u0019MsedAWk\u0013\u0013g\u0011\u0019FbXhxsN\u0010saK\u0012ITlvEcJ\u0010lrx4cdMbgEcUGHEbsac\u0011eCFZVnuLgtI\u0012AGAbhrt\u0014ccFMXweWGcbVOAAfChtmXpVUxrJm\u0018eLgRGg}eaF\u0014pgQQzce\u0014dgHIIFwHluefBrCsWe@\u0010ntWcbRSHIs`rtdDpFaPSqcWoATxihpcPumhMdsO\u0015qauAGQQewcYyrBG87svOqd\u0011wbE0T\u001egJfI`AUXu\u0017CEgGMADwbiuVG\u0011bhdNfvSuvbAXVH~FkJG\u0017rgNHse\u0010eaag9DgvfcKPf~0BJwva{hb\u0017OeE\u0012wyKymgg5MavbgkJIHDAbfCYzsgwZOeuecc\u0010M2HQ_NkVyBt0MVeLvthb|JBwW\u0017dsmdbk5riOOfac`VVWrBbt\u0014mtREYuqqBfGgdQnvuht\u0010oexVUf@S`k\u0010\u0013ZLhCmzbHwcRpFvvamsrQTMRCBtsKCgBcb`\u0017m\u0018gK\u0016jGQPCr\u0010aragNFcuTkEsEhEVncbIPbnQlSpsDqbZgXSQ\u001eotcSjg0UcvrL\u0014BW\u0016KB0HaaJetegYAiKvykHEbC0TfgFDfsAIOdOzkDaUdTR\u0017odcfdsk43`LCSaasdRyHIbVPorkJEr^O\u0019rr\u001eUSSLhednsuDdXutaEdrBLAA\u0017oe`aEnQYRecykc\u0010\u0016MDxqrzrfqiV1ImPyEb\u0010BXHRPia`\u0019pagMKhPTutsIBDBawht\u0015\u0014q04mrOOqhGgdHEvfzfu\u000fijV6utqlbWENGA\u0012tAuTFgDsX`rjiwrcYSQfIs`rtdjsI`PnntGMVHR~fngnll1IIsOvhhqKAGvJbVCkjAwRce\u0010idXhPAU\u001e\u0013q\u0011\u0018\u0013shoaeLCudrEAAg~dfJu\u0011tQUEePfcFJQdACOwtHKbuR0TsPrhevoXBgDrruul`k0Oe_mxtW`UN0HfipaqdwkHq`i[qqgGBR\u001fbDbWreEkHbKqBf\u0010Q0U0\u0012KuFGagwANe_a`hGIGAwL_rsmFbE4DfuyCtN\u001eaKmr_ccSutVQfcqLngWcWRTnfVWcnUEVouC`mLpDKRTostDmnQMAfd\u0010EcaMcdCnBg`XoGzkAebK\u0013hqgjHA\u0016hagiBdxNJfbHkbXEtDBPlssOopBwbsM\u0018@qs\u0012dBwKokKueeQAae_SBedkNUhLec\u0011etdxdUkau`jqgGARamgJ\u0019fpAYG`KmomrEXTRHedYnpCG43sva\u0016hr^JFUqrcpHb`AoNrPCUrqFDE\u0013\u0014pu\u0019ssDdJr^DBswttcwfifwahgU5TaMTggGQbCkb~bILfCFsAeuCCaW|OVC~bwFDpyARiuCfaqQKQR~puMqW~wAgb_OmfagcARarbVfoswImd@Cedu\u0013rIADuK\u0010Ds2IceL\u0014uuH\u0016YFULfsdKCe3QI`PmlqKc9SB\u001ffmJ\u0019thlIOd_nthq|CAAHfhI\u0011f~jYCceSgabMOBkL\u0010fFalpQROc\u0017e@dW^OSU\u001fCgFi\u0018cVIBffudva\u0013SRjKrquyBek5tBuSErvwcDhLcaebfnwhJfv\u0018ycLlBNl\u0013fc\u0010iDdghVbPasabIHCACaxKWDaEkDdemibGgwW1~IuFaAtyone\u0017vugGIZUwb\u0010eIXneAAFqfmytJQaTSCte`esslQNeajnzu\u0013LXHvjhd\u0010e`0EAeO\u0019gErV5LQCatJaztEgMr\u0017\u0014befkcMQvfq\u0011LKGy0AePCPxWg1Fw@aaJ\u0014DdkIAdf\u0014@b\u0010J0PD\u0016jsp\u0018pcE87fcTCtMoGDAnkac\u0010CtSo3feWcrtKFhuhhtetegZUjqqiyHIGGkTfbVDjgB0AtsPgnWwcTRHcbcGdskks`NOshuMKCE\u0012shdvce08Eb@f\u0011bbQJSQHhgJGggDpffceudu\u0013tBzDmegmlrx0bfoqkcX\u001eADRmrdsDmh1RH~@yftI\u0013jMUuaEpeAuRAEhLusdasCQRLluLq\u0015~gBIlPyCqfoRSBqmgFWbagtzuunodWEVWE\u001fet\u0012HjpCcCtvWfqX\u001fIBE\u0013ltVWDgSEXa\u0017\u0011KiGwATw}npsPxmwYKeLDdgWURTx_csuOgkUlSdvznfrQKUkv\u0012vdmNsh0Bu\u0017mcgGgAZDP`uVy\u0017eBdNoe\u0015cfWkdUz\u0017FqrWwuQoIsKmBruoLTxHdeeux`01jiP\u0014ctWpBNlueyIaiahNMbrGhru\u0013CRFjLoIWgdAQLsqqnhfMvUkrPf\u0011LKDXkborvtbGgcFA\u0017@rpyfeBpBwr\u0018gqsUaVyDsaJjhhsRtvayab^UFzaafFGiekEDou\u0011npXIqER\u0016mdpHncUgKsLjqdasAJhPvaF\u0010xwRUBa@aSu\u0010\u0012lUh\u0017`dMnuawpOdr\u0019KEt1HFmfrd\u0014XaA4LfdXrqt|SDxTmsV\u0011ieFUde@PunJscXk\u0017hateddxtUwuPblqRFTgewvc\u0018nuRoKtuejlusVAkKLesGoewAsrLe\u0013uG\u001ebCUTis`HvnQYKr^i\u0016rqsFABHbv`\u0010DqXQau^\u0011rhGOVBanb\u0011\u0018xw0kUdIrWpGQQTgrEgcWaiVRE~OafaqdJEU@btFPpaR8EkrufbqAaQRnFhdSHak03fvaor\u0011wdBALffVaCswE9faXoy\u0012wxGA\u0013kabXswTZSc_SksW\u0017ICFrCbFPtljsIa\u0017\u0010fae\u0017ULB\u0016ipsPpjF5Jf@jtvasAAA~lc`ff~jUecebnfrQOBgf\ft\u0011\u0014Pe0kDbKmEc\u0010pXBg~CfJu\u0012egtNbfetvbQTWXOsvf\u0015sag8efe\u0010BrsI+Aw@lrrancxlJdeq@baUANU\u001eskYfjj0dMouWstaRPBRPvm`aarQcBaKrMiKQ5Qwf\u0015gFGAt0YBe@\u0015{tGocAAP\u0014swiAgQcVbr\u0018ptYcaYy\u0017Add\u0014irlhImL\u0018ecKMcC3Oampiee0EbfqiPcf|BO1nCbFzupA4Qs@uvsr\u0012QJwPutvm\u001d\n",
      "Best Key b\"'' !  &\\x80\\x00\\x00\"\n",
      "Best Score 0.9278110906157385\n",
      "Best Plaintext oriGtqUAh\u001ewe\u0011\u0014\u0018allo\u0017KBdK\u0012AQTotISb`U2fe\u0014cswwVB\u0017Cq[ntrVSe@bivbQRU\u0017ob`XtcwMo@HkgGMTxujisPhmAForD{eqwAGvJb\u0010mahYGceOyqr\u0016UlvPxVaGcoFu\u0017\u0018rsaNTmr\ffFK\u0014tYFdePfb\u0010\u001eWXO\fALi\u0012b0Pvv\u0011hbLsGwfCqOqenFJ`@KsaLlf0LfseOaaNJ`L\u0019gsa\u001eDVjboFfsaELvumfaeQX1iNfpyhedUd_Dcfb|eTj\u0016cYSbd9Ge\u0017\u0018EtNNSCCtb`CmthIdbe`tYdCHvkhsLjgAOaKW`uJdZR\u001emaFjugELe\u0017\u0014befkJhfqtpihg9P`\u0017\u0015\u0015mgMUgHecwqgdlTs@ipuWAEA~asp\u0018pc87fcPGrYUSWv]t\u0010qccMasPuvexwBk\u0017waF\u0014dwJMwr\u0014`lWRDQOhfV\u0010vp1PcOXgxIATRLeeFCkpN4sL\u0019HbGcR1jCd`aa`oFoPW\u0017qL\u0013LgaeiF\u0014CuRWvpi\u0010bK\u001fKn\u0013\u0010cd\u0018baFTvMCdbX\u0012ThrDdFyhmpUlODkgq|VCaavVCddMHjrv\u0015laEQR\u0017muMK\u0013rAmovDkeWgARiatF\u0015j`Q5d\u0016\u0015ohqGk\u001e\u0013D[bdgsdob\u0014tvbsDE\u0012mtVGhtkArJC\u0017aucCg~fn\u0010XgUKc_jueuAAA\u0017fbVCxilS`vemqqEE0D\u001egHOwawcf@CisaRTgTfacy\u0019eVNdfiogXARH@PAvuFucJfeKsru\u001eAULcduuw`1jh@KstXpKl}mjVfjnYAcrGssaUSR\u001fliFbsgxOfeOmuLwW1uNgYPoetU~NrncK\u001eUw~\u0016c\u0010ijeACbr\u0018prs^RTethpygrQJd\u0016LnbagRTWduI\u0010fbhU}H[lfRJ1mEtJOnpEAvr\u0014Car|OwTtsaptQYb\u0017\u0014\u0013wWgGxHFaJ\u0015unoA}dyEvb|ChvkspmypcXvsW@uY\u0017BQTsa`aagAMd@GirswExumgFKggdHjeOPer\u0017J0CcfpzftsBfKmliesHULwdYbpnEzPaSbKMCFrFddvhgANr\u0015\u0019MsedWk\u0013\u0013g\u0011\u0019FbhxsN\u0010saK\u0012TlvEcJ\u0010lr4cdMbgEcUHEbsac\u0011eCZVnuLgtI\u0012GAbhrt\u0014ccMXweWGcbVAAfChtmXpUxrJm\u0018eLgGg}eaF\u0014pgQzce\u0014dgHIFwHluefBrsWe@\u0010ntWcRSHIs`rtdpFaPSqcWoTxihpcPumMdsO\u0015qauAQQewcYyrB87svOqd\u0011wE0T\u001egJfI`UXu\u0017CEgGMDwbiuVG\u0011bdNfvSuvbAVH~FkJG\u0017rNHse\u0010eaagDgvfcKPf~BJwva{hb\u0017eE\u0012wyKymg5MavbgkJIDAbfCYzsgZOeuecc\u0010MHQ_NkVyBtMVeLvthb|BwW\u0017dsmdb5riOOfac`VWrBbt\u0014mtEYuqqBfGgQnvuht\u0010oeVUf@S`k\u0010\u0013LhCmzbHwcpFvvamsrQMRCBtsKCgcb`\u0017m\u0018gK\u0016GQPCr\u0010araNFcuTkEsEEVncbIPbnlSpsDqbZgSQ\u001eotcSjgUcvrL\u0014BW\u0016B0HaaJeteYAiKvykHEC0TfgFDfsIOdOzkDaUTR\u0017odcfds43`LCSaasRyHIbVPorJEr^O\u0019rr\u001eSSLhednsudXutaEdrBAA\u0017oe`aEnYRecykc\u0010\u0016Dxqrzrfqi1ImPyEb\u0010BHRPia`\u0019paMKhPTutsIDBawht\u0015\u0014q4mrOOqhGgHEvfzfu\u000fiV6utqlbWEGA\u0012tAuTFgsX`rjiwrcSQfIs`rtdsI`PnntGMHR~fngnllIIsOvhhqAGvJbVCkjwRce\u0010idXhAU\u001e\u0013q\u0011\u0018\u0013soaeLCudrEAg~dfJu\u0011tUEePfcFJQACOwtHKbu0TsPrhevoBgDrruul`0Oe_mxtW`N0HfipaqdkHq`i[qqgBR\u001fbDbWrekHbKqBf\u0010QU0\u0012KuFGagANe_a`hGIAwL_rsmFb4DfuyCtN\u001eKmr_ccSutQfcqLngWcRTnfVWcnEVouC`mLpKRTostDmnMAfd\u0010EcaMdCnBg`XoGkAebK\u0013hqgHA\u0016hagiBdNJfbHkbXEDBPlssOopwbsM\u0018@qs\u0012BwKokKueeAae_SBedkUhLec\u0011etddUkau`jqgARamgJ\u0019fpYG`KmomrETRHedYnpC43sva\u0016hr^FUqrcpHb`oNrPCUrqDE\u0013\u0014pu\u0019ssdJr^DBswtcwfifwahg5TaMTggGQCkb~bILfCsAeuCCaW|VC~bwFDpARiuCfaqQQR~puMqW~Agb_OmfagARarbVfosImd@Cedu\u0013IADuK\u0010DsIceL\u0014uuH\u0016FULfsdKCeQI`PmlqKcSB\u001ffmJ\u0019thIOd_nthq|AAHfhI\u0011f~YCceSgabMBkL\u0010fFalpROc\u0017e@dW^SU\u001fCgFi\u0018cIBffudva\u0013RjKrquyBe5tBuSErvwDhLcaebfnhJfv\u0018ycLlNl\u0013fc\u0010iDdhVbPasabICACaxKWDakDdemibGgW1~IuFaAtone\u0017vugGIUwb\u0010eIXneAFqfmytJQTSCte`essQNeajnzu\u0013XHvjhd\u0010e`EAeO\u0019gErVLQCatJaztgMr\u0017\u0014befkMQvfq\u0011LKG0AePCPxWgFw@aaJ\u0014DdIAdf\u0014@b\u0010JPD\u0016jsp\u0018pc87fcTCtMoDAnkac\u0010Cto3feWcrtFhuhhteteZUjqqiyHIGkTfbVDjg0AtsPgnWwTRHcbcGdsks`NOshuMCE\u0012shdvce8Eb@f\u0011bbQSQHhgJGggpffceudu\u0013BzDmegmlr0bfoqkcX\u001eDRmrdsDmhRH~@yftI\u0013MUuaEpeAuAEhLusdasQRLluLq\u0015~BIlPyCqfoSBqmgFWbatzuunodWEWE\u001fet\u0012HjpcCtvWfqX\u001fBE\u0013ltVWDgEXa\u0017\u0011KiGwTw}npsPxmYKeLDdgWUTx_csuOgklSdvznfrQUkv\u0012vdmNs0Bu\u0017mcgGgZDP`uVy\u0017edNoe\u0015cfWkUz\u0017FqrWwuoIsKmBruoTxHdeeux`1jiP\u0014ctWpNlueyIaiaNMbrGhru\u0013RFjLoIWgdQLsqqnhfMUkrPf\u0011LKDkborvtbGgFA\u0017@rpyfepBwr\u0018gqsUVyDsaJjhsRtvayab^FzaafFGieEDou\u0011npXIER\u0016mdpHncgKsLjqdasJhPvaF\u0010xwUBa@aSu\u0010\u0012Uh\u0017`dMnuapOdr\u0019KEtHFmfrd\u0014Xa4LfdXrqt|DxTmsV\u0011ieUde@PunJsXk\u0017hateddtUwuPblqRTgewvc\u0018nuoKtuejlusAkKLesGoeAsrLe\u0013uG\u001eCUTis`HvnYKr^i\u0016rqsABHbv`\u0010DqQau^\u0011rhGVBanb\u0011\u0018xwkUdIrWpGQTgrEgcWaiRE~OafaqdEU@btFPpa8EkrufbqAQRnFhdSHa03fvaor\u0011wBALffVaCsE9faXoy\u0012wGA\u0013kabXswZSc_SksW\u0017CFrCbFPtlsIa\u0017\u0010fae\u0017LB\u0016ipsPpj5Jf@jtvasAA~lc`ff~UecebnfrQBgf\ft\u0011\u0014PekDbKmEc\u0010pBg~CfJu\u0012etNbfetvbQWXOsvf\u0015sa8efe\u0010BrsIAw@lrranclJdeq@baUNU\u001eskYfjjdMouWstaRBRPvm`aarcBaKrMiKQQwf\u0015gFGAtYBe@\u0015{tGoAAP\u0014swiAgcVbr\u0018ptYcYy\u0017Add\u0014irhImL\u0018ecKMC3OampieeEbfqiPcf|O1nCbFzup4Qs@uvsr\u0012JwPutvm\u001d\n",
      "Best Key b\"'' !  &\\x80 \\x00\"\n",
      "Best Score 0.9640264818403198\n",
      "Best Plaintext oriGtqUah\u001ewe\u0011\u0014\u0018aLlo\u0017KBdK\u0012aQTotISb`u2fe\u0014cswwvB\u0017Cq[ntrvSe@bivbQrU\u0017ob`XtcWMo@HkgGMtxujisPhmaForD{eqwaGvJb\u0010mahyGceOyqr\u0016ulvPxVaGcOFu\u0017\u0018rsaNtmr\ffFK\u0014tyFdePfb\u0010\u001ewXO\fALi\u0012b\u0010Pvv\u0011hbLsgwfCqOqenfJ`@KsaLlF0LfseOaanJ`L\u0019gsa\u001edVjboFfsaeLvumfaeQx1iNfpyheDUd_Dcfb|ETj\u0016cYSbd\u0019Ge\u0017\u0018EtNNsCCtb`CmtHIdbe`tYdcHvkhsLjgaOaKW`uJdzR\u001emaFjugeLe\u0017\u0014befkjhfqtpihg\u0019P`\u0017\u0015\u0015mgMugHecwqgdLTs@ipuWAeA~asp\u0018pc\u00187fcPGrYUsWv]t\u0010qccmasPuvexwbk\u0017waF\u0014dwjMwr\u0014`lWRdQOhfV\u0010vp\u0011PcOXgxIAtRLeeFCkpn4sL\u0019HbGcr1jCd`aa`OFoPW\u0017qL\u0013lgaeiF\u0014CurWvpi\u0010bK\u001fkn\u0013\u0010cd\u0018bafTvMCdbX\u0012thrDdFyhmPUlODkgq|vCaavVCddmHjrv\u0015laEqR\u0017muMK\u0013ramovDkeWgaRiatF\u0015j`q5d\u0016\u0015ohqgk\u001e\u0013D[bdgSdob\u0014tvbsdE\u0012mtVGhtKArJC\u0017auccg~fn\u0010XguKc_jueuAaA\u0017fbVCxiLS`vemqqEe0D\u001egHOwaWcf@CisaRtgTfacy\u0019evNdfiogXArH@PAvuFuCJfeKsru\u001eaULcduuw`\u0011jh@KstXpkl}mjVfjnyAcrGssaUsR\u001fliFbsgXOfeOmuLww1uNgYPoeTU~NrncK\u001euw~\u0016c\u0010ijeaCbr\u0018prs^rTethpygrqJd\u0016LnbagrTWduI\u0010fbHU}H[lfRj1mEtJOnpeAvr\u0014Car|owTtsaptqYb\u0017\u0014\u0013wWggxHFaJ\u0015unOA}dyEvb|chvkspmypCXvsW@uY\u0017bQTsa`aagaMd@GirswexumgFKggDHjeOPer\u0017j0CcfpzftSBfKmlieshULwdYbpnezPaSbKMcFrFddvhgaNr\u0015\u0019Msedwk\u0013\u0013g\u0011\u0019FbHxsN\u0010saK\u0012tlvEcJ\u0010lr\u0014cdMbgEcUhEbsac\u0011eCzVnuLgtI\u0012gAbhrt\u0014ccmXweWGcbVaAfChtmXpuxrJm\u0018eLggg}eaF\u0014pgqzce\u0014dgHIfwHluefBrSWe@\u0010ntWcrSHIs`rtdPFaPSqcWotxihpcPummdsO\u0015qauAqQewcYyrB\u00187svOqd\u0011we0T\u001egJfI`uXu\u0017CEgGMdwbiuVG\u0011bDNfvSuvbAvH~FkJG\u0017rnHse\u0010eaagdgvfcKPf~bJwva{hb\u0017EE\u0012wyKymg\u0015MavbgkJIdAbfCYzsgzOeuecc\u0010MhQ_NkVyBtmVeLvthb|bwW\u0017dsmdb\u0015riOOfac`vWrBbt\u0014mteYuqqBfGgqnvuht\u0010oevUf@S`k\u0010\u0013lhCmzbHwcPFvvamsrQmRCBtsKCgCb`\u0017m\u0018gK\u0016gQPCr\u0010aranFcuTkEsEeVncbIPbnLSpsDqbZgsQ\u001eotcSjgucvrL\u0014BW\u0016b0HaaJeteyAiKvykHEc0TfgFDfsiOdOzkDaUtR\u0017odcfds\u00143`LCSaasryHIbVPorjEr^O\u0019rr\u001esSLhednsuDXutaEdrBaA\u0017oe`aEnyRecykc\u0010\u0016dxqrzrfqi\u0011ImPyEb\u0010BhRPia`\u0019pamKhPTutsIdBawht\u0015\u0014q\u0014mrOOqhGghEvfzfu\u000fiv6utqlbWEgA\u0012tAuTFgSX`rjiwrcsQfIs`rtdSI`PnntGMhR~fngnlliIsOvhhqaGvJbVCkjWRce\u0010idXhaU\u001e\u0013q\u0011\u0018\u0013sOaeLCudrEag~dfJu\u0011tuEePfcFJQaCOwtHKbu\u0010TsPrhevobgDrruul`\u0010Oe_mxtW`n0HfipaqdKHq`i[qqgbR\u001fbDbWreKHbKqBf\u0010Qu0\u0012KuFGagaNe_a`hGIawL_rsmFb\u0014DfuyCtN\u001ekmr_ccSutqfcqLngWcrTnfVWcneVouC`mLpkRTostDmnmAfd\u0010EcaMDCnBg`XoGKAebK\u0013hqghA\u0016hagiBdnJfbHkbXEdBPlssOopWbsM\u0018@qs\u0012bwKokKueeaae_SBedkuhLec\u0011etdDUkau`jqgaRamgJ\u0019fpyG`KmomrEtRHedYnpC\u00143sva\u0016hr^fUqrcpHb`ONrPCUrqdE\u0013\u0014pu\u0019ssDJr^DBswtCwfifwahg\u0015TaMTggGQckb~bILfCSAeuCCaW|vC~bwFDpaRiuCfaqQqR~puMqW~agb_OmfagaRarbVfosimd@Cedu\u0013iADuK\u0010DsiceL\u0014uuH\u0016fULfsdKCeqI`PmlqKcsB\u001ffmJ\u0019thiOd_nthq|aAHfhI\u0011f~yCceSgabMbkL\u0010fFalprOc\u0017e@dW^sU\u001fCgFi\u0018ciBffudva\u0013rjKrquyBe\u0015tBuSErvwdhLcaebfnHJfv\u0018ycLlnl\u0013fc\u0010iDdHVbPasabIcACaxKWDaKDdemibGgw1~IuFaAtOne\u0017vugGIuwb\u0010eIXneaFqfmytJQtSCte`essqNeajnzu\u0013xHvjhd\u0010e`eAeO\u0019gErVlQCatJaztGMr\u0017\u0014befkmQvfq\u0011LKG\u0010AePCPxWgfw@aaJ\u0014DdiAdf\u0014@b\u0010JpD\u0016jsp\u0018pc\u00187fcTCtModAnkac\u0010CtO3feWcrtfhuhhtetezUjqqiyHIgkTfbVDjg\u0010AtsPgnWwtRHcbcGdsKs`NOshuMcE\u0012shdvce\u0018Eb@f\u0011bbQsQHhgJGggPffceudu\u0013bzDmegmlr\u0010bfoqkcX\u001edRmrdsDmhrH~@yftI\u0013mUuaEpeAuaEhLusdasqRLluLq\u0015~bIlPyCqfosBqmgFWbaTzuunodWEwE\u001fet\u0012HjpCCtvWfqX\u001fbE\u0013ltVWDgeXa\u0017\u0011KiGwtw}npsPxmyKeLDdgWUtx_csuOgkLSdvznfrQukv\u0012vdmNs\u0010Bu\u0017mcgGgzDP`uVy\u0017eDNoe\u0015cfWkuz\u0017FqrWwuOIsKmBruotxHdeeux`\u0011jiP\u0014ctWpnlueyIaianMbrGhru\u0013rFjLoIWgdqLsqqnhfMukrPf\u0011LKDKborvtbGgfA\u0017@rpyfePBwr\u0018gqsUvyDsaJjhSRtvayab^fzaafFGieeDou\u0011npXIeR\u0016mdpHncGKsLjqdasjhPvaF\u0010xwuBa@aSu\u0010\u0012uh\u0017`dMnuaPOdr\u0019KEthFmfrd\u0014Xa\u0014LfdXrqt|dxTmsV\u0011ieude@PunJsxk\u0017hateddTUwuPblqRtgewvc\u0018nuOKtuejlusakKLesGoeasrLe\u0013uG\u001ecUTis`HvnyKr^i\u0016rqsaBHbv`\u0010Dqqau^\u0011rhGvBanb\u0011\u0018xwKUdIrWpGQtgrEgcWairE~OafaqdeU@btFPpa\u0018EkrufbqAqRnFhdSHa\u00103fvaor\u0011wbALffVaCse9faXoy\u0012wgA\u0013kabXswzSc_SksW\u0017cFrCbFPtlSIa\u0017\u0010fae\u0017lB\u0016ipsPpj\u0015Jf@jtvasaA~lc`ff~uecebnfrQbgf\ft\u0011\u0014PeKDbKmEc\u0010pbg~CfJu\u0012eTNbfetvbQwXOsvf\u0015sa\u0018efe\u0010BrsIaw@lrrancLJdeq@baUnU\u001eskYfjjDMouWstaRbRPvm`aarCBaKrMiKQqwf\u0015gFGAtyBe@\u0015{tGoaAP\u0014swiAgCVbr\u0018ptYcyy\u0017Add\u0014irHImL\u0018ecKMc3OampieeebfqiPcf|o1nCbFzup\u0014Qs@uvsr\u0012jwPutvm\u001d\n",
      "Best Key b\"'' !  &\\x80 a\"\n",
      "Best Score 1.0081163607816288\n",
      "vPxVaGcO'u\u0017\u0018rsaNt\fr\ffFK\u0014ty'dePfb\u0010\u001ew9O\fALi\u0012b\u00101vv\u0011hbLsg\u0016fCqOqenf+`@KsaLlFQLfseOaan+`L\u0019gsa\u001ed7jboFfsae-vumfaeQxPiNfpyheD4d_Dcfb|E5j\u0016cYSbd\u0019&e\u0017\u0018EtNNs\"Ctb`CmtH(dbe`tYdc)vkhsLjga.aKW`uJdz3\u001emaFjuge-e\u0017\u0014befkj\tfqtpihg\u00191`\u0017\u0015\u0015mgMu\u0006HecwqgdL5s@ipuWAe ~asp\u0018pc\u0018VfcPGrYUs6v]t\u0010qccm\u0000sPuvexwb\n",
      "\u0017waF\u0014dwj,wr\u0014`lWRd0OhfV\u0010vp\u00111cOXgxIAt3LeeFCkpnUsL\u0019HbGcrPjCd`aa`O'oPW\u0017qL\u0013l\u0006aeiF\u0014Cur6vpi\u0010bK\u001fk\u000f\u0013\u0010cd\u0018baf5vMCdbX\u0012t\trDdFyhmP4lODkgq|v\"aavVCddm)jrv\u0015laEq3\u0017muMK\u0013ra\fovDkeWga3iatF\u0015j`qTd\u0016\u0015ohqg\n",
      "}mjVfjny crGssaUs3\u001fliFbsgX.feOmuLwwPuNgYPoeT4~NrncK\u001eu\u0016~\u0016c\u0010ijea\"br\u0018prs^r5ethpygrq+d\u0016Lnbagr5WduI\u0010fbH4}H[lfRjPmEtJOnpe vr\u0014Car|o\u0016Ttsaptq8b\u0017\u0014\u0013wWgg\u0019HFaJ\u0015unO }dyEvb|c\tvkspmypC9vsW@uY\u0017b0Tsa`aaga,d@Girswe\u0019umgFKggD)jeOPer\u0017jQCcfpzftS#fKmliesh4LwdYbpne\u001bPaSbKMc'rFddvhga/r\u0015\u0019Msedw\n",
      "vEcJ\u0010lr\u0014\u0002dMbgEcUh$bsac\u0011eCz7nuLgtI\u0012g bhrt\u0014ccm9weWGcbVa fChtmXpu\u0019rJm\u0018eLgg\u0006}eaF\u0014pgq\u001bce\u0014dgHIf\u0016HluefBrS6e@\u0010ntWcr2HIs`rtdP'aPSqcWot\u0019ihpcPumm\u0005sO\u0015qauAq0ewcYyrB\u0018VsvOqd\u0011weQT\u001egJfI`u9u\u0017CEgGMd\u0016biuVG\u0011bD/fvSuvbAv)~FkJG\u0017rn)se\u0010eaagd\u0006vfcKPf~b+wva{hb\u0017E$\u0012wyKymg\u0015,avbgkJId bfCYzsgz.euecc\u0010Mh0_NkVyBtm7eLvthb|b\u0016W\u0017dsmdb\u0015\u0013iOOfac`v6rBbt\u0014mte8uqqBfGgq\u000fvuht\u0010oev4f@S`k\u0010\u0013l\tCmzbHwcP'vvamsrQm3CBtsKCgC\u0003`\u0017m\u0018gK\u0016g0PCr\u0010aran'cuTkEsEe7ncbIPbnL2psDqbZgs0\u001eotcSjgu\u0002vrL\u0014BW\u0016bQHaaJetey iKvykHEcQTfgFDfsi.dOzkDaUt3\u0017odcfds\u0014R`LCSaasr\u0018HIbVPorj$r^O\u0019rr\u001es2LhednsuD9utaEdrBa \u0017oe`aEny3ecykc\u0010\u0016d\u0019qrzrfqi\u0011(mPyEb\u0010Bh3Pia`\u0019pam*hPTutsId#awht\u0015\u0014q\u0014\frOOqhGgh$vfzfu\u000fivWutqlbWEg \u0012tAuTFgS9`rjiwrcs0fIs`rtdS(`PnntGMh3~fngnlli(sOvhhqa&vJbVCkjW3ce\u0010idXha4\u001e\u0013q\u0011\u0018\u0013sO\u0000eLCudrEa\u0006~dfJu\u0011tu$ePfcFJQa\"OwtHKbu\u00105sPrhevob\u0006Drruul`\u0010.e_mxtW`nQHfipaqdK)q`i[qqgb3\u001fbDbWreK)bKqBf\u0010QuQ\u0012KuFGaga/e_a`hGIa\u0016L_rsmFb\u0014%fuyCtN\u001ek\fr_ccSutq\u0007cqLngWcr5nfVWcne7ouC`mLpk3TostDmnm fd\u0010EcaMD\"nBg`XoGK ebK\u0013hqgh \u0016hagiBdn+fbHkbXEd#PlssOopW\u0003sM\u0018@qs\u0012b\u0016KokKueea\u0000e_SBedku\tLec\u0011etdD4kau`jqga3amgJ\u0019fpy&`KmomrEt3HedYnpC\u0014Rsva\u0016hr^f4qrcpHb`O/rPCUrqd$\u0013\u0014pu\u0019ssD+r^DBswtC\u0016fifwahg\u00155aMTggGQc\n",
      "b~bILfCS euCCaW|v\"~bwFDpa3iuCfaqQq3~puMqW~a\u0006b_Omfaga3arbVfosi\fd@Cedu\u0013i DuK\u0010Dsi\u0002eL\u0014uuH\u0016f4LfsdKCeq(`PmlqKcs#\u001ffmJ\u0019thi.d_nthq|a HfhI\u0011f~y\"ceSgabMb\n",
      "\u0013fc\u0010iDdH7bPasabIc CaxKWDaK%demibGgwP~IuFaAtO\u000fe\u0017vugGIu\u0016b\u0010eIXnea'qfmytJQt2Cte`essq/eajnzu\u0013x)vjhd\u0010e`e eO\u0019gErVl0CatJaztG,r\u0017\u0014befkm0vfq\u0011LKG\u0010 ePCPxWgf\u0016@aaJ\u0014Ddi df\u0014@b\u0010Jp%\u0016jsp\u0018pc\u0018VfcTCtMod nkac\u0010CtORfeWcrtf\tuhhtetez4jqqiyHIg\n",
      "TfbVDjg\u0010 tsPgnWwt3HcbcGdsK\u0012`NOshuMc$\u0012shdvce\u0018$b@f\u0011bbQs0HhgJGggP\u0007fceudu\u0013b\u001bDmegmlr\u0010\u0003foqkcX\u001ed3mrdsDmhr)~@yftI\u0013m4uaEpeAua$hLusdasq3LluLq\u0015~b(lPyCqfos#qmgFWbaT\u001buunodWEw$\u001fet\u0012HjpC\"tvWfqX\u001fb$\u0013ltVWDge9a\u0017\u0011KiGwt\u0016}npsPxmy*eLDdgWUt\u0019_csuOgkL2dvznfrQu\n",
      "ueyIaian,brGhru\u0013r'jLoIWgdq-sqqnhfMu\u001b\u0017FqrWwuO(sKmBruot\u0019Hdeeux`\u0011\u000biP\u0014ctWpn\n",
      "rPf\u0011LKDK\u0003orvtbGgf \u0017@rpyfeP#wr\u0018gqsUv\u0018DsaJjhS3tvayab^f\u001baafFGiee%ou\u0011npXIe3\u0016mdpHncG*sLjqdasj\tPvaF\u0010xwu#a@aSu\u0010\u0012u\t\u0017`dMnuaP.dr\u0019KEth'mfrd\u0014Xa\u0014-fdXrqt|d\u0019TmsV\u0011ieu\u0005e@PunJsx\n",
      "\u0017hateddT4wuPblqRt\u0006ewvc\u0018nuO*tuejlusa\n",
      "KLesGoea\u0012rLe\u0013uG\u001ec4Tis`Hvny*r^i\u0016rqsa#Hbv`\u0010Dqq\u0000u^\u0011rhGv#anb\u0011\u0018xwK4dIrWpGQt\u0006rEgcWair$~Oafaqde4@btFPpa\u0018$krufbqAq3nFhdSHa\u0010Rfvaor\u0011wb LffVaCseXfaXoy\u0012wg \u0013kabXswz2c_SksW\u0017c'rCbFPtlS(a\u0017\u0010fae\u0017l#\u0016ipsPpj\u0015+f@jtvasa ~lc`ff~u\u0004cebnfrQb\u0006f\ft\u0011\u0014PeK%bKmEc\u0010pb\u0006~CfJu\u0012eT/bfetvbQw9Osvf\u0015sa\u0018\u0004fe\u0010BrsIa\u0016@lrrancL+deq@baUn4\u001eskYfjjD,ouWstaRb3Pvm`aarC#aKrMiKQq\u0016f\u0015gFGAty#e@\u0015{tGoa P\u0014swiAgC7br\u0018ptYcy\u0018\u0017Add\u0014irH(mL\u0018ecKMcROampieee\u0003fqiPcf|oPnCbFzup\u00140s@uvsr\u0012j\u0016Putvm\u001d\n",
      "The best plaintext is: \n",
      "vPxVaGcO'u\u0017\u0018rsaNt\fr\ffFK\u0014ty'dePfb\u0010\u001ew9O\fALi\u0012b\u00101vv\u0011hbLsg\u0016fCqOqenf+`@KsaLlFQLfseOaan+`L\u0019gsa\u001ed7jboFfsae-vumfaeQxPiNfpyheD4d_Dcfb|E5j\u0016cYSbd\u0019&e\u0017\u0018EtNNs\"Ctb`CmtH(dbe`tYdc)vkhsLjga.aKW`uJdz3\u001emaFjuge-e\u0017\u0014befkj\tfqtpihg\u00191`\u0017\u0015\u0015mgMu\u0006HecwqgdL5s@ipuWAe ~asp\u0018pc\u0018VfcPGrYUs6v]t\u0010qccm\u0000sPuvexwb\n",
      "\u0017waF\u0014dwj,wr\u0014`lWRd0OhfV\u0010vp\u00111cOXgxIAt3LeeFCkpnUsL\u0019HbGcrPjCd`aa`O'oPW\u0017qL\u0013l\u0006aeiF\u0014Cur6vpi\u0010bK\u001fk\u000f\u0013\u0010cd\u0018baf5vMCdbX\u0012t\trDdFyhmP4lODkgq|v\"aavVCddm)jrv\u0015laEq3\u0017muMK\u0013ra\fovDkeWga3iatF\u0015j`qTd\u0016\u0015ohqg\n",
      "}mjVfjny crGssaUs3\u001fliFbsgX.feOmuLwwPuNgYPoeT4~NrncK\u001eu\u0016~\u0016c\u0010ijea\"br\u0018prs^r5ethpygrq+d\u0016Lnbagr5WduI\u0010fbH4}H[lfRjPmEtJOnpe vr\u0014Car|o\u0016Ttsaptq8b\u0017\u0014\u0013wWgg\u0019HFaJ\u0015unO }dyEvb|c\tvkspmypC9vsW@uY\u0017b0Tsa`aaga,d@Girswe\u0019umgFKggD)jeOPer\u0017jQCcfpzftS#fKmliesh4LwdYbpne\u001bPaSbKMc'rFddvhga/r\u0015\u0019Msedw\n",
      "vEcJ\u0010lr\u0014\u0002dMbgEcUh$bsac\u0011eCz7nuLgtI\u0012g bhrt\u0014ccm9weWGcbVa fChtmXpu\u0019rJm\u0018eLgg\u0006}eaF\u0014pgq\u001bce\u0014dgHIf\u0016HluefBrS6e@\u0010ntWcr2HIs`rtdP'aPSqcWot\u0019ihpcPumm\u0005sO\u0015qauAq0ewcYyrB\u0018VsvOqd\u0011weQT\u001egJfI`u9u\u0017CEgGMd\u0016biuVG\u0011bD/fvSuvbAv)~FkJG\u0017rn)se\u0010eaagd\u0006vfcKPf~b+wva{hb\u0017E$\u0012wyKymg\u0015,avbgkJId bfCYzsgz.euecc\u0010Mh0_NkVyBtm7eLvthb|b\u0016W\u0017dsmdb\u0015\u0013iOOfac`v6rBbt\u0014mte8uqqBfGgq\u000fvuht\u0010oev4f@S`k\u0010\u0013l\tCmzbHwcP'vvamsrQm3CBtsKCgC\u0003`\u0017m\u0018gK\u0016g0PCr\u0010aran'cuTkEsEe7ncbIPbnL2psDqbZgs0\u001eotcSjgu\u0002vrL\u0014BW\u0016bQHaaJetey iKvykHEcQTfgFDfsi.dOzkDaUt3\u0017odcfds\u0014R`LCSaasr\u0018HIbVPorj$r^O\u0019rr\u001es2LhednsuD9utaEdrBa \u0017oe`aEny3ecykc\u0010\u0016d\u0019qrzrfqi\u0011(mPyEb\u0010Bh3Pia`\u0019pam*hPTutsId#awht\u0015\u0014q\u0014\frOOqhGgh$vfzfu\u000fivWutqlbWEg \u0012tAuTFgS9`rjiwrcs0fIs`rtdS(`PnntGMh3~fngnlli(sOvhhqa&vJbVCkjW3ce\u0010idXha4\u001e\u0013q\u0011\u0018\u0013sO\u0000eLCudrEa\u0006~dfJu\u0011tu$ePfcFJQa\"OwtHKbu\u00105sPrhevob\u0006Drruul`\u0010.e_mxtW`nQHfipaqdK)q`i[qqgb3\u001fbDbWreK)bKqBf\u0010QuQ\u0012KuFGaga/e_a`hGIa\u0016L_rsmFb\u0014%fuyCtN\u001ek\fr_ccSutq\u0007cqLngWcr5nfVWcne7ouC`mLpk3TostDmnm fd\u0010EcaMD\"nBg`XoGK ebK\u0013hqgh \u0016hagiBdn+fbHkbXEd#PlssOopW\u0003sM\u0018@qs\u0012b\u0016KokKueea\u0000e_SBedku\tLec\u0011etdD4kau`jqga3amgJ\u0019fpy&`KmomrEt3HedYnpC\u0014Rsva\u0016hr^f4qrcpHb`O/rPCUrqd$\u0013\u0014pu\u0019ssD+r^DBswtC\u0016fifwahg\u00155aMTggGQc\n",
      "b~bILfCS euCCaW|v\"~bwFDpa3iuCfaqQq3~puMqW~a\u0006b_Omfaga3arbVfosi\fd@Cedu\u0013i DuK\u0010Dsi\u0002eL\u0014uuH\u0016f4LfsdKCeq(`PmlqKcs#\u001ffmJ\u0019thi.d_nthq|a HfhI\u0011f~y\"ceSgabMb\n",
      "\u0013fc\u0010iDdH7bPasabIc CaxKWDaK%demibGgwP~IuFaAtO\u000fe\u0017vugGIu\u0016b\u0010eIXnea'qfmytJQt2Cte`essq/eajnzu\u0013x)vjhd\u0010e`e eO\u0019gErVl0CatJaztG,r\u0017\u0014befkm0vfq\u0011LKG\u0010 ePCPxWgf\u0016@aaJ\u0014Ddi df\u0014@b\u0010Jp%\u0016jsp\u0018pc\u0018VfcTCtMod nkac\u0010CtORfeWcrtf\tuhhtetez4jqqiyHIg\n",
      "TfbVDjg\u0010 tsPgnWwt3HcbcGdsK\u0012`NOshuMc$\u0012shdvce\u0018$b@f\u0011bbQs0HhgJGggP\u0007fceudu\u0013b\u001bDmegmlr\u0010\u0003foqkcX\u001ed3mrdsDmhr)~@yftI\u0013m4uaEpeAua$hLusdasq3LluLq\u0015~b(lPyCqfos#qmgFWbaT\u001buunodWEw$\u001fet\u0012HjpC\"tvWfqX\u001fb$\u0013ltVWDge9a\u0017\u0011KiGwt\u0016}npsPxmy*eLDdgWUt\u0019_csuOgkL2dvznfrQu\n",
      "ueyIaian,brGhru\u0013r'jLoIWgdq-sqqnhfMu\u001b\u0017FqrWwuO(sKmBruot\u0019Hdeeux`\u0011\u000biP\u0014ctWpn\n",
      "rPf\u0011LKDK\u0003orvtbGgf \u0017@rpyfeP#wr\u0018gqsUv\u0018DsaJjhS3tvayab^f\u001baafFGiee%ou\u0011npXIe3\u0016mdpHncG*sLjqdasj\tPvaF\u0010xwu#a@aSu\u0010\u0012u\t\u0017`dMnuaP.dr\u0019KEth'mfrd\u0014Xa\u0014-fdXrqt|d\u0019TmsV\u0011ieu\u0005e@PunJsx\n",
      "\u0017hateddT4wuPblqRt\u0006ewvc\u0018nuO*tuejlusa\n",
      "KLesGoea\u0012rLe\u0013uG\u001ec4Tis`Hvny*r^i\u0016rqsa#Hbv`\u0010Dqq\u0000u^\u0011rhGv#anb\u0011\u0018xwK4dIrWpGQt\u0006rEgcWair$~Oafaqde4@btFPpa\u0018$krufbqAq3nFhdSHa\u0010Rfvaor\u0011wb LffVaCseXfaXoy\u0012wg \u0013kabXswz2c_SksW\u0017c'rCbFPtlS(a\u0017\u0010fae\u0017l#\u0016ipsPpj\u0015+f@jtvasa ~lc`ff~u\u0004cebnfrQb\u0006f\ft\u0011\u0014PeK%bKmEc\u0010pb\u0006~CfJu\u0012eT/bfetvbQw9Osvf\u0015sa\u0018\u0004fe\u0010BrsIa\u0016@lrrancL+deq@baUn4\u001eskYfjjD,ouWstaRb3Pvm`aarC#aKrMiKQq\u0016f\u0015gFGAty#e@\u0015{tGoa P\u0014swiAgC7br\u0018ptYcy\u0018\u0017Add\u0014irH(mL\u0018ecKMcROampieee\u0003fqiPcf|oPnCbFzup\u00140s@uvsr\u0012j\u0016Putvm\u001d with key b\"'' !  &\\x80 a\"\n"
     ]
    }
   ],
   "source": [
    "best_plaintext = b\"\"\n",
    "best_score = 0\n",
    "key_size = 10\n",
    "best_key = b\"\\x00\" * key_size\n",
    "\n",
    "for j in range(key_size):\n",
    "    for i in range(256):\n",
    "        key = best_key[:j] + convert.int2bytes(i) + best_key[j+1:]\n",
    "        plaintext = xor.repeating_key_decrypt(cyphertext, key)\n",
    "        plaintext = plaintext.decode(\"ascii\", \"ignore\")\n",
    "        score = analysis.score_string(plaintext)\n",
    "        \n",
    "        # Keep track of most likely plaintext\n",
    "        if score > best_score:\n",
    "            best_plaintext = plaintext\n",
    "            best_score = score\n",
    "            best_key = key\n",
    "\n",
    "    print(f\"Best Key {best_key}\")\n",
    "    print(f\"Best Score {best_score}\")\n",
    "    print(f\"Best Plaintext {best_plaintext}\")\n",
    "\n",
    "print(f\"The best plaintext is: \\n{best_plaintext} with key {best_key}\")"
   ]
  },
  {
   "attachments": {},
   "cell_type": "markdown",
   "metadata": {},
   "source": [
    "## **Challenge 7: AES in ECB mode**"
   ]
  },
  {
   "cell_type": "code",
   "execution_count": 10,
   "metadata": {},
   "outputs": [
    {
     "name": "stdout",
     "output_type": "stream",
     "text": [
      "I'm back and I'm ringin' the bell \n",
      "A rockin' on the mike while the fly girls yell \n",
      "In ecstasy in the back of me \n",
      "Well that's my DJ Deshay cuttin' all them Z's \n",
      "Hittin' hard and the girlies goin' crazy \n",
      "Vanilla's on the mike, man I'm not lazy. \n",
      "\n",
      "I'm lettin' my drug kick in \n",
      "It controls my mouth and I begin \n",
      "To just let it flow, let my concepts go \n",
      "My posse's to the side yellin', Go Vanilla Go! \n",
      "\n",
      "Smooth 'cause that's the way I will be \n",
      "And if you don't give a damn, then \n",
      "Why you starin' at me \n",
      "So get off 'cause I control the stage \n",
      "There's no dissin' allowed \n",
      "I'm in my own phase \n",
      "The girlies sa y they love me and that is ok \n",
      "And I can dance better than any kid n' play \n",
      "\n",
      "Stage 2 -- Yea the one ya' wanna listen to \n",
      "It's off my head so let the beat play through \n",
      "So I can funk it up and make it sound good \n",
      "1-2-3 Yo -- Knock on some wood \n",
      "For good luck, I like my rhymes atrocious \n",
      "Supercalafragilisticexpialidocious \n",
      "I'm an effect and that you can bet \n",
      "I can take a fly girl and make her wet. \n",
      "\n",
      "I'm like Samson -- Samson to Delilah \n",
      "There's no denyin', You can try to hang \n",
      "But you'll keep tryin' to get my style \n",
      "Over and over, practice makes perfect \n",
      "But not if you're a loafer. \n",
      "\n",
      "You'll get nowhere, no place, no time, no girls \n",
      "Soon -- Oh my God, homebody, you probably eat \n",
      "Spaghetti with a spoon! Come on and say it! \n",
      "\n",
      "VIP. Vanilla Ice yep, yep, I'm comin' hard like a rhino \n",
      "Intoxicating so you stagger like a wino \n",
      "So punks stop trying and girl stop cryin' \n",
      "Vanilla Ice is sellin' and you people are buyin' \n",
      "'Cause why the freaks are jockin' like Crazy Glue \n",
      "Movin' and groovin' trying to sing along \n",
      "All through the ghetto groovin' this here song \n",
      "Now you're amazed by the VIP posse. \n",
      "\n",
      "Steppin' so hard like a German Nazi \n",
      "Startled by the bases hittin' ground \n",
      "There's no trippin' on mine, I'm just gettin' down \n",
      "Sparkamatic, I'm hangin' tight like a fanatic \n",
      "You trapped me once and I thought that \n",
      "You might have it \n",
      "So step down and lend me your ear \n",
      "'89 in my time! You, '90 is my year. \n",
      "\n",
      "You're weakenin' fast, YO! and I can tell it \n",
      "Your body's gettin' hot, so, so I can smell it \n",
      "So don't be mad and don't be sad \n",
      "'Cause the lyrics belong to ICE, You can call me Dad \n",
      "You're pitchin' a fit, so step back and endure \n",
      "Let the witch doctor, Ice, do the dance to cure \n",
      "So come up close and don't be square \n",
      "You wanna battle me -- Anytime, anywhere \n",
      "\n",
      "You thought that I was weak, Boy, you're dead wrong \n",
      "So come on, everybody and sing this song \n",
      "\n",
      "Say -- Play that funky music Say, go white boy, go white boy go \n",
      "play that funky music Go white boy, go white boy, go \n",
      "Lay down and boogie and play that funky music till you die. \n",
      "\n",
      "Play that funky music Come on, Come on, let me hear \n",
      "Play that funky music white boy you say it, say it \n",
      "Play that funky music A little louder now \n",
      "Play that funky music, white boy Come on, Come on, Come on \n",
      "Play that funky music \n",
      "\u0004\u0004\u0004\u0004\n"
     ]
    }
   ],
   "source": [
    "data = load.file_as_bytes(\"challenge_data/7.txt\", remove_newlines=True)\n",
    "data = base64.decodebytes(data)\n",
    "decrypted_output = aes128.ecb_decrypt(data, b\"YELLOW SUBMARINE\")\n",
    "\n",
    "# Display the decrypted output\n",
    "print(decrypted_output.decode(\"ascii\", errors=\"ignore\"))"
   ]
  },
  {
   "cell_type": "markdown",
   "metadata": {},
   "source": [
    "## **Challenge 8: Detect AES in ECB mode**"
   ]
  },
  {
   "cell_type": "code",
   "execution_count": 11,
   "metadata": {},
   "outputs": [
    {
     "name": "stdout",
     "output_type": "stream",
     "text": [
      "ECB mode detected in line 132!\n"
     ]
    }
   ],
   "source": [
    "with open(\"challenge_data/8.txt\", \"r\") as f:\n",
    "    lines = f.readlines()\n",
    "    for i in range(len(lines)):\n",
    "        hex_str = lines[i].replace(\"\\n\", \"\")\n",
    "        hex_bytes = convert.hex2bytes(hex_str)\n",
    "        if has_repeated_blocks(hex_bytes, 16):\n",
    "            print(f\"ECB mode detected in line {i}!\")\n",
    "            break"
   ]
  }
 ],
 "metadata": {
  "kernelspec": {
   "display_name": "Python 3",
   "language": "python",
   "name": "python3"
  },
  "language_info": {
   "codemirror_mode": {
    "name": "ipython",
    "version": 3
   },
   "file_extension": ".py",
   "mimetype": "text/x-python",
   "name": "python",
   "nbconvert_exporter": "python",
   "pygments_lexer": "ipython3",
   "version": "3.10.4"
  },
  "orig_nbformat": 4,
  "vscode": {
   "interpreter": {
    "hash": "2ab98c4b59af728aa8bd9922870b996a7fc5861c87b81242319b92eec59b5fef"
   }
  }
 },
 "nbformat": 4,
 "nbformat_minor": 2
}
