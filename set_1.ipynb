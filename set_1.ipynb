{
 "cells": [
  {
   "cell_type": "code",
   "execution_count": 2,
   "metadata": {},
   "outputs": [],
   "source": [
    "from src.helper_functions import hamming_distance, has_repeated_blocks\n",
    "from src.xor import xor_hex_strings\n",
    "# \n",
    "import src.analysis as analysis\n",
    "import src.aes128 as aes128\n",
    "import src.convert as convert\n",
    "import src.padding as padding\n",
    "import src.load as load\n",
    "import src.xor as xor\n",
    "# \n",
    "import base64"
   ]
  },
  {
   "attachments": {},
   "cell_type": "markdown",
   "metadata": {},
   "source": [
    "## **Challenge 1: Convert hex to base64**"
   ]
  },
  {
   "cell_type": "code",
   "execution_count": 3,
   "metadata": {},
   "outputs": [
    {
     "data": {
      "text/plain": [
       "b'SSdtIGtpbGxpbmcgeW91ciBicmFpbiBsaWtlIGEgcG9pc29ub3VzIG11c2hyb29t'"
      ]
     },
     "execution_count": 3,
     "metadata": {},
     "output_type": "execute_result"
    }
   ],
   "source": [
    "convert.hex2b64(\"49276d206b696c6c696e6720796f757220627261696e206c696b65206120706f69736f6e6f7573206d757368726f6f6d\")"
   ]
  },
  {
   "attachments": {},
   "cell_type": "markdown",
   "metadata": {},
   "source": [
    "## **Challenge 2: Fixed XOR**"
   ]
  },
  {
   "cell_type": "code",
   "execution_count": 4,
   "metadata": {},
   "outputs": [
    {
     "data": {
      "text/plain": [
       "'746865206b696420646f6e277420706c6179'"
      ]
     },
     "execution_count": 4,
     "metadata": {},
     "output_type": "execute_result"
    }
   ],
   "source": [
    "xor_hex_strings(\n",
    "    \"1c0111001f010100061a024b53535009181c\", \n",
    "    \"686974207468652062756c6c277320657965\",\n",
    ").hex()"
   ]
  },
  {
   "attachments": {},
   "cell_type": "markdown",
   "metadata": {},
   "source": [
    "## **Challenge 3: Single-byte XOR cipher**"
   ]
  },
  {
   "cell_type": "code",
   "execution_count": 5,
   "metadata": {},
   "outputs": [
    {
     "name": "stdout",
     "output_type": "stream",
     "text": [
      "The key is: b'X'\n",
      "The is: Cooking MC's like a pound of bacon\n"
     ]
    }
   ],
   "source": [
    "cyphertext = convert.hex2bytes(\"1b37373331363f78151b7f2b783431333d78397828372d363c78373e783a393b3736\")\n",
    "plaintext, key = xor.single_byte_break(cyphertext)\n",
    "\n",
    "print(f\"The key is: {key}\")\n",
    "print(f\"The is: {plaintext}\")"
   ]
  },
  {
   "attachments": {},
   "cell_type": "markdown",
   "metadata": {},
   "source": [
    "## **Challenge 4: Detect single-character XOR**"
   ]
  },
  {
   "cell_type": "code",
   "execution_count": 6,
   "metadata": {},
   "outputs": [
    {
     "name": "stdout",
     "output_type": "stream",
     "text": [
      "The best key is: b'@'\n",
      "The best plaintext is: Now that the party is jumping\n",
      "\n"
     ]
    }
   ],
   "source": [
    "cyphertext_list = load.file_as_bytes(\"challenge_data/4.txt\")\n",
    "cyphertext_list = cyphertext_list.split(b\"\\n\")\n",
    "\n",
    "best_plaintext = \"\"\n",
    "best_score = 0\n",
    "for i in range(len(cyphertext_list)):\n",
    "    cyphertext = cyphertext_list[i].decode(\"ascii\")\n",
    "    cyphertext = convert.hex2bytes(cyphertext)\n",
    "    plaintext, key = xor.single_byte_break(cyphertext)    \n",
    "    score = analysis.score_string(plaintext)\n",
    "    if score > best_score:\n",
    "        best_plaintext = plaintext\n",
    "        best_score = score\n",
    "\n",
    "print(f\"The best key is: {key}\")\n",
    "print(f\"The best plaintext is: {best_plaintext}\")"
   ]
  },
  {
   "attachments": {},
   "cell_type": "markdown",
   "metadata": {},
   "source": [
    "## **Challenge 5: Implement repeating-key XOR**"
   ]
  },
  {
   "cell_type": "code",
   "execution_count": 13,
   "metadata": {},
   "outputs": [
    {
     "data": {
      "text/plain": [
       "'0b3637272a2b2e63622c2e69692a23693a2a3c6324202d623d63343c2a26226324272765272a282b2f20430a652e2c652a3124333a653e2b2027630c692b20283165286326302e27282f'"
      ]
     },
     "execution_count": 13,
     "metadata": {},
     "output_type": "execute_result"
    }
   ],
   "source": [
    "string = \"\"\"Burning 'em, if you ain't quick and nimble\n",
    "I go crazy when I hear a cymbal\"\"\"\n",
    "byte_str = convert.string2bytes(string)\n",
    "xor_key = b\"ICE\"\n",
    "\n",
    "xor.repeating_key_encrypt(byte_str, xor_key).hex()"
   ]
  },
  {
   "attachments": {},
   "cell_type": "markdown",
   "metadata": {},
   "source": [
    "## **Challenge 6: Break repeating-key XOR**"
   ]
  },
  {
   "cell_type": "code",
   "execution_count": 8,
   "metadata": {},
   "outputs": [
    {
     "name": "stdout",
     "output_type": "stream",
     "text": [
      "The hamming distance between b'this is a test' and b'wokka wokka!!!' is 37\n"
     ]
    }
   ],
   "source": [
    "# Check that the hamming distance function works\n",
    "a = b\"this is a test\"\n",
    "b = b\"wokka wokka!!!\"\n",
    "\n",
    "# should be 37\n",
    "print(f\"The hamming distance between {a} and {b} is {hamming_distance(a, b)}\")"
   ]
  },
  {
   "cell_type": "code",
   "execution_count": 9,
   "metadata": {},
   "outputs": [
    {
     "name": "stdout",
     "output_type": "stream",
     "text": [
      "1) Key size:  5, Score: 25.0\n",
      "2) Key size: 29, Score: 25.17241379310345\n",
      "3) Key size:  3, Score: 25.666666666666668\n",
      "4) Key size: 15, Score: 27.266666666666666\n",
      "5) Key size:  9, Score: 27.88888888888889\n"
     ]
    }
   ],
   "source": [
    "cyphertext = load.file_as_b64(\"challenge_data/6.txt\", remove_newlines=True)\n",
    "max_key_size = 40\n",
    "\n",
    "hamming_distances = []\n",
    "for key_size in range(1, 41):\n",
    "    blocks = convert.bytes2blocks(padding.apply_pkcs_7(cyphertext, key_size), key_size)\n",
    "    \n",
    "    # Calculate the hamming distance between each block\n",
    "    a = hamming_distance(blocks[0], blocks[1])\n",
    "    b = hamming_distance(blocks[1], blocks[2])\n",
    "    c = hamming_distance(blocks[2], blocks[3])\n",
    "    d = hamming_distance(blocks[3], blocks[4])\n",
    "    e = hamming_distance(blocks[4], blocks[5])\n",
    "    f = hamming_distance(blocks[5], blocks[6])\n",
    "    g = hamming_distance(blocks[6], blocks[7])\n",
    "    h = hamming_distance(blocks[6], blocks[7])\n",
    "    i = hamming_distance(blocks[7], blocks[8])\n",
    "\n",
    "    # Normalize the hamming distance\n",
    "    dist = (a + b + c + d + e + f + g + h + i) / key_size\n",
    "    hamming_distances.append((dist, key_size))\n",
    "\n",
    "# Print top 5 key sizes with the lowest hamming distance\n",
    "hamming_distances = sorted(hamming_distances)\n",
    "for i in range(5):\n",
    "    key_size = hamming_distances[i][1]\n",
    "    score = hamming_distances[i][0]\n",
    "    print(f\"{i+1}) Key size: {key_size:2}, Score: {score}\")"
   ]
  },
  {
   "cell_type": "code",
   "execution_count": 10,
   "metadata": {},
   "outputs": [
    {
     "name": "stdout",
     "output_type": "stream",
     "text": [
      "The best key is: b'Terminator X: Bring the noise'\n",
      "The best plaintext is: \n",
      "b\"I'm back and I'm ringin' the bell \\nA rockin' on the mike while the fly girls yell \\nIn ecstasy in the back of me \\nWell that's my DJ Deshay cuttin' all them Z's \\nHittin' hard and the girlies goin' crazy \\nVanilla's on the mike, man I'm not lazy. \\n\\nI'm lettin' my drug kick in \\nIt controls my mouth and I begin \\nTo just let it flow, let my concepts go \\nMy posse's to the side yellin', Go Vanilla Go! \\n\\nSmooth 'cause that's the way I will be \\nAnd if you don't give a damn, then \\nWhy you starin' at me \\nSo get off 'cause I control the stage \\nThere's no dissin' allowed \\nI'm in my own phase \\nThe girlies sa y they love me and that is ok \\nAnd I can dance better than any kid n' play \\n\\nStage 2 -- Yea the one ya' wanna listen to \\nIt's off my head so let the beat play through \\nSo I can funk it up and make it sound good \\n1-2-3 Yo -- Knock on some wood \\nFor good luck, I like my rhymes atrocious \\nSupercalafragilisticexpialidocious \\nI'm an effect and that you can bet \\nI can take a fly girl and make her wet. \\n\\nI'm like Samson -- Samson to Delilah \\nThere's no denyin', You can try to hang \\nBut you'll keep tryin' to get my style \\nOver and over, practice makes perfect \\nBut not if you're a loafer. \\n\\nYou'll get nowhere, no place, no time, no girls \\nSoon -- Oh my God, homebody, you probably eat \\nSpaghetti with a spoon! Come on and say it! \\n\\nVIP. Vanilla Ice yep, yep, I'm comin' hard like a rhino \\nIntoxicating so you stagger like a wino \\nSo punks stop trying and girl stop cryin' \\nVanilla Ice is sellin' and you people are buyin' \\n'Cause why the freaks are jockin' like Crazy Glue \\nMovin' and groovin' trying to sing along \\nAll through the ghetto groovin' this here song \\nNow you're amazed by the VIP posse. \\n\\nSteppin' so hard like a German Nazi \\nStartled by the bases hittin' ground \\nThere's no trippin' on mine, I'm just gettin' down \\nSparkamatic, I'm hangin' tight like a fanatic \\nYou trapped me once and I thought that \\nYou might have it \\nSo step down and lend me your ear \\n'89 in my time! You, '90 is my year. \\n\\nYou're weakenin' fast, YO! and I can tell it \\nYour body's gettin' hot, so, so I can smell it \\nSo don't be mad and don't be sad \\n'Cause the lyrics belong to ICE, You can call me Dad \\nYou're pitchin' a fit, so step back and endure \\nLet the witch doctor, Ice, do the dance to cure \\nSo come up close and don't be square \\nYou wanna battle me -- Anytime, anywhere \\n\\nYou thought that I was weak, Boy, you're dead wrong \\nSo come on, everybody and sing this song \\n\\nSay -- Play that funky music Say, go white boy, go white boy go \\nplay that funky music Go white boy, go white boy, go \\nLay down and boogie and play that funky music till you die. \\n\\nPlay that funky music Come on, Come on, let me hear \\nPlay that funky music white boy you say it, say it \\nPlay that funky music A little louder now \\nPlay that funky music, white boy Come on, Come on, Come on \\nPlay that funky music \\n\"\n"
     ]
    }
   ],
   "source": [
    "key_size = 29\n",
    "plaintext, key = xor.repeating_key_break(cyphertext, key_size)\n",
    "\n",
    "print(f\"The best key is: {key}\")\n",
    "print(f\"The best plaintext is: \\n{plaintext}\")"
   ]
  },
  {
   "attachments": {},
   "cell_type": "markdown",
   "metadata": {},
   "source": [
    "## **Challenge 7: AES in ECB mode**"
   ]
  },
  {
   "cell_type": "code",
   "execution_count": 11,
   "metadata": {},
   "outputs": [
    {
     "name": "stdout",
     "output_type": "stream",
     "text": [
      "I'm back and I'm ringin' the bell \n",
      "A rockin' on the mike while the fly girls yell \n",
      "In ecstasy in the back of me \n",
      "Well that's my DJ Deshay cuttin' all them Z's \n",
      "Hittin' hard and the girlies goin' crazy \n",
      "Vanilla's on the mike, man I'm not lazy. \n",
      "\n",
      "I'm lettin' my drug kick in \n",
      "It controls my mouth and I begin \n",
      "To just let it flow, let my concepts go \n",
      "My posse's to the side yellin', Go Vanilla Go! \n",
      "\n",
      "Smooth 'cause that's the way I will be \n",
      "And if you don't give a damn, then \n",
      "Why you starin' at me \n",
      "So get off 'cause I control the stage \n",
      "There's no dissin' allowed \n",
      "I'm in my own phase \n",
      "The girlies sa y they love me and that is ok \n",
      "And I can dance better than any kid n' play \n",
      "\n",
      "Stage 2 -- Yea the one ya' wanna listen to \n",
      "It's off my head so let the beat play through \n",
      "So I can funk it up and make it sound good \n",
      "1-2-3 Yo -- Knock on some wood \n",
      "For good luck, I like my rhymes atrocious \n",
      "Supercalafragilisticexpialidocious \n",
      "I'm an effect and that you can bet \n",
      "I can take a fly girl and make her wet. \n",
      "\n",
      "I'm like Samson -- Samson to Delilah \n",
      "There's no denyin', You can try to hang \n",
      "But you'll keep tryin' to get my style \n",
      "Over and over, practice makes perfect \n",
      "But not if you're a loafer. \n",
      "\n",
      "You'll get nowhere, no place, no time, no girls \n",
      "Soon -- Oh my God, homebody, you probably eat \n",
      "Spaghetti with a spoon! Come on and say it! \n",
      "\n",
      "VIP. Vanilla Ice yep, yep, I'm comin' hard like a rhino \n",
      "Intoxicating so you stagger like a wino \n",
      "So punks stop trying and girl stop cryin' \n",
      "Vanilla Ice is sellin' and you people are buyin' \n",
      "'Cause why the freaks are jockin' like Crazy Glue \n",
      "Movin' and groovin' trying to sing along \n",
      "All through the ghetto groovin' this here song \n",
      "Now you're amazed by the VIP posse. \n",
      "\n",
      "Steppin' so hard like a German Nazi \n",
      "Startled by the bases hittin' ground \n",
      "There's no trippin' on mine, I'm just gettin' down \n",
      "Sparkamatic, I'm hangin' tight like a fanatic \n",
      "You trapped me once and I thought that \n",
      "You might have it \n",
      "So step down and lend me your ear \n",
      "'89 in my time! You, '90 is my year. \n",
      "\n",
      "You're weakenin' fast, YO! and I can tell it \n",
      "Your body's gettin' hot, so, so I can smell it \n",
      "So don't be mad and don't be sad \n",
      "'Cause the lyrics belong to ICE, You can call me Dad \n",
      "You're pitchin' a fit, so step back and endure \n",
      "Let the witch doctor, Ice, do the dance to cure \n",
      "So come up close and don't be square \n",
      "You wanna battle me -- Anytime, anywhere \n",
      "\n",
      "You thought that I was weak, Boy, you're dead wrong \n",
      "So come on, everybody and sing this song \n",
      "\n",
      "Say -- Play that funky music Say, go white boy, go white boy go \n",
      "play that funky music Go white boy, go white boy, go \n",
      "Lay down and boogie and play that funky music till you die. \n",
      "\n",
      "Play that funky music Come on, Come on, let me hear \n",
      "Play that funky music white boy you say it, say it \n",
      "Play that funky music A little louder now \n",
      "Play that funky music, white boy Come on, Come on, Come on \n",
      "Play that funky music \n",
      "\u0004\u0004\u0004\u0004\n"
     ]
    }
   ],
   "source": [
    "data = load.file_as_bytes(\"challenge_data/7.txt\", remove_newlines=True)\n",
    "data = base64.decodebytes(data)\n",
    "decrypted_output = aes128.ecb_decrypt(data, b\"YELLOW SUBMARINE\")\n",
    "\n",
    "# Display the decrypted output\n",
    "print(decrypted_output.decode(\"ascii\", errors=\"ignore\"))"
   ]
  },
  {
   "cell_type": "markdown",
   "metadata": {},
   "source": [
    "## **Challenge 8: Detect AES in ECB mode**"
   ]
  },
  {
   "cell_type": "code",
   "execution_count": 12,
   "metadata": {},
   "outputs": [
    {
     "name": "stdout",
     "output_type": "stream",
     "text": [
      "ECB mode detected in line 132!\n"
     ]
    }
   ],
   "source": [
    "with open(\"challenge_data/8.txt\", \"r\") as f:\n",
    "    lines = f.readlines()\n",
    "    for i in range(len(lines)):\n",
    "        hex_str = lines[i].replace(\"\\n\", \"\")\n",
    "        hex_bytes = convert.hex2bytes(hex_str)\n",
    "        if has_repeated_blocks(hex_bytes, 16):\n",
    "            print(f\"ECB mode detected in line {i}!\")\n",
    "            break"
   ]
  }
 ],
 "metadata": {
  "kernelspec": {
   "display_name": "Python 3",
   "language": "python",
   "name": "python3"
  },
  "language_info": {
   "codemirror_mode": {
    "name": "ipython",
    "version": 3
   },
   "file_extension": ".py",
   "mimetype": "text/x-python",
   "name": "python",
   "nbconvert_exporter": "python",
   "pygments_lexer": "ipython3",
   "version": "3.10.4"
  },
  "orig_nbformat": 4,
  "vscode": {
   "interpreter": {
    "hash": "2ab98c4b59af728aa8bd9922870b996a7fc5861c87b81242319b92eec59b5fef"
   }
  }
 },
 "nbformat": 4,
 "nbformat_minor": 2
}
