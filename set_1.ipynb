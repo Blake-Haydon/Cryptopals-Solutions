{
 "cells": [
  {
   "cell_type": "code",
   "execution_count": 1,
   "metadata": {},
   "outputs": [],
   "source": [
    "from helper_functions import xor_hex_strings, single_byte_xor, repeating_key_xor, xor_bytes, hamming_distance\n",
    "from file_loading import load_file_as_bytes, load_file_as_b64\n",
    "from conversions import int2bytes, hex2bytes, string2bytes, hex2b64\n",
    "from symmetric_encryption import is_ecb_mode, aes128_ecb_encrypt, aes128_ecb_decrypt, aes128_cbc_decrypt\n",
    "# \n",
    "import base64"
   ]
  },
  {
   "attachments": {},
   "cell_type": "markdown",
   "metadata": {},
   "source": [
    "## **Challenge 1: Convert hex to base64**"
   ]
  },
  {
   "cell_type": "code",
   "execution_count": 2,
   "metadata": {},
   "outputs": [
    {
     "data": {
      "text/plain": [
       "b'SSdtIGtpbGxpbmcgeW91ciBicmFpbiBsaWtlIGEgcG9pc29ub3VzIG11c2hyb29t'"
      ]
     },
     "execution_count": 2,
     "metadata": {},
     "output_type": "execute_result"
    }
   ],
   "source": [
    "hex2b64(\"49276d206b696c6c696e6720796f757220627261696e206c696b65206120706f69736f6e6f7573206d757368726f6f6d\")"
   ]
  },
  {
   "attachments": {},
   "cell_type": "markdown",
   "metadata": {},
   "source": [
    "## **Challenge 2: Fixed XOR**"
   ]
  },
  {
   "cell_type": "code",
   "execution_count": 3,
   "metadata": {},
   "outputs": [
    {
     "data": {
      "text/plain": [
       "'746865206b696420646f6e277420706c6179'"
      ]
     },
     "execution_count": 3,
     "metadata": {},
     "output_type": "execute_result"
    }
   ],
   "source": [
    "xor_hex_strings(\n",
    "    \"1c0111001f010100061a024b53535009181c\", \n",
    "    \"686974207468652062756c6c277320657965\",\n",
    ").hex()"
   ]
  },
  {
   "attachments": {},
   "cell_type": "markdown",
   "metadata": {},
   "source": [
    "## **Challenge 3: Single-byte XOR cipher**\n",
    "# TODO: THIS CHALLENGE IS NOT COMPLETE"
   ]
  },
  {
   "cell_type": "code",
   "execution_count": 4,
   "metadata": {},
   "outputs": [
    {
     "name": "stdout",
     "output_type": "stream",
     "text": [
      ".\u0002\u0002\u0006\u0004\u0003\n",
      "M .J\u001eM\u0001\u0004M\fM\u001d\u0002\u0018\u0003\tM\u0002\u000bM\u000f\f\u000e\u0002\u0003\n",
      " \f\n",
      "\u0004C. D\u0010C\u000f\n",
      "\u0007C\f\u0005C\u0001\u0002\u0000\f\n",
      "Cooking MC's like a pound of bacon\n",
      "Dhhlni`'JD t'knlb'f'whric'ha'efdhi\n"
     ]
    }
   ],
   "source": [
    "b = hex2bytes(\"1b37373331363f78151b7f2b783431333d78397828372d363c78373e783a393b3736\")\n",
    "\n",
    "for i in range(256):\n",
    "    try:\n",
    "        x = single_byte_xor(b, int2bytes(i)).decode(\"ascii\")\n",
    "        if \"?\" in x or \"!\" in x:\n",
    "            continue\n",
    "        if \" \" not in x:\n",
    "            continue\n",
    "        if \"0\" in x or \"1\" in x or \"2\" in x or \"3\" in x or \"4\" in x or \"5\" in x or \"6\" in x or \"7\" in x or \"8\" in x or \"9\" in x:\n",
    "            continue\n",
    "        \n",
    "        print(x)\n",
    "    except UnicodeDecodeError: \n",
    "        continue\n"
   ]
  },
  {
   "attachments": {},
   "cell_type": "markdown",
   "metadata": {},
   "source": [
    "## **Challenge 4: Detect single-character XOR**\n",
    "# TODO: THIS CHALLENGE IS NOT COMPLETE"
   ]
  },
  {
   "cell_type": "code",
   "execution_count": 5,
   "metadata": {},
   "outputs": [],
   "source": [
    "# TODO: Implement this function"
   ]
  },
  {
   "attachments": {},
   "cell_type": "markdown",
   "metadata": {},
   "source": [
    "## **Challenge 5: Implement repeating-key XOR**"
   ]
  },
  {
   "cell_type": "code",
   "execution_count": 6,
   "metadata": {},
   "outputs": [
    {
     "data": {
      "text/plain": [
       "'0b3637272a2b2e63622c2e69692a23693a2a3c6324202d623d63343c2a26226324272765272a282b2f20430a652e2c652a3124333a653e2b2027630c692b20283165286326302e27282f'"
      ]
     },
     "execution_count": 6,
     "metadata": {},
     "output_type": "execute_result"
    }
   ],
   "source": [
    "string = \"\"\"Burning 'em, if you ain't quick and nimble\n",
    "I go crazy when I hear a cymbal\"\"\"\n",
    "byte_str = string2bytes(string)\n",
    "xor_key = string2bytes(\"ICE\")\n",
    "\n",
    "repeating_key_xor(byte_str, xor_key).hex()"
   ]
  },
  {
   "attachments": {},
   "cell_type": "markdown",
   "metadata": {},
   "source": [
    "## **Challenge 6: Break repeating-key XOR**\n",
    "# TODO: THIS CHALLENGE IS NOT COMPLETE"
   ]
  },
  {
   "cell_type": "code",
   "execution_count": 7,
   "metadata": {},
   "outputs": [
    {
     "name": "stdout",
     "output_type": "stream",
     "text": [
      "The hamming distance between b'this is a test' and b'wokka wokka!!!' is 37\n",
      "The minimum hamming distance is 10.333333333333334, with keysize 3\n"
     ]
    }
   ],
   "source": [
    "# Check that the hamming distance function works\n",
    "a = string2bytes(\"this is a test\")\n",
    "b = string2bytes(\"wokka wokka!!!\")\n",
    "print(f\"The hamming distance between {a} and {b} is {hamming_distance(a, b)}\") # should be 37\n",
    "\n",
    "# Load the file as bytes\n",
    "file_bytes = load_file_as_bytes(\"challenge_data/6.txt\", remove_newlines=True)\n",
    "\n",
    "# Find the keysize with the minimum hamming distance\n",
    "min_dist = 1000\n",
    "min_keysize = 0\n",
    "for keysize in range(1, 41):\n",
    "    a = file_bytes[0:keysize]\n",
    "    b = file_bytes[keysize:2*keysize]\n",
    "    c = file_bytes[2*keysize:3*keysize]\n",
    "    d = file_bytes[3*keysize:4*keysize]\n",
    "    e = file_bytes[4*keysize:5*keysize]\n",
    "    \n",
    "    normalised_hamming_distance = (\n",
    "        hamming_distance(a, b)\n",
    "        + hamming_distance(b, c)\n",
    "        + hamming_distance(c, d)\n",
    "        + hamming_distance(d, e)\n",
    "    ) / keysize\n",
    "    if normalised_hamming_distance < min_dist:\n",
    "        min_dist = normalised_hamming_distance\n",
    "        min_keysize = keysize\n",
    "    \n",
    "print(f\"The minimum hamming distance is {min_dist}, with keysize {min_keysize}\")"
   ]
  },
  {
   "attachments": {},
   "cell_type": "markdown",
   "metadata": {},
   "source": [
    "## **Challenge 7: AES in ECB mode**"
   ]
  },
  {
   "cell_type": "code",
   "execution_count": 8,
   "metadata": {},
   "outputs": [
    {
     "name": "stdout",
     "output_type": "stream",
     "text": [
      "I'm back and I'm ringin' the bell \n",
      "A rockin' on the mike while the fly girls yell \n",
      "In ecstasy in the back of me \n",
      "Well that's my DJ Deshay cuttin' all them Z's \n",
      "Hittin' hard and the girlies goin' crazy \n",
      "Vanilla's on the mike, man I'm not lazy. \n",
      "\n",
      "I'm lettin' my drug kick in \n",
      "It controls my mouth and I begin \n",
      "To just let it flow, let my concepts go \n",
      "My posse's to the side yellin', Go Vanilla Go! \n",
      "\n",
      "Smooth 'cause that's the way I will be \n",
      "And if you don't give a damn, then \n",
      "Why you starin' at me \n",
      "So get off 'cause I control the stage \n",
      "There's no dissin' allowed \n",
      "I'm in my own phase \n",
      "The girlies sa y they love me and that is ok \n",
      "And I can dance better than any kid n' play \n",
      "\n",
      "Stage 2 -- Yea the one ya' wanna listen to \n",
      "It's off my head so let the beat play through \n",
      "So I can funk it up and make it sound good \n",
      "1-2-3 Yo -- Knock on some wood \n",
      "For good luck, I like my rhymes atrocious \n",
      "Supercalafragilisticexpialidocious \n",
      "I'm an effect and that you can bet \n",
      "I can take a fly girl and make her wet. \n",
      "\n",
      "I'm like Samson -- Samson to Delilah \n",
      "There's no denyin', You can try to hang \n",
      "But you'll keep tryin' to get my style \n",
      "Over and over, practice makes perfect \n",
      "But not if you're a loafer. \n",
      "\n",
      "You'll get nowhere, no place, no time, no girls \n",
      "Soon -- Oh my God, homebody, you probably eat \n",
      "Spaghetti with a spoon! Come on and say it! \n",
      "\n",
      "VIP. Vanilla Ice yep, yep, I'm comin' hard like a rhino \n",
      "Intoxicating so you stagger like a wino \n",
      "So punks stop trying and girl stop cryin' \n",
      "Vanilla Ice is sellin' and you people are buyin' \n",
      "'Cause why the freaks are jockin' like Crazy Glue \n",
      "Movin' and groovin' trying to sing along \n",
      "All through the ghetto groovin' this here song \n",
      "Now you're amazed by the VIP posse. \n",
      "\n",
      "Steppin' so hard like a German Nazi \n",
      "Startled by the bases hittin' ground \n",
      "There's no trippin' on mine, I'm just gettin' down \n",
      "Sparkamatic, I'm hangin' tight like a fanatic \n",
      "You trapped me once and I thought that \n",
      "You might have it \n",
      "So step down and lend me your ear \n",
      "'89 in my time! You, '90 is my year. \n",
      "\n",
      "You're weakenin' fast, YO! and I can tell it \n",
      "Your body's gettin' hot, so, so I can smell it \n",
      "So don't be mad and don't be sad \n",
      "'Cause the lyrics belong to ICE, You can call me Dad \n",
      "You're pitchin' a fit, so step back and endure \n",
      "Let the witch doctor, Ice, do the dance to cure \n",
      "So come up close and don't be square \n",
      "You wanna battle me -- Anytime, anywhere \n",
      "\n",
      "You thought that I was weak, Boy, you're dead wrong \n",
      "So come on, everybody and sing this song \n",
      "\n",
      "Say -- Play that funky music Say, go white boy, go white boy go \n",
      "play that funky music Go white boy, go white boy, go \n",
      "Lay down and boogie and play that funky music till you die. \n",
      "\n",
      "Play that funky music Come on, Come on, let me hear \n",
      "Play that funky music white boy you say it, say it \n",
      "Play that funky music A little louder now \n",
      "Play that funky music, white boy Come on, Come on, Come on \n",
      "Play that funky music \n",
      "\u0004\u0004\u0004\u0004\n"
     ]
    }
   ],
   "source": [
    "data = load_file_as_bytes(\"challenge_data/7.txt\", remove_newlines=True)\n",
    "decrypted_output = aes128_ecb_decrypt(base64.decodebytes(data), b\"YELLOW SUBMARINE\")\n",
    "\n",
    "# Display the decrypted output\n",
    "print(decrypted_output.decode(\"ascii\", errors=\"ignore\"))"
   ]
  },
  {
   "cell_type": "markdown",
   "metadata": {},
   "source": [
    "## **Challenge 8: Detect AES in ECB mode**"
   ]
  },
  {
   "cell_type": "code",
   "execution_count": 10,
   "metadata": {},
   "outputs": [
    {
     "name": "stdout",
     "output_type": "stream",
     "text": [
      "ECB mode detected in the following line!\n",
      "d880619740a8a19b7840a8a31c810a3d08649af70dc06f4fd5d2d69c744cd283e2dd052f6b641dbf9d11b0348542bb5708649af70dc06f4fd5d2d69c744cd2839475c9dfdbc1d46597949d9c7e82bf5a08649af70dc06f4fd5d2d69c744cd28397a93eab8d6aecd566489154789a6b0308649af70dc06f4fd5d2d69c744cd283d403180c98c8f6db1f2a3f9c4040deb0ab51b29933f2c123c58386b06fba186a\n",
      "\n"
     ]
    }
   ],
   "source": [
    "with open(\"challenge_data/8.txt\", \"r\") as f:\n",
    "    for line in f.readlines():\n",
    "        hex_bytes = hex2bytes(line.replace(\"\\n\", \"\"))\n",
    "        if is_ecb_mode(hex_bytes):\n",
    "            print(\"ECB mode detected in the following line!\")\n",
    "            print(line)\n",
    "            break"
   ]
  }
 ],
 "metadata": {
  "kernelspec": {
   "display_name": "Python 3",
   "language": "python",
   "name": "python3"
  },
  "language_info": {
   "codemirror_mode": {
    "name": "ipython",
    "version": 3
   },
   "file_extension": ".py",
   "mimetype": "text/x-python",
   "name": "python",
   "nbconvert_exporter": "python",
   "pygments_lexer": "ipython3",
   "version": "3.10.4"
  },
  "orig_nbformat": 4,
  "vscode": {
   "interpreter": {
    "hash": "2ab98c4b59af728aa8bd9922870b996a7fc5861c87b81242319b92eec59b5fef"
   }
  }
 },
 "nbformat": 4,
 "nbformat_minor": 2
}
