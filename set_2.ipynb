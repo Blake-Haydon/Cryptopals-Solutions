{
  "cells": [
    {
      "cell_type": "code",
      "execution_count": 1,
      "metadata": {},
      "outputs": [],
      "source": [
        "from src.helper_functions import output_repeated_block, find_block\n",
        "from src.symmetric_encryption import is_ecb_mode, determine_blocksize\n",
        "from src.xor import xor_bytes\n",
        "import src.load as load\n",
        "import src.aes128 as aes128\n",
        "import src.convert as convert\n",
        "import src.padding as padding\n",
        "# \n",
        "import base64\n",
        "import secrets"
      ]
    },
    {
      "cell_type": "markdown",
      "metadata": {},
      "source": [
        "## **Challenge 9: Implement PKCS#7 padding**"
      ]
    },
    {
      "cell_type": "code",
      "execution_count": 2,
      "metadata": {},
      "outputs": [
        {
          "data": {
            "text/plain": [
              "b'YELLOW SUBMARINE\\x04\\x04\\x04\\x04'"
            ]
          },
          "execution_count": 2,
          "metadata": {},
          "output_type": "execute_result"
        }
      ],
      "source": [
        "padding.apply_pkcs_7(b\"YELLOW SUBMARINE\", 20)"
      ]
    },
    {
      "attachments": {},
      "cell_type": "markdown",
      "metadata": {},
      "source": [
        "## **Challenge 10: Implement CBC mode**"
      ]
    },
    {
      "cell_type": "code",
      "execution_count": 3,
      "metadata": {},
      "outputs": [
        {
          "name": "stdout",
          "output_type": "stream",
          "text": [
            "b'\\xdaG\\x86\\x920%y-\\x9b\\x91$vN\\xcax\\xe3'\n",
            "b'YELLOW SUBMARINE'\n"
          ]
        }
      ],
      "source": [
        "key = secrets.token_bytes(16)\n",
        "iv = secrets.token_bytes(16)\n",
        "text = b'YELLOW SUBMARINE'\n",
        "\n",
        "cyphertext = aes128.cbc_encrypt(text, key, iv)\n",
        "plaintext = aes128.cbc_decrypt(cyphertext, key, iv)\n",
        "\n",
        "print(cyphertext)\n",
        "print(plaintext)"
      ]
    },
    {
      "cell_type": "code",
      "execution_count": 4,
      "metadata": {},
      "outputs": [
        {
          "data": {
            "text/plain": [
              "\"I'm back and I'm ringin' the bell \\nA rockin' on the mike while the fly girls yell \\nIn ecstasy in the back of me \\nWell that's my DJ Deshay cuttin' all them Z's \\nHittin' hard and the girlies goin' crazy \\nVanilla's on the mike, man I'm not lazy. \\n\\nI'm lettin' my drug kick in \\nIt controls my mouth and I begin \\nTo just let it flow, let my concepts go \\nMy posse's to the side yellin', Go Vanilla Go! \\n\\nSmooth 'cause that's the way I will be \\nAnd if you don't give a damn, then \\nWhy you starin' at me \\nSo get off 'cause I control the stage \\nThere's no dissin' allowed \\nI'm in my own phase \\nThe girlies sa y they love me and that is ok \\nAnd I can dance better than any kid n' play \\n\\nStage 2 -- Yea the one ya' wanna listen to \\nIt's off my head so let the beat play through \\nSo I can funk it up and make it sound good \\n1-2-3 Yo -- Knock on some wood \\nFor good luck, I like my rhymes atrocious \\nSupercalafragilisticexpialidocious \\nI'm an effect and that you can bet \\nI can take a fly girl and make her wet. \\n\\nI'm like Samson -- Samson to Delilah \\nThere's no denyin', You can try to hang \\nBut you'll keep tryin' to get my style \\nOver and over, practice makes perfect \\nBut not if you're a loafer. \\n\\nYou'll get nowhere, no place, no time, no girls \\nSoon -- Oh my God, homebody, you probably eat \\nSpaghetti with a spoon! Come on and say it! \\n\\nVIP. Vanilla Ice yep, yep, I'm comin' hard like a rhino \\nIntoxicating so you stagger like a wino \\nSo punks stop trying and girl stop cryin' \\nVanilla Ice is sellin' and you people are buyin' \\n'Cause why the freaks are jockin' like Crazy Glue \\nMovin' and groovin' trying to sing along \\nAll through the ghetto groovin' this here song \\nNow you're amazed by the VIP posse. \\n\\nSteppin' so hard like a German Nazi \\nStartled by the bases hittin' ground \\nThere's no trippin' on mine, I'm just gettin' down \\nSparkamatic, I'm hangin' tight like a fanatic \\nYou trapped me once and I thought that \\nYou might have it \\nSo step down and lend me your ear \\n'89 in my time! You, '90 is my year. \\n\\nYou're weakenin' fast, YO! and I can tell it \\nYour body's gettin' hot, so, so I can smell it \\nSo don't be mad and don't be sad \\n'Cause the lyrics belong to ICE, You can call me Dad \\nYou're pitchin' a fit, so step back and endure \\nLet the witch doctor, Ice, do the dance to cure \\nSo come up close and don't be square \\nYou wanna battle me -- Anytime, anywhere \\n\\nYou thought that I was weak, Boy, you're dead wrong \\nSo come on, everybody and sing this song \\n\\nSay -- Play that funky music Say, go white boy, go white boy go \\nplay that funky music Go white boy, go white boy, go \\nLay down and boogie and play that funky music till you die. \\n\\nPlay that funky music Come on, Come on, let me hear \\nPlay that funky music white boy you say it, say it \\nPlay that funky music A little louder now \\nPlay that funky music, white boy Come on, Come on, Come on \\nPlay that funky music \\n\\x04\\x04\\x04\\x04\""
            ]
          },
          "execution_count": 4,
          "metadata": {},
          "output_type": "execute_result"
        }
      ],
      "source": [
        "file_bytes = load.file_as_b64(\"challenge_data/10.txt\", remove_newlines=True)\n",
        "\n",
        "key = b'YELLOW SUBMARINE'\n",
        "IV = b'\\x00' * 16\n",
        "aes128.cbc_decrypt(file_bytes, key, IV).decode('utf-8')"
      ]
    },
    {
      "cell_type": "markdown",
      "metadata": {},
      "source": [
        "## **Challenge 11: An ECB/CBC detection oracle**"
      ]
    },
    {
      "cell_type": "code",
      "execution_count": 5,
      "metadata": {},
      "outputs": [],
      "source": [
        "def encryption_oracle_11(plaintext: bytes) -> bytes:\n",
        "    \"\"\"Encrypts a `plaintext` with AES-128 in either ECB or CBC mode. The plaintext is padded with PKCS#7 padding\n",
        "    and a random prefix and suffix are added to the plaintext. The key and IV are chosen at random. The function\n",
        "    returns a tuple of the mode used and the cyphertext. \n",
        "    \n",
        "    `encrypt(before_bytes + plaintext + after_bytes)`\n",
        "    \"\"\"\n",
        "\n",
        "    key = secrets.token_bytes(16)  # for AES-128\n",
        "    iv = secrets.token_bytes(16)  # for AES-128\n",
        "\n",
        "    before_bytes = secrets.token_bytes(secrets.choice([5, 6, 7, 8, 9, 10]))\n",
        "    after_bytes = secrets.token_bytes(secrets.choice([5, 6, 7, 8, 9, 10]))\n",
        "\n",
        "    modified_plaintext = padding.apply_pkcs_7(before_bytes + plaintext + after_bytes, 16)\n",
        "\n",
        "    if secrets.choice([True, False]):\n",
        "        print(\"ECB\")\n",
        "        return aes128.ecb_encrypt(modified_plaintext, key)\n",
        "    else:\n",
        "        print(\"CBC\")\n",
        "        return aes128.cbc_encrypt(modified_plaintext, key, iv)"
      ]
    },
    {
      "cell_type": "code",
      "execution_count": 6,
      "metadata": {},
      "outputs": [
        {
          "name": "stdout",
          "output_type": "stream",
          "text": [
            "ECB\n",
            "ECB \n",
            "\n",
            "ECB\n",
            "ECB \n",
            "\n",
            "CBC\n",
            "CBC \n",
            "\n",
            "CBC\n",
            "CBC \n",
            "\n",
            "ECB\n",
            "ECB \n",
            "\n"
          ]
        }
      ],
      "source": [
        "for _ in range(5):\n",
        "    ecb_mode = is_ecb_mode(encryption_oracle_11, 16)\n",
        "    if ecb_mode:\n",
        "        print(\"ECB\", \"\\n\")\n",
        "    else:\n",
        "        print(\"CBC\", \"\\n\")"
      ]
    },
    {
      "attachments": {},
      "cell_type": "markdown",
      "metadata": {},
      "source": [
        "## **Challenge 12: Byte-at-a-time ECB decryption (Simple)**"
      ]
    },
    {
      "cell_type": "code",
      "execution_count": 7,
      "metadata": {},
      "outputs": [],
      "source": [
        "# Assume that key is unknown but same for all encryptions\n",
        "challenge_12_key = secrets.token_bytes(16)"
      ]
    },
    {
      "cell_type": "code",
      "execution_count": 8,
      "metadata": {},
      "outputs": [],
      "source": [
        "def encryption_oracle_12(plaintext: bytes) -> bytes:\n",
        "    \"\"\"Encrypts a `plaintext` with AES-128 in ECB mode. The plaintext is padded with PKCS#7 padding.\n",
        "    There is an unknown string appended to the plaintext. The key is chosen at random. The function\n",
        "    returns the cyphertext.\"\"\"\n",
        "    unknown_string = base64.decodebytes(b\"Um9sbGluJyBpbiBteSA1LjAKV2l0aCBteSByYWctdG9wIGRvd24gc28gbXkgaGFpciBjYW4gYmxvdwpUaGUgZ2lybGllcyBvbiBzdGFuZGJ5IHdhdmluZyBqdXN0IHRvIHNheSBoaQpEaWQgeW91IHN0b3A/IE5vLCBJIGp1c3QgZHJvdmUgYnkK\")\n",
        "    padded_plaintext = padding.apply_pkcs_7(plaintext + unknown_string, 16)\n",
        "    return aes128.ecb_encrypt(padded_plaintext, challenge_12_key)"
      ]
    },
    {
      "cell_type": "code",
      "execution_count": 9,
      "metadata": {},
      "outputs": [
        {
          "name": "stdout",
          "output_type": "stream",
          "text": [
            "Block length: 16\n",
            "Is this encrypted with ECB mode: True\n"
          ]
        },
        {
          "data": {
            "text/plain": [
              "\"Rollin' in my 5.0\\nWith my rag-top down so my hair can blow\\nThe girlies on standby waving just to say hi\\nDid you stop? No, I just drove by\\n\\x01\""
            ]
          },
          "execution_count": 9,
          "metadata": {},
          "output_type": "execute_result"
        }
      ],
      "source": [
        "blocksize, offset = determine_blocksize(encryption_oracle_12)\n",
        "print(f\"Block length: {blocksize}\")\n",
        "print(f\"Is this encrypted with ECB mode: {is_ecb_mode(encryption_oracle_12, blocksize)}\")\n",
        "\n",
        "# make dictionary of all possible last bytes by brute forcing the block by block\n",
        "plaintext = b''\n",
        "\n",
        "def gen_lookup_table(plaintext: bytes, blocksize: int, oracle: callable) -> dict:\n",
        "    \"\"\"Generates a lookup table for the last byte of the plaintext.\n",
        "    The lookup table maps the cyphertext to the last byte of the plaintext.\"\"\"\n",
        "    cypher2plain = {}                                   # maps cyphertext to plaintext\n",
        "    w = plaintext[(1-blocksize):]                      # window of last blocksize - 1 bytes of plaintext\n",
        "    pad = b'A' * (blocksize - len(w) - 1)              # used to pad the first block *ONLY*\n",
        "    for i in range(256):                                # iterate through all possible final bytes\n",
        "        p = pad + w + convert.int2byte(i)                      # generate plaintext to encrypt\n",
        "        cy = oracle(p)                                  # encrypt the plaintext\n",
        "        cypher2plain[cy[:blocksize]] = convert.int2byte(i)    # add to dictionary\n",
        "    return cypher2plain\n",
        "\n",
        "\n",
        "def padded_encryption(plaintext: bytes, blocksize: int, oracle: callable) -> bytes:\n",
        "    \"\"\"Pad and encrypt the plaintext. The padding is done so that a full block only has a single unknown byte.\"\"\"\n",
        "    pad = b'A' * ((blocksize - len(plaintext) - 1) % blocksize)\n",
        "    return oracle(pad)\n",
        "\n",
        "\n",
        "for char_i in range(10000): # 10000 is an arbitrary large number\n",
        "    cyphertext = padded_encryption(plaintext, blocksize, encryption_oracle_12)\n",
        "\n",
        "    # When the full plaintext is found, the last block will not be in the dictionary\n",
        "    block_num = char_i // blocksize    # current block number\n",
        "    selected_cypher = cyphertext[block_num*blocksize:(block_num + 1)*blocksize]\n",
        "    try:\n",
        "        cypher2plain = gen_lookup_table(plaintext, blocksize, encryption_oracle_12)\n",
        "        plaintext += cypher2plain[selected_cypher]\n",
        "    except KeyError: \n",
        "        break\n",
        "\n",
        "\n",
        "plaintext.decode('utf-8')"
      ]
    },
    {
      "attachments": {},
      "cell_type": "markdown",
      "metadata": {},
      "source": [
        "## **Challenge 13: ECB cut-and-paste**"
      ]
    },
    {
      "cell_type": "code",
      "execution_count": 10,
      "metadata": {},
      "outputs": [],
      "source": [
        "challenge_13_key = secrets.token_bytes(16)"
      ]
    },
    {
      "cell_type": "code",
      "execution_count": 11,
      "metadata": {},
      "outputs": [],
      "source": [
        "def profile_for(email: str):\n",
        "    \"\"\"Returns a profile for an email address. The profile is a string of the form:\n",
        "    `email=<email>&uid=<10 random digits>&role=user`\n",
        "    \"\"\"\n",
        "    email = email.replace(\"&\", \"\").replace(\"=\", \"\") # eat the characters (yum yum!)\n",
        "    uid = 1000 + secrets.randbelow(10**4 - 1000)    # 1000 <= uid < 10**4\n",
        "    object = f\"email={email}&uid={uid}&role=user\"   # the object to be encrypted\n",
        "    padded_object = padding.apply_pkcs_7(object.encode('utf-8'), 16)    # pad the object\n",
        "    return aes128.ecb_encrypt(padded_object, challenge_13_key)          # encrypt the object\n",
        "\n",
        "def decrypt_profile(profile: bytes) -> dict:\n",
        "    \"\"\"Decrypts a profile and returns a dictionary of the form:\n",
        "    `{'email': <email>, 'uid': <uid>, 'role': <role>}`\n",
        "    \"\"\"\n",
        "    decrypted_profile = aes128.ecb_decrypt(profile, challenge_13_key)\n",
        "    decrypted_profile = padding.remove_pkcs_7(decrypted_profile)\n",
        "    decrypted_profile = decrypted_profile.decode('utf-8')\n",
        "    return convert.string2dict(decrypted_profile)"
      ]
    },
    {
      "cell_type": "code",
      "execution_count": 12,
      "metadata": {},
      "outputs": [
        {
          "name": "stdout",
          "output_type": "stream",
          "text": [
            "Successfully created an encrypted profile for the admin user!\n",
            "{'email': 'hackerman69', 'uid': '7513', 'role': 'admin'}\n"
          ]
        }
      ],
      "source": [
        "blocksize = 16\n",
        "\n",
        "# 10 A's push the admin string into its own block\n",
        "a = 'A' * 10\n",
        "\n",
        "# admin padding with correct padding bytes\n",
        "admin_str = padding.apply_pkcs_7(b'admin', 16).decode('utf-8')\n",
        "\n",
        "# get the encrypted profile for the admin string\n",
        "admin_encrypted_profile = profile_for(a + admin_str)\n",
        "\n",
        "# extract the encrypted admin string\n",
        "admin_bytes = admin_encrypted_profile[blocksize:2*blocksize]\n",
        "\n",
        "# 1. get the encrypted profile for the user\n",
        "# 2. remove the last block\n",
        "# 3. append the admin bytes\n",
        "hacker_encrypted_profile = profile_for(\"hackerman69\")\n",
        "hacker_encrypted_profile = hacker_encrypted_profile[:-blocksize]\n",
        "hacker_encrypted_profile += admin_bytes\n",
        "\n",
        "print(\"Successfully created an encrypted profile for the admin user!\")\n",
        "print(decrypt_profile(hacker_encrypted_profile))"
      ]
    },
    {
      "attachments": {},
      "cell_type": "markdown",
      "metadata": {},
      "source": [
        "## **Challenge 14: Byte-at-a-time ECB decryption (Harder)**"
      ]
    },
    {
      "cell_type": "code",
      "execution_count": 13,
      "metadata": {},
      "outputs": [],
      "source": [
        "encryption_oracle_14_key = secrets.token_bytes(16)"
      ]
    },
    {
      "cell_type": "code",
      "execution_count": 14,
      "metadata": {},
      "outputs": [],
      "source": [
        "def encryption_oracle_14(plaintext: bytes) -> bytes:\n",
        "    \"\"\"Encrypts a `plaintext` with AES-128 in ECB mode. The plaintext is padded with PKCS#7 padding.\n",
        "    `AES-128-ECB(random-prefix || attacker-controlled || target-bytes, random-key)`\n",
        "    \"\"\"\n",
        "    max_num_bytes = 32\n",
        "    rand_bytes = secrets.token_bytes(secrets.randbelow(max_num_bytes))\n",
        "    unknown_string = base64.decodebytes(b\"Um9sbGluJyBpbiBteSA1LjAKV2l0aCBteSByYWctdG9wIGRvd24gc28gbXkgaGFpciBjYW4gYmxvdwpUaGUgZ2lybGllcyBvbiBzdGFuZGJ5IHdhdmluZyBqdXN0IHRvIHNheSBoaQpEaWQgeW91IHN0b3A/IE5vLCBJIGp1c3QgZHJvdmUgYnkK\")\n",
        "    return aes128.ecb_encrypt(padding.apply_pkcs_7(rand_bytes + plaintext + unknown_string, 16), encryption_oracle_14_key)"
      ]
    },
    {
      "cell_type": "code",
      "execution_count": 15,
      "metadata": {},
      "outputs": [
        {
          "name": "stdout",
          "output_type": "stream",
          "text": [
            "Block length: 16\n",
            "Padding offset (bytes to add so that there is no padding): 0\n",
            "Is this encrypted with ECB mode: True\n",
            "b'R\\xd4\\xf5'\n"
          ]
        }
      ],
      "source": [
        "blocksize, offset = determine_blocksize(encryption_oracle_14)\n",
        "print(f\"Block length: {blocksize}\")\n",
        "print(f\"Padding offset (bytes to add so that there is no padding): {offset}\")\n",
        "print(f\"Is this encrypted with ECB mode: {is_ecb_mode(encryption_oracle_14, blocksize)}\")\n",
        "\n",
        "def altered_oracle(plaintext: bytes, blocksize: int) -> bytes:\n",
        "    \"\"\"The oracle with the altered plaintext\"\"\"\n",
        "    \n",
        "    # use flag to determine when the inserted plaintext starts\n",
        "    flag = b'F' * blocksize\n",
        "    cy_flag = output_repeated_block(encryption_oracle_14(3*flag), blocksize)\n",
        "    while True:\n",
        "        cy = encryption_oracle_14(flag + plaintext)\n",
        "        i = find_block(cy, cy_flag, blocksize)\n",
        "        if i:\n",
        "            return cy[i+blocksize:]\n",
        "\n",
        "# alter the oracle so that the inserted plaintext starts at the beginning of a block\n",
        "oracle_14_no_rand_bytes = lambda x: altered_oracle(x, blocksize)\n",
        "\n",
        "plaintext = b''\n",
        "for char_i in range(10000): # 10000 is an arbitrary large number\n",
        "    cyphertext = padded_encryption(plaintext, blocksize, oracle_14_no_rand_bytes)\n",
        "\n",
        "    block_num = char_i // blocksize    # current block number\n",
        "    selected_cypher = cyphertext[block_num*blocksize:(block_num + 1)*blocksize]\n",
        "    try:\n",
        "        cypher2plain = gen_lookup_table(plaintext, blocksize, oracle_14_no_rand_bytes)\n",
        "        plaintext += cypher2plain[selected_cypher]\n",
        "    except KeyError: \n",
        "        break\n",
        "\n",
        "print(plaintext)"
      ]
    },
    {
      "attachments": {},
      "cell_type": "markdown",
      "metadata": {},
      "source": [
        "## **Challenge 15: PKCS#7 padding validation**"
      ]
    },
    {
      "cell_type": "code",
      "execution_count": 16,
      "metadata": {},
      "outputs": [
        {
          "data": {
            "text/plain": [
              "b'ICE ICE BABY'"
            ]
          },
          "execution_count": 16,
          "metadata": {},
          "output_type": "execute_result"
        }
      ],
      "source": [
        "padding.remove_pkcs_7(b\"ICE ICE BABY\\x04\\x04\\x04\\x04\")"
      ]
    },
    {
      "cell_type": "code",
      "execution_count": 17,
      "metadata": {},
      "outputs": [
        {
          "name": "stdout",
          "output_type": "stream",
          "text": [
            "Successfully raised a ValueError!\n"
          ]
        }
      ],
      "source": [
        "try:\n",
        "    padding.remove_pkcs_7(b\"ICE ICE BABY\\x05\\x05\\x05\\x05\")\n",
        "except ValueError:\n",
        "    print(\"Successfully raised a ValueError!\")"
      ]
    },
    {
      "cell_type": "code",
      "execution_count": 18,
      "metadata": {},
      "outputs": [
        {
          "name": "stdout",
          "output_type": "stream",
          "text": [
            "Successfully raised a ValueError!\n"
          ]
        }
      ],
      "source": [
        "try:\n",
        "    padding.remove_pkcs_7(b\"ICE ICE BABY\\x01\\x02\\x03\\x04\")\n",
        "except ValueError:\n",
        "    print(\"Successfully raised a ValueError!\")"
      ]
    },
    {
      "attachments": {},
      "cell_type": "markdown",
      "metadata": {},
      "source": [
        "## **Challenge 16: CBC bitflipping attacks**"
      ]
    },
    {
      "cell_type": "code",
      "execution_count": 19,
      "metadata": {},
      "outputs": [],
      "source": [
        "challenge_16_key = secrets.token_bytes(16)\n",
        "challenge_16_iv = secrets.token_bytes(16)"
      ]
    },
    {
      "cell_type": "code",
      "execution_count": 20,
      "metadata": {},
      "outputs": [
        {
          "data": {
            "text/plain": [
              "{'comment1': 'cooking%20MCs',\n",
              " 'userdata': 'hello%3Bworld%3Dfoo',\n",
              " 'comment2': '%20like%20a%20pound%20of%20bacon'}"
            ]
          },
          "execution_count": 20,
          "metadata": {},
          "output_type": "execute_result"
        }
      ],
      "source": [
        "def sandwich(userdata: str) -> str:\n",
        "    \"\"\"Sandwich `userdata` string in between `comment1` and `comment2`.\n",
        "\n",
        "    `comment1 || userdata || comment2`\n",
        "    \"\"\"\n",
        "    prepend = \"comment1=cooking%20MCs;userdata=\"\n",
        "    append = \";comment2=%20like%20a%20pound%20of%20bacon\"\n",
        "    # The function quotes out the \";\" and \"=\" characters\n",
        "    # This is designed to prevent the user from injecting their own\n",
        "    # \"admin=true\" string.\n",
        "    userdata = userdata.replace(\";\", \"%3B\").replace(\"=\", \"%3D\")\n",
        "    return prepend + userdata + append\n",
        "\n",
        "\n",
        "def encryption_oracle_16(userdata: str) -> bytes:\n",
        "    \"\"\"Encrypts `userdata` with AES-128 in CBC mode.\"\"\"\n",
        "    # we must apply the sandwich function so that the user cannot inject\n",
        "    # their own `admin=true` string\n",
        "    plaintext = convert.string2bytes(sandwich(userdata))\n",
        "    return aes128.cbc_encrypt(\n",
        "        padding.apply_pkcs_7(plaintext, 16), \n",
        "        challenge_16_key, \n",
        "        challenge_16_iv,\n",
        "    )\n",
        "\n",
        "def is_admin_oracle(cyphertext: bytes) -> bool:\n",
        "    \"\"\"Checks if the decrypted cyphertext contains the string `;admin=true;`\"\"\"\n",
        "    \n",
        "    # decrypt the cyphertext\n",
        "    plaintext = padding.remove_pkcs_7(\n",
        "        aes128.cbc_decrypt(\n",
        "            cyphertext,\n",
        "            challenge_16_key, \n",
        "            challenge_16_iv,\n",
        "        )\n",
        "    )\n",
        "    \n",
        "    # convert plaintext to a dictionary\n",
        "    plaintext_dict = convert.string2dict(\n",
        "        plaintext.decode('utf-8', 'ignore'), \n",
        "        equal_sign=\"=\", \n",
        "        break_sign=\";\",\n",
        "    )\n",
        "\n",
        "    print(\"is_admin_oracle received:\", plaintext_dict)\n",
        "\n",
        "    # check if the dictionary contains the key `admin` and if it's value is `true`\n",
        "    try:\n",
        "        return plaintext_dict['admin'] == 'true'\n",
        "    except KeyError:\n",
        "        return False\n",
        "\n",
        "convert.string2dict(\n",
        "    sandwich(\"hello;world=foo\"), \n",
        "    equal_sign=\"=\", \n",
        "    break_sign=\";\",\n",
        ")"
      ]
    },
    {
      "cell_type": "code",
      "execution_count": 21,
      "metadata": {},
      "outputs": [
        {
          "name": "stdout",
          "output_type": "stream",
          "text": [
            "Block length: 16\n",
            "Padding offset (bytes to add so that there is no padding): 5\n",
            "Is this encrypted with ECB mode: False\n",
            "\n"
          ]
        },
        {
          "ename": "AssertionError",
          "evalue": "The byte string must be a multiple of the blocksize",
          "output_type": "error",
          "traceback": [
            "\u001b[0;31m---------------------------------------------------------------------------\u001b[0m",
            "\u001b[0;31mAssertionError\u001b[0m                            Traceback (most recent call last)",
            "\u001b[1;32m/Users/blake/Documents/Sync/School/School_2022/research_project/cryptopal_answers/set_2.ipynb Cell 29\u001b[0m in \u001b[0;36m<cell line: 30>\u001b[0;34m()\u001b[0m\n\u001b[1;32m     <a href='vscode-notebook-cell:/Users/blake/Documents/Sync/School/School_2022/research_project/cryptopal_answers/set_2.ipynb#X43sZmlsZQ%3D%3D?line=26'>27</a>\u001b[0m cyphertext \u001b[39m=\u001b[39m cyphertext[:blocksize\u001b[39m*\u001b[39mith_block] \u001b[39m+\u001b[39m new_block \u001b[39m+\u001b[39m cyphertext[blocksize\u001b[39m*\u001b[39m(ith_block\u001b[39m+\u001b[39m\u001b[39m1\u001b[39m):]\n\u001b[1;32m     <a href='vscode-notebook-cell:/Users/blake/Documents/Sync/School/School_2022/research_project/cryptopal_answers/set_2.ipynb#X43sZmlsZQ%3D%3D?line=28'>29</a>\u001b[0m \u001b[39m# check if the cyphertext contains the string `;admin=true;`\u001b[39;00m\n\u001b[0;32m---> <a href='vscode-notebook-cell:/Users/blake/Documents/Sync/School/School_2022/research_project/cryptopal_answers/set_2.ipynb#X43sZmlsZQ%3D%3D?line=29'>30</a>\u001b[0m is_admin \u001b[39m=\u001b[39m is_admin_oracle(cyphertext)\n\u001b[1;32m     <a href='vscode-notebook-cell:/Users/blake/Documents/Sync/School/School_2022/research_project/cryptopal_answers/set_2.ipynb#X43sZmlsZQ%3D%3D?line=30'>31</a>\u001b[0m \u001b[39mprint\u001b[39m(\u001b[39mf\u001b[39m\u001b[39m\"\u001b[39m\u001b[39m\\n\u001b[39;00m\u001b[39mWe have successfully injected the string \u001b[39m\u001b[39m'\u001b[39m\u001b[39m;admin=true;\u001b[39m\u001b[39m'\u001b[39m\u001b[39m into the cyphertext!\u001b[39m\u001b[39m\"\u001b[39m)\n\u001b[1;32m     <a href='vscode-notebook-cell:/Users/blake/Documents/Sync/School/School_2022/research_project/cryptopal_answers/set_2.ipynb#X43sZmlsZQ%3D%3D?line=31'>32</a>\u001b[0m \u001b[39mprint\u001b[39m(\u001b[39mf\u001b[39m\u001b[39m\"\u001b[39m\u001b[39madmin: \u001b[39m\u001b[39m{\u001b[39;00mis_admin\u001b[39m}\u001b[39;00m\u001b[39m\"\u001b[39m)\n",
            "\u001b[1;32m/Users/blake/Documents/Sync/School/School_2022/research_project/cryptopal_answers/set_2.ipynb Cell 29\u001b[0m in \u001b[0;36mis_admin_oracle\u001b[0;34m(cyphertext)\u001b[0m\n\u001b[1;32m     <a href='vscode-notebook-cell:/Users/blake/Documents/Sync/School/School_2022/research_project/cryptopal_answers/set_2.ipynb#X43sZmlsZQ%3D%3D?line=26'>27</a>\u001b[0m \u001b[39m\u001b[39m\u001b[39m\"\"\"Checks if the decrypted cyphertext contains the string `;admin=true;`\"\"\"\u001b[39;00m\n\u001b[1;32m     <a href='vscode-notebook-cell:/Users/blake/Documents/Sync/School/School_2022/research_project/cryptopal_answers/set_2.ipynb#X43sZmlsZQ%3D%3D?line=28'>29</a>\u001b[0m \u001b[39m# decrypt the cyphertext\u001b[39;00m\n\u001b[1;32m     <a href='vscode-notebook-cell:/Users/blake/Documents/Sync/School/School_2022/research_project/cryptopal_answers/set_2.ipynb#X43sZmlsZQ%3D%3D?line=29'>30</a>\u001b[0m plaintext \u001b[39m=\u001b[39m padding\u001b[39m.\u001b[39mremove_pkcs_7(\n\u001b[0;32m---> <a href='vscode-notebook-cell:/Users/blake/Documents/Sync/School/School_2022/research_project/cryptopal_answers/set_2.ipynb#X43sZmlsZQ%3D%3D?line=30'>31</a>\u001b[0m     aes128\u001b[39m.\u001b[39;49mcbc_decrypt(\n\u001b[1;32m     <a href='vscode-notebook-cell:/Users/blake/Documents/Sync/School/School_2022/research_project/cryptopal_answers/set_2.ipynb#X43sZmlsZQ%3D%3D?line=31'>32</a>\u001b[0m         cyphertext,\n\u001b[1;32m     <a href='vscode-notebook-cell:/Users/blake/Documents/Sync/School/School_2022/research_project/cryptopal_answers/set_2.ipynb#X43sZmlsZQ%3D%3D?line=32'>33</a>\u001b[0m         challenge_16_key, \n\u001b[1;32m     <a href='vscode-notebook-cell:/Users/blake/Documents/Sync/School/School_2022/research_project/cryptopal_answers/set_2.ipynb#X43sZmlsZQ%3D%3D?line=33'>34</a>\u001b[0m         challenge_16_iv,\n\u001b[1;32m     <a href='vscode-notebook-cell:/Users/blake/Documents/Sync/School/School_2022/research_project/cryptopal_answers/set_2.ipynb#X43sZmlsZQ%3D%3D?line=34'>35</a>\u001b[0m     )\n\u001b[1;32m     <a href='vscode-notebook-cell:/Users/blake/Documents/Sync/School/School_2022/research_project/cryptopal_answers/set_2.ipynb#X43sZmlsZQ%3D%3D?line=35'>36</a>\u001b[0m )\n\u001b[1;32m     <a href='vscode-notebook-cell:/Users/blake/Documents/Sync/School/School_2022/research_project/cryptopal_answers/set_2.ipynb#X43sZmlsZQ%3D%3D?line=37'>38</a>\u001b[0m \u001b[39m# convert plaintext to a dictionary\u001b[39;00m\n\u001b[1;32m     <a href='vscode-notebook-cell:/Users/blake/Documents/Sync/School/School_2022/research_project/cryptopal_answers/set_2.ipynb#X43sZmlsZQ%3D%3D?line=38'>39</a>\u001b[0m plaintext_dict \u001b[39m=\u001b[39m convert\u001b[39m.\u001b[39mstring2dict(\n\u001b[1;32m     <a href='vscode-notebook-cell:/Users/blake/Documents/Sync/School/School_2022/research_project/cryptopal_answers/set_2.ipynb#X43sZmlsZQ%3D%3D?line=39'>40</a>\u001b[0m     plaintext\u001b[39m.\u001b[39mdecode(\u001b[39m'\u001b[39m\u001b[39mutf-8\u001b[39m\u001b[39m'\u001b[39m, \u001b[39m'\u001b[39m\u001b[39mignore\u001b[39m\u001b[39m'\u001b[39m), \n\u001b[1;32m     <a href='vscode-notebook-cell:/Users/blake/Documents/Sync/School/School_2022/research_project/cryptopal_answers/set_2.ipynb#X43sZmlsZQ%3D%3D?line=40'>41</a>\u001b[0m     equal_sign\u001b[39m=\u001b[39m\u001b[39m\"\u001b[39m\u001b[39m=\u001b[39m\u001b[39m\"\u001b[39m, \n\u001b[1;32m     <a href='vscode-notebook-cell:/Users/blake/Documents/Sync/School/School_2022/research_project/cryptopal_answers/set_2.ipynb#X43sZmlsZQ%3D%3D?line=41'>42</a>\u001b[0m     break_sign\u001b[39m=\u001b[39m\u001b[39m\"\u001b[39m\u001b[39m;\u001b[39m\u001b[39m\"\u001b[39m,\n\u001b[1;32m     <a href='vscode-notebook-cell:/Users/blake/Documents/Sync/School/School_2022/research_project/cryptopal_answers/set_2.ipynb#X43sZmlsZQ%3D%3D?line=42'>43</a>\u001b[0m )\n",
            "File \u001b[0;32m~/Documents/Sync/School/School_2022/research_project/cryptopal_answers/src/aes128.py:68\u001b[0m, in \u001b[0;36mcbc_decrypt\u001b[0;34m(cyphertext, key, iv)\u001b[0m\n\u001b[1;32m     61\u001b[0m \u001b[39mdef\u001b[39;00m \u001b[39mcbc_decrypt\u001b[39m(cyphertext: \u001b[39mbytes\u001b[39m, key: \u001b[39mbytes\u001b[39m, iv: \u001b[39mbytes\u001b[39m) \u001b[39m-\u001b[39m\u001b[39m>\u001b[39m \u001b[39mbytes\u001b[39m:\n\u001b[1;32m     62\u001b[0m \u001b[39m    \u001b[39m\u001b[39m\"\"\"Decrypts a byte string with AES-128 in CBC mode\u001b[39;00m\n\u001b[1;32m     63\u001b[0m \u001b[39m    ```\u001b[39;00m\n\u001b[1;32m     64\u001b[0m \u001b[39m    C[0] = IV\u001b[39;00m\n\u001b[1;32m     65\u001b[0m \u001b[39m    P[i] = D_k(C[i]) XOR C[i-1]\u001b[39;00m\n\u001b[1;32m     66\u001b[0m \u001b[39m    ```\u001b[39;00m\n\u001b[1;32m     67\u001b[0m \u001b[39m    \"\"\"\u001b[39;00m\n\u001b[0;32m---> 68\u001b[0m     cyphertext_blocks \u001b[39m=\u001b[39m [iv] \u001b[39m+\u001b[39m bytes2blocks(cyphertext, AES128_KEY_LENGTH)\n\u001b[1;32m     69\u001b[0m     plaintext_blocks \u001b[39m=\u001b[39m [\u001b[39mNone\u001b[39;00m]\n\u001b[1;32m     71\u001b[0m     \u001b[39m# The first block has index 1 as the 0th block is the IV\u001b[39;00m\n",
            "File \u001b[0;32m~/Documents/Sync/School/School_2022/research_project/cryptopal_answers/src/convert.py:54\u001b[0m, in \u001b[0;36mbytes2blocks\u001b[0;34m(byte_string, blocksize)\u001b[0m\n\u001b[1;32m     52\u001b[0m \u001b[39mdef\u001b[39;00m \u001b[39mbytes2blocks\u001b[39m(byte_string: \u001b[39mbytes\u001b[39m, blocksize: \u001b[39mint\u001b[39m) \u001b[39m-\u001b[39m\u001b[39m>\u001b[39m \u001b[39mlist\u001b[39m[\u001b[39mbytes\u001b[39m]:\n\u001b[1;32m     53\u001b[0m \u001b[39m    \u001b[39m\u001b[39m\"\"\"Splits a byte string into blocks of length `blocksize`\"\"\"\u001b[39;00m\n\u001b[0;32m---> 54\u001b[0m     \u001b[39massert\u001b[39;00m (\n\u001b[1;32m     55\u001b[0m         \u001b[39mlen\u001b[39m(byte_string) \u001b[39m%\u001b[39m blocksize \u001b[39m==\u001b[39m \u001b[39m0\u001b[39m\n\u001b[1;32m     56\u001b[0m     ), \u001b[39m\"\u001b[39m\u001b[39mThe byte string must be a multiple of the blocksize\u001b[39m\u001b[39m\"\u001b[39m\n\u001b[1;32m     58\u001b[0m     \u001b[39mreturn\u001b[39;00m [\n\u001b[1;32m     59\u001b[0m         byte_string[i : i \u001b[39m+\u001b[39m blocksize] \u001b[39mfor\u001b[39;00m i \u001b[39min\u001b[39;00m \u001b[39mrange\u001b[39m(\u001b[39m0\u001b[39m, \u001b[39mlen\u001b[39m(byte_string), blocksize)\n\u001b[1;32m     60\u001b[0m     ]\n",
            "\u001b[0;31mAssertionError\u001b[0m: The byte string must be a multiple of the blocksize"
          ]
        }
      ],
      "source": [
        "bytes_encryption_oracle_16 = lambda b: encryption_oracle_16(b.decode('utf-8'))\n",
        "blocksize, offset = determine_blocksize(bytes_encryption_oracle_16)\n",
        "print(f\"Block length: {blocksize}\")\n",
        "print(f\"Padding offset (bytes to add so that there is no padding): {offset}\")\n",
        "print(f\"Is this encrypted with ECB mode: {is_ecb_mode(bytes_encryption_oracle_16, blocksize)}\\n\")\n",
        "\n",
        "# insert the attacker controlled string into the cyphertext\n",
        "a_str = \"a\" * 16\n",
        "original_cyphertext = encryption_oracle_16(a_str)\n",
        "\n",
        "# find the block that contains the attacker controlled string\n",
        "# for this example we know that it is the first block\n",
        "ith_block = 1\n",
        "\n",
        "# this is the string that will be inserted into the cyphertext\n",
        "# a=aa is just a filler to make the string 16 bytes long\n",
        "admin_str = b\";admin=true;a=aa\" \n",
        "\n",
        "# xor the old block with the attacker controlled string as well as the input block\n",
        "# this converts the plaintext in the attacker controlled block to the admin_str\n",
        "input_block = convert.string2bytes(a_str)\n",
        "old_block = cyphertext[blocksize*ith_block:blocksize*(ith_block+1)]\n",
        "new_block = xor_bytes(old_block, input_block)\n",
        "new_block = xor_bytes(new_block, admin_str)\n",
        "\n",
        "# replace the old block with the new block\n",
        "cyphertext = cyphertext[:blocksize*ith_block] + new_block + cyphertext[blocksize*(ith_block+1):]\n",
        "\n",
        "# check if the cyphertext contains the string `;admin=true;`\n",
        "is_admin = is_admin_oracle(cyphertext)\n",
        "print(f\"\\nWe have successfully injected the string ';admin=true;' into the cyphertext!\")\n",
        "print(f\"admin: {is_admin}\")"
      ]
    }
  ],
  "metadata": {
    "kernelspec": {
      "display_name": "Python 3",
      "language": "python",
      "name": "python3"
    },
    "language_info": {
      "codemirror_mode": {
        "name": "ipython",
        "version": 3
      },
      "file_extension": ".py",
      "mimetype": "text/x-python",
      "name": "python",
      "nbconvert_exporter": "python",
      "pygments_lexer": "ipython3",
      "version": "3.10.4"
    },
    "orig_nbformat": 4,
    "vscode": {
      "interpreter": {
        "hash": "2ab98c4b59af728aa8bd9922870b996a7fc5861c87b81242319b92eec59b5fef"
      }
    }
  },
  "nbformat": 4,
  "nbformat_minor": 2
}
