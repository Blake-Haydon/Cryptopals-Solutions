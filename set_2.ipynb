{
  "cells": [
    {
      "cell_type": "code",
      "execution_count": 25,
      "metadata": {},
      "outputs": [],
      "source": [
        "from src.helper_functions import xor_hex_strings, repeating_key_xor, xor_bytes, hamming_distance, output_repeated_block, has_repeated_blocks, find_block\n",
        "from src.symmetric_encryption import is_ecb_mode, determine_blocksize\n",
        "import src.load as load\n",
        "import src.aes128 as aes128\n",
        "import src.convert as convert\n",
        "import src.padding as padding\n",
        "# \n",
        "from cryptography.hazmat.primitives.ciphers import Cipher, algorithms, modes\n",
        "import base64\n",
        "import secrets"
      ]
    },
    {
      "cell_type": "markdown",
      "metadata": {},
      "source": [
        "## **Challenge 9: Implement PKCS#7 padding**"
      ]
    },
    {
      "cell_type": "code",
      "execution_count": 26,
      "metadata": {},
      "outputs": [
        {
          "data": {
            "text/plain": [
              "b'YELLOW SUBMARINE\\x04\\x04\\x04\\x04'"
            ]
          },
          "execution_count": 26,
          "metadata": {},
          "output_type": "execute_result"
        }
      ],
      "source": [
        "padding.apply_pkcs_7(b\"YELLOW SUBMARINE\", 20)"
      ]
    },
    {
      "attachments": {},
      "cell_type": "markdown",
      "metadata": {},
      "source": [
        "## **Challenge 10: Implement CBC mode**"
      ]
    },
    {
      "cell_type": "code",
      "execution_count": 27,
      "metadata": {},
      "outputs": [
        {
          "name": "stdout",
          "output_type": "stream",
          "text": [
            "b'\\x85\\xcbQ\\x11_K8\\xe1P#\\xb8aT\\xcd\\xd1o\\x81\\x8a\\xbbN\\x89\\x82\"`|\\x1a{X\\x96d\\xbe/\\xaa\\x85\\\\\\xb6\\x8evC\\xc1a\\t>8by\\x90\\xdd'\n",
            "b'YELLOW SUBMARINEYELLOW SUBMARINEYELLOW SUBMARINE'\n"
          ]
        }
      ],
      "source": [
        "key = secrets.token_bytes(16)\n",
        "iv = secrets.token_bytes(16)\n",
        "text = b'YELLOW SUBMARINEYELLOW SUBMARINEYELLOW SUBMARINEYELLOW SUBMARINE'\n",
        "\n",
        "cyphertext = aes128.cbc_encrypt(text, key, iv)\n",
        "plaintext = aes128.cbc_decrypt(cyphertext, key, iv)\n",
        "print(cyphertext)\n",
        "print(plaintext)"
      ]
    },
    {
      "cell_type": "code",
      "execution_count": 28,
      "metadata": {},
      "outputs": [
        {
          "data": {
            "text/plain": [
              "\"I'm back and I'm ringin' the bell \\nA rockin' on the mike while the fly girls yell \\nIn ecstasy in the back of me \\nWell that's my DJ Deshay cuttin' all them Z's \\nHittin' hard and the girlies goin' crazy \\nVanilla's on the mike, man I'm not lazy. \\n\\nI'm lettin' my drug kick in \\nIt controls my mouth and I begin \\nTo just let it flow, let my concepts go \\nMy posse's to the side yellin', Go Vanilla Go! \\n\\nSmooth 'cause that's the way I will be \\nAnd if you don't give a damn, then \\nWhy you starin' at me \\nSo get off 'cause I control the stage \\nThere's no dissin' allowed \\nI'm in my own phase \\nThe girlies sa y they love me and that is ok \\nAnd I can dance better than any kid n' play \\n\\nStage 2 -- Yea the one ya' wanna listen to \\nIt's off my head so let the beat play through \\nSo I can funk it up and make it sound good \\n1-2-3 Yo -- Knock on some wood \\nFor good luck, I like my rhymes atrocious \\nSupercalafragilisticexpialidocious \\nI'm an effect and that you can bet \\nI can take a fly girl and make her wet. \\n\\nI'm like Samson -- Samson to Delilah \\nThere's no denyin', You can try to hang \\nBut you'll keep tryin' to get my style \\nOver and over, practice makes perfect \\nBut not if you're a loafer. \\n\\nYou'll get nowhere, no place, no time, no girls \\nSoon -- Oh my God, homebody, you probably eat \\nSpaghetti with a spoon! Come on and say it! \\n\\nVIP. Vanilla Ice yep, yep, I'm comin' hard like a rhino \\nIntoxicating so you stagger like a wino \\nSo punks stop trying and girl stop cryin' \\nVanilla Ice is sellin' and you people are buyin' \\n'Cause why the freaks are jockin' like Crazy Glue \\nMovin' and groovin' trying to sing along \\nAll through the ghetto groovin' this here song \\nNow you're amazed by the VIP posse. \\n\\nSteppin' so hard like a German Nazi \\nStartled by the bases hittin' ground \\nThere's no trippin' on mine, I'm just gettin' down \\nSparkamatic, I'm hangin' tight like a fanatic \\nYou trapped me once and I thought that \\nYou might have it \\nSo step down and lend me your ear \\n'89 in my time! You, '90 is my year. \\n\\nYou're weakenin' fast, YO! and I can tell it \\nYour body's gettin' hot, so, so I can smell it \\nSo don't be mad and don't be sad \\n'Cause the lyrics belong to ICE, You can call me Dad \\nYou're pitchin' a fit, so step back and endure \\nLet the witch doctor, Ice, do the dance to cure \\nSo come up close and don't be square \\nYou wanna battle me -- Anytime, anywhere \\n\\nYou thought that I was weak, Boy, you're dead wrong \\nSo come on, everybody and sing this song \\n\\nSay -- Play that funky music Say, go white boy, go white boy go \\nplay that funky music Go white boy, go white boy, go \\nLay down and boogie and play that funky music till you die. \\n\\nPlay that funky music Come on, Come on, let me hear \\nPlay that funky music white boy you say it, say it \\nPlay that funky music A little louder now \\nPlay that funky music, white boy Come on, Come on, Come on \\nPlay that funky music \\n\\x04\\x04\\x04\\x04\""
            ]
          },
          "execution_count": 28,
          "metadata": {},
          "output_type": "execute_result"
        }
      ],
      "source": [
        "file_bytes = load.file_as_b64(\"challenge_data/10.txt\", remove_newlines=True)\n",
        "\n",
        "key = b'YELLOW SUBMARINE'\n",
        "IV = b'\\x00' * 16\n",
        "aes128.cbc_decrypt(file_bytes, key, IV).decode('utf-8')"
      ]
    },
    {
      "cell_type": "markdown",
      "metadata": {},
      "source": [
        "## **Challenge 11: An ECB/CBC detection oracle**"
      ]
    },
    {
      "cell_type": "code",
      "execution_count": 29,
      "metadata": {},
      "outputs": [],
      "source": [
        "def encryption_oracle_11(plaintext: bytes) -> bytes:\n",
        "    \"\"\"Encrypts a `plaintext` with AES-128 in either ECB or CBC mode. The plaintext is padded with PKCS#7 padding\n",
        "    and a random prefix and suffix are added to the plaintext. The key and IV are chosen at random. The function\n",
        "    returns a tuple of the mode used and the cyphertext. \n",
        "    \n",
        "    `encrypt(before_bytes + plaintext + after_bytes)`\n",
        "    \"\"\"\n",
        "\n",
        "    key = secrets.token_bytes(16)  # for AES-128\n",
        "    iv = secrets.token_bytes(16)  # for AES-128\n",
        "\n",
        "    before_bytes = secrets.token_bytes(secrets.choice([5, 6, 7, 8, 9, 10]))\n",
        "    after_bytes = secrets.token_bytes(secrets.choice([5, 6, 7, 8, 9, 10]))\n",
        "\n",
        "    modified_plaintext = padding.apply_pkcs_7(before_bytes + plaintext + after_bytes, 16)\n",
        "\n",
        "    if secrets.choice([True, False]):\n",
        "        print(\"ECB\")\n",
        "        return aes128.ecb_encrypt(modified_plaintext, key)\n",
        "    else:\n",
        "        print(\"CBC\")\n",
        "        return aes128.cbc_encrypt(modified_plaintext, key, iv)"
      ]
    },
    {
      "cell_type": "code",
      "execution_count": 30,
      "metadata": {},
      "outputs": [
        {
          "name": "stdout",
          "output_type": "stream",
          "text": [
            "ECB\n",
            "ECB \n",
            "\n",
            "CBC\n",
            "CBC \n",
            "\n",
            "ECB\n",
            "ECB \n",
            "\n",
            "CBC\n",
            "CBC \n",
            "\n",
            "ECB\n",
            "ECB \n",
            "\n"
          ]
        }
      ],
      "source": [
        "for _ in range(5):\n",
        "    ecb_mode = is_ecb_mode(encryption_oracle_11, 16)\n",
        "    if ecb_mode:\n",
        "        print(\"ECB\", \"\\n\")\n",
        "    else:\n",
        "        print(\"CBC\", \"\\n\")"
      ]
    },
    {
      "attachments": {},
      "cell_type": "markdown",
      "metadata": {},
      "source": [
        "## **Challenge 12: Byte-at-a-time ECB decryption (Simple)**"
      ]
    },
    {
      "cell_type": "code",
      "execution_count": 31,
      "metadata": {},
      "outputs": [],
      "source": [
        "# Assume that key is unknown but same for all encryptions\n",
        "encryption_oracle_12_key = secrets.token_bytes(16)"
      ]
    },
    {
      "cell_type": "code",
      "execution_count": 32,
      "metadata": {},
      "outputs": [],
      "source": [
        "def encryption_oracle_12(plaintext: bytes) -> bytes:\n",
        "    \"\"\"Encrypts a `plaintext` with AES-128 in ECB mode. The plaintext is padded with PKCS#7 padding.\n",
        "    There is an unknown string appended to the plaintext. The key is chosen at random. The function\n",
        "    returns the cyphertext.\"\"\"\n",
        "    unknown_string = base64.decodebytes(b\"Um9sbGluJyBpbiBteSA1LjAKV2l0aCBteSByYWctdG9wIGRvd24gc28gbXkgaGFpciBjYW4gYmxvdwpUaGUgZ2lybGllcyBvbiBzdGFuZGJ5IHdhdmluZyBqdXN0IHRvIHNheSBoaQpEaWQgeW91IHN0b3A/IE5vLCBJIGp1c3QgZHJvdmUgYnkK\")\n",
        "    padded_plaintext = padding.apply_pkcs_7(plaintext + unknown_string, 16)\n",
        "    return aes128.ecb_encrypt(padded_plaintext, encryption_oracle_12_key)"
      ]
    },
    {
      "cell_type": "code",
      "execution_count": 33,
      "metadata": {},
      "outputs": [
        {
          "name": "stdout",
          "output_type": "stream",
          "text": [
            "Block length: 16\n",
            "Padding offset (bytes to add so that there is no padding): 5\n",
            "Is this encrypted with ECB mode: True\n",
            "b'R'\n",
            "b'Ro'\n",
            "b'Rol'\n",
            "b'Roll'\n",
            "b'Rolli'\n",
            "b'Rollin'\n",
            "b\"Rollin'\"\n",
            "b\"Rollin' \"\n",
            "b\"Rollin' i\"\n",
            "b\"Rollin' in\"\n",
            "b\"Rollin' in \"\n",
            "b\"Rollin' in m\"\n",
            "b\"Rollin' in my\"\n",
            "b\"Rollin' in my \"\n",
            "b\"Rollin' in my 5\"\n",
            "b\"Rollin' in my 5.\"\n",
            "b\"Rollin' in my 5.0\"\n",
            "b\"Rollin' in my 5.0\\n\"\n",
            "b\"Rollin' in my 5.0\\nW\"\n",
            "b\"Rollin' in my 5.0\\nWi\"\n",
            "b\"Rollin' in my 5.0\\nWit\"\n",
            "b\"Rollin' in my 5.0\\nWith\"\n",
            "b\"Rollin' in my 5.0\\nWith \"\n",
            "b\"Rollin' in my 5.0\\nWith m\"\n",
            "b\"Rollin' in my 5.0\\nWith my\"\n",
            "b\"Rollin' in my 5.0\\nWith my \"\n",
            "b\"Rollin' in my 5.0\\nWith my r\"\n",
            "b\"Rollin' in my 5.0\\nWith my ra\"\n",
            "b\"Rollin' in my 5.0\\nWith my rag\"\n",
            "b\"Rollin' in my 5.0\\nWith my rag-\"\n",
            "b\"Rollin' in my 5.0\\nWith my rag-t\"\n",
            "b\"Rollin' in my 5.0\\nWith my rag-to\"\n",
            "b\"Rollin' in my 5.0\\nWith my rag-top\"\n",
            "b\"Rollin' in my 5.0\\nWith my rag-top \"\n",
            "b\"Rollin' in my 5.0\\nWith my rag-top d\"\n",
            "b\"Rollin' in my 5.0\\nWith my rag-top do\"\n",
            "b\"Rollin' in my 5.0\\nWith my rag-top dow\"\n",
            "b\"Rollin' in my 5.0\\nWith my rag-top down\"\n",
            "b\"Rollin' in my 5.0\\nWith my rag-top down \"\n",
            "b\"Rollin' in my 5.0\\nWith my rag-top down s\"\n",
            "b\"Rollin' in my 5.0\\nWith my rag-top down so\"\n",
            "b\"Rollin' in my 5.0\\nWith my rag-top down so \"\n",
            "b\"Rollin' in my 5.0\\nWith my rag-top down so m\"\n",
            "b\"Rollin' in my 5.0\\nWith my rag-top down so my\"\n",
            "b\"Rollin' in my 5.0\\nWith my rag-top down so my \"\n",
            "b\"Rollin' in my 5.0\\nWith my rag-top down so my h\"\n",
            "b\"Rollin' in my 5.0\\nWith my rag-top down so my ha\"\n",
            "b\"Rollin' in my 5.0\\nWith my rag-top down so my hai\"\n",
            "b\"Rollin' in my 5.0\\nWith my rag-top down so my hair\"\n",
            "b\"Rollin' in my 5.0\\nWith my rag-top down so my hair \"\n",
            "b\"Rollin' in my 5.0\\nWith my rag-top down so my hair c\"\n",
            "b\"Rollin' in my 5.0\\nWith my rag-top down so my hair ca\"\n",
            "b\"Rollin' in my 5.0\\nWith my rag-top down so my hair can\"\n",
            "b\"Rollin' in my 5.0\\nWith my rag-top down so my hair can \"\n",
            "b\"Rollin' in my 5.0\\nWith my rag-top down so my hair can b\"\n",
            "b\"Rollin' in my 5.0\\nWith my rag-top down so my hair can bl\"\n",
            "b\"Rollin' in my 5.0\\nWith my rag-top down so my hair can blo\"\n",
            "b\"Rollin' in my 5.0\\nWith my rag-top down so my hair can blow\"\n",
            "b\"Rollin' in my 5.0\\nWith my rag-top down so my hair can blow\\n\"\n",
            "b\"Rollin' in my 5.0\\nWith my rag-top down so my hair can blow\\nT\"\n",
            "b\"Rollin' in my 5.0\\nWith my rag-top down so my hair can blow\\nTh\"\n",
            "b\"Rollin' in my 5.0\\nWith my rag-top down so my hair can blow\\nThe\"\n",
            "b\"Rollin' in my 5.0\\nWith my rag-top down so my hair can blow\\nThe \"\n",
            "b\"Rollin' in my 5.0\\nWith my rag-top down so my hair can blow\\nThe g\"\n",
            "b\"Rollin' in my 5.0\\nWith my rag-top down so my hair can blow\\nThe gi\"\n",
            "b\"Rollin' in my 5.0\\nWith my rag-top down so my hair can blow\\nThe gir\"\n",
            "b\"Rollin' in my 5.0\\nWith my rag-top down so my hair can blow\\nThe girl\"\n",
            "b\"Rollin' in my 5.0\\nWith my rag-top down so my hair can blow\\nThe girli\"\n",
            "b\"Rollin' in my 5.0\\nWith my rag-top down so my hair can blow\\nThe girlie\"\n",
            "b\"Rollin' in my 5.0\\nWith my rag-top down so my hair can blow\\nThe girlies\"\n",
            "b\"Rollin' in my 5.0\\nWith my rag-top down so my hair can blow\\nThe girlies \"\n",
            "b\"Rollin' in my 5.0\\nWith my rag-top down so my hair can blow\\nThe girlies o\"\n",
            "b\"Rollin' in my 5.0\\nWith my rag-top down so my hair can blow\\nThe girlies on\"\n",
            "b\"Rollin' in my 5.0\\nWith my rag-top down so my hair can blow\\nThe girlies on \"\n",
            "b\"Rollin' in my 5.0\\nWith my rag-top down so my hair can blow\\nThe girlies on s\"\n",
            "b\"Rollin' in my 5.0\\nWith my rag-top down so my hair can blow\\nThe girlies on st\"\n",
            "b\"Rollin' in my 5.0\\nWith my rag-top down so my hair can blow\\nThe girlies on sta\"\n",
            "b\"Rollin' in my 5.0\\nWith my rag-top down so my hair can blow\\nThe girlies on stan\"\n",
            "b\"Rollin' in my 5.0\\nWith my rag-top down so my hair can blow\\nThe girlies on stand\"\n",
            "b\"Rollin' in my 5.0\\nWith my rag-top down so my hair can blow\\nThe girlies on standb\"\n",
            "b\"Rollin' in my 5.0\\nWith my rag-top down so my hair can blow\\nThe girlies on standby\"\n",
            "b\"Rollin' in my 5.0\\nWith my rag-top down so my hair can blow\\nThe girlies on standby \"\n",
            "b\"Rollin' in my 5.0\\nWith my rag-top down so my hair can blow\\nThe girlies on standby w\"\n",
            "b\"Rollin' in my 5.0\\nWith my rag-top down so my hair can blow\\nThe girlies on standby wa\"\n",
            "b\"Rollin' in my 5.0\\nWith my rag-top down so my hair can blow\\nThe girlies on standby wav\"\n",
            "b\"Rollin' in my 5.0\\nWith my rag-top down so my hair can blow\\nThe girlies on standby wavi\"\n",
            "b\"Rollin' in my 5.0\\nWith my rag-top down so my hair can blow\\nThe girlies on standby wavin\"\n",
            "b\"Rollin' in my 5.0\\nWith my rag-top down so my hair can blow\\nThe girlies on standby waving\"\n",
            "b\"Rollin' in my 5.0\\nWith my rag-top down so my hair can blow\\nThe girlies on standby waving \"\n",
            "b\"Rollin' in my 5.0\\nWith my rag-top down so my hair can blow\\nThe girlies on standby waving j\"\n",
            "b\"Rollin' in my 5.0\\nWith my rag-top down so my hair can blow\\nThe girlies on standby waving ju\"\n",
            "b\"Rollin' in my 5.0\\nWith my rag-top down so my hair can blow\\nThe girlies on standby waving jus\"\n",
            "b\"Rollin' in my 5.0\\nWith my rag-top down so my hair can blow\\nThe girlies on standby waving just\"\n",
            "b\"Rollin' in my 5.0\\nWith my rag-top down so my hair can blow\\nThe girlies on standby waving just \"\n",
            "b\"Rollin' in my 5.0\\nWith my rag-top down so my hair can blow\\nThe girlies on standby waving just t\"\n",
            "b\"Rollin' in my 5.0\\nWith my rag-top down so my hair can blow\\nThe girlies on standby waving just to\"\n",
            "b\"Rollin' in my 5.0\\nWith my rag-top down so my hair can blow\\nThe girlies on standby waving just to \"\n",
            "b\"Rollin' in my 5.0\\nWith my rag-top down so my hair can blow\\nThe girlies on standby waving just to s\"\n",
            "b\"Rollin' in my 5.0\\nWith my rag-top down so my hair can blow\\nThe girlies on standby waving just to sa\"\n",
            "b\"Rollin' in my 5.0\\nWith my rag-top down so my hair can blow\\nThe girlies on standby waving just to say\"\n",
            "b\"Rollin' in my 5.0\\nWith my rag-top down so my hair can blow\\nThe girlies on standby waving just to say \"\n",
            "b\"Rollin' in my 5.0\\nWith my rag-top down so my hair can blow\\nThe girlies on standby waving just to say h\"\n",
            "b\"Rollin' in my 5.0\\nWith my rag-top down so my hair can blow\\nThe girlies on standby waving just to say hi\"\n",
            "b\"Rollin' in my 5.0\\nWith my rag-top down so my hair can blow\\nThe girlies on standby waving just to say hi\\n\"\n",
            "b\"Rollin' in my 5.0\\nWith my rag-top down so my hair can blow\\nThe girlies on standby waving just to say hi\\nD\"\n",
            "b\"Rollin' in my 5.0\\nWith my rag-top down so my hair can blow\\nThe girlies on standby waving just to say hi\\nDi\"\n",
            "b\"Rollin' in my 5.0\\nWith my rag-top down so my hair can blow\\nThe girlies on standby waving just to say hi\\nDid\"\n",
            "b\"Rollin' in my 5.0\\nWith my rag-top down so my hair can blow\\nThe girlies on standby waving just to say hi\\nDid \"\n",
            "b\"Rollin' in my 5.0\\nWith my rag-top down so my hair can blow\\nThe girlies on standby waving just to say hi\\nDid y\"\n",
            "b\"Rollin' in my 5.0\\nWith my rag-top down so my hair can blow\\nThe girlies on standby waving just to say hi\\nDid yo\"\n",
            "b\"Rollin' in my 5.0\\nWith my rag-top down so my hair can blow\\nThe girlies on standby waving just to say hi\\nDid you\"\n",
            "b\"Rollin' in my 5.0\\nWith my rag-top down so my hair can blow\\nThe girlies on standby waving just to say hi\\nDid you \"\n",
            "b\"Rollin' in my 5.0\\nWith my rag-top down so my hair can blow\\nThe girlies on standby waving just to say hi\\nDid you s\"\n",
            "b\"Rollin' in my 5.0\\nWith my rag-top down so my hair can blow\\nThe girlies on standby waving just to say hi\\nDid you st\"\n",
            "b\"Rollin' in my 5.0\\nWith my rag-top down so my hair can blow\\nThe girlies on standby waving just to say hi\\nDid you sto\"\n",
            "b\"Rollin' in my 5.0\\nWith my rag-top down so my hair can blow\\nThe girlies on standby waving just to say hi\\nDid you stop\"\n",
            "b\"Rollin' in my 5.0\\nWith my rag-top down so my hair can blow\\nThe girlies on standby waving just to say hi\\nDid you stop?\"\n",
            "b\"Rollin' in my 5.0\\nWith my rag-top down so my hair can blow\\nThe girlies on standby waving just to say hi\\nDid you stop? \"\n",
            "b\"Rollin' in my 5.0\\nWith my rag-top down so my hair can blow\\nThe girlies on standby waving just to say hi\\nDid you stop? N\"\n",
            "b\"Rollin' in my 5.0\\nWith my rag-top down so my hair can blow\\nThe girlies on standby waving just to say hi\\nDid you stop? No\"\n",
            "b\"Rollin' in my 5.0\\nWith my rag-top down so my hair can blow\\nThe girlies on standby waving just to say hi\\nDid you stop? No,\"\n",
            "b\"Rollin' in my 5.0\\nWith my rag-top down so my hair can blow\\nThe girlies on standby waving just to say hi\\nDid you stop? No, \"\n",
            "b\"Rollin' in my 5.0\\nWith my rag-top down so my hair can blow\\nThe girlies on standby waving just to say hi\\nDid you stop? No, I\"\n",
            "b\"Rollin' in my 5.0\\nWith my rag-top down so my hair can blow\\nThe girlies on standby waving just to say hi\\nDid you stop? No, I \"\n",
            "b\"Rollin' in my 5.0\\nWith my rag-top down so my hair can blow\\nThe girlies on standby waving just to say hi\\nDid you stop? No, I j\"\n",
            "b\"Rollin' in my 5.0\\nWith my rag-top down so my hair can blow\\nThe girlies on standby waving just to say hi\\nDid you stop? No, I ju\"\n",
            "b\"Rollin' in my 5.0\\nWith my rag-top down so my hair can blow\\nThe girlies on standby waving just to say hi\\nDid you stop? No, I jus\"\n",
            "b\"Rollin' in my 5.0\\nWith my rag-top down so my hair can blow\\nThe girlies on standby waving just to say hi\\nDid you stop? No, I just\"\n",
            "b\"Rollin' in my 5.0\\nWith my rag-top down so my hair can blow\\nThe girlies on standby waving just to say hi\\nDid you stop? No, I just \"\n",
            "b\"Rollin' in my 5.0\\nWith my rag-top down so my hair can blow\\nThe girlies on standby waving just to say hi\\nDid you stop? No, I just d\"\n",
            "b\"Rollin' in my 5.0\\nWith my rag-top down so my hair can blow\\nThe girlies on standby waving just to say hi\\nDid you stop? No, I just dr\"\n",
            "b\"Rollin' in my 5.0\\nWith my rag-top down so my hair can blow\\nThe girlies on standby waving just to say hi\\nDid you stop? No, I just dro\"\n",
            "b\"Rollin' in my 5.0\\nWith my rag-top down so my hair can blow\\nThe girlies on standby waving just to say hi\\nDid you stop? No, I just drov\"\n",
            "b\"Rollin' in my 5.0\\nWith my rag-top down so my hair can blow\\nThe girlies on standby waving just to say hi\\nDid you stop? No, I just drove\"\n",
            "b\"Rollin' in my 5.0\\nWith my rag-top down so my hair can blow\\nThe girlies on standby waving just to say hi\\nDid you stop? No, I just drove \"\n",
            "b\"Rollin' in my 5.0\\nWith my rag-top down so my hair can blow\\nThe girlies on standby waving just to say hi\\nDid you stop? No, I just drove b\"\n",
            "b\"Rollin' in my 5.0\\nWith my rag-top down so my hair can blow\\nThe girlies on standby waving just to say hi\\nDid you stop? No, I just drove by\"\n",
            "b\"Rollin' in my 5.0\\nWith my rag-top down so my hair can blow\\nThe girlies on standby waving just to say hi\\nDid you stop? No, I just drove by\\n\"\n",
            "b\"Rollin' in my 5.0\\nWith my rag-top down so my hair can blow\\nThe girlies on standby waving just to say hi\\nDid you stop? No, I just drove by\\n\\x01\"\n"
          ]
        },
        {
          "data": {
            "text/plain": [
              "\"Rollin' in my 5.0\\nWith my rag-top down so my hair can blow\\nThe girlies on standby waving just to say hi\\nDid you stop? No, I just drove by\\n\\x01\""
            ]
          },
          "execution_count": 33,
          "metadata": {},
          "output_type": "execute_result"
        }
      ],
      "source": [
        "# step 1: find the block length\n",
        "blocksize, offset = determine_blocksize(encryption_oracle_12)\n",
        "print(f\"Block length: {blocksize}\")\n",
        "print(f\"Padding offset (bytes to add so that there is no padding): {offset}\")\n",
        "\n",
        "# step 2: determine if the encryption is ECB or CBC\n",
        "print(f\"Is this encrypted with ECB mode: {is_ecb_mode(encryption_oracle_12, blocksize)}\")\n",
        "\n",
        "# step 3: make dictionary of all possible last bytes by brute forcing the block by block\n",
        "plaintext = b''\n",
        "\n",
        "def gen_lookup_table(plaintext: bytes, blocksize: int, oracle: callable) -> dict:\n",
        "    \"\"\"Generates a lookup table for the last byte of the plaintext.\n",
        "    The lookup table maps the cyphertext to the last byte of the plaintext.\"\"\"\n",
        "    cypher2plain = {}                                   # maps cyphertext to plaintext\n",
        "    w = plaintext[(1-blocksize):]                      # window of last blocksize - 1 bytes of plaintext\n",
        "    pad = b'A' * (blocksize - len(w) - 1)              # used to pad the first block *ONLY*\n",
        "    for i in range(256):                                # iterate through all possible final bytes\n",
        "        p = pad + w + convert.int2bytes(i)                      # generate plaintext to encrypt\n",
        "        cy = oracle(p)                                  # encrypt the plaintext\n",
        "        cypher2plain[cy[:blocksize]] = convert.int2bytes(i)    # add to dictionary\n",
        "    return cypher2plain\n",
        "\n",
        "\n",
        "def padded_encryption(plaintext: bytes, blocksize: int, oracle: callable) -> bytes:\n",
        "    \"\"\"Pad and encrypt the plaintext. The padding is done so that a full block only has a single unknown byte.\"\"\"\n",
        "    pad = b'A' * ((blocksize - len(plaintext) - 1) % blocksize)\n",
        "    return oracle(pad)\n",
        "\n",
        "\n",
        "for char_i in range(10000): # 10000 is an arbitrary large number\n",
        "    cyphertext = padded_encryption(plaintext, blocksize, encryption_oracle_12)\n",
        "\n",
        "    # When the full plaintext is found, the last block will not be in the dictionary\n",
        "    block_num = char_i // blocksize    # current block number\n",
        "    selected_cypher = cyphertext[block_num*blocksize:(block_num + 1)*blocksize]\n",
        "    try:\n",
        "        cypher2plain = gen_lookup_table(plaintext, blocksize, encryption_oracle_12)\n",
        "        plaintext += cypher2plain[selected_cypher]\n",
        "    except KeyError: \n",
        "        break\n",
        "\n",
        "\n",
        "plaintext.decode('utf-8')"
      ]
    },
    {
      "attachments": {},
      "cell_type": "markdown",
      "metadata": {},
      "source": [
        "## **Challenge 13: ECB cut-and-paste**"
      ]
    },
    {
      "cell_type": "code",
      "execution_count": 34,
      "metadata": {},
      "outputs": [],
      "source": [
        "encryption_oracle_13_key = secrets.token_bytes(16)"
      ]
    },
    {
      "cell_type": "code",
      "execution_count": 35,
      "metadata": {},
      "outputs": [],
      "source": [
        "def profile_for(email: str):\n",
        "    \"\"\"Returns a profile for an email address. The profile is a string of the form:\n",
        "    `email=<email>&uid=<10 random digits>&role=user`\n",
        "    \"\"\"\n",
        "    email = email.replace(\"&\", \"\").replace(\"=\", \"\") # eat the characters (yum yum!)\n",
        "    uid = 1000 + secrets.randbelow(10**4 - 1000)    # 1000 <= uid < 10**4\n",
        "    object = f\"email={email}&uid={uid}&role=user\"   # the object to be encrypted\n",
        "    padded_object = padding.apply_pkcs_7(object.encode('utf-8'), 16)            # pad the object\n",
        "    return aes128.ecb_encrypt(padded_object, encryption_oracle_13_key)  # encrypt the object\n",
        "\n",
        "def decrypt_profile(profile: bytes) -> dict:\n",
        "    \"\"\"Decrypts a profile and returns a dictionary of the form:\n",
        "    `{'email': <email>, 'uid': <uid>, 'role': <role>}`\n",
        "    \"\"\"\n",
        "    decrypted_profile = aes128.ecb_decrypt(profile, encryption_oracle_13_key)\n",
        "    decrypted_profile = padding.remove_pkcs_7(decrypted_profile)\n",
        "    decrypted_profile = decrypted_profile.decode('utf-8')\n",
        "    return convert.string2dict(decrypted_profile)"
      ]
    },
    {
      "cell_type": "code",
      "execution_count": 36,
      "metadata": {},
      "outputs": [
        {
          "name": "stdout",
          "output_type": "stream",
          "text": [
            "Successfully created an encrypted profile for the admin user!\n",
            "{'email': 'hackerman69', 'uid': '6842', 'role': 'admin'}\n"
          ]
        }
      ],
      "source": [
        "blocksize = 16\n",
        "\n",
        "# 10 A's push the admin string into its own block\n",
        "a = 'A' * 10\n",
        "\n",
        "# admin padding with correct padding bytes\n",
        "admin_str = padding.apply_pkcs_7(b'admin', 16).decode('utf-8')\n",
        "\n",
        "# get the encrypted profile for the admin string\n",
        "admin_encrypted_profile = profile_for(a + admin_str)\n",
        "\n",
        "# extract the encrypted admin string\n",
        "admin_bytes = admin_encrypted_profile[blocksize:2*blocksize]\n",
        "\n",
        "# 1. get the encrypted profile for the user\n",
        "# 2. remove the last block\n",
        "# 3. append the admin bytes\n",
        "hacker_encrypted_profile = profile_for(\"hackerman69\")\n",
        "hacker_encrypted_profile = hacker_encrypted_profile[:-blocksize]\n",
        "hacker_encrypted_profile += admin_bytes\n",
        "\n",
        "print(\"Successfully created an encrypted profile for the admin user!\")\n",
        "print(decrypt_profile(hacker_encrypted_profile))"
      ]
    },
    {
      "attachments": {},
      "cell_type": "markdown",
      "metadata": {},
      "source": [
        "## **Challenge 14: Byte-at-a-time ECB decryption (Harder)**"
      ]
    },
    {
      "cell_type": "code",
      "execution_count": 37,
      "metadata": {},
      "outputs": [],
      "source": [
        "encryption_oracle_14_key = secrets.token_bytes(16)"
      ]
    },
    {
      "cell_type": "code",
      "execution_count": 38,
      "metadata": {},
      "outputs": [],
      "source": [
        "def encryption_oracle_14(plaintext: bytes) -> bytes:\n",
        "    \"\"\"Encrypts a `plaintext` with AES-128 in ECB mode. The plaintext is padded with PKCS#7 padding.\n",
        "    `AES-128-ECB(random-prefix || attacker-controlled || target-bytes, random-key)`\n",
        "    \"\"\"\n",
        "    max_num_bytes = 32\n",
        "    rand_bytes = secrets.token_bytes(secrets.randbelow(max_num_bytes))\n",
        "    unknown_string = base64.decodebytes(b\"Um9sbGluJyBpbiBteSA1LjAKV2l0aCBteSByYWctdG9wIGRvd24gc28gbXkgaGFpciBjYW4gYmxvdwpUaGUgZ2lybGllcyBvbiBzdGFuZGJ5IHdhdmluZyBqdXN0IHRvIHNheSBoaQpEaWQgeW91IHN0b3A/IE5vLCBJIGp1c3QgZHJvdmUgYnkK\")\n",
        "    return aes128.ecb_encrypt(padding.apply_pkcs_7(rand_bytes + plaintext + unknown_string, 16), encryption_oracle_14_key)"
      ]
    },
    {
      "cell_type": "code",
      "execution_count": 39,
      "metadata": {},
      "outputs": [
        {
          "name": "stdout",
          "output_type": "stream",
          "text": [
            "Block length: 32\n",
            "Padding offset (bytes to add so that there is no padding): 0\n",
            "Is this encrypted with ECB mode: True\n"
          ]
        },
        {
          "ename": "AssertionError",
          "evalue": "The byte string must be a multiple of the blocksize",
          "output_type": "error",
          "traceback": [
            "\u001b[0;31m---------------------------------------------------------------------------\u001b[0m",
            "\u001b[0;31mAssertionError\u001b[0m                            Traceback (most recent call last)",
            "\u001b[1;32m/Users/blake/Documents/Sync/School/School_2022/research_project/cryptopal_answers/set_2.ipynb Cell 21\u001b[0m in \u001b[0;36m<cell line: 22>\u001b[0;34m()\u001b[0m\n\u001b[1;32m     <a href='vscode-notebook-cell:/Users/blake/Documents/Sync/School/School_2022/research_project/cryptopal_answers/set_2.ipynb#Y143sZmlsZQ%3D%3D?line=20'>21</a>\u001b[0m plaintext \u001b[39m=\u001b[39m \u001b[39mb\u001b[39m\u001b[39m'\u001b[39m\u001b[39m'\u001b[39m\n\u001b[1;32m     <a href='vscode-notebook-cell:/Users/blake/Documents/Sync/School/School_2022/research_project/cryptopal_answers/set_2.ipynb#Y143sZmlsZQ%3D%3D?line=21'>22</a>\u001b[0m \u001b[39mfor\u001b[39;00m char_i \u001b[39min\u001b[39;00m \u001b[39mrange\u001b[39m(\u001b[39m10000\u001b[39m): \u001b[39m# 10000 is an arbitrary large number\u001b[39;00m\n\u001b[0;32m---> <a href='vscode-notebook-cell:/Users/blake/Documents/Sync/School/School_2022/research_project/cryptopal_answers/set_2.ipynb#Y143sZmlsZQ%3D%3D?line=22'>23</a>\u001b[0m     cyphertext \u001b[39m=\u001b[39m padded_encryption(plaintext, blocksize, oracle_14_no_rand_bytes)\n\u001b[1;32m     <a href='vscode-notebook-cell:/Users/blake/Documents/Sync/School/School_2022/research_project/cryptopal_answers/set_2.ipynb#Y143sZmlsZQ%3D%3D?line=24'>25</a>\u001b[0m     block_num \u001b[39m=\u001b[39m char_i \u001b[39m/\u001b[39m\u001b[39m/\u001b[39m blocksize    \u001b[39m# current block number\u001b[39;00m\n\u001b[1;32m     <a href='vscode-notebook-cell:/Users/blake/Documents/Sync/School/School_2022/research_project/cryptopal_answers/set_2.ipynb#Y143sZmlsZQ%3D%3D?line=25'>26</a>\u001b[0m     selected_cypher \u001b[39m=\u001b[39m cyphertext[block_num\u001b[39m*\u001b[39mblocksize:(block_num \u001b[39m+\u001b[39m \u001b[39m1\u001b[39m)\u001b[39m*\u001b[39mblocksize]\n",
            "\u001b[1;32m/Users/blake/Documents/Sync/School/School_2022/research_project/cryptopal_answers/set_2.ipynb Cell 21\u001b[0m in \u001b[0;36mpadded_encryption\u001b[0;34m(plaintext, blocksize, oracle)\u001b[0m\n\u001b[1;32m     <a href='vscode-notebook-cell:/Users/blake/Documents/Sync/School/School_2022/research_project/cryptopal_answers/set_2.ipynb#Y143sZmlsZQ%3D%3D?line=25'>26</a>\u001b[0m \u001b[39m\u001b[39m\u001b[39m\"\"\"Pad and encrypt the plaintext. The padding is done so that a full block only has a single unknown byte.\"\"\"\u001b[39;00m\n\u001b[1;32m     <a href='vscode-notebook-cell:/Users/blake/Documents/Sync/School/School_2022/research_project/cryptopal_answers/set_2.ipynb#Y143sZmlsZQ%3D%3D?line=26'>27</a>\u001b[0m pad \u001b[39m=\u001b[39m \u001b[39mb\u001b[39m\u001b[39m'\u001b[39m\u001b[39mA\u001b[39m\u001b[39m'\u001b[39m \u001b[39m*\u001b[39m ((blocksize \u001b[39m-\u001b[39m \u001b[39mlen\u001b[39m(plaintext) \u001b[39m-\u001b[39m \u001b[39m1\u001b[39m) \u001b[39m%\u001b[39m blocksize)\n\u001b[0;32m---> <a href='vscode-notebook-cell:/Users/blake/Documents/Sync/School/School_2022/research_project/cryptopal_answers/set_2.ipynb#Y143sZmlsZQ%3D%3D?line=27'>28</a>\u001b[0m \u001b[39mreturn\u001b[39;00m oracle(pad)\n",
            "\u001b[1;32m/Users/blake/Documents/Sync/School/School_2022/research_project/cryptopal_answers/set_2.ipynb Cell 21\u001b[0m in \u001b[0;36m<lambda>\u001b[0;34m(x)\u001b[0m\n\u001b[1;32m     <a href='vscode-notebook-cell:/Users/blake/Documents/Sync/School/School_2022/research_project/cryptopal_answers/set_2.ipynb#Y143sZmlsZQ%3D%3D?line=15'>16</a>\u001b[0m             \u001b[39mreturn\u001b[39;00m cy[i\u001b[39m+\u001b[39mblocksize:]\n\u001b[1;32m     <a href='vscode-notebook-cell:/Users/blake/Documents/Sync/School/School_2022/research_project/cryptopal_answers/set_2.ipynb#Y143sZmlsZQ%3D%3D?line=17'>18</a>\u001b[0m \u001b[39m# alter the oracle so that the inserted plaintext starts at the beginning of a block\u001b[39;00m\n\u001b[0;32m---> <a href='vscode-notebook-cell:/Users/blake/Documents/Sync/School/School_2022/research_project/cryptopal_answers/set_2.ipynb#Y143sZmlsZQ%3D%3D?line=18'>19</a>\u001b[0m oracle_14_no_rand_bytes \u001b[39m=\u001b[39m \u001b[39mlambda\u001b[39;00m x: altered_oracle(x, blocksize)\n\u001b[1;32m     <a href='vscode-notebook-cell:/Users/blake/Documents/Sync/School/School_2022/research_project/cryptopal_answers/set_2.ipynb#Y143sZmlsZQ%3D%3D?line=20'>21</a>\u001b[0m plaintext \u001b[39m=\u001b[39m \u001b[39mb\u001b[39m\u001b[39m'\u001b[39m\u001b[39m'\u001b[39m\n\u001b[1;32m     <a href='vscode-notebook-cell:/Users/blake/Documents/Sync/School/School_2022/research_project/cryptopal_answers/set_2.ipynb#Y143sZmlsZQ%3D%3D?line=21'>22</a>\u001b[0m \u001b[39mfor\u001b[39;00m char_i \u001b[39min\u001b[39;00m \u001b[39mrange\u001b[39m(\u001b[39m10000\u001b[39m): \u001b[39m# 10000 is an arbitrary large number\u001b[39;00m\n",
            "\u001b[1;32m/Users/blake/Documents/Sync/School/School_2022/research_project/cryptopal_answers/set_2.ipynb Cell 21\u001b[0m in \u001b[0;36maltered_oracle\u001b[0;34m(plaintext, blocksize)\u001b[0m\n\u001b[1;32m      <a href='vscode-notebook-cell:/Users/blake/Documents/Sync/School/School_2022/research_project/cryptopal_answers/set_2.ipynb#Y143sZmlsZQ%3D%3D?line=8'>9</a>\u001b[0m \u001b[39m# use flag to determine when the inserted plaintext starts\u001b[39;00m\n\u001b[1;32m     <a href='vscode-notebook-cell:/Users/blake/Documents/Sync/School/School_2022/research_project/cryptopal_answers/set_2.ipynb#Y143sZmlsZQ%3D%3D?line=9'>10</a>\u001b[0m flag \u001b[39m=\u001b[39m \u001b[39mb\u001b[39m\u001b[39m'\u001b[39m\u001b[39mF\u001b[39m\u001b[39m'\u001b[39m \u001b[39m*\u001b[39m blocksize\n\u001b[0;32m---> <a href='vscode-notebook-cell:/Users/blake/Documents/Sync/School/School_2022/research_project/cryptopal_answers/set_2.ipynb#Y143sZmlsZQ%3D%3D?line=10'>11</a>\u001b[0m cy_flag \u001b[39m=\u001b[39m output_repeated_block(encryption_oracle_14(\u001b[39m3\u001b[39;49m\u001b[39m*\u001b[39;49mflag), blocksize)\n\u001b[1;32m     <a href='vscode-notebook-cell:/Users/blake/Documents/Sync/School/School_2022/research_project/cryptopal_answers/set_2.ipynb#Y143sZmlsZQ%3D%3D?line=11'>12</a>\u001b[0m \u001b[39mwhile\u001b[39;00m \u001b[39mTrue\u001b[39;00m:\n\u001b[1;32m     <a href='vscode-notebook-cell:/Users/blake/Documents/Sync/School/School_2022/research_project/cryptopal_answers/set_2.ipynb#Y143sZmlsZQ%3D%3D?line=12'>13</a>\u001b[0m     cy \u001b[39m=\u001b[39m encryption_oracle_14(flag \u001b[39m+\u001b[39m plaintext)\n",
            "File \u001b[0;32m~/Documents/Sync/School/School_2022/research_project/cryptopal_answers/src/helper_functions.py:83\u001b[0m, in \u001b[0;36moutput_repeated_block\u001b[0;34m(byte_string, blocksize)\u001b[0m\n\u001b[1;32m     80\u001b[0m \u001b[39m\u001b[39m\u001b[39m\"\"\"Returns the first repeated block in a byte string\"\"\"\u001b[39;00m\n\u001b[1;32m     81\u001b[0m \u001b[39m# TODO: this is a naive implementation and can be improved\u001b[39;00m\n\u001b[0;32m---> 83\u001b[0m blocks \u001b[39m=\u001b[39m bytes2blocks(byte_string, blocksize)\n\u001b[1;32m     84\u001b[0m \u001b[39mfor\u001b[39;00m i \u001b[39min\u001b[39;00m \u001b[39mrange\u001b[39m(\u001b[39mlen\u001b[39m(blocks)):\n\u001b[1;32m     85\u001b[0m     \u001b[39mfor\u001b[39;00m j \u001b[39min\u001b[39;00m \u001b[39mrange\u001b[39m(\u001b[39mlen\u001b[39m(blocks)):\n\u001b[1;32m     86\u001b[0m         \u001b[39m# The same block will always match itself so skip\u001b[39;00m\n",
            "File \u001b[0;32m~/Documents/Sync/School/School_2022/research_project/cryptopal_answers/src/convert.py:34\u001b[0m, in \u001b[0;36mbytes2blocks\u001b[0;34m(byte_string, blocksize)\u001b[0m\n\u001b[1;32m     32\u001b[0m \u001b[39mdef\u001b[39;00m \u001b[39mbytes2blocks\u001b[39m(byte_string: \u001b[39mbytes\u001b[39m, blocksize: \u001b[39mint\u001b[39m) \u001b[39m-\u001b[39m\u001b[39m>\u001b[39m \u001b[39mlist\u001b[39m[\u001b[39mbytes\u001b[39m]:\n\u001b[1;32m     33\u001b[0m \u001b[39m    \u001b[39m\u001b[39m\"\"\"Splits a byte string into blocks of length `blocksize`\"\"\"\u001b[39;00m\n\u001b[0;32m---> 34\u001b[0m     \u001b[39massert\u001b[39;00m (\n\u001b[1;32m     35\u001b[0m         \u001b[39mlen\u001b[39m(byte_string) \u001b[39m%\u001b[39m blocksize \u001b[39m==\u001b[39m \u001b[39m0\u001b[39m\n\u001b[1;32m     36\u001b[0m     ), \u001b[39m\"\u001b[39m\u001b[39mThe byte string must be a multiple of the blocksize\u001b[39m\u001b[39m\"\u001b[39m\n\u001b[1;32m     38\u001b[0m     \u001b[39mreturn\u001b[39;00m [\n\u001b[1;32m     39\u001b[0m         byte_string[i : i \u001b[39m+\u001b[39m blocksize] \u001b[39mfor\u001b[39;00m i \u001b[39min\u001b[39;00m \u001b[39mrange\u001b[39m(\u001b[39m0\u001b[39m, \u001b[39mlen\u001b[39m(byte_string), blocksize)\n\u001b[1;32m     40\u001b[0m     ]\n",
            "\u001b[0;31mAssertionError\u001b[0m: The byte string must be a multiple of the blocksize"
          ]
        }
      ],
      "source": [
        "blocksize, offset = determine_blocksize(encryption_oracle_14)\n",
        "print(f\"Block length: {blocksize}\")\n",
        "print(f\"Padding offset (bytes to add so that there is no padding): {offset}\")\n",
        "print(f\"Is this encrypted with ECB mode: {is_ecb_mode(encryption_oracle_14, blocksize)}\")\n",
        "\n",
        "def altered_oracle(plaintext: bytes, blocksize: int) -> bytes:\n",
        "    \"\"\"The oracle with the altered plaintext\"\"\"\n",
        "    \n",
        "    # use flag to determine when the inserted plaintext starts\n",
        "    flag = b'F' * blocksize\n",
        "    cy_flag = output_repeated_block(encryption_oracle_14(3*flag), blocksize)\n",
        "    while True:\n",
        "        cy = encryption_oracle_14(flag + plaintext)\n",
        "        i = find_block(cy, cy_flag, blocksize)\n",
        "        if i:\n",
        "            return cy[i+blocksize:]\n",
        "\n",
        "# alter the oracle so that the inserted plaintext starts at the beginning of a block\n",
        "oracle_14_no_rand_bytes = lambda x: altered_oracle(x, blocksize)\n",
        "\n",
        "plaintext = b''\n",
        "for char_i in range(10000): # 10000 is an arbitrary large number\n",
        "    cyphertext = padded_encryption(plaintext, blocksize, oracle_14_no_rand_bytes)\n",
        "\n",
        "    block_num = char_i // blocksize    # current block number\n",
        "    selected_cypher = cyphertext[block_num*blocksize:(block_num + 1)*blocksize]\n",
        "    try:\n",
        "        cypher2plain = gen_lookup_table(plaintext, blocksize, oracle_14_no_rand_bytes)\n",
        "        plaintext += cypher2plain[selected_cypher]\n",
        "    except KeyError: \n",
        "        break\n",
        "\n",
        "print(plaintext)"
      ]
    },
    {
      "attachments": {},
      "cell_type": "markdown",
      "metadata": {},
      "source": [
        "## **Challenge 15: PKCS#7 padding validation**"
      ]
    },
    {
      "cell_type": "code",
      "execution_count": null,
      "metadata": {},
      "outputs": [
        {
          "data": {
            "text/plain": [
              "b'ICE ICE BABY'"
            ]
          },
          "execution_count": 16,
          "metadata": {},
          "output_type": "execute_result"
        }
      ],
      "source": [
        "padding.remove_pkcs_7(b\"ICE ICE BABY\\x04\\x04\\x04\\x04\")"
      ]
    },
    {
      "cell_type": "code",
      "execution_count": null,
      "metadata": {},
      "outputs": [
        {
          "name": "stdout",
          "output_type": "stream",
          "text": [
            "Successfully raised a ValueError!\n"
          ]
        }
      ],
      "source": [
        "try:\n",
        "    padding.remove_pkcs_7(b\"ICE ICE BABY\\x05\\x05\\x05\\x05\")\n",
        "except ValueError:\n",
        "    print(\"Successfully raised a ValueError!\")"
      ]
    },
    {
      "cell_type": "code",
      "execution_count": null,
      "metadata": {},
      "outputs": [
        {
          "name": "stdout",
          "output_type": "stream",
          "text": [
            "Successfully raised a ValueError!\n"
          ]
        }
      ],
      "source": [
        "try:\n",
        "    padding.remove_pkcs_7(b\"ICE ICE BABY\\x01\\x02\\x03\\x04\")\n",
        "except ValueError:\n",
        "    print(\"Successfully raised a ValueError!\")"
      ]
    },
    {
      "attachments": {},
      "cell_type": "markdown",
      "metadata": {},
      "source": [
        "## **Challenge 16: CBC bitflipping attacks**\n",
        "\n",
        "# TODO: Figure this out"
      ]
    },
    {
      "cell_type": "code",
      "execution_count": null,
      "metadata": {},
      "outputs": [],
      "source": [
        "encryption_oracle_16_key = secrets.token_bytes(16)\n",
        "encryption_oracle_16_iv = secrets.token_bytes(16)"
      ]
    },
    {
      "cell_type": "code",
      "execution_count": null,
      "metadata": {},
      "outputs": [],
      "source": [
        "def encryption_oracle_16(plaintext: bytes) -> bytes:\n",
        "    return aes128.cbc_encrypt(padding.apply_pkcs_7(plaintext, 16), encryption_oracle_16_key, encryption_oracle_16_iv)\n",
        "\n",
        "def decryption_oracle_16(cyphertext: bytes) -> bytes:\n",
        "    return padding.remove_pkcs_7(aes128.cbc_decrypt(cyphertext, encryption_oracle_16_key, encryption_oracle_16_iv))"
      ]
    },
    {
      "cell_type": "code",
      "execution_count": null,
      "metadata": {},
      "outputs": [
        {
          "data": {
            "text/plain": [
              "{'comment1': 'cooking%20MCs',\n",
              " 'userdata': 'hello%3Bworld%3Dfoo',\n",
              " 'comment2': '%20like%20a%20pound%20of%20bacon'}"
            ]
          },
          "execution_count": 21,
          "metadata": {},
          "output_type": "execute_result"
        }
      ],
      "source": [
        "def sandwich(string: str):\n",
        "    prepend = \"comment1=cooking%20MCs;userdata=\"\n",
        "    append = \";comment2=%20like%20a%20pound%20of%20bacon\"\n",
        "    # The function should quote out the \";\" and \"=\" characters\n",
        "    string = string.replace(\";\", \"%3B\").replace(\"=\", \"%3D\")\n",
        "    return prepend + string + append\n",
        "\n",
        "\n",
        "convert.string2dict(sandwich(\"hello;world=foo\"), equal_sign=\"=\", break_sign=\";\")"
      ]
    },
    {
      "cell_type": "code",
      "execution_count": null,
      "metadata": {},
      "outputs": [
        {
          "name": "stdout",
          "output_type": "stream",
          "text": [
            "Block length: 16\n",
            "Padding offset (bytes to add so that there is no padding): 15\n",
            "Is this encrypted with ECB mode: False\n",
            "b'\\xa4\\xca \\x19_\\x0b\\n\\x84\\x86\\xeaD\\xfd\\xa2\\x19\\xf5\\xa2\\xdd\\xc9\\xe8\\x9ciPn\\xceU\\x1b\\xad\\r0`\\x1c|'\n",
            "b'BBBBBBBBBBBBBBBB'\n",
            "32\n",
            "16\n"
          ]
        },
        {
          "ename": "AssertionError",
          "evalue": "The two byte arrays must have the same length",
          "output_type": "error",
          "traceback": [
            "\u001b[0;31m---------------------------------------------------------------------------\u001b[0m",
            "\u001b[0;31mAssertionError\u001b[0m                            Traceback (most recent call last)",
            "\u001b[1;32m/Users/blake/Documents/Sync/School/School_2022/research_project/cryptopal_answers/set_2.ipynb Cell 30\u001b[0m in \u001b[0;36m<cell line: 15>\u001b[0;34m()\u001b[0m\n\u001b[1;32m     <a href='vscode-notebook-cell:/Users/blake/Documents/Sync/School/School_2022/research_project/cryptopal_answers/set_2.ipynb#Y155sZmlsZQ%3D%3D?line=12'>13</a>\u001b[0m xxx \u001b[39m=\u001b[39m xor_bytes(\u001b[39mb\u001b[39m\u001b[39m\"\u001b[39m\u001b[39mAAAA;admin=true;\u001b[39m\u001b[39m\"\u001b[39m, \u001b[39mb\u001b[39m\u001b[39m\"\u001b[39m\u001b[39mBBBBBBBBBBBBBBBB\u001b[39m\u001b[39m\"\u001b[39m)\n\u001b[1;32m     <a href='vscode-notebook-cell:/Users/blake/Documents/Sync/School/School_2022/research_project/cryptopal_answers/set_2.ipynb#Y155sZmlsZQ%3D%3D?line=13'>14</a>\u001b[0m \u001b[39mprint\u001b[39m(\u001b[39mlen\u001b[39m(xxx))\n\u001b[0;32m---> <a href='vscode-notebook-cell:/Users/blake/Documents/Sync/School/School_2022/research_project/cryptopal_answers/set_2.ipynb#Y155sZmlsZQ%3D%3D?line=14'>15</a>\u001b[0m C_altereed \u001b[39m=\u001b[39m xor_bytes(C, xxx \u001b[39m+\u001b[39;49m convert\u001b[39m.\u001b[39;49mint2bytes(\u001b[39m0\u001b[39;49m)\u001b[39m*\u001b[39;49m\u001b[39m32\u001b[39;49m)\n\u001b[1;32m     <a href='vscode-notebook-cell:/Users/blake/Documents/Sync/School/School_2022/research_project/cryptopal_answers/set_2.ipynb#Y155sZmlsZQ%3D%3D?line=16'>17</a>\u001b[0m decryption_oracle_16(C_altereed)\n",
            "File \u001b[0;32m~/Documents/Sync/School/School_2022/research_project/cryptopal_answers/src/helper_functions.py:52\u001b[0m, in \u001b[0;36mxor_bytes\u001b[0;34m(a, b)\u001b[0m\n\u001b[1;32m     50\u001b[0m \u001b[39mdef\u001b[39;00m \u001b[39mxor_bytes\u001b[39m(a: \u001b[39mbytes\u001b[39m, b: \u001b[39mbytes\u001b[39m) \u001b[39m-\u001b[39m\u001b[39m>\u001b[39m \u001b[39mbytes\u001b[39m:\n\u001b[1;32m     51\u001b[0m \u001b[39m    \u001b[39m\u001b[39m\"\"\"XORs bytes `a` and `b` (`a ^ b`)\"\"\"\u001b[39;00m\n\u001b[0;32m---> 52\u001b[0m     \u001b[39massert\u001b[39;00m \u001b[39mlen\u001b[39m(a) \u001b[39m==\u001b[39m \u001b[39mlen\u001b[39m(b), \u001b[39m\"\u001b[39m\u001b[39mThe two byte arrays must have the same length\u001b[39m\u001b[39m\"\u001b[39m\n\u001b[1;32m     54\u001b[0m     xor_bytes \u001b[39m=\u001b[39m \u001b[39mb\u001b[39m\u001b[39m\"\u001b[39m\u001b[39m\"\u001b[39m\n\u001b[1;32m     55\u001b[0m     \u001b[39mfor\u001b[39;00m i \u001b[39min\u001b[39;00m \u001b[39mrange\u001b[39m(\u001b[39mlen\u001b[39m(a)):\n",
            "\u001b[0;31mAssertionError\u001b[0m: The two byte arrays must have the same length"
          ]
        }
      ],
      "source": [
        "blocksize, offset = determine_blocksize(encryption_oracle_16)\n",
        "print(f\"Block length: {blocksize}\")\n",
        "print(f\"Padding offset (bytes to add so that there is no padding): {offset}\")\n",
        "print(f\"Is this encrypted with ECB mode: {is_ecb_mode(encryption_oracle_16, blocksize)}\")\n",
        "\n",
        "C = encryption_oracle_16(b\"AAAAAAAAAAAAAAAABBBBBBBBBBBBBBBB\")\n",
        "print(C)\n",
        "\n",
        "print(decryption_oracle_16(C))\n",
        "len(\"AAAA;admin=true;\")\n",
        "\n",
        "print(len(C))\n",
        "xxx = xor_bytes(b\"AAAA;admin=true;\", b\"BBBBBBBBBBBBBBBB\")\n",
        "print(len(xxx))\n",
        "C_altereed = xor_bytes(C, xxx + convert.int2bytes(0)*32)\n",
        "\n",
        "decryption_oracle_16(C_altereed)"
      ]
    }
  ],
  "metadata": {
    "kernelspec": {
      "display_name": "Python 3",
      "language": "python",
      "name": "python3"
    },
    "language_info": {
      "codemirror_mode": {
        "name": "ipython",
        "version": 3
      },
      "file_extension": ".py",
      "mimetype": "text/x-python",
      "name": "python",
      "nbconvert_exporter": "python",
      "pygments_lexer": "ipython3",
      "version": "3.10.4"
    },
    "orig_nbformat": 4,
    "vscode": {
      "interpreter": {
        "hash": "2ab98c4b59af728aa8bd9922870b996a7fc5861c87b81242319b92eec59b5fef"
      }
    }
  },
  "nbformat": 4,
  "nbformat_minor": 2
}
