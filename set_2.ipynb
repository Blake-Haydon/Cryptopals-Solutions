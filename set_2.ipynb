{
 "cells": [
  {
   "cell_type": "code",
   "execution_count": 1,
   "metadata": {},
   "outputs": [],
   "source": [
    "from src.helper_functions import xor_hex_strings, single_byte_xor, repeating_key_xor, xor_bytes, hamming_distance, output_repeated_block, has_repeated_blocks, find_block\n",
    "from src.file_loading import load_file_as_bytes, load_file_as_b64\n",
    "from src.conversions import int2bytes, hex2bytes, string2bytes, hex2b64, string2dict\n",
    "from src.symmetric_encryption import is_ecb_mode, aes128_ecb_encrypt, aes128_ecb_decrypt, aes128_cbc_encrypt, aes128_cbc_decrypt, determine_block_size\n",
    "from src.padding import apply_pkcs_7, remove_pkcs_7\n",
    "# \n",
    "from cryptography.hazmat.primitives.ciphers import Cipher, algorithms, modes\n",
    "import base64\n",
    "import secrets"
   ]
  },
  {
   "cell_type": "markdown",
   "metadata": {},
   "source": [
    "## **Challenge 9: Implement PKCS#7 padding**"
   ]
  },
  {
   "cell_type": "code",
   "execution_count": 2,
   "metadata": {},
   "outputs": [
    {
     "data": {
      "text/plain": [
       "b'YELLOW SUBMARINE\\x04\\x04\\x04\\x04'"
      ]
     },
     "execution_count": 2,
     "metadata": {},
     "output_type": "execute_result"
    }
   ],
   "source": [
    "apply_pkcs_7(b\"YELLOW SUBMARINE\", 20)"
   ]
  },
  {
   "attachments": {},
   "cell_type": "markdown",
   "metadata": {},
   "source": [
    "## **Challenge 10: Implement CBC mode**"
   ]
  },
  {
   "cell_type": "code",
   "execution_count": 3,
   "metadata": {},
   "outputs": [
    {
     "data": {
      "text/plain": [
       "b'YELLOW SUBMARINE YELLOW SUBMARIN'"
      ]
     },
     "execution_count": 3,
     "metadata": {},
     "output_type": "execute_result"
    }
   ],
   "source": [
    "key = secrets.token_bytes(16)\n",
    "iv = secrets.token_bytes(16)\n",
    "text = b'YELLOW SUBMARINE YELLOW SUBMARIN'\n",
    "\n",
    "aes128_cbc_decrypt(aes128_cbc_encrypt(text, key, iv), key, iv)"
   ]
  },
  {
   "cell_type": "code",
   "execution_count": 4,
   "metadata": {},
   "outputs": [
    {
     "data": {
      "text/plain": [
       "\"I'm back and I'm ringin' the bell \\nA rockin' on the mike while the fly girls yell \\nIn ecstasy in the back of me \\nWell that's my DJ Deshay cuttin' all them Z's \\nHittin' hard and the girlies goin' crazy \\nVanilla's on the mike, man I'm not lazy. \\n\\nI'm lettin' my drug kick in \\nIt controls my mouth and I begin \\nTo just let it flow, let my concepts go \\nMy posse's to the side yellin', Go Vanilla Go! \\n\\nSmooth 'cause that's the way I will be \\nAnd if you don't give a damn, then \\nWhy you starin' at me \\nSo get off 'cause I control the stage \\nThere's no dissin' allowed \\nI'm in my own phase \\nThe girlies sa y they love me and that is ok \\nAnd I can dance better than any kid n' play \\n\\nStage 2 -- Yea the one ya' wanna listen to \\nIt's off my head so let the beat play through \\nSo I can funk it up and make it sound good \\n1-2-3 Yo -- Knock on some wood \\nFor good luck, I like my rhymes atrocious \\nSupercalafragilisticexpialidocious \\nI'm an effect and that you can bet \\nI can take a fly girl and make her wet. \\n\\nI'm like Samson -- Samson to Delilah \\nThere's no denyin', You can try to hang \\nBut you'll keep tryin' to get my style \\nOver and over, practice makes perfect \\nBut not if you're a loafer. \\n\\nYou'll get nowhere, no place, no time, no girls \\nSoon -- Oh my God, homebody, you probably eat \\nSpaghetti with a spoon! Come on and say it! \\n\\nVIP. Vanilla Ice yep, yep, I'm comin' hard like a rhino \\nIntoxicating so you stagger like a wino \\nSo punks stop trying and girl stop cryin' \\nVanilla Ice is sellin' and you people are buyin' \\n'Cause why the freaks are jockin' like Crazy Glue \\nMovin' and groovin' trying to sing along \\nAll through the ghetto groovin' this here song \\nNow you're amazed by the VIP posse. \\n\\nSteppin' so hard like a German Nazi \\nStartled by the bases hittin' ground \\nThere's no trippin' on mine, I'm just gettin' down \\nSparkamatic, I'm hangin' tight like a fanatic \\nYou trapped me once and I thought that \\nYou might have it \\nSo step down and lend me your ear \\n'89 in my time! You, '90 is my year. \\n\\nYou're weakenin' fast, YO! and I can tell it \\nYour body's gettin' hot, so, so I can smell it \\nSo don't be mad and don't be sad \\n'Cause the lyrics belong to ICE, You can call me Dad \\nYou're pitchin' a fit, so step back and endure \\nLet the witch doctor, Ice, do the dance to cure \\nSo come up close and don't be square \\nYou wanna battle me -- Anytime, anywhere \\n\\nYou thought that I was weak, Boy, you're dead wrong \\nSo come on, everybody and sing this song \\n\\nSay -- Play that funky music Say, go white boy, go white boy go \\nplay that funky music Go white boy, go white boy, go \\nLay down and boogie and play that funky music till you die. \\n\\nPlay that funky music Come on, Come on, let me hear \\nPlay that funky music white boy you say it, say it \\nPlay that funky music A little louder now \\nPlay that funky music, white boy Come on, Come on, Come on \\nPlay that funky music \\n\\x04\\x04\\x04\\x04\""
      ]
     },
     "execution_count": 4,
     "metadata": {},
     "output_type": "execute_result"
    }
   ],
   "source": [
    "file_bytes = load_file_as_b64(\"challenge_data/10.txt\", remove_newlines=True)\n",
    "\n",
    "key = b'YELLOW SUBMARINE'\n",
    "IV = b'\\x00' * 16\n",
    "aes128_cbc_decrypt(file_bytes, key, IV).decode('utf-8')"
   ]
  },
  {
   "cell_type": "markdown",
   "metadata": {},
   "source": [
    "## **Challenge 11: An ECB/CBC detection oracle**"
   ]
  },
  {
   "cell_type": "code",
   "execution_count": 5,
   "metadata": {},
   "outputs": [],
   "source": [
    "def encryption_oracle_11(plaintext: bytes) -> bytes:\n",
    "    \"\"\"Encrypts a `plaintext` with AES-128 in either ECB or CBC mode. The plaintext is padded with PKCS#7 padding\n",
    "    and a random prefix and suffix are added to the plaintext. The key and IV are chosen at random. The function\n",
    "    returns a tuple of the mode used and the cyphertext. \n",
    "    \n",
    "    `encrypt(before_bytes + plaintext + after_bytes)`\n",
    "    \"\"\"\n",
    "\n",
    "    key = secrets.token_bytes(16)  # for AES-128\n",
    "    iv = secrets.token_bytes(16)  # for AES-128\n",
    "\n",
    "    before_bytes = secrets.token_bytes(secrets.choice([5, 6, 7, 8, 9, 10]))\n",
    "    after_bytes = secrets.token_bytes(secrets.choice([5, 6, 7, 8, 9, 10]))\n",
    "\n",
    "    modified_plaintext = apply_pkcs_7(before_bytes + plaintext + after_bytes, 16)\n",
    "\n",
    "    if secrets.choice([True, False]):\n",
    "        print(\"ECB\")\n",
    "        return aes128_ecb_encrypt(modified_plaintext, key)\n",
    "    else:\n",
    "        print(\"CBC\")\n",
    "        return aes128_cbc_encrypt(modified_plaintext, key, iv)"
   ]
  },
  {
   "cell_type": "code",
   "execution_count": 6,
   "metadata": {},
   "outputs": [
    {
     "name": "stdout",
     "output_type": "stream",
     "text": [
      "CBC\n",
      "CBC \n",
      "\n",
      "CBC\n",
      "CBC \n",
      "\n",
      "ECB\n",
      "ECB \n",
      "\n",
      "ECB\n",
      "ECB \n",
      "\n",
      "ECB\n",
      "ECB \n",
      "\n"
     ]
    }
   ],
   "source": [
    "for _ in range(5):\n",
    "    ecb_mode = is_ecb_mode(encryption_oracle_11, 16)\n",
    "    if ecb_mode:\n",
    "        print(\"ECB\", \"\\n\")\n",
    "    else:\n",
    "        print(\"CBC\", \"\\n\")"
   ]
  },
  {
   "attachments": {},
   "cell_type": "markdown",
   "metadata": {},
   "source": [
    "## **Challenge 12: Byte-at-a-time ECB decryption (Simple)**"
   ]
  },
  {
   "cell_type": "code",
   "execution_count": 7,
   "metadata": {},
   "outputs": [],
   "source": [
    "# Assume that key is unknown but same for all encryptions\n",
    "encryption_oracle_12_key = secrets.token_bytes(16)"
   ]
  },
  {
   "cell_type": "code",
   "execution_count": 8,
   "metadata": {},
   "outputs": [],
   "source": [
    "def encryption_oracle_12(plaintext: bytes) -> bytes:\n",
    "    \"\"\"Encrypts a `plaintext` with AES-128 in ECB mode. The plaintext is padded with PKCS#7 padding.\n",
    "    There is an unknown string appended to the plaintext. The key is chosen at random. The function\n",
    "    returns the cyphertext.\"\"\"\n",
    "    unknown_string = base64.decodebytes(b\"Um9sbGluJyBpbiBteSA1LjAKV2l0aCBteSByYWctdG9wIGRvd24gc28gbXkgaGFpciBjYW4gYmxvdwpUaGUgZ2lybGllcyBvbiBzdGFuZGJ5IHdhdmluZyBqdXN0IHRvIHNheSBoaQpEaWQgeW91IHN0b3A/IE5vLCBJIGp1c3QgZHJvdmUgYnkK\")\n",
    "    return aes128_ecb_encrypt(apply_pkcs_7(plaintext + unknown_string, 16), encryption_oracle_12_key)"
   ]
  },
  {
   "cell_type": "code",
   "execution_count": 9,
   "metadata": {},
   "outputs": [
    {
     "name": "stdout",
     "output_type": "stream",
     "text": [
      "Block length: 16\n",
      "Padding offset (bytes to add so that there is no padding): 5\n",
      "Is this encrypted with ECB mode: True\n"
     ]
    },
    {
     "data": {
      "text/plain": [
       "\"Rollin' in my 5.0\\nWith my rag-top down so my hair can blow\\nThe girlies on standby waving just to say hi\\nDid you stop? No, I just drove by\\n\\x01\""
      ]
     },
     "execution_count": 9,
     "metadata": {},
     "output_type": "execute_result"
    }
   ],
   "source": [
    "# step 1: find the block length\n",
    "block_size, offset = determine_block_size(encryption_oracle_12)\n",
    "print(f\"Block length: {block_size}\")\n",
    "print(f\"Padding offset (bytes to add so that there is no padding): {offset}\")\n",
    "\n",
    "# step 2: determine if the encryption is ECB or CBC\n",
    "print(f\"Is this encrypted with ECB mode: {is_ecb_mode(encryption_oracle_12, block_size)}\")\n",
    "\n",
    "# step 3: make dictionary of all possible last bytes by brute forcing the block by block\n",
    "plaintext = b''\n",
    "\n",
    "def gen_lookup_table(plaintext: bytes, block_size: int, oracle: callable) -> dict:\n",
    "    \"\"\"Generates a lookup table for the last byte of the plaintext.\n",
    "    The lookup table maps the cyphertext to the last byte of the plaintext.\"\"\"\n",
    "    cypher2plain = {}                                   # maps cyphertext to plaintext\n",
    "    w = plaintext[(1-block_size):]                      # window of last block_size - 1 bytes of plaintext\n",
    "    pad = b'A' * (block_size - len(w) - 1)              # used to pad the first block *ONLY*\n",
    "    for i in range(256):                                # iterate through all possible final bytes\n",
    "        p = pad + w + int2bytes(i)                      # generate plaintext to encrypt\n",
    "        cy = oracle(p)                                  # encrypt the plaintext\n",
    "        cypher2plain[cy[:block_size]] = int2bytes(i)    # add to dictionary\n",
    "    return cypher2plain\n",
    "\n",
    "\n",
    "def padded_encryption(plaintext: bytes, block_size: int, oracle: callable) -> bytes:\n",
    "    \"\"\"Pad and encrypt the plaintext. The padding is done so that a full block only has a single unknown byte.\"\"\"\n",
    "    pad = b'A' * ((block_size - len(plaintext) - 1) % block_size)\n",
    "    return oracle(pad)\n",
    "\n",
    "\n",
    "for char_i in range(10000): # 10000 is an arbitrary large number\n",
    "    cyphertext = padded_encryption(plaintext, block_size, encryption_oracle_12)\n",
    "\n",
    "    # When the full plaintext is found, the last block will not be in the dictionary\n",
    "    block_num = char_i // block_size    # current block number\n",
    "    selected_cypher = cyphertext[block_num*block_size:(block_num + 1)*block_size]\n",
    "    try:\n",
    "        cypher2plain = gen_lookup_table(plaintext, block_size, encryption_oracle_12)\n",
    "        plaintext += cypher2plain[selected_cypher]\n",
    "    except KeyError: \n",
    "        break\n",
    "\n",
    "\n",
    "plaintext.decode('utf-8')"
   ]
  },
  {
   "attachments": {},
   "cell_type": "markdown",
   "metadata": {},
   "source": [
    "## **Challenge 13: ECB cut-and-paste**"
   ]
  },
  {
   "cell_type": "code",
   "execution_count": 10,
   "metadata": {},
   "outputs": [],
   "source": [
    "encryption_oracle_13_key = secrets.token_bytes(16)"
   ]
  },
  {
   "cell_type": "code",
   "execution_count": 11,
   "metadata": {},
   "outputs": [],
   "source": [
    "def profile_for(email: str):\n",
    "    \"\"\"Returns a profile for an email address. The profile is a string of the form:\n",
    "    `email=<email>&uid=<10 random digits>&role=user`\n",
    "    \"\"\"\n",
    "    email = email.replace(\"&\", \"\").replace(\"=\", \"\") # eat the characters (yum yum!)\n",
    "    uid = 1000 + secrets.randbelow(10**4 - 1000)    # 1000 <= uid < 10**4\n",
    "    object = f\"email={email}&uid={uid}&role=user\"   # the object to be encrypted\n",
    "    padded_object = apply_pkcs_7(object.encode('utf-8'), 16)            # pad the object\n",
    "    return aes128_ecb_encrypt(padded_object, encryption_oracle_13_key)  # encrypt the object\n",
    "\n",
    "def decrypt_profile(profile: bytes) -> dict:\n",
    "    \"\"\"Decrypts a profile and returns a dictionary of the form:\n",
    "    `{'email': <email>, 'uid': <uid>, 'role': <role>}`\n",
    "    \"\"\"\n",
    "    decrypted_profile = aes128_ecb_decrypt(profile, encryption_oracle_13_key)\n",
    "    decrypted_profile = remove_pkcs_7(decrypted_profile)\n",
    "    decrypted_profile = decrypted_profile.decode('utf-8')\n",
    "    return string2dict(decrypted_profile)"
   ]
  },
  {
   "cell_type": "code",
   "execution_count": 12,
   "metadata": {},
   "outputs": [
    {
     "name": "stdout",
     "output_type": "stream",
     "text": [
      "Successfully created an encrypted profile for the admin user!\n",
      "{'email': 'hackerman69', 'uid': '5470', 'role': 'admin'}\n"
     ]
    }
   ],
   "source": [
    "block_size = 16\n",
    "\n",
    "# 10 A's push the admin string into its own block\n",
    "a = 'A' * 10\n",
    "\n",
    "# admin padding with correct padding bytes\n",
    "admin_str = apply_pkcs_7(b'admin', 16).decode('utf-8') \n",
    "\n",
    "# get the encrypted profile for the admin string\n",
    "admin_encrypted_profile = profile_for(a + admin_str)\n",
    "\n",
    "# extract the encrypted admin string\n",
    "admin_bytes = admin_encrypted_profile[block_size:2*block_size]\n",
    "\n",
    "# 1. get the encrypted profile for the user\n",
    "# 2. remove the last block\n",
    "# 3. append the admin bytes\n",
    "hacker_encrypted_profile = profile_for(\"hackerman69\")\n",
    "hacker_encrypted_profile = hacker_encrypted_profile[:-block_size]\n",
    "hacker_encrypted_profile += admin_bytes\n",
    "\n",
    "print(\"Successfully created an encrypted profile for the admin user!\")\n",
    "print(decrypt_profile(hacker_encrypted_profile))"
   ]
  },
  {
   "attachments": {},
   "cell_type": "markdown",
   "metadata": {},
   "source": [
    "## **Challenge 14: Byte-at-a-time ECB decryption (Harder)**"
   ]
  },
  {
   "cell_type": "code",
   "execution_count": 13,
   "metadata": {},
   "outputs": [],
   "source": [
    "encryption_oracle_14_key = secrets.token_bytes(16)"
   ]
  },
  {
   "cell_type": "code",
   "execution_count": 14,
   "metadata": {},
   "outputs": [],
   "source": [
    "def encryption_oracle_14(plaintext: bytes) -> bytes:\n",
    "    \"\"\"Encrypts a `plaintext` with AES-128 in ECB mode. The plaintext is padded with PKCS#7 padding.\n",
    "    `AES-128-ECB(random-prefix || attacker-controlled || target-bytes, random-key)`\n",
    "    \"\"\"\n",
    "    max_num_bytes = 32\n",
    "    rand_bytes = secrets.token_bytes(secrets.randbelow(max_num_bytes))\n",
    "    unknown_string = base64.decodebytes(b\"Um9sbGluJyBpbiBteSA1LjAKV2l0aCBteSByYWctdG9wIGRvd24gc28gbXkgaGFpciBjYW4gYmxvdwpUaGUgZ2lybGllcyBvbiBzdGFuZGJ5IHdhdmluZyBqdXN0IHRvIHNheSBoaQpEaWQgeW91IHN0b3A/IE5vLCBJIGp1c3QgZHJvdmUgYnkK\")\n",
    "    return aes128_ecb_encrypt(apply_pkcs_7(rand_bytes + plaintext + unknown_string, 16), encryption_oracle_14_key)"
   ]
  },
  {
   "cell_type": "code",
   "execution_count": 15,
   "metadata": {},
   "outputs": [
    {
     "name": "stdout",
     "output_type": "stream",
     "text": [
      "Block length: 16\n",
      "Padding offset (bytes to add so that there is no padding): 0\n",
      "Is this encrypted with ECB mode: True\n",
      "b\"Rollin' in my 5.0\\nWith my rag-top down so my hair can blow\\nTh\"\n"
     ]
    }
   ],
   "source": [
    "block_size, offset = determine_block_size(encryption_oracle_14)\n",
    "print(f\"Block length: {block_size}\")\n",
    "print(f\"Padding offset (bytes to add so that there is no padding): {offset}\")\n",
    "print(f\"Is this encrypted with ECB mode: {is_ecb_mode(encryption_oracle_14, block_size)}\")\n",
    "\n",
    "def altered_oracle(plaintext: bytes, block_size: int) -> bytes:\n",
    "    \"\"\"The oracle with the altered plaintext\"\"\"\n",
    "    \n",
    "    # use flag to determine when the inserted plaintext starts\n",
    "    flag = b'F' * block_size\n",
    "    cy_flag = output_repeated_block(encryption_oracle_14(3*flag), block_size)\n",
    "    while True:\n",
    "        cy = encryption_oracle_14(flag + plaintext)\n",
    "        i = find_block(cy, cy_flag, block_size)\n",
    "        if i:\n",
    "            return cy[i+block_size:]\n",
    "\n",
    "# alter the oracle so that the inserted plaintext starts at the beginning of a block\n",
    "oracle_14_no_rand_bytes = lambda x: altered_oracle(x, block_size)\n",
    "\n",
    "plaintext = b''\n",
    "for char_i in range(10000): # 10000 is an arbitrary large number\n",
    "    cyphertext = padded_encryption(plaintext, block_size, oracle_14_no_rand_bytes)\n",
    "\n",
    "    block_num = char_i // block_size    # current block number\n",
    "    selected_cypher = cyphertext[block_num*block_size:(block_num + 1)*block_size]\n",
    "    try:\n",
    "        cypher2plain = gen_lookup_table(plaintext, block_size, oracle_14_no_rand_bytes)\n",
    "        plaintext += cypher2plain[selected_cypher]\n",
    "    except KeyError: \n",
    "        break\n",
    "\n",
    "print(plaintext)"
   ]
  },
  {
   "attachments": {},
   "cell_type": "markdown",
   "metadata": {},
   "source": [
    "## **Challenge 15: PKCS#7 padding validation**"
   ]
  },
  {
   "cell_type": "code",
   "execution_count": 16,
   "metadata": {},
   "outputs": [
    {
     "data": {
      "text/plain": [
       "b'ICE ICE BABY'"
      ]
     },
     "execution_count": 16,
     "metadata": {},
     "output_type": "execute_result"
    }
   ],
   "source": [
    "remove_pkcs_7(b\"ICE ICE BABY\\x04\\x04\\x04\\x04\")"
   ]
  },
  {
   "cell_type": "code",
   "execution_count": 17,
   "metadata": {},
   "outputs": [
    {
     "name": "stdout",
     "output_type": "stream",
     "text": [
      "Successfully raised a ValueError!\n"
     ]
    }
   ],
   "source": [
    "try:\n",
    "    remove_pkcs_7(b\"ICE ICE BABY\\x05\\x05\\x05\\x05\")\n",
    "except ValueError:\n",
    "    print(\"Successfully raised a ValueError!\")"
   ]
  },
  {
   "cell_type": "code",
   "execution_count": 18,
   "metadata": {},
   "outputs": [
    {
     "name": "stdout",
     "output_type": "stream",
     "text": [
      "Successfully raised a ValueError!\n"
     ]
    }
   ],
   "source": [
    "try:\n",
    "    remove_pkcs_7(b\"ICE ICE BABY\\x01\\x02\\x03\\x04\")\n",
    "except ValueError:\n",
    "    print(\"Successfully raised a ValueError!\")"
   ]
  },
  {
   "attachments": {},
   "cell_type": "markdown",
   "metadata": {},
   "source": [
    "## **Challenge 16: CBC bitflipping attacks**\n",
    "\n",
    "# TODO: Figure this out"
   ]
  },
  {
   "cell_type": "code",
   "execution_count": 19,
   "metadata": {},
   "outputs": [],
   "source": [
    "encryption_oracle_16_key = secrets.token_bytes(16)\n",
    "encryption_oracle_16_iv = secrets.token_bytes(16)"
   ]
  },
  {
   "cell_type": "code",
   "execution_count": 37,
   "metadata": {},
   "outputs": [],
   "source": [
    "def encryption_oracle_16(plaintext: bytes) -> bytes:\n",
    "    return aes128_cbc_encrypt(apply_pkcs_7(plaintext, 16), encryption_oracle_16_key, encryption_oracle_16_iv)\n",
    "\n",
    "def decryption_oracle_16(cyphertext: bytes) -> bytes:\n",
    "    return remove_pkcs_7(aes128_cbc_decrypt(cyphertext, encryption_oracle_16_key, encryption_oracle_16_iv))"
   ]
  },
  {
   "cell_type": "code",
   "execution_count": 23,
   "metadata": {},
   "outputs": [
    {
     "name": "stdout",
     "output_type": "stream",
     "text": [
      "False\n"
     ]
    }
   ],
   "source": [
    "def sandwich(string: str):\n",
    "    prepend = \"comment1=cooking%20MCs;userdata=\"\n",
    "    append = \";comment2=%20like%20a%20pound%20of%20bacon\"\n",
    "    # The function should quote out the \";\" and \"=\" characters\n",
    "    string = string.replace(\";\", \"%3B\").replace(\"=\", \"%3D\")\n",
    "    return prepend + string + append\n",
    "\n",
    "\n",
    "string2dict(sandwich(\"hello;world=foo\"), equal_sign=\"=\", break_sign=\";\")"
   ]
  },
  {
   "cell_type": "code",
   "execution_count": 77,
   "metadata": {},
   "outputs": [
    {
     "name": "stdout",
     "output_type": "stream",
     "text": [
      "Block length: 16\n",
      "Padding offset (bytes to add so that there is no padding): 15\n",
      "Is this encrypted with ECB mode: False\n",
      "b\"\\xf6\\x7f\\x93\\x972'_@`\\xe6\\xf7\\xff\\xe2\\xb7jCV\\xe1\\xb4\\x15\\xc5o\\xdf\\x19\\x83Eh\\x16\\x9c\\xb3\\x17\\xc5\\x92\\x874\\xaf\\xe8\\xa3\\xc5(\\xe1\\x8ae\\x18\\x9b\\xd8\\x05s\"\n",
      "b'AAAAAAAAAAAAAAAABBBBBBBBBBBBBBBB'\n",
      "48\n",
      "16\n"
     ]
    },
    {
     "data": {
      "text/plain": [
       "b'\\xcd\\x05\\xd2\\x05\\x81\"k\\x94=\\xb4`\\xaa\\xb8\\x87\\xfd\\xa4AAAA;admin=true;'"
      ]
     },
     "execution_count": 77,
     "metadata": {},
     "output_type": "execute_result"
    }
   ],
   "source": [
    "block_size, offset = determine_block_size(encryption_oracle_16)\n",
    "print(f\"Block length: {block_size}\")\n",
    "print(f\"Padding offset (bytes to add so that there is no padding): {offset}\")\n",
    "print(f\"Is this encrypted with ECB mode: {is_ecb_mode(encryption_oracle_16, block_size)}\")\n",
    "\n",
    "C = encryption_oracle_16(b\"AAAAAAAAAAAAAAAABBBBBBBBBBBBBBBB\")\n",
    "print(C)\n",
    "\n",
    "print(decryption_oracle_16(C))\n",
    "len(\"AAAA;admin=true;\")\n",
    "\n",
    "print(len(C))\n",
    "xxx = xor_bytes(b\"AAAA;admin=true;\", b\"BBBBBBBBBBBBBBBB\")\n",
    "print(len(xxx))\n",
    "C_altereed = xor_bytes(C, xxx + int2bytes(0)*32)\n",
    "\n",
    "decryption_oracle_16(C_altereed)"
   ]
  }
 ],
 "metadata": {
  "kernelspec": {
   "display_name": "Python 3",
   "language": "python",
   "name": "python3"
  },
  "language_info": {
   "codemirror_mode": {
    "name": "ipython",
    "version": 3
   },
   "file_extension": ".py",
   "mimetype": "text/x-python",
   "name": "python",
   "nbconvert_exporter": "python",
   "pygments_lexer": "ipython3",
   "version": "3.10.4"
  },
  "orig_nbformat": 4,
  "vscode": {
   "interpreter": {
    "hash": "2ab98c4b59af728aa8bd9922870b996a7fc5861c87b81242319b92eec59b5fef"
   }
  }
 },
 "nbformat": 4,
 "nbformat_minor": 2
}
