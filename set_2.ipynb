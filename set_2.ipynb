{
 "cells": [
  {
   "cell_type": "code",
   "execution_count": 193,
   "metadata": {},
   "outputs": [],
   "source": [
    "from helper_functions import xor_hex_strings, single_byte_xor, repeating_key_xor, xor_bytes, hamming_distance\n",
    "from file_loading import load_file_as_bytes, load_file_as_b64\n",
    "from conversions import int2bytes, hex2bytes, string2bytes, hex2b64\n",
    "from symmetric_encryption import is_ecb_mode, aes128_ecb_encrypt, aes128_ecb_decrypt, aes128_cbc_encrypt, aes128_cbc_decrypt, determine_block_size\n",
    "from padding import apply_pkcs_7, remove_pkcs_7\n",
    "# \n",
    "from cryptography.hazmat.primitives.ciphers import Cipher, algorithms, modes\n",
    "import base64\n",
    "import secrets"
   ]
  },
  {
   "cell_type": "markdown",
   "metadata": {},
   "source": [
    "## **Challenge 9: Implement PKCS#7 padding**"
   ]
  },
  {
   "cell_type": "code",
   "execution_count": 194,
   "metadata": {},
   "outputs": [
    {
     "data": {
      "text/plain": [
       "b'YELLOW SUBMARINE\\x04\\x04\\x04\\x04'"
      ]
     },
     "execution_count": 194,
     "metadata": {},
     "output_type": "execute_result"
    }
   ],
   "source": [
    "apply_pkcs_7(b\"YELLOW SUBMARINE\", 20)"
   ]
  },
  {
   "attachments": {},
   "cell_type": "markdown",
   "metadata": {},
   "source": [
    "## **Challenge 10: Implement CBC mode**"
   ]
  },
  {
   "cell_type": "code",
   "execution_count": 195,
   "metadata": {},
   "outputs": [
    {
     "data": {
      "text/plain": [
       "b'YELLOW SUBMARINE YELLOW SUBMARIN'"
      ]
     },
     "execution_count": 195,
     "metadata": {},
     "output_type": "execute_result"
    }
   ],
   "source": [
    "key = secrets.token_bytes(16)\n",
    "iv = secrets.token_bytes(16)\n",
    "text = b'YELLOW SUBMARINE YELLOW SUBMARIN'\n",
    "\n",
    "aes128_cbc_decrypt(aes128_cbc_encrypt(text, key, iv), key, iv)"
   ]
  },
  {
   "cell_type": "code",
   "execution_count": 196,
   "metadata": {},
   "outputs": [
    {
     "data": {
      "text/plain": [
       "\"I'm back and I'm ringin' the bell \\nA rockin' on the mike while the fly girls yell \\nIn ecstasy in the back of me \\nWell that's my DJ Deshay cuttin' all them Z's \\nHittin' hard and the girlies goin' crazy \\nVanilla's on the mike, man I'm not lazy. \\n\\nI'm lettin' my drug kick in \\nIt controls my mouth and I begin \\nTo just let it flow, let my concepts go \\nMy posse's to the side yellin', Go Vanilla Go! \\n\\nSmooth 'cause that's the way I will be \\nAnd if you don't give a damn, then \\nWhy you starin' at me \\nSo get off 'cause I control the stage \\nThere's no dissin' allowed \\nI'm in my own phase \\nThe girlies sa y they love me and that is ok \\nAnd I can dance better than any kid n' play \\n\\nStage 2 -- Yea the one ya' wanna listen to \\nIt's off my head so let the beat play through \\nSo I can funk it up and make it sound good \\n1-2-3 Yo -- Knock on some wood \\nFor good luck, I like my rhymes atrocious \\nSupercalafragilisticexpialidocious \\nI'm an effect and that you can bet \\nI can take a fly girl and make her wet. \\n\\nI'm like Samson -- Samson to Delilah \\nThere's no denyin', You can try to hang \\nBut you'll keep tryin' to get my style \\nOver and over, practice makes perfect \\nBut not if you're a loafer. \\n\\nYou'll get nowhere, no place, no time, no girls \\nSoon -- Oh my God, homebody, you probably eat \\nSpaghetti with a spoon! Come on and say it! \\n\\nVIP. Vanilla Ice yep, yep, I'm comin' hard like a rhino \\nIntoxicating so you stagger like a wino \\nSo punks stop trying and girl stop cryin' \\nVanilla Ice is sellin' and you people are buyin' \\n'Cause why the freaks are jockin' like Crazy Glue \\nMovin' and groovin' trying to sing along \\nAll through the ghetto groovin' this here song \\nNow you're amazed by the VIP posse. \\n\\nSteppin' so hard like a German Nazi \\nStartled by the bases hittin' ground \\nThere's no trippin' on mine, I'm just gettin' down \\nSparkamatic, I'm hangin' tight like a fanatic \\nYou trapped me once and I thought that \\nYou might have it \\nSo step down and lend me your ear \\n'89 in my time! You, '90 is my year. \\n\\nYou're weakenin' fast, YO! and I can tell it \\nYour body's gettin' hot, so, so I can smell it \\nSo don't be mad and don't be sad \\n'Cause the lyrics belong to ICE, You can call me Dad \\nYou're pitchin' a fit, so step back and endure \\nLet the witch doctor, Ice, do the dance to cure \\nSo come up close and don't be square \\nYou wanna battle me -- Anytime, anywhere \\n\\nYou thought that I was weak, Boy, you're dead wrong \\nSo come on, everybody and sing this song \\n\\nSay -- Play that funky music Say, go white boy, go white boy go \\nplay that funky music Go white boy, go white boy, go \\nLay down and boogie and play that funky music till you die. \\n\\nPlay that funky music Come on, Come on, let me hear \\nPlay that funky music white boy you say it, say it \\nPlay that funky music A little louder now \\nPlay that funky music, white boy Come on, Come on, Come on \\nPlay that funky music \\n\\x04\\x04\\x04\\x04\""
      ]
     },
     "execution_count": 196,
     "metadata": {},
     "output_type": "execute_result"
    }
   ],
   "source": [
    "file_bytes = load_file_as_b64(\"challenge_data/10.txt\", remove_newlines=True)\n",
    "\n",
    "key = b'YELLOW SUBMARINE'\n",
    "IV = b'\\x00' * 16\n",
    "aes128_cbc_decrypt(file_bytes, key, IV).decode('utf-8')"
   ]
  },
  {
   "cell_type": "markdown",
   "metadata": {},
   "source": [
    "## **Challenge 11: An ECB/CBC detection oracle**"
   ]
  },
  {
   "cell_type": "code",
   "execution_count": 197,
   "metadata": {},
   "outputs": [],
   "source": [
    "def encryption_oracle_11(plaintext: bytes) -> bytes:\n",
    "    \"\"\"Encrypts a `plaintext` with AES-128 in either ECB or CBC mode. The plaintext is padded with PKCS#7 padding\n",
    "    and a random prefix and suffix are added to the plaintext. The key and IV are chosen at random. The function\n",
    "    returns a tuple of the mode used and the cyphertext. \n",
    "    \n",
    "    `encrypt(before_bytes + plaintext + after_bytes)`\n",
    "    \"\"\"\n",
    "\n",
    "    key = secrets.token_bytes(16)  # for AES-128\n",
    "    iv = secrets.token_bytes(16)  # for AES-128\n",
    "\n",
    "    before_bytes = secrets.token_bytes(secrets.choice([5, 6, 7, 8, 9, 10]))\n",
    "    after_bytes = secrets.token_bytes(secrets.choice([5, 6, 7, 8, 9, 10]))\n",
    "\n",
    "    modified_plaintext = apply_pkcs_7(before_bytes + plaintext + after_bytes, 16)\n",
    "\n",
    "    if secrets.choice([True, False]):\n",
    "        print(\"ECB\")\n",
    "        return aes128_ecb_encrypt(modified_plaintext, key)\n",
    "    else:\n",
    "        print(\"CBC\")\n",
    "        return aes128_cbc_encrypt(modified_plaintext, key, iv)"
   ]
  },
  {
   "cell_type": "code",
   "execution_count": 198,
   "metadata": {},
   "outputs": [
    {
     "name": "stdout",
     "output_type": "stream",
     "text": [
      "ECB\n",
      "ECB \n",
      "\n",
      "ECB\n",
      "ECB \n",
      "\n",
      "ECB\n",
      "ECB \n",
      "\n",
      "ECB\n",
      "ECB \n",
      "\n",
      "CBC\n",
      "CBC \n",
      "\n"
     ]
    }
   ],
   "source": [
    "for _ in range(5):\n",
    "    ecb_mode = is_ecb_mode(encryption_oracle_11, 16)\n",
    "    if ecb_mode:\n",
    "        print(\"ECB\", \"\\n\")\n",
    "    else:\n",
    "        print(\"CBC\", \"\\n\")"
   ]
  },
  {
   "attachments": {},
   "cell_type": "markdown",
   "metadata": {},
   "source": [
    "## **Challenge 12: Byte-at-a-time ECB decryption (Simple)**"
   ]
  },
  {
   "cell_type": "code",
   "execution_count": 199,
   "metadata": {},
   "outputs": [],
   "source": [
    "def encryption_oracle_12(plaintext: bytes) -> bytes:\n",
    "    unknown_string = base64.decodebytes(b\"Um9sbGluJyBpbiBteSA1LjAKV2l0aCBteSByYWctdG9wIGRvd24gc28gbXkgaGFpciBjYW4gYmxvdwpUaGUgZ2lybGllcyBvbiBzdGFuZGJ5IHdhdmluZyBqdXN0IHRvIHNheSBoaQpEaWQgeW91IHN0b3A/IE5vLCBJIGp1c3QgZHJvdmUgYnkK\")\n",
    "    key = secrets.token_bytes(16)\n",
    "    return aes128_ecb_encrypt(apply_pkcs_7(plaintext + unknown_string, 16), key)"
   ]
  },
  {
   "cell_type": "code",
   "execution_count": 209,
   "metadata": {},
   "outputs": [
    {
     "name": "stdout",
     "output_type": "stream",
     "text": [
      "Block length: 16\n",
      "Padding offset (bytes to add so that there is no padding): 10\n",
      "Is this encrypted with ECB mode: True\n"
     ]
    },
    {
     "data": {
      "text/plain": [
       "\"Rollin' in my 5.0\\nWith my rag-top down so my hair can blow\\nThe girlies on standby waving just to say hi\\nDid you stop? No, I just drove by\\n\\x01\""
      ]
     },
     "execution_count": 209,
     "metadata": {},
     "output_type": "execute_result"
    }
   ],
   "source": [
    "# step 1: find the block length\n",
    "block_size, offset = determine_block_size(encryption_oracle_12)\n",
    "print(f\"Block length: {block_size}\")\n",
    "print(f\"Padding offset (bytes to add so that there is no padding): {offset}\")\n",
    "\n",
    "# step 2: determine if the encryption is ECB or CBC\n",
    "print(f\"Is this encrypted with ECB mode: {is_ecb_mode(encryption_oracle_12, block_size)}\")\n",
    "\n",
    "# step 3: make dictionary of all possible last bytes by brute forcing the block by block\n",
    "plaintext = b''\n",
    "for char_i in range(10000):\n",
    "    cypher2plain = {}\n",
    "    input_str = b''\n",
    "\n",
    "    block_num = char_i // block_size # current block number\n",
    "\n",
    "    prev_decryption = plaintext[(1-block_size):]\n",
    "    first_block_padding = b'A' * (block_size - len(prev_decryption) - 1)\n",
    "    for i in range(256):\n",
    "        # last byte will be brute forced\n",
    "        input_str += first_block_padding + prev_decryption + int2bytes(i) \n",
    "    \n",
    "    input_str += b'A' * ((block_size - len(plaintext) - 1) % block_size) # for the last block\n",
    "    cyphertext = encryption_oracle_12(input_str)\n",
    "\n",
    "    for i in range(256):\n",
    "        cypher = cyphertext[i*block_size:(i+1)*block_size]\n",
    "        cypher2plain[cypher] = int2bytes(i)\n",
    "\n",
    "    next_block_num = i + 1 + block_num\n",
    "    test_cypher = cyphertext[(next_block_num)*block_size:(next_block_num + 1)*block_size]\n",
    "\n",
    "    try:\n",
    "        plaintext += cypher2plain[test_cypher]\n",
    "    except Exception:\n",
    "        break\n",
    "\n",
    "plaintext.decode('utf-8')"
   ]
  },
  {
   "cell_type": "code",
   "execution_count": null,
   "metadata": {},
   "outputs": [],
   "source": []
  }
 ],
 "metadata": {
  "kernelspec": {
   "display_name": "Python 3",
   "language": "python",
   "name": "python3"
  },
  "language_info": {
   "codemirror_mode": {
    "name": "ipython",
    "version": 3
   },
   "file_extension": ".py",
   "mimetype": "text/x-python",
   "name": "python",
   "nbconvert_exporter": "python",
   "pygments_lexer": "ipython3",
   "version": "3.10.4"
  },
  "orig_nbformat": 4,
  "vscode": {
   "interpreter": {
    "hash": "2ab98c4b59af728aa8bd9922870b996a7fc5861c87b81242319b92eec59b5fef"
   }
  }
 },
 "nbformat": 4,
 "nbformat_minor": 2
}
