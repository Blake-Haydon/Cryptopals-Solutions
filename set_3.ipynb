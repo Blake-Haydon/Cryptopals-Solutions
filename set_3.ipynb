{
  "cells": [
    {
      "cell_type": "code",
      "execution_count": 1,
      "metadata": {},
      "outputs": [],
      "source": [
        "from src.helper_functions import xor_hex_strings, repeating_key_xor, xor_bytes, hamming_distance, output_repeated_block, has_repeated_blocks, find_block\n",
        "from src.symmetric_encryption import is_ecb_mode\n",
        "import src.aes128 as aes128\n",
        "import src.convert as convert\n",
        "import src.padding as padding\n",
        "# \n",
        "from cryptography.hazmat.primitives.ciphers import Cipher, algorithms, modes\n",
        "import base64\n",
        "import secrets"
      ]
    },
    {
      "attachments": {},
      "cell_type": "markdown",
      "metadata": {},
      "source": [
        "## **Challenge 17: PKCS#7 padding validation**"
      ]
    },
    {
      "cell_type": "code",
      "execution_count": 2,
      "metadata": {},
      "outputs": [],
      "source": [
        "# Assume that key is unknown but same for all encryptions\n",
        "encryption_oracle_17_key = secrets.token_bytes(16)"
      ]
    },
    {
      "cell_type": "code",
      "execution_count": 3,
      "metadata": {},
      "outputs": [],
      "source": [
        "def encryption_oracle_17():\n",
        "    xxxx = [\n",
        "        b\"MDAwMDAwTm93IHRoYXQgdGhlIHBhcnR5IGlzIGp1bXBpbmc=\",\n",
        "        b\"MDAwMDAxV2l0aCB0aGUgYmFzcyBraWNrZWQgaW4gYW5kIHRoZSBWZWdhJ3MgYXJlIHB1bXBpbic=\",\n",
        "        b\"MDAwMDAyUXVpY2sgdG8gdGhlIHBvaW50LCB0byB0aGUgcG9pbnQsIG5vIGZha2luZw==\",\n",
        "        b\"MDAwMDAzQ29va2luZyBNQydzIGxpa2UgYSBwb3VuZCBvZiBiYWNvbg==\",\n",
        "        b\"MDAwMDA0QnVybmluZyAnZW0sIGlmIHlvdSBhaW4ndCBxdWljayBhbmQgbmltYmxl\",\n",
        "        b\"MDAwMDA1SSBnbyBjcmF6eSB3aGVuIEkgaGVhciBhIGN5bWJhbA==\",\n",
        "        b\"MDAwMDA2QW5kIGEgaGlnaCBoYXQgd2l0aCBhIHNvdXBlZCB1cCB0ZW1wbw==\",\n",
        "        b\"MDAwMDA3SSdtIG9uIGEgcm9sbCwgaXQncyB0aW1lIHRvIGdvIHNvbG8=\",\n",
        "        b\"MDAwMDA4b2xsaW4nIGluIG15IGZpdmUgcG9pbnQgb2g=\",\n",
        "        b\"MDAwMDA5aXRoIG15IHJhZy10b3AgZG93biBzbyBteSBoYWlyIGNhbiBibG93\",\n",
        "    ]\n",
        "\n",
        "    chose = secrets.choice(xxxx)\n",
        "    plaintext = padding.apply_pkcs_7(base64.b64decode(chose), 16)\n",
        "    IV = secrets.token_bytes(16)\n",
        "    return aes128.cbc_encrypt(plaintext, encryption_oracle_17_key, IV), IV\n",
        "\n",
        "\n",
        "def correct_padding_oracle(ciphertext, IV) -> bool:\n",
        "    plaintext = aes128.cbc_decrypt(ciphertext, encryption_oracle_17_key, IV)\n",
        "    try:\n",
        "        padding.remove_pkcs_7(plaintext)\n",
        "        return True\n",
        "    except Exception:\n",
        "        return False"
      ]
    },
    {
      "cell_type": "code",
      "execution_count": 4,
      "metadata": {},
      "outputs": [
        {
          "data": {
            "text/plain": [
              "True"
            ]
          },
          "execution_count": 4,
          "metadata": {},
          "output_type": "execute_result"
        }
      ],
      "source": [
        "cyphertext, IV = encryption_oracle_17()\n",
        "correct_padding_oracle(cyphertext, IV)"
      ]
    }
  ],
  "metadata": {
    "kernelspec": {
      "display_name": "Python 3",
      "language": "python",
      "name": "python3"
    },
    "language_info": {
      "codemirror_mode": {
        "name": "ipython",
        "version": 3
      },
      "file_extension": ".py",
      "mimetype": "text/x-python",
      "name": "python",
      "nbconvert_exporter": "python",
      "pygments_lexer": "ipython3",
      "version": "3.10.4"
    },
    "orig_nbformat": 4,
    "vscode": {
      "interpreter": {
        "hash": "26b2c20fbbf8ea50bd4af0520e2c57e3f524d0e307237f1441e6cea8dc524a67"
      }
    }
  },
  "nbformat": 4,
  "nbformat_minor": 2
}
