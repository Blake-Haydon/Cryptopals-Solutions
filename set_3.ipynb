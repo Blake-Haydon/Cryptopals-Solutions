{
  "cells": [
    {
      "cell_type": "code",
      "execution_count": 1,
      "metadata": {},
      "outputs": [],
      "source": [
        "from src.helper_functions import hamming_distance, output_repeated_block, has_repeated_blocks, find_block\n",
        "from src.symmetric_encryption import is_ecb_mode\n",
        "from src.xor import xor_bytes\n",
        "import src.xor as xor\n",
        "import src.load as load\n",
        "import src.aes128 as aes128\n",
        "import src.convert as convert\n",
        "import src.padding as padding\n",
        "# \n",
        "import base64\n",
        "import secrets"
      ]
    },
    {
      "attachments": {},
      "cell_type": "markdown",
      "metadata": {},
      "source": [
        "## **Challenge 17: PKCS#7 padding validation**\n",
        "# TODO: Implement PKCS#7 padding validation"
      ]
    },
    {
      "cell_type": "code",
      "execution_count": 2,
      "metadata": {},
      "outputs": [],
      "source": [
        "# Assume that key is unknown but same for all encryptions\n",
        "encryption_oracle_17_key = secrets.token_bytes(16)"
      ]
    },
    {
      "cell_type": "code",
      "execution_count": 3,
      "metadata": {},
      "outputs": [],
      "source": [
        "def encryption_oracle_17() -> tuple[bytes, bytes]:\n",
        "    plaintext_list = [\n",
        "        b\"MDAwMDAwTm93IHRoYXQgdGhlIHBhcnR5IGlzIGp1bXBpbmc=\",\n",
        "        b\"MDAwMDAxV2l0aCB0aGUgYmFzcyBraWNrZWQgaW4gYW5kIHRoZSBWZWdhJ3MgYXJlIHB1bXBpbic=\",\n",
        "        b\"MDAwMDAyUXVpY2sgdG8gdGhlIHBvaW50LCB0byB0aGUgcG9pbnQsIG5vIGZha2luZw==\",\n",
        "        b\"MDAwMDAzQ29va2luZyBNQydzIGxpa2UgYSBwb3VuZCBvZiBiYWNvbg==\",\n",
        "        b\"MDAwMDA0QnVybmluZyAnZW0sIGlmIHlvdSBhaW4ndCBxdWljayBhbmQgbmltYmxl\",\n",
        "        b\"MDAwMDA1SSBnbyBjcmF6eSB3aGVuIEkgaGVhciBhIGN5bWJhbA==\",\n",
        "        b\"MDAwMDA2QW5kIGEgaGlnaCBoYXQgd2l0aCBhIHNvdXBlZCB1cCB0ZW1wbw==\",\n",
        "        b\"MDAwMDA3SSdtIG9uIGEgcm9sbCwgaXQncyB0aW1lIHRvIGdvIHNvbG8=\",\n",
        "        b\"MDAwMDA4b2xsaW4nIGluIG15IGZpdmUgcG9pbnQgb2g=\",\n",
        "        b\"MDAwMDA5aXRoIG15IHJhZy10b3AgZG93biBzbyBteSBoYWlyIGNhbiBibG93\",\n",
        "    ]\n",
        "\n",
        "    chosen_plaintext = secrets.choice(plaintext_list)\n",
        "    chosen_plaintext = base64.b64decode(chosen_plaintext)\n",
        "    chosen_plaintext = padding.apply_pkcs_7(chosen_plaintext, aes128.KEY_LENGTH)\n",
        "    \n",
        "    IV = secrets.token_bytes(16)\n",
        "    return aes128.cbc_encrypt(chosen_plaintext, encryption_oracle_17_key, IV), IV\n",
        "\n",
        "\n",
        "def correct_padding_oracle(ciphertext: bytes, IV: bytes) -> bool:\n",
        "    plaintext = aes128.cbc_decrypt(ciphertext, encryption_oracle_17_key, IV)\n",
        "    try:\n",
        "        padding.remove_pkcs_7(plaintext)\n",
        "        return True\n",
        "    except Exception:\n",
        "        return False"
      ]
    },
    {
      "cell_type": "code",
      "execution_count": 4,
      "metadata": {},
      "outputs": [
        {
          "data": {
            "text/plain": [
              "True"
            ]
          },
          "execution_count": 4,
          "metadata": {},
          "output_type": "execute_result"
        }
      ],
      "source": [
        "cyphertext, IV = encryption_oracle_17()\n",
        "correct_padding_oracle(cyphertext, IV)"
      ]
    },
    {
      "cell_type": "code",
      "execution_count": 5,
      "metadata": {},
      "outputs": [
        {
          "data": {
            "text/plain": [
              "[b'\\xac\\x9a\\xcc\\xca\\x95\\xb83\\xe8\\xc3H\\xf6\\xc1\\x92\\x1d\\xc8\\xb8',\n",
              " b'\\xc0\\xa8#\\x9f[\\x15J\\xdcC\\x11k\\xce\\x84`!\\xb8',\n",
              " b'\\xb4\\x10\\\\S\\x82\\xc3@\\xc9\\x18\\xc2+\\xa9\\xf2\\xfc\\x17G',\n",
              " b'*\\xe9jz\\x83(/\\xf2\\x1a\\xce\\xcb\\x1b5\\x1b\\xfc\\xe0']"
            ]
          },
          "execution_count": 5,
          "metadata": {},
          "output_type": "execute_result"
        }
      ],
      "source": [
        "cyphertext_blocks = [IV] + convert.bytes2blocks(cyphertext, aes128.KEY_LENGTH)\n",
        "cyphertext_blocks"
      ]
    },
    {
      "cell_type": "code",
      "execution_count": 6,
      "metadata": {},
      "outputs": [],
      "source": [
        "\n",
        "# # 1 * convert.int2byte(1)\n",
        "# plaintext_block = aes128.KEY_LENGTH * convert.int2byte(0)\n",
        "\n",
        "# zeros_IV = aes128.KEY_LENGTH * convert.int2byte(0)\n",
        "\n",
        "# for i in range(256):\n",
        "#     plaintext_block = 15 * convert.int2byte(0) + convert.int2byte(i)\n",
        "#     padding_block = padding.apply_pkcs_7(convert.int2byte(0) * (aes128.KEY_LENGTH - 1), aes128.KEY_LENGTH)\n",
        "#     fake_IV = xor_bytes(plaintext_block, xor_bytes(padding_block, cyphertext_blocks[1]))\n",
        "\n",
        "#     zeroing_IV = xor_bytes(padding_block, cyphertext_blocks[1])\n",
        "\n",
        "#     if correct_padding_oracle(cyphertext_blocks[1], fake_IV):\n",
        "#         print(i)\n",
        "\n",
        "\n",
        "\n"
      ]
    },
    {
      "cell_type": "markdown",
      "metadata": {},
      "source": [
        "## **Challenge 18: Implement CTR, the stream cipher mode**"
      ]
    },
    {
      "cell_type": "code",
      "execution_count": 7,
      "metadata": {},
      "outputs": [
        {
          "name": "stdout",
          "output_type": "stream",
          "text": [
            "Yo, VIP Let's kick it Ice, Ice, baby Ice, Ice, baby \n"
          ]
        }
      ],
      "source": [
        "cyphertext = base64.b64decode(\"L77na/nrFsKvynd6HzOoG7GHTLXsTVu9qvY/2syLXzhPweyyMTJULu/6/kXX0KSvoOLSFQ==\")\n",
        "key = b\"YELLOW SUBMARINE\"\n",
        "plaintext = aes128.ctr_decrypt(cyphertext, key, 0)\n",
        "print(plaintext.decode())"
      ]
    },
    {
      "attachments": {},
      "cell_type": "markdown",
      "metadata": {},
      "source": [
        "## **Challenge 19: Break fixed-nonce CTR mode using substitutions**"
      ]
    },
    {
      "cell_type": "code",
      "execution_count": 8,
      "metadata": {},
      "outputs": [],
      "source": [
        "challenge_19_key = secrets.token_bytes(16)\n",
        "challenge_19_nonce = 0"
      ]
    },
    {
      "cell_type": "code",
      "execution_count": 9,
      "metadata": {},
      "outputs": [],
      "source": [
        "# Load list of plaintext strings\n",
        "plaintext_list = [\n",
        "    \"SSBoYXZlIG1ldCB0aGVtIGF0IGNsb3NlIG9mIGRheQ==\",\n",
        "    \"Q29taW5nIHdpdGggdml2aWQgZmFjZXM=\",\n",
        "    \"RnJvbSBjb3VudGVyIG9yIGRlc2sgYW1vbmcgZ3JleQ==\",\n",
        "    \"RWlnaHRlZW50aC1jZW50dXJ5IGhvdXNlcy4=\",\n",
        "    \"SSBoYXZlIHBhc3NlZCB3aXRoIGEgbm9kIG9mIHRoZSBoZWFk\",\n",
        "    \"T3IgcG9saXRlIG1lYW5pbmdsZXNzIHdvcmRzLA==\",\n",
        "    \"T3IgaGF2ZSBsaW5nZXJlZCBhd2hpbGUgYW5kIHNhaWQ=\",\n",
        "    \"UG9saXRlIG1lYW5pbmdsZXNzIHdvcmRzLA==\",\n",
        "    \"QW5kIHRob3VnaHQgYmVmb3JlIEkgaGFkIGRvbmU=\",\n",
        "    \"T2YgYSBtb2NraW5nIHRhbGUgb3IgYSBnaWJl\",\n",
        "    \"VG8gcGxlYXNlIGEgY29tcGFuaW9u\",\n",
        "    \"QXJvdW5kIHRoZSBmaXJlIGF0IHRoZSBjbHViLA==\",\n",
        "    \"QmVpbmcgY2VydGFpbiB0aGF0IHRoZXkgYW5kIEk=\",\n",
        "    \"QnV0IGxpdmVkIHdoZXJlIG1vdGxleSBpcyB3b3JuOg==\",\n",
        "    \"QWxsIGNoYW5nZWQsIGNoYW5nZWQgdXR0ZXJseTo=\",\n",
        "    \"QSB0ZXJyaWJsZSBiZWF1dHkgaXMgYm9ybi4=\",\n",
        "    \"VGhhdCB3b21hbidzIGRheXMgd2VyZSBzcGVudA==\",\n",
        "    \"SW4gaWdub3JhbnQgZ29vZCB3aWxsLA==\",\n",
        "    \"SGVyIG5pZ2h0cyBpbiBhcmd1bWVudA==\",\n",
        "    \"VW50aWwgaGVyIHZvaWNlIGdyZXcgc2hyaWxsLg==\",\n",
        "    \"V2hhdCB2b2ljZSBtb3JlIHN3ZWV0IHRoYW4gaGVycw==\",\n",
        "    \"V2hlbiB5b3VuZyBhbmQgYmVhdXRpZnVsLA==\",\n",
        "    \"U2hlIHJvZGUgdG8gaGFycmllcnM/\",\n",
        "    \"VGhpcyBtYW4gaGFkIGtlcHQgYSBzY2hvb2w=\",\n",
        "    \"QW5kIHJvZGUgb3VyIHdpbmdlZCBob3JzZS4=\",\n",
        "    \"VGhpcyBvdGhlciBoaXMgaGVscGVyIGFuZCBmcmllbmQ=\",\n",
        "    \"V2FzIGNvbWluZyBpbnRvIGhpcyBmb3JjZTs=\",\n",
        "    \"SGUgbWlnaHQgaGF2ZSB3b24gZmFtZSBpbiB0aGUgZW5kLA==\",\n",
        "    \"U28gc2Vuc2l0aXZlIGhpcyBuYXR1cmUgc2VlbWVkLA==\",\n",
        "    \"U28gZGFyaW5nIGFuZCBzd2VldCBoaXMgdGhvdWdodC4=\",\n",
        "    \"VGhpcyBvdGhlciBtYW4gSSBoYWQgZHJlYW1lZA==\",\n",
        "    \"QSBkcnVua2VuLCB2YWluLWdsb3Jpb3VzIGxvdXQu\",\n",
        "    \"SGUgaGFkIGRvbmUgbW9zdCBiaXR0ZXIgd3Jvbmc=\",\n",
        "    \"VG8gc29tZSB3aG8gYXJlIG5lYXIgbXkgaGVhcnQs\",\n",
        "    \"WWV0IEkgbnVtYmVyIGhpbSBpbiB0aGUgc29uZzs=\",\n",
        "    \"SGUsIHRvbywgaGFzIHJlc2lnbmVkIGhpcyBwYXJ0\",\n",
        "    \"SW4gdGhlIGNhc3VhbCBjb21lZHk7\",\n",
        "    \"SGUsIHRvbywgaGFzIGJlZW4gY2hhbmdlZCBpbiBoaXMgdHVybiw=\",\n",
        "    \"VHJhbnNmb3JtZWQgdXR0ZXJseTo=\",\n",
        "    \"QSB0ZXJyaWJsZSBiZWF1dHkgaXMgYm9ybi4=\",\n",
        "]\n",
        "plaintext_list = [base64.b64decode(plaintext) for plaintext in plaintext_list]"
      ]
    },
    {
      "cell_type": "code",
      "execution_count": 10,
      "metadata": {},
      "outputs": [],
      "source": [
        "# Generate the list of cyphertext strings\n",
        "cyphertext_list = []\n",
        "for plaintext in plaintext_list:\n",
        "    cyphertext_list.append(aes128.ctr_encrypt(plaintext, challenge_19_key, challenge_19_nonce))"
      ]
    },
    {
      "cell_type": "code",
      "execution_count": 11,
      "metadata": {},
      "outputs": [
        {
          "name": "stdout",
          "output_type": "stream",
          "text": [
            "i have met them at ccoming with vivid fafrom counter or deskeighteenth-century hi have passed with aor polite meaninglesor have lingered awhpolite meaningless wand thought before Iof a mocking tale orto please a companioaround the fire at tbeing certain that tbut lived where motlall changed, changeda terrible beauty isthat woman's days wein ignorant good wilher nights in argumeuntil her voice grewwhat voice more sweewhen young and beautshe rode to harriersthis man had kept a and rode our winged this other his helpewas coming into his he might have won faso sensitive his natso daring and sweet this other man I hada drunken, vain-glorhe had done most bitto some who are nearyet I number him in he, too, has resignein the casual comedyhe, too, has been chtransformed utterly:a terrible beauty is\n"
          ]
        }
      ],
      "source": [
        "# We will solve challenge 19 by using the method from challenge 20 (substitution was too hard)\n",
        "min_len = min([len(cyphertext) for cyphertext in cyphertext_list])\n",
        "sliced_cyphertext_list = [cyphertext[:min_len] for cyphertext in cyphertext_list]\n",
        "cyphertext = b''.join(sliced_cyphertext_list)\n",
        "plaintext, key = xor.repeating_key_break(cyphertext, min_len)\n",
        "print(plaintext.decode())"
      ]
    },
    {
      "cell_type": "markdown",
      "metadata": {},
      "source": [
        "## **Challenge 20: Break fixed-nonce CTR statistically**"
      ]
    },
    {
      "cell_type": "code",
      "execution_count": 12,
      "metadata": {},
      "outputs": [],
      "source": [
        "challenge_20_key = secrets.token_bytes(16)\n",
        "challenge_20_nonce = 0"
      ]
    },
    {
      "cell_type": "code",
      "execution_count": 13,
      "metadata": {},
      "outputs": [],
      "source": [
        "# Generate the list of cyphertext strings\n",
        "cyphertext_list = []\n",
        "with open('./challenge_data/20.txt', 'r') as f:\n",
        "    for line in f:\n",
        "        plaintext = base64.b64decode(line.strip(\"\\n\"))\n",
        "        cyphertext = aes128.ctr_encrypt(plaintext, challenge_20_key, challenge_20_nonce)\n",
        "        cyphertext_list.append(cyphertext)"
      ]
    },
    {
      "cell_type": "code",
      "execution_count": 14,
      "metadata": {},
      "outputs": [
        {
          "name": "stdout",
          "output_type": "stream",
          "text": [
            "n'm rated \"R\"...this is a warning, ya better void / Pduz I came back to attack others in spite- / Strike leut don't be afraid in the dark, in a park / Not a sc~a tremble like a alcoholic, muscles tighten up / Whatuddenly you feel like your in a horror flick / You gjusic's the clue, when I come your warned / Apocalypsoaven't you ever heard of a MC-murderer? / This is thceath wish, so come on, step to this / Hysterical ideariday the thirteenth, walking down Elm Street / You shis is off limits, so your visions are blurry / All serror in the styles, never error-files / Indeed I'm aor those that oppose to be level or next to this / Iporse than a nightmare, you don't have to sleep a winalashbacks interfere, ya start to hear: / The R-A-K-Ishen the beat is hysterical / That makes Eric go get toon the lyrical format is superior / Faces of death jC's decaying, cuz they never stayed / The scene of ashe fiend of a rhyme on the mic that you know / It's jelodies-unmakable, pattern-unescapable / A horn if wn bless the child, the earth, the gods and bomb the roazardous to your health so be friendly / A matter ofthake 'till your clear, make it disappear, make the nnf not, my soul'll release! / The scene is recreated,duz your about to see a disastrous sight / A performakyrics of fury! A fearified freestyle! / The \"R\" is ijake sure the system's loud when I mention / Phrases ~ou want to hear some sounds that not only pounds butshen nonchalantly tell you what it mean to me / Stricfnd I don't care if the whole crowd's a witness! / I'wrogram into the speed of the rhyme, prepare to startjusical madness MC ever made, see it's / Now an emerghpen your mind, you will find every word'll be / Furieattle's tempting...whatever suits ya! / For words th~ou think you're ruffer, then suffer the consequencesn wake ya with hundreds of thousands of volts / Mic-tiovocain ease the pain it might save him / If not, Er~o Rakim, what's up? / Yo, I'm doing the knowledge, Epell, check this out, since Norby Walters is our agenlara Lewis is our agent, word up / Zakia and 4th and hkay, so who we rollin' with then? We rollin' with Rudheck this out, since we talking over / This def beatn wanna hear some of them def rhymes, you know what Ishinkin' of a master plan / 'Cuz ain't nuthin' but swto I dig into my pocket, all my money is spent / So Ito I start my mission, leave my residence / Thinkin' n need money, I used to be a stick-up kid / So I thinn used to roll up, this is a hold up, ain't nuthin' feut now I learned to earn 'cuz I'm righteous / I feeltearch for a nine to five, if I strive / Then maybe Ito I walk up the street whistlin' this / Feelin' out f pen and a paper, a stereo, a tape of / Me and Eric aish, which is my favorite dish / But without no mone\u0000Cuz I don't like to dream about gettin' paid / So I to now to test to see if I got pull / Hit the studio,uakim, check this out, yo / You go to your girl house\u0000Cause my girl is definitely mad / 'Cause it took us ~o, I hear what you're saying / So let's just pump thfnd count our money / Yo, well check this out, yo Elisurn down the bass down / And let the beat just keep fnd we outta here / Yo, what happened to peace? / Pea\n"
          ]
        }
      ],
      "source": [
        "min_len = min([len(cyphertext) for cyphertext in cyphertext_list])\n",
        "sliced_cyphertext_list = [cyphertext[:min_len] for cyphertext in cyphertext_list]\n",
        "cyphertext = b''.join(sliced_cyphertext_list)\n",
        "plaintext, key = xor.repeating_key_break(cyphertext, min_len)\n",
        "print(plaintext.decode())"
      ]
    },
    {
      "attachments": {},
      "cell_type": "markdown",
      "metadata": {},
      "source": [
        "## **Challenge 21: Implement the MT19937 Mersenne Twister RNG**"
      ]
    },
    {
      "cell_type": "code",
      "execution_count": 15,
      "metadata": {},
      "outputs": [
        {
          "data": {
            "text/plain": [
              "-1"
            ]
          },
          "execution_count": 15,
          "metadata": {},
          "output_type": "execute_result"
        }
      ],
      "source": [
        "def mersenne_twister():\n",
        "    x = 3\n",
        "    return -1\n",
        "\n",
        "mersenne_twister()"
      ]
    }
  ],
  "metadata": {
    "kernelspec": {
      "display_name": "Python 3",
      "language": "python",
      "name": "python3"
    },
    "language_info": {
      "codemirror_mode": {
        "name": "ipython",
        "version": 3
      },
      "file_extension": ".py",
      "mimetype": "text/x-python",
      "name": "python",
      "nbconvert_exporter": "python",
      "pygments_lexer": "ipython3",
      "version": "3.10.4"
    },
    "orig_nbformat": 4,
    "vscode": {
      "interpreter": {
        "hash": "2ab98c4b59af728aa8bd9922870b996a7fc5861c87b81242319b92eec59b5fef"
      }
    }
  },
  "nbformat": 4,
  "nbformat_minor": 2
}
