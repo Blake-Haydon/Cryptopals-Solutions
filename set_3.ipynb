{
  "cells": [
    {
      "cell_type": "code",
      "execution_count": 1,
      "metadata": {},
      "outputs": [],
      "source": [
        "from src.helper_functions import hamming_distance, output_repeated_block, has_repeated_blocks, find_block\n",
        "from src.symmetric_encryption import is_ecb_mode\n",
        "import src.aes128 as aes128\n",
        "import src.convert as convert\n",
        "import src.padding as padding\n",
        "# \n",
        "from cryptography.hazmat.primitives.ciphers import Cipher, algorithms, modes\n",
        "import base64\n",
        "import secrets"
      ]
    },
    {
      "attachments": {},
      "cell_type": "markdown",
      "metadata": {},
      "source": [
        "## **Challenge 17: PKCS#7 padding validation**"
      ]
    },
    {
      "cell_type": "code",
      "execution_count": 2,
      "metadata": {},
      "outputs": [],
      "source": [
        "# Assume that key is unknown but same for all encryptions\n",
        "encryption_oracle_17_key = secrets.token_bytes(16)"
      ]
    },
    {
      "cell_type": "code",
      "execution_count": 3,
      "metadata": {},
      "outputs": [],
      "source": [
        "def encryption_oracle_17() -> tuple[bytes, bytes]:\n",
        "    plaintext_list = [\n",
        "        b\"MDAwMDAwTm93IHRoYXQgdGhlIHBhcnR5IGlzIGp1bXBpbmc=\",\n",
        "        b\"MDAwMDAxV2l0aCB0aGUgYmFzcyBraWNrZWQgaW4gYW5kIHRoZSBWZWdhJ3MgYXJlIHB1bXBpbic=\",\n",
        "        b\"MDAwMDAyUXVpY2sgdG8gdGhlIHBvaW50LCB0byB0aGUgcG9pbnQsIG5vIGZha2luZw==\",\n",
        "        b\"MDAwMDAzQ29va2luZyBNQydzIGxpa2UgYSBwb3VuZCBvZiBiYWNvbg==\",\n",
        "        b\"MDAwMDA0QnVybmluZyAnZW0sIGlmIHlvdSBhaW4ndCBxdWljayBhbmQgbmltYmxl\",\n",
        "        b\"MDAwMDA1SSBnbyBjcmF6eSB3aGVuIEkgaGVhciBhIGN5bWJhbA==\",\n",
        "        b\"MDAwMDA2QW5kIGEgaGlnaCBoYXQgd2l0aCBhIHNvdXBlZCB1cCB0ZW1wbw==\",\n",
        "        b\"MDAwMDA3SSdtIG9uIGEgcm9sbCwgaXQncyB0aW1lIHRvIGdvIHNvbG8=\",\n",
        "        b\"MDAwMDA4b2xsaW4nIGluIG15IGZpdmUgcG9pbnQgb2g=\",\n",
        "        b\"MDAwMDA5aXRoIG15IHJhZy10b3AgZG93biBzbyBteSBoYWlyIGNhbiBibG93\",\n",
        "    ]\n",
        "\n",
        "    chosen_plaintext = secrets.choice(plaintext_list)\n",
        "    chosen_plaintext = base64.b64decode(chosen_plaintext)\n",
        "    chosen_plaintext = padding.apply_pkcs_7(chosen_plaintext, aes128.AES128_KEY_LENGTH)\n",
        "    \n",
        "    IV = secrets.token_bytes(16)\n",
        "    return aes128.cbc_encrypt(chosen_plaintext, encryption_oracle_17_key, IV), IV\n",
        "\n",
        "\n",
        "def correct_padding_oracle(ciphertext: bytes, IV: bytes) -> bool:\n",
        "    plaintext = aes128.cbc_decrypt(ciphertext, encryption_oracle_17_key, IV)\n",
        "    try:\n",
        "        padding.remove_pkcs_7(plaintext)\n",
        "        return True\n",
        "    except Exception:\n",
        "        return False"
      ]
    },
    {
      "cell_type": "code",
      "execution_count": 4,
      "metadata": {},
      "outputs": [
        {
          "data": {
            "text/plain": [
              "True"
            ]
          },
          "execution_count": 4,
          "metadata": {},
          "output_type": "execute_result"
        }
      ],
      "source": [
        "cyphertext, IV = encryption_oracle_17()\n",
        "correct_padding_oracle(cyphertext, IV)"
      ]
    },
    {
      "cell_type": "code",
      "execution_count": 5,
      "metadata": {},
      "outputs": [
        {
          "data": {
            "text/plain": [
              "[b'\\x1f&j\\x00\\xd3\\xa0\\xd2\\xf9s\\x89\\xe1\\x0c\\x05\\xd9\\xa7U',\n",
              " b'\\x9cE\\x8c\\xc2N$\\xc4\\xd0\\n\\x8f\\xb7\\xec\\x1f\\xf4C\\xf6',\n",
              " b'6\\xc9\\xaa\\x97is\\xc1\\xdc\\xbf\\x05f\\xe8\\xdfX\\xca\\xf2',\n",
              " b'\\x8a\\xbd\\x9e\\xa2xL\\xf0\\xec\\xaemq\\\\q\\xbd6\\xcd']"
            ]
          },
          "execution_count": 5,
          "metadata": {},
          "output_type": "execute_result"
        }
      ],
      "source": [
        "cyphertext_blocks = [IV] + convert.bytes2blocks(cyphertext, aes128.AES128_KEY_LENGTH)\n",
        "cyphertext_blocks"
      ]
    },
    {
      "cell_type": "code",
      "execution_count": 6,
      "metadata": {},
      "outputs": [],
      "source": [
        "\n",
        "# # 1 * convert.int2byte(1)\n",
        "# plaintext_block = aes128.AES128_KEY_LENGTH * convert.int2byte(0)\n",
        "\n",
        "# zeros_IV = aes128.AES128_KEY_LENGTH * convert.int2byte(0)\n",
        "\n",
        "# for i in range(256):\n",
        "#     plaintext_block = 15 * convert.int2byte(0) + convert.int2byte(i)\n",
        "#     padding_block = padding.apply_pkcs_7(convert.int2byte(0) * (aes128.AES128_KEY_LENGTH - 1), aes128.AES128_KEY_LENGTH)\n",
        "#     fake_IV = xor_bytes(plaintext_block, xor_bytes(padding_block, cyphertext_blocks[1]))\n",
        "\n",
        "#     zeroing_IV = xor_bytes(padding_block, cyphertext_blocks[1])\n",
        "\n",
        "#     if correct_padding_oracle(cyphertext_blocks[1], fake_IV):\n",
        "#         print(i)\n",
        "\n",
        "\n",
        "\n"
      ]
    },
    {
      "cell_type": "markdown",
      "metadata": {},
      "source": [
        "## **Challenge 18: Implement CTR, the stream cipher mode**"
      ]
    },
    {
      "cell_type": "code",
      "execution_count": 7,
      "metadata": {},
      "outputs": [
        {
          "name": "stdout",
          "output_type": "stream",
          "text": [
            "Yo, VIP Let's kick it Ice, Ice, baby Ice, Ice, baby \n"
          ]
        }
      ],
      "source": [
        "cyphertext = base64.b64decode(\"L77na/nrFsKvynd6HzOoG7GHTLXsTVu9qvY/2syLXzhPweyyMTJULu/6/kXX0KSvoOLSFQ==\")\n",
        "key = b\"YELLOW SUBMARINE\"\n",
        "plaintext = aes128.ctr_decrypt(cyphertext, key, 0)\n",
        "print(plaintext.decode())"
      ]
    },
    {
      "attachments": {},
      "cell_type": "markdown",
      "metadata": {},
      "source": [
        "## **Challenge 19: Break fixed-nonce CTR mode using substitutions**"
      ]
    },
    {
      "cell_type": "code",
      "execution_count": 8,
      "metadata": {},
      "outputs": [],
      "source": [
        "encryption_oracle_19_key = secrets.token_bytes(16)"
      ]
    },
    {
      "cell_type": "code",
      "execution_count": 9,
      "metadata": {},
      "outputs": [],
      "source": [
        "plaintext_list = [\n",
        "    \"SSBoYXZlIG1ldCB0aGVtIGF0IGNsb3NlIG9mIGRheQ==\",\n",
        "    \"Q29taW5nIHdpdGggdml2aWQgZmFjZXM=\",\n",
        "    \"RnJvbSBjb3VudGVyIG9yIGRlc2sgYW1vbmcgZ3JleQ==\",\n",
        "    \"RWlnaHRlZW50aC1jZW50dXJ5IGhvdXNlcy4=\",\n",
        "    \"SSBoYXZlIHBhc3NlZCB3aXRoIGEgbm9kIG9mIHRoZSBoZWFk\",\n",
        "    \"T3IgcG9saXRlIG1lYW5pbmdsZXNzIHdvcmRzLA==\",\n",
        "    \"T3IgaGF2ZSBsaW5nZXJlZCBhd2hpbGUgYW5kIHNhaWQ=\",\n",
        "    \"UG9saXRlIG1lYW5pbmdsZXNzIHdvcmRzLA==\",\n",
        "    \"QW5kIHRob3VnaHQgYmVmb3JlIEkgaGFkIGRvbmU=\",\n",
        "    \"T2YgYSBtb2NraW5nIHRhbGUgb3IgYSBnaWJl\",\n",
        "    \"VG8gcGxlYXNlIGEgY29tcGFuaW9u\",\n",
        "    \"QXJvdW5kIHRoZSBmaXJlIGF0IHRoZSBjbHViLA==\",\n",
        "    \"QmVpbmcgY2VydGFpbiB0aGF0IHRoZXkgYW5kIEk=\",\n",
        "    \"QnV0IGxpdmVkIHdoZXJlIG1vdGxleSBpcyB3b3JuOg==\",\n",
        "    \"QWxsIGNoYW5nZWQsIGNoYW5nZWQgdXR0ZXJseTo=\",\n",
        "    \"QSB0ZXJyaWJsZSBiZWF1dHkgaXMgYm9ybi4=\",\n",
        "    \"VGhhdCB3b21hbidzIGRheXMgd2VyZSBzcGVudA==\",\n",
        "    \"SW4gaWdub3JhbnQgZ29vZCB3aWxsLA==\",\n",
        "    \"SGVyIG5pZ2h0cyBpbiBhcmd1bWVudA==\",\n",
        "    \"VW50aWwgaGVyIHZvaWNlIGdyZXcgc2hyaWxsLg==\",\n",
        "    \"V2hhdCB2b2ljZSBtb3JlIHN3ZWV0IHRoYW4gaGVycw==\",\n",
        "    \"V2hlbiB5b3VuZyBhbmQgYmVhdXRpZnVsLA==\",\n",
        "    \"U2hlIHJvZGUgdG8gaGFycmllcnM/\",\n",
        "    \"VGhpcyBtYW4gaGFkIGtlcHQgYSBzY2hvb2w=\",\n",
        "    \"QW5kIHJvZGUgb3VyIHdpbmdlZCBob3JzZS4=\",\n",
        "    \"VGhpcyBvdGhlciBoaXMgaGVscGVyIGFuZCBmcmllbmQ=\",\n",
        "    \"V2FzIGNvbWluZyBpbnRvIGhpcyBmb3JjZTs=\",\n",
        "    \"SGUgbWlnaHQgaGF2ZSB3b24gZmFtZSBpbiB0aGUgZW5kLA==\",\n",
        "    \"U28gc2Vuc2l0aXZlIGhpcyBuYXR1cmUgc2VlbWVkLA==\",\n",
        "    \"U28gZGFyaW5nIGFuZCBzd2VldCBoaXMgdGhvdWdodC4=\",\n",
        "    \"VGhpcyBvdGhlciBtYW4gSSBoYWQgZHJlYW1lZA==\",\n",
        "    \"QSBkcnVua2VuLCB2YWluLWdsb3Jpb3VzIGxvdXQu\",\n",
        "    \"SGUgaGFkIGRvbmUgbW9zdCBiaXR0ZXIgd3Jvbmc=\",\n",
        "    \"VG8gc29tZSB3aG8gYXJlIG5lYXIgbXkgaGVhcnQs\",\n",
        "    \"WWV0IEkgbnVtYmVyIGhpbSBpbiB0aGUgc29uZzs=\",\n",
        "    \"SGUsIHRvbywgaGFzIHJlc2lnbmVkIGhpcyBwYXJ0\",\n",
        "    \"SW4gdGhlIGNhc3VhbCBjb21lZHk7\",\n",
        "    \"SGUsIHRvbywgaGFzIGJlZW4gY2hhbmdlZCBpbiBoaXMgdHVybiw=\",\n",
        "    \"VHJhbnNmb3JtZWQgdXR0ZXJseTo=\",\n",
        "    \"QSB0ZXJyaWJsZSBiZWF1dHkgaXMgYm9ybi4=\",\n",
        "]\n",
        "plaintext_list = [base64.b64decode(plaintext) for plaintext in plaintext_list]"
      ]
    },
    {
      "cell_type": "code",
      "execution_count": 10,
      "metadata": {},
      "outputs": [
        {
          "name": "stdout",
          "output_type": "stream",
          "text": [
            "b'\\xb9C\\n7F\\xd6\\x00!\\xb8\\x0c/\\xf5HK\\xba\\x1a\\xf8\\xc2B>=\\xdd\\xf8\\x08W/@\\x97\\xcaH\\x93'\n",
            "b'\\xb3\\x0c\\x0f?^\\xd4\\x00;\\xb4\\x0cg\\xa1VG\\xa1S\\xfd\\x96\\x04<2\\xd7\\xf8'\n",
            "b\"\\xb6\\x11\\r;\\x10\\xd0O9\\xb3\\x0cj\\xf3\\x00A\\xa5\\x1a\\xfd\\xd3\\x116q\\xd3\\xe6\\x02\\x19'\\x06\\xd0\\xdcL\\x93\"\n",
            "b'\\xb5\\n\\x05>D\\xd6E\"\\xa9\\x10\"\\xe2E@\\xa3O\\xeb\\xcfB5>\\xc7\\xf8\\x08\\x04n'\n",
            "b'\\xb9C\\n7F\\xd6\\x00<\\xbc\\x0b|\\xe4D\\x0e\\xa0S\\xed\\xdeB<q\\xdc\\xe4\\tW/@\\x97\\xdaA\\x8fi\\x82}p\\x9b'\n",
            "b'\\xbf\\x11B&_\\xdfI8\\xb8Xb\\xe4A@\\xbeT\\xfe\\xda\\x07.\"\\x92\\xfc\\x02\\x05$U\\x9b'\n",
            "b'\\xbf\\x11B>Q\\xc5El\\xb1\\x11a\\xe6E\\\\\\xb2^\\xb9\\xd7\\x1558\\xde\\xeeM\\x16.B\\x97\\xddH\\x83-'\n",
            "b'\\xa0\\x0c\\x0e?D\\xd6\\x00!\\xb8\\x19a\\xe8NI\\xbb_\\xea\\xc5B*>\\xc0\\xef\\x1e['\n",
            "b'\\xb1\\r\\x06vD\\xdbO9\\xba\\x10{\\xa1BK\\xb1U\\xeb\\xd3B\\x14q\\xda\\xea\\tW$I\\xd9\\xcb'\n",
            "b'\\xbf\\x05B7\\x10\\xdeO/\\xb6\\x11a\\xe6\\x00Z\\xb6V\\xfc\\x96\\r/q\\xd3\\xab\\n\\x1e\"C'\n",
            "b'\\xa4\\x0cB&\\\\\\xd6A?\\xb8Xn\\xa1CA\\xbaJ\\xf8\\xd8\\x0b2?'\n",
            "b'\\xb1\\x11\\r#^\\xd7\\x008\\xb5\\x1d/\\xe7I\\\\\\xb2\\x1a\\xf8\\xc2B)9\\xd7\\xab\\x0e\\x1b5D\\x9b'\n",
            "b'\\xb2\\x06\\x0b8W\\x93C)\\xaf\\x0cn\\xe8N\\x0e\\xa3R\\xf8\\xc2B)9\\xd7\\xf2M\\x16.B\\x97\\xe7'\n",
            "b'\\xb2\\x16\\x16v\\\\\\xdaV)\\xb9Xx\\xe9E\\\\\\xb2\\x1a\\xf4\\xd9\\x1614\\xcb\\xab\\x04\\x04`Q\\xd8\\xdcG\\xd0'\n",
            "b'\\xb1\\x0f\\x0evS\\xdbA\"\\xba\\x1dk\\xad\\x00M\\xbf[\\xf7\\xd1\\x079q\\xc7\\xff\\x19\\x122J\\xce\\x94'\n",
            "b'\\xb1C\\x163B\\xc1I.\\xb1\\x1d/\\xe3EO\\xa2N\\xe0\\x96\\x0b.q\\xd0\\xe4\\x1f\\x19n'\n",
            "b'\\xa4\\x0b\\x03\"\\x10\\xc4O!\\xbc\\x16(\\xf2\\x00J\\xb6C\\xea\\x96\\x158#\\xd7\\xab\\x1e\\x07%H\\xc3'\n",
            "b'\\xb9\\rB?W\\xddO>\\xbc\\x16{\\xa1GA\\xb8^\\xb9\\xc1\\x0b1=\\x9e'\n",
            "b'\\xb8\\x06\\x10v^\\xdaG$\\xa9\\x0b/\\xe8N\\x0e\\xb6H\\xfe\\xc3\\x0f8?\\xc6'\n",
            "b'\\xa5\\r\\x16?\\\\\\x93H)\\xafXy\\xeeIM\\xb2\\x1a\\xfe\\xc4\\x07*q\\xc1\\xe3\\x1f\\x1e,J\\x99'\n",
            "b'\\xa7\\x0b\\x03\"\\x10\\xc5O%\\xbe\\x1d/\\xecO\\\\\\xb2\\x1a\\xea\\xc1\\x078%\\x92\\xff\\x05\\x16.\\x06\\xdf\\xcb[\\x99'\n",
            "b'\\xa7\\x0b\\x078\\x10\\xcaO9\\xb3\\x1f/\\xe0NJ\\xf7X\\xfc\\xd7\\x17)8\\xd4\\xfe\\x01['\n",
            "b'\\xa3\\x0b\\x07vB\\xdcD)\\xfd\\x0c`\\xa1HO\\xa5H\\xf0\\xd3\\x10.n'\n",
            "b'\\xa4\\x0b\\x0b%\\x10\\xdeA\"\\xfd\\x10n\\xe5\\x00E\\xb2J\\xed\\x96\\x03}\"\\xd1\\xe3\\x02\\x18,'\n",
            "b'\\xb1\\r\\x06vB\\xdcD)\\xfd\\x17z\\xf3\\x00Y\\xbeT\\xfe\\xd3\\x06}9\\xdd\\xf9\\x1e\\x12n'\n",
            "b'\\xa4\\x0b\\x0b%\\x10\\xdcT$\\xb8\\n/\\xe9I]\\xf7R\\xfc\\xda\\x128#\\x92\\xea\\x03\\x13`@\\xc5\\xc7L\\x84-'\n",
            "b'\\xa7\\x02\\x11vS\\xdcM%\\xb3\\x1f/\\xe8NZ\\xb8\\x1a\\xf1\\xdf\\x11}7\\xdd\\xf9\\x0e\\x12{'\n",
            "b\"\\xb8\\x06B;Y\\xd4H8\\xfd\\x10n\\xf7E\\x0e\\xa0U\\xf7\\x96\\x04<<\\xd7\\xab\\x04\\x19`R\\xdf\\xcb\\t\\x8f'\\x8e4\"\n",
            "b'\\xa3\\x0cB%U\\xddS%\\xa9\\x11y\\xe4\\x00F\\xbeI\\xb9\\xd8\\x03)$\\xc0\\xeeM\\x04%C\\xda\\xcbM\\xc6'\n",
            "b'\\xa3\\x0cB2Q\\xc1I\"\\xbaXn\\xefD\\x0e\\xa4M\\xfc\\xd3\\x16}9\\xdb\\xf8M\\x03(I\\xc2\\xc9A\\x9eg'\n",
            "b'\\xa4\\x0b\\x0b%\\x10\\xdcT$\\xb8\\n/\\xecA@\\xf7s\\xb9\\xde\\x039q\\xd6\\xf9\\x08\\x16-C\\xd3'\n",
            "b'\\xb1C\\x06$E\\xddK)\\xb3T/\\xf7AG\\xb9\\x17\\xfe\\xda\\r/8\\xdd\\xfe\\x1eW,I\\xc2\\xda\\x07'\n",
            "b'\\xb8\\x06B>Q\\xd7\\x00(\\xb2\\x16j\\xa1MA\\xa4N\\xb9\\xd4\\x0b)%\\xd7\\xf9M\\x002I\\xd9\\xc9'\n",
            "b'\\xa4\\x0cB%_\\xdeEl\\xaa\\x10`\\xa1A\\\\\\xb2\\x1a\\xf7\\xd3\\x03/q\\xdf\\xf2M\\x1f%G\\xc5\\xda\\x05'\n",
            "b'\\xa9\\x06\\x16vy\\x93N9\\xb0\\x1aj\\xf3\\x00F\\xbeW\\xb9\\xdf\\x0c}%\\xda\\xeeM\\x04/H\\xd0\\x95'\n",
            "b'\\xb8\\x06NvD\\xdcO`\\xfd\\x10n\\xf2\\x00\\\\\\xb2I\\xf0\\xd1\\x0c85\\x92\\xe3\\x04\\x04`V\\xd6\\xdc]'\n",
            "b'\\xb9\\rB\"X\\xd6\\x00/\\xbc\\x0bz\\xe0L\\x0e\\xb4U\\xf4\\xd3\\x06$j'\n",
            "b'\\xb8\\x06NvD\\xdcO`\\xfd\\x10n\\xf2\\x00L\\xb2_\\xf7\\x96\\x0150\\xdc\\xec\\x08\\x13`O\\xd9\\x8eA\\x83:\\xcald\\x8d\\x0b\\xb7'\n",
            "b'\\xa4\\x11\\x038C\\xd5O>\\xb0\\x1dk\\xa1UZ\\xa3_\\xeb\\xda\\x1bg'\n",
            "b'\\xb1C\\x163B\\xc1I.\\xb1\\x1d/\\xe3EO\\xa2N\\xe0\\x96\\x0b.q\\xd0\\xe4\\x1f\\x19n'\n"
          ]
        }
      ],
      "source": [
        "for plaintext in plaintext_list:\n",
        "    print(aes128.ctr_decrypt(plaintext, encryption_oracle_19_key, 0))"
      ]
    },
    {
      "cell_type": "code",
      "execution_count": null,
      "metadata": {},
      "outputs": [],
      "source": []
    }
  ],
  "metadata": {
    "kernelspec": {
      "display_name": "Python 3",
      "language": "python",
      "name": "python3"
    },
    "language_info": {
      "codemirror_mode": {
        "name": "ipython",
        "version": 3
      },
      "file_extension": ".py",
      "mimetype": "text/x-python",
      "name": "python",
      "nbconvert_exporter": "python",
      "pygments_lexer": "ipython3",
      "version": "3.10.4"
    },
    "orig_nbformat": 4,
    "vscode": {
      "interpreter": {
        "hash": "26b2c20fbbf8ea50bd4af0520e2c57e3f524d0e307237f1441e6cea8dc524a67"
      }
    }
  },
  "nbformat": 4,
  "nbformat_minor": 2
}
