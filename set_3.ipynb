{
 "cells": [
  {
   "cell_type": "code",
   "execution_count": 1,
   "metadata": {},
   "outputs": [],
   "source": [
    "from src.helper_functions import xor_hex_strings, single_byte_xor, repeating_key_xor, xor_bytes, hamming_distance, output_repeated_block, has_repeated_blocks, find_block\n",
    "from src.file_loading import load_file_as_bytes, load_file_as_b64\n",
    "from src.conversions import int2bytes, hex2bytes, string2bytes, hex2b64, string2dict\n",
    "from src.symmetric_encryption import is_ecb_mode, aes128_ecb_encrypt, aes128_ecb_decrypt, aes128_cbc_encrypt, aes128_cbc_decrypt, determine_block_size\n",
    "from src.padding import apply_pkcs_7, remove_pkcs_7\n",
    "# \n",
    "from cryptography.hazmat.primitives.ciphers import Cipher, algorithms, modes\n",
    "import base64\n",
    "import secrets"
   ]
  },
  {
   "attachments": {},
   "cell_type": "markdown",
   "metadata": {},
   "source": [
    "## **Challenge 17: PKCS#7 padding validation**"
   ]
  },
  {
   "cell_type": "code",
   "execution_count": 2,
   "metadata": {},
   "outputs": [],
   "source": [
    "# Assume that key is unknown but same for all encryptions\n",
    "encryption_oracle_17_key = secrets.token_bytes(16)"
   ]
  },
  {
   "cell_type": "code",
   "execution_count": 3,
   "metadata": {},
   "outputs": [],
   "source": [
    "def encryption_oracle_17():\n",
    "    xxxx = [\n",
    "        b\"MDAwMDAwTm93IHRoYXQgdGhlIHBhcnR5IGlzIGp1bXBpbmc=\",\n",
    "        b\"MDAwMDAxV2l0aCB0aGUgYmFzcyBraWNrZWQgaW4gYW5kIHRoZSBWZWdhJ3MgYXJlIHB1bXBpbic=\",\n",
    "        b\"MDAwMDAyUXVpY2sgdG8gdGhlIHBvaW50LCB0byB0aGUgcG9pbnQsIG5vIGZha2luZw==\",\n",
    "        b\"MDAwMDAzQ29va2luZyBNQydzIGxpa2UgYSBwb3VuZCBvZiBiYWNvbg==\",\n",
    "        b\"MDAwMDA0QnVybmluZyAnZW0sIGlmIHlvdSBhaW4ndCBxdWljayBhbmQgbmltYmxl\",\n",
    "        b\"MDAwMDA1SSBnbyBjcmF6eSB3aGVuIEkgaGVhciBhIGN5bWJhbA==\",\n",
    "        b\"MDAwMDA2QW5kIGEgaGlnaCBoYXQgd2l0aCBhIHNvdXBlZCB1cCB0ZW1wbw==\",\n",
    "        b\"MDAwMDA3SSdtIG9uIGEgcm9sbCwgaXQncyB0aW1lIHRvIGdvIHNvbG8=\",\n",
    "        b\"MDAwMDA4b2xsaW4nIGluIG15IGZpdmUgcG9pbnQgb2g=\",\n",
    "        b\"MDAwMDA5aXRoIG15IHJhZy10b3AgZG93biBzbyBteSBoYWlyIGNhbiBibG93\",\n",
    "    ]\n",
    "\n",
    "\n",
    "\n",
    "    chose = secrets.choice(xxxx)\n",
    "    plaintext = apply_pkcs_7(base64.b64decode(chose), 16)\n",
    "    IV = secrets.token_bytes(16)\n",
    "    return aes128_cbc_encrypt(plaintext, encryption_oracle_17_key, IV), IV\n",
    "\n",
    "\n",
    "def correct_padding_oracle(ciphertext, IV) -> bool:\n",
    "    plaintext = aes128_cbc_decrypt(ciphertext, encryption_oracle_17_key, IV)\n",
    "    try:\n",
    "        remove_pkcs_7(plaintext)\n",
    "        return True\n",
    "    except Exception:\n",
    "        return False"
   ]
  },
  {
   "cell_type": "code",
   "execution_count": 4,
   "metadata": {},
   "outputs": [
    {
     "data": {
      "text/plain": [
       "True"
      ]
     },
     "execution_count": 4,
     "metadata": {},
     "output_type": "execute_result"
    }
   ],
   "source": [
    "cyphertext, IV = encryption_oracle_17()\n",
    "correct_padding_oracle(cyphertext, IV)"
   ]
  },
  {
   "cell_type": "code",
   "execution_count": 5,
   "metadata": {},
   "outputs": [
    {
     "ename": "AssertionError",
     "evalue": "The two byte arrays must have the same shape",
     "output_type": "error",
     "traceback": [
      "\u001b[0;31m---------------------------------------------------------------------------\u001b[0m",
      "\u001b[0;31mAssertionError\u001b[0m                            Traceback (most recent call last)",
      "\u001b[1;32m/Users/blake/Documents/Sync/School/School_2022/research_project/cryptopal_answers/set_3.ipynb Cell 6\u001b[0m in \u001b[0;36m<cell line: 11>\u001b[0;34m()\u001b[0m\n\u001b[1;32m     <a href='vscode-notebook-cell:/Users/blake/Documents/Sync/School/School_2022/research_project/cryptopal_answers/set_3.ipynb#W5sZmlsZQ%3D%3D?line=10'>11</a>\u001b[0m \u001b[39mfor\u001b[39;00m j \u001b[39min\u001b[39;00m \u001b[39mrange\u001b[39m(\u001b[39m0\u001b[39m, \u001b[39m256\u001b[39m):\n\u001b[1;32m     <a href='vscode-notebook-cell:/Users/blake/Documents/Sync/School/School_2022/research_project/cryptopal_answers/set_3.ipynb#W5sZmlsZQ%3D%3D?line=11'>12</a>\u001b[0m     new_IV \u001b[39m=\u001b[39m IV[:\u001b[39m-\u001b[39m\u001b[39m2\u001b[39m] \u001b[39m+\u001b[39m int2bytes(j)\n\u001b[0;32m---> <a href='vscode-notebook-cell:/Users/blake/Documents/Sync/School/School_2022/research_project/cryptopal_answers/set_3.ipynb#W5sZmlsZQ%3D%3D?line=12'>13</a>\u001b[0m     \u001b[39mif\u001b[39;00m correct_padding_oracle(cyphertext[\u001b[39m0\u001b[39;49m:\u001b[39m16\u001b[39;49m], new_IV):\n\u001b[1;32m     <a href='vscode-notebook-cell:/Users/blake/Documents/Sync/School/School_2022/research_project/cryptopal_answers/set_3.ipynb#W5sZmlsZQ%3D%3D?line=13'>14</a>\u001b[0m         p \u001b[39m=\u001b[39m int2bytes(j) \u001b[39m+\u001b[39m p\n\u001b[1;32m     <a href='vscode-notebook-cell:/Users/blake/Documents/Sync/School/School_2022/research_project/cryptopal_answers/set_3.ipynb#W5sZmlsZQ%3D%3D?line=19'>20</a>\u001b[0m \u001b[39m0x01\u001b[39m \u001b[39m^\u001b[39m \u001b[39m0x3D\u001b[39m\n",
      "\u001b[1;32m/Users/blake/Documents/Sync/School/School_2022/research_project/cryptopal_answers/set_3.ipynb Cell 6\u001b[0m in \u001b[0;36mcorrect_padding_oracle\u001b[0;34m(ciphertext, IV)\u001b[0m\n\u001b[1;32m     <a href='vscode-notebook-cell:/Users/blake/Documents/Sync/School/School_2022/research_project/cryptopal_answers/set_3.ipynb#W5sZmlsZQ%3D%3D?line=22'>23</a>\u001b[0m \u001b[39mdef\u001b[39;00m \u001b[39mcorrect_padding_oracle\u001b[39m(ciphertext, IV) \u001b[39m-\u001b[39m\u001b[39m>\u001b[39m \u001b[39mbool\u001b[39m:\n\u001b[0;32m---> <a href='vscode-notebook-cell:/Users/blake/Documents/Sync/School/School_2022/research_project/cryptopal_answers/set_3.ipynb#W5sZmlsZQ%3D%3D?line=23'>24</a>\u001b[0m     plaintext \u001b[39m=\u001b[39m aes128_cbc_decrypt(ciphertext, encryption_oracle_17_key, IV)\n\u001b[1;32m     <a href='vscode-notebook-cell:/Users/blake/Documents/Sync/School/School_2022/research_project/cryptopal_answers/set_3.ipynb#W5sZmlsZQ%3D%3D?line=24'>25</a>\u001b[0m     \u001b[39mtry\u001b[39;00m:\n\u001b[1;32m     <a href='vscode-notebook-cell:/Users/blake/Documents/Sync/School/School_2022/research_project/cryptopal_answers/set_3.ipynb#W5sZmlsZQ%3D%3D?line=25'>26</a>\u001b[0m         remove_pkcs_7(plaintext)\n",
      "File \u001b[0;32m~/Documents/Sync/School/School_2022/research_project/cryptopal_answers/src/symmetric_encryption.py:127\u001b[0m, in \u001b[0;36maes128_cbc_decrypt\u001b[0;34m(byte_string, key, iv)\u001b[0m\n\u001b[1;32m    125\u001b[0m prev_cyphertext \u001b[39m=\u001b[39m iv\n\u001b[1;32m    126\u001b[0m \u001b[39mfor\u001b[39;00m i \u001b[39min\u001b[39;00m \u001b[39mrange\u001b[39m(\u001b[39m16\u001b[39m, \u001b[39mlen\u001b[39m(byte_string) \u001b[39m+\u001b[39m \u001b[39m1\u001b[39m, \u001b[39m16\u001b[39m):\n\u001b[0;32m--> 127\u001b[0m     plaintext \u001b[39m+\u001b[39m\u001b[39m=\u001b[39m xor_bytes(\n\u001b[1;32m    128\u001b[0m         prev_cyphertext,\n\u001b[1;32m    129\u001b[0m         aes128_ecb_decrypt(curr_cyphertext, key),\n\u001b[1;32m    130\u001b[0m     )\n\u001b[1;32m    131\u001b[0m     prev_cyphertext \u001b[39m=\u001b[39m curr_cyphertext\n\u001b[1;32m    132\u001b[0m     curr_cyphertext \u001b[39m=\u001b[39m byte_string[i : i \u001b[39m+\u001b[39m \u001b[39m16\u001b[39m]\n",
      "File \u001b[0;32m~/Documents/Sync/School/School_2022/research_project/cryptopal_answers/src/helper_functions.py:52\u001b[0m, in \u001b[0;36mxor_bytes\u001b[0;34m(a, b)\u001b[0m\n\u001b[1;32m     50\u001b[0m bytes_0 \u001b[39m=\u001b[39m np\u001b[39m.\u001b[39mfrombuffer(a, dtype\u001b[39m=\u001b[39m\u001b[39m\"\u001b[39m\u001b[39muint8\u001b[39m\u001b[39m\"\u001b[39m)\n\u001b[1;32m     51\u001b[0m bytes_1 \u001b[39m=\u001b[39m np\u001b[39m.\u001b[39mfrombuffer(b, dtype\u001b[39m=\u001b[39m\u001b[39m\"\u001b[39m\u001b[39muint8\u001b[39m\u001b[39m\"\u001b[39m)\n\u001b[0;32m---> 52\u001b[0m \u001b[39massert\u001b[39;00m (\n\u001b[1;32m     53\u001b[0m     bytes_0\u001b[39m.\u001b[39mshape \u001b[39m==\u001b[39m bytes_1\u001b[39m.\u001b[39mshape\n\u001b[1;32m     54\u001b[0m ), \u001b[39m\"\u001b[39m\u001b[39mThe two byte arrays must have the same shape\u001b[39m\u001b[39m\"\u001b[39m\n\u001b[1;32m     55\u001b[0m \u001b[39mreturn\u001b[39;00m (bytes_0 \u001b[39m^\u001b[39m bytes_1)\u001b[39m.\u001b[39mtobytes()\n",
      "\u001b[0;31mAssertionError\u001b[0m: The two byte arrays must have the same shape"
     ]
    }
   ],
   "source": [
    "p = b''\n",
    "# for i in range(1, 16):\n",
    "#     # p[-1] ^ 0x3D = 0x01, where p is the last byte of the plaintext\n",
    "#     # Therefore p[-1] = 0x01 ^ 0x3D = 0x3C\n",
    "#     for j in range(0, 256):\n",
    "#         new_IV = IV[:-i-1] + int2bytes(j)\n",
    "#         if correct_padding_oracle(cyphertext[0:16], new_IV):\n",
    "#             p = int2bytes(j ^ 0x3C) + p\n",
    "\n",
    "\n",
    "for j in range(0, 256):\n",
    "    new_IV = IV[:-2] + int2bytes(j)\n",
    "    if correct_padding_oracle(cyphertext[0:16], new_IV):\n",
    "        p = int2bytes(j) + p\n",
    "\n",
    "\n",
    "\n",
    "\n",
    "\n",
    "0x01 ^ 0x3D\n"
   ]
  },
  {
   "cell_type": "code",
   "execution_count": null,
   "metadata": {},
   "outputs": [],
   "source": []
  }
 ],
 "metadata": {
  "kernelspec": {
   "display_name": "Python 3",
   "language": "python",
   "name": "python3"
  },
  "language_info": {
   "codemirror_mode": {
    "name": "ipython",
    "version": 3
   },
   "file_extension": ".py",
   "mimetype": "text/x-python",
   "name": "python",
   "nbconvert_exporter": "python",
   "pygments_lexer": "ipython3",
   "version": "3.10.4"
  },
  "orig_nbformat": 4,
  "vscode": {
   "interpreter": {
    "hash": "26b2c20fbbf8ea50bd4af0520e2c57e3f524d0e307237f1441e6cea8dc524a67"
   }
  }
 },
 "nbformat": 4,
 "nbformat_minor": 2
}
