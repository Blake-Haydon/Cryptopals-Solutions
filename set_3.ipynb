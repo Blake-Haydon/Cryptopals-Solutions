{
  "cells": [
    {
      "cell_type": "code",
      "execution_count": 44,
      "metadata": {},
      "outputs": [],
      "source": [
        "from src.helper_functions import xor_hex_strings, repeating_key_xor, xor_bytes, hamming_distance, output_repeated_block, has_repeated_blocks, find_block\n",
        "from src.symmetric_encryption import is_ecb_mode\n",
        "import src.aes128 as aes128\n",
        "import src.convert as convert\n",
        "import src.padding as padding\n",
        "# \n",
        "from cryptography.hazmat.primitives.ciphers import Cipher, algorithms, modes\n",
        "import base64\n",
        "import secrets"
      ]
    },
    {
      "attachments": {},
      "cell_type": "markdown",
      "metadata": {},
      "source": [
        "## **Challenge 17: PKCS#7 padding validation**"
      ]
    },
    {
      "cell_type": "code",
      "execution_count": 45,
      "metadata": {},
      "outputs": [],
      "source": [
        "# Assume that key is unknown but same for all encryptions\n",
        "encryption_oracle_17_key = secrets.token_bytes(16)"
      ]
    },
    {
      "cell_type": "code",
      "execution_count": 46,
      "metadata": {},
      "outputs": [],
      "source": [
        "def encryption_oracle_17() -> tuple[bytes, bytes]:\n",
        "    plaintext_list = [\n",
        "        b\"MDAwMDAwTm93IHRoYXQgdGhlIHBhcnR5IGlzIGp1bXBpbmc=\",\n",
        "        b\"MDAwMDAxV2l0aCB0aGUgYmFzcyBraWNrZWQgaW4gYW5kIHRoZSBWZWdhJ3MgYXJlIHB1bXBpbic=\",\n",
        "        b\"MDAwMDAyUXVpY2sgdG8gdGhlIHBvaW50LCB0byB0aGUgcG9pbnQsIG5vIGZha2luZw==\",\n",
        "        b\"MDAwMDAzQ29va2luZyBNQydzIGxpa2UgYSBwb3VuZCBvZiBiYWNvbg==\",\n",
        "        b\"MDAwMDA0QnVybmluZyAnZW0sIGlmIHlvdSBhaW4ndCBxdWljayBhbmQgbmltYmxl\",\n",
        "        b\"MDAwMDA1SSBnbyBjcmF6eSB3aGVuIEkgaGVhciBhIGN5bWJhbA==\",\n",
        "        b\"MDAwMDA2QW5kIGEgaGlnaCBoYXQgd2l0aCBhIHNvdXBlZCB1cCB0ZW1wbw==\",\n",
        "        b\"MDAwMDA3SSdtIG9uIGEgcm9sbCwgaXQncyB0aW1lIHRvIGdvIHNvbG8=\",\n",
        "        b\"MDAwMDA4b2xsaW4nIGluIG15IGZpdmUgcG9pbnQgb2g=\",\n",
        "        b\"MDAwMDA5aXRoIG15IHJhZy10b3AgZG93biBzbyBteSBoYWlyIGNhbiBibG93\",\n",
        "    ]\n",
        "\n",
        "    chosen_plaintext = secrets.choice(plaintext_list)\n",
        "    chosen_plaintext = base64.b64decode(chosen_plaintext)\n",
        "    chosen_plaintext = padding.apply_pkcs_7(chosen_plaintext, aes128.AES128_KEY_LENGTH)\n",
        "    \n",
        "    IV = secrets.token_bytes(16)\n",
        "    return aes128.cbc_encrypt(chosen_plaintext, encryption_oracle_17_key, IV), IV\n",
        "\n",
        "\n",
        "def correct_padding_oracle(ciphertext: bytes, IV: bytes) -> bool:\n",
        "    plaintext = aes128.cbc_decrypt(ciphertext, encryption_oracle_17_key, IV)\n",
        "    try:\n",
        "        padding.remove_pkcs_7(plaintext)\n",
        "        return True\n",
        "    except Exception:\n",
        "        return False"
      ]
    },
    {
      "cell_type": "code",
      "execution_count": 47,
      "metadata": {},
      "outputs": [
        {
          "data": {
            "text/plain": [
              "True"
            ]
          },
          "execution_count": 47,
          "metadata": {},
          "output_type": "execute_result"
        }
      ],
      "source": [
        "cyphertext, IV = encryption_oracle_17()\n",
        "correct_padding_oracle(cyphertext, IV)"
      ]
    },
    {
      "cell_type": "code",
      "execution_count": 48,
      "metadata": {},
      "outputs": [
        {
          "data": {
            "text/plain": [
              "[b\"\\x0c`W\\x9e\\xb2\\xf4\\x98\\xe0\\xa4'i\\x10\\x81\\xd2\\xe5\\xb5\",\n",
              " b'\\xa6\\x86\\x1e\\x1e\\n\\x02\\xa8g\\x10!8Q\\xc1uM?',\n",
              " b'y1+5\\xc7<\\x1bU\\xad\\\\xiM\\xaf:\\x9a']"
            ]
          },
          "execution_count": 48,
          "metadata": {},
          "output_type": "execute_result"
        }
      ],
      "source": [
        "cyphertext_blocks = [IV] + convert.bytes2blocks(cyphertext, aes128.AES128_KEY_LENGTH)\n",
        "cyphertext_blocks"
      ]
    },
    {
      "cell_type": "code",
      "execution_count": 70,
      "metadata": {},
      "outputs": [
        {
          "name": "stdout",
          "output_type": "stream",
          "text": [
            "233\n"
          ]
        }
      ],
      "source": [
        "\n",
        "# 1 * convert.int2bytes(1)\n",
        "plaintext_block = aes128.AES128_KEY_LENGTH * convert.int2bytes(0)\n",
        "\n",
        "zeros_IV = aes128.AES128_KEY_LENGTH * convert.int2bytes(0)\n",
        "\n",
        "for i in range(256):\n",
        "    plaintext_block = 15 * convert.int2bytes(0) + convert.int2bytes(i)\n",
        "    padding_block = padding.apply_pkcs_7(convert.int2bytes(0) * (aes128.AES128_KEY_LENGTH - 1), aes128.AES128_KEY_LENGTH)\n",
        "    fake_IV = xor_bytes(plaintext_block, xor_bytes(padding_block, cyphertext_blocks[1]))\n",
        "\n",
        "    zeroing_IV = xor_bytes(padding_block, cyphertext_blocks[1])\n",
        "\n",
        "    if correct_padding_oracle(cyphertext_blocks[1], fake_IV):\n",
        "        print(i)\n",
        "\n",
        "\n",
        "\n"
      ]
    },
    {
      "cell_type": "code",
      "execution_count": null,
      "metadata": {},
      "outputs": [],
      "source": []
    }
  ],
  "metadata": {
    "kernelspec": {
      "display_name": "Python 3",
      "language": "python",
      "name": "python3"
    },
    "language_info": {
      "codemirror_mode": {
        "name": "ipython",
        "version": 3
      },
      "file_extension": ".py",
      "mimetype": "text/x-python",
      "name": "python",
      "nbconvert_exporter": "python",
      "pygments_lexer": "ipython3",
      "version": "3.10.4"
    },
    "orig_nbformat": 4,
    "vscode": {
      "interpreter": {
        "hash": "26b2c20fbbf8ea50bd4af0520e2c57e3f524d0e307237f1441e6cea8dc524a67"
      }
    }
  },
  "nbformat": 4,
  "nbformat_minor": 2
}
