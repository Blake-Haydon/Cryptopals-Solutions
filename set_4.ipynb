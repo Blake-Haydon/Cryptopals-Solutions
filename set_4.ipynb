{
 "cells": [
  {
   "cell_type": "code",
   "execution_count": 1,
   "metadata": {},
   "outputs": [],
   "source": [
    "from src.helper_functions import hamming_distance, output_repeated_block, has_repeated_blocks, find_block\n",
    "from src.symmetric_encryption import is_ecb_mode, determine_blocksize\n",
    "from src.xor import xor_bytes\n",
    "import src.xor as xor\n",
    "import src.load as load\n",
    "import src.aes128 as aes128\n",
    "import src.convert as convert\n",
    "import src.padding as padding\n",
    "import src.sha1 as sha1\n",
    "# \n",
    "import base64\n",
    "import secrets"
   ]
  },
  {
   "attachments": {},
   "cell_type": "markdown",
   "metadata": {},
   "source": [
    "## **Challenge 25: Break \"random access read/write\" AES CTR**"
   ]
  },
  {
   "cell_type": "code",
   "execution_count": 2,
   "metadata": {},
   "outputs": [],
   "source": [
    "challenge_25_key = secrets.token_bytes(16)\n",
    "challenge_25_nonce = secrets.randbelow(2**8)\n",
    "\n",
    "# Load data from file and decrypt using  \n",
    "ecb_cyphertext = load.file_as_b64(\"challenge_data/25.txt\", remove_newlines=True)\n",
    "ecb_plaintext = aes128.ecb_decrypt(ecb_cyphertext, b'YELLOW SUBMARINE')\n",
    "\n",
    "# Encrypt the plaintext using CTR mode\n",
    "ctr_cyphertext = aes128.ctr_encrypt(ecb_plaintext, challenge_25_key, challenge_25_nonce)"
   ]
  },
  {
   "cell_type": "code",
   "execution_count": 3,
   "metadata": {},
   "outputs": [
    {
     "data": {
      "text/plain": [
       "b\"I'm back and I'm ringin' the bell \\nA rockin' on the mike while the fly girls yell \\nIn ecstasy in the back of me \\nWell that's my DJ Deshay cuttin' all them Z's \\nHittin' hard and the girlies goin' crazy \\nVanilla's on the mike, man I'm not lazy. \\n\\nI'm lettin' my drug kick in \\nIt controls my mouth and I begin \\nTo just let it flow, let my concepts go \\nMy posse's to the side yellin', Go Vanilla Go! \\n\\nSmooth 'cause that's the way I will be \\nAnd if you don't give a damn, then \\nWhy you starin' at me \\nSo get off 'cause I control the stage \\nThere's no dissin' allowed \\nI'm in my own phase \\nThe girlies sa y they love me and that is ok \\nAnd I can dance better than any kid n' play \\n\\nStage 2 -- Yea the one ya' wanna listen to \\nIt's off my head so let the beat play through \\nSo I can funk it up and make it sound good \\n1-2-3 Yo -- Knock on some wood \\nFor good luck, I like my rhymes atrocious \\nSupercalafragilisticexpialidocious \\nI'm an effect and that you can bet \\nI can take a fly girl and make her wet. \\n\\nI'm like Samson -- Samson to Delilah \\nThere's no denyin', You can try to hang \\nBut you'll keep tryin' to get my style \\nOver and over, practice makes perfect \\nBut not if you're a loafer. \\n\\nYou'll get nowhere, no place, no time, no girls \\nSoon -- Oh my God, homebody, you probably eat \\nSpaghetti with a spoon! Come on and say it! \\n\\nVIP. Vanilla Ice yep, yep, I'm comin' hard like a rhino \\nIntoxicating so you stagger like a wino \\nSo punks stop trying and girl stop cryin' \\nVanilla Ice is sellin' and you people are buyin' \\n'Cause why the freaks are jockin' like Crazy Glue \\nMovin' and groovin' trying to sing along \\nAll through the ghetto groovin' this here song \\nNow you're amazed by the VIP posse. \\n\\nSteppin' so hard like a German Nazi \\nStartled by the bases hittin' ground \\nThere's no trippin' on mine, I'm just gettin' down \\nSparkamatic, I'm hangin' tight like a fanatic \\nYou trapped me once and I thought that \\nYou might have it \\nSo step down and lend me your ear \\n'89 in my time! You, '90 is my year. \\n\\nYou're weakenin' fast, YO! and I can tell it \\nYour body's gettin' hot, so, so I can smell it \\nSo don't be mad and don't be sad \\n'Cause the lyrics belong to ICE, You can call me Dad \\nYou're pitchin' a fit, so step back and endure \\nLet the witch doctor, Ice, do the dance to cure \\nSo come up close and don't be square \\nYou wanna battle me -- Anytime, anywhere \\n\\nYou thought that I was weak, Boy, you're dead wrong \\nSo come on, everybody and sing this song \\n\\nSay -- Play that funky music Say, go white boy, go white boy go \\nplay that funky music Go white boy, go white boy, go \\nLay down and boogie and play that funky music till you die. \\n\\nPlay that funky music Come on, Come on, let me hear \\nPlay that funky music white boy you say it, say it \\nPlay that funky music A little louder now \\nPlay that funky music, white boy Come on, Come on, Come on \\nPlay that funky music \\n\\x04\\x04\\x04\\x04\""
      ]
     },
     "execution_count": 3,
     "metadata": {},
     "output_type": "execute_result"
    }
   ],
   "source": [
    "# We will encrypt a string of all 0's so that when XORed with the keystream it produces the keystream\n",
    "recovered_keystream = aes128.ctr_edit(\n",
    "    ctr_cyphertext,\n",
    "    challenge_25_key,\n",
    "    challenge_25_nonce,\n",
    "    0,\n",
    "    len(ctr_cyphertext) * b'\\x00',\n",
    ")\n",
    "\n",
    "# Using the recovered keystream we can break the given cyphertext\n",
    "xor_bytes(recovered_keystream, ctr_cyphertext)"
   ]
  },
  {
   "attachments": {},
   "cell_type": "markdown",
   "metadata": {},
   "source": [
    "## **Challenge 26: CTR bitflipping**"
   ]
  },
  {
   "cell_type": "code",
   "execution_count": 4,
   "metadata": {},
   "outputs": [],
   "source": [
    "challenge_26_key = secrets.token_bytes(16)\n",
    "challenge_26_nonce = secrets.randbelow(2**8)"
   ]
  },
  {
   "cell_type": "code",
   "execution_count": 5,
   "metadata": {},
   "outputs": [],
   "source": [
    "def sandwich(userdata: str) -> str:\n",
    "    \"\"\"Sandwich `userdata` string in between `comment1` and `comment2`.\n",
    "\n",
    "    `comment1 || userdata || comment2`\n",
    "    \"\"\"\n",
    "    prepend = \"comment1=cooking%20MCs;userdata=\"\n",
    "    append = \";comment2=%20like%20a%20pound%20of%20bacon\"\n",
    "    # The function quotes out the \";\" and \"=\" characters\n",
    "    # This is designed to prevent the user from injecting their own\n",
    "    # \"admin=true\" string.\n",
    "    userdata = userdata.replace(\";\", \"%3B\").replace(\"=\", \"%3D\")\n",
    "    return prepend + userdata + append\n",
    "\n",
    "\n",
    "def encryption_oracle_26(userdata: str) -> bytes:\n",
    "    \"\"\"Encrypts `userdata` with AES-128 in CTR mode.\"\"\"\n",
    "    # we must apply the sandwich function so that the user cannot inject\n",
    "    # their own `admin=true` string\n",
    "    plaintext = convert.string2bytes(sandwich(userdata))\n",
    "    return aes128.ctr_encrypt(\n",
    "        plaintext, \n",
    "        challenge_26_key, \n",
    "        challenge_26_nonce,\n",
    "    )\n",
    "\n",
    "def is_admin_oracle(cyphertext: bytes) -> bool:\n",
    "    \"\"\"Checks if the decrypted cyphertext contains the string `;admin=true;`\"\"\"\n",
    "    \n",
    "    # decrypt the cyphertext\n",
    "    plaintext = aes128.ctr_decrypt(\n",
    "        cyphertext,\n",
    "        challenge_26_key, \n",
    "        challenge_26_nonce,\n",
    "    )\n",
    "\n",
    "    # convert plaintext to a dictionary\n",
    "    plaintext_dict = convert.string2dict(\n",
    "        plaintext.decode('utf-8', 'ignore'), \n",
    "        equal_sign=\"=\", \n",
    "        break_sign=\";\",\n",
    "    )\n",
    "\n",
    "    print(\"is_admin_oracle received:\", plaintext_dict)\n",
    "\n",
    "    # check if the dictionary contains the key `admin` and if it's value is `true`\n",
    "    try:\n",
    "        return plaintext_dict['admin'] == 'true'\n",
    "    except KeyError:\n",
    "        return False"
   ]
  },
  {
   "cell_type": "code",
   "execution_count": 6,
   "metadata": {},
   "outputs": [
    {
     "name": "stdout",
     "output_type": "stream",
     "text": [
      "Block length: 1\n"
     ]
    }
   ],
   "source": [
    "bytes_encryption_oracle_26 = lambda b: encryption_oracle_26(b.decode('utf-8'))\n",
    "blocksize, offset = determine_blocksize(bytes_encryption_oracle_26)\n",
    "print(f\"Block length: {blocksize}\")"
   ]
  },
  {
   "cell_type": "code",
   "execution_count": 7,
   "metadata": {},
   "outputs": [
    {
     "name": "stdout",
     "output_type": "stream",
     "text": [
      "is_admin_oracle received: {'comment1': 'cooking%20MCs', 'userdata': 'a', 'admin': 'true', 'comment2': '%20like%20a%20pound%20of%20bacon'}\n",
      "\n",
      "We have successfully injected the string ';admin=true;' into the cyphertext!\n",
      "admin: True\n"
     ]
    }
   ],
   "source": [
    "# insert the attacker controlled string into the cyphertext\n",
    "admin_str = b\"a;admin=true\" \n",
    "a_str = \"a\" * len(admin_str)\n",
    "original_cyphertext = encryption_oracle_26(a_str)\n",
    "\n",
    "# find the first byte that contains the attacker controlled string\n",
    "# for this example we know that it is the 32nd byte\n",
    "ith_byte = 32\n",
    "\n",
    "# xor the old block with the attacker controlled string as well as the input block\n",
    "# this converts the plaintext in the attacker controlled block to the admin_str\n",
    "input_bytes = convert.string2bytes(a_str)\n",
    "old_cyphertext_bytes = original_cyphertext[ith_byte:ith_byte+len(admin_str)]\n",
    "new_cyphertext_bytes = xor_bytes(old_cyphertext_bytes, input_bytes)\n",
    "new_cyphertext_bytes = xor_bytes(new_cyphertext_bytes, admin_str)\n",
    "\n",
    "# replace the old block with the new block\n",
    "new_cyphertext = original_cyphertext[:ith_byte] + new_cyphertext_bytes + original_cyphertext[ith_byte+len(admin_str):]\n",
    "\n",
    "# check if the cyphertext contains the string `;admin=true;`\n",
    "is_admin = is_admin_oracle(new_cyphertext)\n",
    "print(f\"\\nWe have successfully injected the string ';admin=true;' into the cyphertext!\")\n",
    "print(f\"admin: {is_admin}\")"
   ]
  },
  {
   "attachments": {},
   "cell_type": "markdown",
   "metadata": {},
   "source": [
    "## **Challenge 27: Recover the key from CBC with IV=Key**"
   ]
  },
  {
   "cell_type": "code",
   "execution_count": 8,
   "metadata": {},
   "outputs": [],
   "source": [
    "challenge_27_key = secrets.token_bytes(16)\n",
    "challenge_27_IV = challenge_27_key"
   ]
  },
  {
   "cell_type": "code",
   "execution_count": 9,
   "metadata": {},
   "outputs": [],
   "source": [
    "def encryption_oracle_27(userdata: str) -> bytes:\n",
    "    \"\"\"Encrypts `userdata` with AES-128 in CBC mode.\"\"\"\n",
    "    # we must apply the sandwich function so that the user cannot inject\n",
    "    # their own `admin=true` string\n",
    "    plaintext = convert.string2bytes(sandwich(userdata))\n",
    "    return aes128.cbc_encrypt(\n",
    "        padding.apply_pkcs_7(plaintext, aes128.BLOCK_SIZE), \n",
    "        challenge_27_key, \n",
    "        challenge_27_IV,\n",
    "    )\n",
    "\n",
    "def decryption_oracle_27(cyphertext: bytes):\n",
    "    \"\"\"Decrypts `cyphertext` with AES-128 in CBC mode. If the \n",
    "    cyphertext is valid `utf-8` then it returns `true`. Otherwise, \n",
    "    it returns `false` with the decrypted plaintext.\n",
    "    \n",
    "    `return (valid_encoding, plaintext)`\n",
    "    \"\"\"\n",
    "    plaintext = aes128.cbc_decrypt(\n",
    "        cyphertext,\n",
    "        challenge_27_key, \n",
    "        challenge_27_IV,\n",
    "    )\n",
    "    try:\n",
    "        plaintext = padding.remove_pkcs_7(plaintext)\n",
    "        return True, plaintext.decode('utf-8', 'strict')\n",
    "    except Exception:\n",
    "        return False, plaintext"
   ]
  },
  {
   "cell_type": "code",
   "execution_count": 12,
   "metadata": {},
   "outputs": [
    {
     "name": "stdout",
     "output_type": "stream",
     "text": [
      "Valid Encoding: False\n",
      "Decrypted plaintext: b'comment1=cooking\\xf1\\x8f\\xceH\\xe0\\x9fvu\\x8e\\xc1ee\\xce\\xfc\\x97\\xc3\\x9a\\x1b\\xb8\\xd2\\x8f\\x93\\xe8o(\\xbe\\xd7\\xa5\\xd5\\xd7>]'\n",
      "\n",
      "Recovered IV: b'\\xf9t\\xd5\\xbf\\xea\\xfd\\x9c^\\x15\\xdd\\xb8\\xca\\xbe\\xbeP:'\n",
      "Original IV: b'\\xf9t\\xd5\\xbf\\xea\\xfd\\x9c^\\x15\\xdd\\xb8\\xca\\xbe\\xbeP:'\n",
      "Original Key: b'\\xf9t\\xd5\\xbf\\xea\\xfd\\x9c^\\x15\\xdd\\xb8\\xca\\xbe\\xbeP:'\n"
     ]
    }
   ],
   "source": [
    "# encrypt user data of all \"a\" characters\n",
    "cyphertext = encryption_oracle_27(\"a\" * 16)\n",
    "cyphertext = convert.bytes2blocks(cyphertext, aes128.BLOCK_SIZE)\n",
    "\n",
    "# modify the cyphertext so that the first block is the same as the third block\n",
    "# this will allow us to recover the IV\n",
    "modified_cyphertext = cyphertext[0] + b\"\\x00\" * aes128.BLOCK_SIZE + cyphertext[0]\n",
    "\n",
    "# decrypt the modified cyphertext and check for valid encoding\n",
    "valid_encoding, plaintext = decryption_oracle_27(modified_cyphertext)\n",
    "print(f\"Valid Encoding: {valid_encoding}\")\n",
    "print(f\"Decrypted plaintext: {plaintext}\")\n",
    "\n",
    "# split the plaintext into blocks\n",
    "p_0, p_1, p_2 = convert.bytes2blocks(plaintext, aes128.BLOCK_SIZE)\n",
    "\n",
    "# xor the first block with the third block, this will give us the IV\n",
    "recovered_iv = xor_bytes(p_0, p_2)\n",
    "\n",
    "print(f\"\\nRecovered IV: {recovered_iv}\")\n",
    "print(f\"Original IV: {challenge_27_IV}\")\n",
    "print(f\"Original Key: {challenge_27_key}\")"
   ]
  },
  {
   "attachments": {},
   "cell_type": "markdown",
   "metadata": {},
   "source": [
    "## **Challenge 28: Implement a SHA-1 keyed MAC**"
   ]
  },
  {
   "cell_type": "code",
   "execution_count": 11,
   "metadata": {},
   "outputs": [
    {
     "name": "stdout",
     "output_type": "stream",
     "text": [
      "b'\\x00\\x00\\x00\\x00\\x00\\x00\\x00\\x00'\n",
      "b'N(\\x04\\x92\\xee\\xc4\\xd0\\x04#\\xb9m\\xe0\\x11\\x0f#\\xf3\\xc5\\x0f\\x8f\\x8c'\n",
      "b'\\xdb\\xf9\\xac$A\\x96\\x10\\xaa\\x96\\x8e\\xd1\\x93?\\xc5)\\xf9>f\\xb9C'\n"
     ]
    }
   ],
   "source": [
    "key = b\"\\x00\" * 8\n",
    "print(key)\n",
    "print(sha1.mac(key, b\"a\"))\n",
    "# print(sha1.mac(b\"YELLOW SUBMARINE\", b\"aa\"))\n",
    "# print(sha1.mac(b\"YELLOW SUBMARINE\", b\"aaa\"))\n",
    "\n",
    "print(sha1.mac(sha1.mac(key, b\"\"), b\"a\"))\n",
    "# SHA1(key || message)"
   ]
  },
  {
   "cell_type": "markdown",
   "metadata": {},
   "source": [
    "## **Challenge 29: Break a SHA-1 keyed MAC using length extension**"
   ]
  },
  {
   "cell_type": "code",
   "execution_count": null,
   "metadata": {},
   "outputs": [],
   "source": []
  }
 ],
 "metadata": {
  "kernelspec": {
   "display_name": "Python 3",
   "language": "python",
   "name": "python3"
  },
  "language_info": {
   "codemirror_mode": {
    "name": "ipython",
    "version": 3
   },
   "file_extension": ".py",
   "mimetype": "text/x-python",
   "name": "python",
   "nbconvert_exporter": "python",
   "pygments_lexer": "ipython3",
   "version": "3.10.4"
  },
  "orig_nbformat": 4,
  "vscode": {
   "interpreter": {
    "hash": "2ab98c4b59af728aa8bd9922870b996a7fc5861c87b81242319b92eec59b5fef"
   }
  }
 },
 "nbformat": 4,
 "nbformat_minor": 2
}
