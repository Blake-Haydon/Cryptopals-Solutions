{
 "cells": [
  {
   "attachments": {},
   "cell_type": "markdown",
   "metadata": {},
   "source": [
    "## **Challenge 33: Implement Diffie-Hellman**"
   ]
  },
  {
   "cell_type": "code",
   "execution_count": 2,
   "metadata": {},
   "outputs": [],
   "source": [
    "import secrets\n",
    "# \n",
    "import src.dh as dh\n",
    "import src.sha1 as sha1\n",
    "import src.aes128 as aes128\n",
    "import src.sha256 as sha256\n",
    "import src.convert as convert"
   ]
  },
  {
   "cell_type": "code",
   "execution_count": 349,
   "metadata": {},
   "outputs": [
    {
     "name": "stdout",
     "output_type": "stream",
     "text": [
      "Diffie-Hellman with parameters: \n",
      "- Prime: 37\n",
      "- Generator: 5\n",
      "\n",
      "Alice's Private Key: 7, Public Key: 18\n",
      "Bob's Private Key: 25, Public Key: 19\n",
      "\n",
      "Alice's Secret: 24\n",
      "Bob's Secret: 24\n"
     ]
    }
   ],
   "source": [
    "prime = 37\n",
    "generator = 5\n",
    "print(f\"Diffie-Hellman with parameters: \\n- Prime: {prime}\\n- Generator: {generator}\\n\")\n",
    "\n",
    "# Generate alice and bob's private and public keys\n",
    "private_key_a, public_key_a = dh.gen_keypair(prime, generator)\n",
    "private_key_b, public_key_b = dh.gen_keypair(prime, generator)\n",
    "print(f\"Alice's Private Key: {private_key_a}, Public Key: {public_key_a}\")\n",
    "print(f\"Bob's Private Key: {private_key_b}, Public Key: {public_key_b}\\n\")\n",
    "\n",
    "# Generate alice and bob's shared secrets (should be the same)\n",
    "secret_a = dh.shared_secret(prime, prime, private_key_b)\n",
    "secret_b = dh.shared_secret(prime, prime, private_key_a)\n",
    "print(f\"Alice's Secret: {secret_a}\")\n",
    "print(f\"Bob's Secret: {secret_b}\")"
   ]
  },
  {
   "cell_type": "code",
   "execution_count": 4,
   "metadata": {},
   "outputs": [
    {
     "name": "stdout",
     "output_type": "stream",
     "text": [
      "Diffie-Hellman with parameters: \n",
      "- Prime: 2410312426921032588552076022197566074856950548502459942654116941958108831682612228890093858261341614673227141477904012196503648957050582631942730706805009223062734745341073406696246014589361659774041027169249453200378729434170325843778659198143763193776859869524088940195577346119843545301547043747207749969763750084308926339295559968882457872412993810129130294592999947926365264059284647209730384947211681434464714438488520940127459844288859336526896320919633919\n",
      "- Generator: 2\n",
      "\n",
      "Alice's Private Key: 1431037398876195351979475207254443037390790472903756546558393589510023445962842429953588711804183995326582534418922377116723698468822327445583691579761143246514589024296833386214377002831129006264269117825032022566425753808807146946191673465870254957957368755203426953916164411080842749289925461953413765957364346115461286212447266781414450188561163214789481867767617206869541893861477090000948908616096279744951175611059580233866243465591795763095318841348978552, Public Key: 436528193981602738945662445687949780167712110899004948072362244686626401832623837754140026567888921675575544636697460635615086242077894800936753654385676127813602820142702900020951476250421079840943342376524664782684818686937462208583202205386854299216370085585836535416849143022673441730635833246560127274246890093120394875341630678303865572727674579309518385064515051238771705498593719013330465863906991956953486229882843523732547929727458078123124131963605909\n",
      "Bob's Private Key: 1975381624877720635799981299182616886615044563938207931465710603649602487702551679005668859186328315588499948190725786516606242708677400823164949594214186664725797860484395210088036604570426083659158249188743284594946022412035922651652173322874854438901458214532356716685413114194648584248562237924028169443768863756191718105901141819588475542668422123034049788193156784351548194577846236104300294378083679093950460971467307541291371442450568293971944966512952782, Public Key: 1839360816681792088233987504174779959868157754003380755801140444882814785566101469211943538724013662687588077413187910806614860848627366950908647188779114865464579278810551991919596531368438908440118307470180624281937220415085014587769427403407376056027897592559076481436408727325532580821468114505840684147299417449108633179965318685915542454873600348321293752696428668012117786645501422694314837947645908975807808030161347566808948489996207449950340974455181468\n",
      "\n",
      "Alice's Secret: 1483804966143947517713963763343497569968599074691029673716328782720884942506795069277342485480105876542087284505345180426063677966507023832705122502748873582517201277063987654581276829959183291681941419378159462026989443607290795283061720884712648853449779322298670197622369905063100970293398609659169222742032007893651558146838781441299090890465274882371003254861688717083079235384588571252753852492674769943743503245332395242936120629121407603456501213942162478\n",
      "Bob's Secret: 1483804966143947517713963763343497569968599074691029673716328782720884942506795069277342485480105876542087284505345180426063677966507023832705122502748873582517201277063987654581276829959183291681941419378159462026989443607290795283061720884712648853449779322298670197622369905063100970293398609659169222742032007893651558146838781441299090890465274882371003254861688717083079235384588571252753852492674769943743503245332395242936120629121407603456501213942162478\n"
     ]
    }
   ],
   "source": [
    "prime = 0xffffffffffffffffc90fdaa22168c234c4c6628b80dc1cd129024e088a67cc74020bbea63b139b22514a08798e3404ddef9519b3cd3a431b302b0a6df25f14374fe1356d6d51c245e485b576625e7ec6f44c42e9a637ed6b0bff5cb6f406b7edee386bfb5a899fa5ae9f24117c4b1fe649286651ece45b3dc2007cb8a163bf0598da48361c55d39a69163fa8fd24cf5f83655d23dca3ad961c62f356208552bb9ed529077096966d670c354e4abc9804f1746c08ca237327ffffffffffffffff\n",
    "generator = 2\n",
    "print(f\"Diffie-Hellman with parameters: \\n- Prime: {prime}\\n- Generator: {generator}\\n\")\n",
    "\n",
    "# Generate alice and bob's private and public keys\n",
    "private_key_a, public_key_a = dh.gen_keypair(prime, generator)\n",
    "private_key_b, public_key_b = dh.gen_keypair(prime, generator)\n",
    "print(f\"Alice's Private Key: {private_key_a}, Public Key: {public_key_a}\")\n",
    "print(f\"Bob's Private Key: {private_key_b}, Public Key: {public_key_b}\\n\")\n",
    "\n",
    "# Generate alice and bob's shared secrets (should be the same)\n",
    "secret_a = dh.shared_secret(prime, public_key_a, private_key_b)\n",
    "secret_b = dh.shared_secret(prime, public_key_b, private_key_a)\n",
    "print(f\"Alice's Secret: {secret_a}\")\n",
    "print(f\"Bob's Secret: {secret_b}\")"
   ]
  },
  {
   "cell_type": "code",
   "execution_count": 5,
   "metadata": {},
   "outputs": [
    {
     "name": "stdout",
     "output_type": "stream",
     "text": [
      "\n",
      "128 bit key: b'\\\\\\x00\\xe1b#G\\xca\\xaa\\xc0\\x80\\x0cB\\x8e\\x8b<\\x8e' (16 bytes)\n"
     ]
    }
   ],
   "source": [
    "# Generate a 128 bit key from the hash of the shared secret\n",
    "key = sha256.digest(convert.bigint2bytes(secret_a))[:16]\n",
    "print(f\"\\n128 bit key: {key} ({len(key)} bytes)\")"
   ]
  },
  {
   "attachments": {},
   "cell_type": "markdown",
   "metadata": {},
   "source": [
    "## **Challenge 34: Implement a MITM key-fixing attack on Diffie-Hellman with parameter injection**"
   ]
  },
  {
   "attachments": {},
   "cell_type": "markdown",
   "metadata": {},
   "source": [
    "## Normal Protocol\n",
    "```\n",
    "(1) A->B\n",
    "    Send \"p\", \"g\", \"A\"\n",
    "(2) B->A\n",
    "    Send \"B\"\n",
    "(3) A->B\n",
    "    Send AES-CBC(SHA1(s)[0:16], iv=random(16), msg) + iv\n",
    "(4) B->A\n",
    "    Send AES-CBC(SHA1(s)[0:16], iv=random(16), A's msg) + iv \n",
    "```"
   ]
  },
  {
   "cell_type": "code",
   "execution_count": 7,
   "metadata": {},
   "outputs": [
    {
     "name": "stdout",
     "output_type": "stream",
     "text": [
      "Bob received: b'Hello Bob!!!!!!!'\n",
      "Alice received: b'Hello Bob!!!!!!!'\n"
     ]
    }
   ],
   "source": [
    "# (1) Send \"p\", \"g\", \"A\" to Bob (A->B)\n",
    "a_p = 37\n",
    "a_g = 5\n",
    "a_priv, a_pub = dh.gen_keypair(a_p, a_g)\n",
    "\n",
    "# Bob receives \"p\", \"g\", \"A\" \n",
    "b_p = a_p\n",
    "b_g = a_g\n",
    "b_A = a_pub\n",
    "b_priv, b_pub = dh.gen_keypair(b_p, b_g)\n",
    "\n",
    "# (2) Send \"B\" to Alice (B->A)\n",
    "a_B = b_pub\n",
    "\n",
    "# Compute shared secret independently\n",
    "a_s = dh.shared_secret(a_p, a_B, a_priv)\n",
    "b_s = dh.shared_secret(b_p, b_A, b_priv)\n",
    "\n",
    "# Derive AES key from shared secret\n",
    "a_key = sha1.digest(convert.bigint2bytes(a_s))[:16]\n",
    "b_key = sha1.digest(convert.bigint2bytes(b_s))[:16]\n",
    "\n",
    "# (3) Send message to Bob over encrypted channel (A->B)\n",
    "a_iv = secrets.token_bytes(16)\n",
    "a_msg = b\"Hello Bob!!!!!!!\"\n",
    "a_ciphertext = aes128.cbc_encrypt(a_msg, a_key, a_iv)\n",
    "\n",
    "# Receive message from Alice and decrypt (using Bob's AES key)\n",
    "b_plaintext = aes128.cbc_decrypt(a_ciphertext, b_key, a_iv)\n",
    "print(f\"Bob received: {b_plaintext}\")\n",
    "\n",
    "# (4) Echo message to Alice over encrypted channel (A->B)\n",
    "b_iv = secrets.token_bytes(16)\n",
    "b_ciphertext = aes128.cbc_encrypt(b_plaintext, b_key, b_iv)\n",
    "\n",
    "# Receive message from Bob and decrypt (using Alice's AES key)\n",
    "a_plaintext = aes128.cbc_decrypt(b_ciphertext, a_key, b_iv)\n",
    "print(f\"Alice received: {a_plaintext}\")"
   ]
  },
  {
   "attachments": {},
   "cell_type": "markdown",
   "metadata": {},
   "source": [
    "## Man in the Middle Protocol\n",
    "\n",
    "```\n",
    "(1) A->M\n",
    "    Send \"p\", \"g\", \"A\"\n",
    "(2) M->B\n",
    "    Send \"p\", \"g\", \"p\"\n",
    "(3) B->M\n",
    "    Send \"B\"\n",
    "(4) M->A\n",
    "    Send \"p\"\n",
    "(5) A->M\n",
    "    Send AES-CBC(SHA1(s)[0:16], iv=random(16), msg) + iv\n",
    "(6) M->B\n",
    "    Relay that to B\n",
    "(7) B->M\n",
    "    Send AES-CBC(SHA1(s)[0:16], iv=random(16), A's msg) + iv\n",
    "(8) M->A\n",
    "    Relay that to A\n",
    "```"
   ]
  },
  {
   "cell_type": "code",
   "execution_count": 285,
   "metadata": {},
   "outputs": [
    {
     "name": "stdout",
     "output_type": "stream",
     "text": [
      "Bob's Public Key: 13, private key: 13\n",
      "Alice's Secret == Bob's Secret == 0\n",
      "Middleman received: b'\\xb6\\xc5\\x11\\\\\\xe9\\xe01:\\xfbw\\xe3e\\xe6}2\\xbf' (encrypted with Alice's key)\n",
      "Bob received: b'Hello Bob!!!!!!!'\n",
      "Alice received: b'Hello Bob!!!!!!!'\n"
     ]
    }
   ],
   "source": [
    "# (1) Send \"p\", \"g\", \"A\" to Bob (A->M)\n",
    "a_p = 37\n",
    "a_g = 5\n",
    "a_priv, a_pub = dh.gen_keypair(a_p, a_g)\n",
    "\n",
    "# (2) Send \"p\", \"g\", \"p\" to Bob (M->B)\n",
    "b_p = a_p\n",
    "b_g = a_g\n",
    "b_A = a_p # Middleman intercepts and replaces A with p\n",
    "b_priv, b_pub = dh.gen_keypair(b_p, b_g)\n",
    "print(f\"Bob's Public Key: {b_pub}, private key: {b_priv}\")\n",
    "\n",
    "# (3) Send \"B\" to Middleman (B->M)\n",
    "m_B = b_pub\n",
    "\n",
    "# (4) Send \"p\" to Alice (M->A)\n",
    "a_B = a_p\n",
    "\n",
    "# Compute shared secret independently\n",
    "a_s = dh.shared_secret(a_p, a_B, a_priv)\n",
    "b_s = dh.shared_secret(b_p, b_A, b_priv)\n",
    "print(f\"Alice's Secret == Bob's Secret == {a_s}\")\n",
    "\n",
    "# Derive AES key from shared secret\n",
    "a_key = sha1.digest(convert.bigint2bytes(a_s))[:16]\n",
    "b_key = sha1.digest(convert.bigint2bytes(b_s))[:16]\n",
    "\n",
    "# (5) Send message to Bob over encrypted channel (A->M) \n",
    "a_iv = secrets.token_bytes(16)\n",
    "a_msg = b\"Hello Bob!!!!!!!\"\n",
    "a_ciphertext = aes128.cbc_encrypt(a_msg, a_key, a_iv)\n",
    "\n",
    "# (6) Send message to Alice over encrypted channel (M->B)\n",
    "m_ciphertext = a_ciphertext\n",
    "m_key = sha1.digest(16 * b\"\\x00\")[:16]\n",
    "m_plaintext = aes128.cbc_decrypt(m_ciphertext, m_key, a_iv)\n",
    "print(f\"Middleman received: {m_plaintext} (encrypted with Alice's key)\")\n",
    "\n",
    "# Receive message from Alice and decrypt (using Bob's AES key)\n",
    "b_plaintext = aes128.cbc_decrypt(m_ciphertext, b_key, a_iv)\n",
    "print(f\"Bob received: {b_plaintext}\")\n",
    "\n",
    "# (5) Echo message to Alice over encrypted channel (A -> B)\n",
    "b_iv = secrets.token_bytes(16)\n",
    "b_ciphertext = aes128.cbc_encrypt(b_plaintext, b_key, b_iv)\n",
    "\n",
    "# Receive message from Bob and decrypt (using Alice's AES key)\n",
    "a_plaintext = aes128.cbc_decrypt(b_ciphertext, a_key, b_iv)\n",
    "print(f\"Alice received: {a_plaintext}\")"
   ]
  }
 ],
 "metadata": {
  "kernelspec": {
   "display_name": "Python 3",
   "language": "python",
   "name": "python3"
  },
  "language_info": {
   "codemirror_mode": {
    "name": "ipython",
    "version": 3
   },
   "file_extension": ".py",
   "mimetype": "text/x-python",
   "name": "python",
   "nbconvert_exporter": "python",
   "pygments_lexer": "ipython3",
   "version": "3.10.4"
  },
  "orig_nbformat": 4,
  "vscode": {
   "interpreter": {
    "hash": "2ab98c4b59af728aa8bd9922870b996a7fc5861c87b81242319b92eec59b5fef"
   }
  }
 },
 "nbformat": 4,
 "nbformat_minor": 2
}
