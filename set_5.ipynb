{
 "cells": [
  {
   "attachments": {},
   "cell_type": "markdown",
   "metadata": {},
   "source": [
    "## **Challenge 33: Implement Diffie-Hellman**"
   ]
  },
  {
   "cell_type": "code",
   "execution_count": 1,
   "metadata": {},
   "outputs": [],
   "source": [
    "import secrets\n",
    "# \n",
    "import src.dh as dh\n",
    "import src.sha256 as sha256\n",
    "import src.convert as convert"
   ]
  },
  {
   "cell_type": "code",
   "execution_count": 2,
   "metadata": {},
   "outputs": [
    {
     "name": "stdout",
     "output_type": "stream",
     "text": [
      "Diffie-Hellman with parameters: \n",
      "- Prime: 37\n",
      "- Generator: 5\n",
      "\n",
      "Alice's Private Key: 19, Public Key: 32\n",
      "Bob's Private Key: 21, Public Key: 23\n",
      "\n",
      "Alice's Secret: 14\n",
      "Bob's Secret: 14\n"
     ]
    }
   ],
   "source": [
    "prime = 37\n",
    "generator = 5\n",
    "print(f\"Diffie-Hellman with parameters: \\n- Prime: {prime}\\n- Generator: {generator}\\n\")\n",
    "\n",
    "# Generate alice and bob's private and public keys\n",
    "private_key_a, public_key_a = dh.gen_keypair(prime, generator)\n",
    "private_key_b, public_key_b = dh.gen_keypair(prime, generator)\n",
    "print(f\"Alice's Private Key: {private_key_a}, Public Key: {public_key_a}\")\n",
    "print(f\"Bob's Private Key: {private_key_b}, Public Key: {public_key_b}\\n\")\n",
    "\n",
    "# Generate alice and bob's shared secrets (should be the same)\n",
    "secret_a = dh.shared_secret(prime, public_key_a, private_key_b)\n",
    "secret_b = dh.shared_secret(prime, public_key_b, private_key_a)\n",
    "print(f\"Alice's Secret: {secret_a}\")\n",
    "print(f\"Bob's Secret: {secret_b}\")"
   ]
  },
  {
   "cell_type": "code",
   "execution_count": 15,
   "metadata": {},
   "outputs": [
    {
     "name": "stdout",
     "output_type": "stream",
     "text": [
      "Diffie-Hellman with parameters: \n",
      "- Prime: 2410312426921032588552076022197566074856950548502459942654116941958108831682612228890093858261341614673227141477904012196503648957050582631942730706805009223062734745341073406696246014589361659774041027169249453200378729434170325843778659198143763193776859869524088940195577346119843545301547043747207749969763750084308926339295559968882457872412993810129130294592999947926365264059284647209730384947211681434464714438488520940127459844288859336526896320919633919\n",
      "- Generator: 2\n",
      "\n",
      "Alice's Private Key: 1937151472924568843374232080577698349737276895241149116787603800922163864562677661087161056336095398531545458603403416758327728705779341551954265239944779055834408162899806034480472584876008249657592062613147858482143771945540355191373306939609610603921670975657352243770217942843628640669195971853509251388571272990289382804785019276592764985829659276857530834871860271507865760364969425662785020285617091300179005771358766142222071633225854173133940952276195282, Public Key: 1379425124200438162057274269793014830209500622246792573309568682036955678549395331085726375375993636898705562135933861548282823552564105213273556863354685013232728113678892507008186119008141677920423036040282679769636076953678781160485016878919810680641246602254121002194478085766031040016779934860884219289081109997399498463166705745844711507426415926455517955788708363598924549851631780915794209787765438026793703507216406634496644372877974154559116727879415409\n",
      "Bob's Private Key: 1001828074459512183499852017868816010727799037337241027351745516660725596211351691150818583670693700739061305074874346025264666400628383253455468394928862941444757238500860323319872701998296281482156106169611468422353436322279035051441505126681269593869739464614781879142005845956543136653617323577057500635722944561843335486704694520330144878613166312979379047715823628970729201090475183431374046209275046668327491548009140828109193386929659329928997304047673931, Public Key: 320591159408248702770554059513590256657001194756457611030943457295932069136280629648833976507331335164858173869039189538716069531695267916087496253944149705060023238341392476170806817272225453940777301456938242601418853641921661422381860575442365372867782266746446108195618590251324431484942393433813137679329813197443237769374683603642921746385836879314499782895907731396418337965921428254941920345113672260959057080409201130638535611901495630170622089384486140\n",
      "\n",
      "Alice's Secret: 1760378587317108025609737528506552808167335764309701471896705797416046429599103535530560588784005771026409622985435463716232447916729239102048507391851000439753581797435882256632067463567519352782132186351214153977344872409095639571382315650969274526454895729716685771650604133046786188240809713848090032539939176468843147218412354925744183637157498484315864389071376289018578049537738856271443515389848619665066757421134303021854571542525971777274631264122163038\n",
      "Bob's Secret: 1760378587317108025609737528506552808167335764309701471896705797416046429599103535530560588784005771026409622985435463716232447916729239102048507391851000439753581797435882256632067463567519352782132186351214153977344872409095639571382315650969274526454895729716685771650604133046786188240809713848090032539939176468843147218412354925744183637157498484315864389071376289018578049537738856271443515389848619665066757421134303021854571542525971777274631264122163038\n"
     ]
    }
   ],
   "source": [
    "prime = 0xffffffffffffffffc90fdaa22168c234c4c6628b80dc1cd129024e088a67cc74020bbea63b139b22514a08798e3404ddef9519b3cd3a431b302b0a6df25f14374fe1356d6d51c245e485b576625e7ec6f44c42e9a637ed6b0bff5cb6f406b7edee386bfb5a899fa5ae9f24117c4b1fe649286651ece45b3dc2007cb8a163bf0598da48361c55d39a69163fa8fd24cf5f83655d23dca3ad961c62f356208552bb9ed529077096966d670c354e4abc9804f1746c08ca237327ffffffffffffffff\n",
    "generator = 2\n",
    "print(f\"Diffie-Hellman with parameters: \\n- Prime: {prime}\\n- Generator: {generator}\\n\")\n",
    "\n",
    "# Generate alice and bob's private and public keys\n",
    "private_key_a, public_key_a = dh.gen_keypair(prime, generator)\n",
    "private_key_b, public_key_b = dh.gen_keypair(prime, generator)\n",
    "print(f\"Alice's Private Key: {private_key_a}, Public Key: {public_key_a}\")\n",
    "print(f\"Bob's Private Key: {private_key_b}, Public Key: {public_key_b}\\n\")\n",
    "\n",
    "# Generate alice and bob's shared secrets (should be the same)\n",
    "secret_a = dh.shared_secret(prime, public_key_a, private_key_b)\n",
    "secret_b = dh.shared_secret(prime, public_key_b, private_key_a)\n",
    "print(f\"Alice's Secret: {secret_a}\")\n",
    "print(f\"Bob's Secret: {secret_b}\")"
   ]
  },
  {
   "cell_type": "code",
   "execution_count": 16,
   "metadata": {},
   "outputs": [
    {
     "name": "stdout",
     "output_type": "stream",
     "text": [
      "\n",
      "128 bit key: b'\\xe6\\x90\\x96\\xaf\\xed@\\xdf\\x17\\xf4\\xb8#\\xa3\\x9d\\xe56\\xa5' (16 bytes)\n"
     ]
    }
   ],
   "source": [
    "# Generate a 128 bit key from the hash of the shared secret\n",
    "key = sha256.digest(convert.bigint2bytes(secret_a))[:16]\n",
    "print(f\"\\n128 bit key: {key} ({len(key)} bytes)\")"
   ]
  },
  {
   "attachments": {},
   "cell_type": "markdown",
   "metadata": {},
   "source": [
    "## **Challenge 34: Implement a MITM key-fixing attack on Diffie-Hellman with parameter injection**"
   ]
  },
  {
   "cell_type": "code",
   "execution_count": null,
   "metadata": {},
   "outputs": [],
   "source": []
  }
 ],
 "metadata": {
  "kernelspec": {
   "display_name": "Python 3",
   "language": "python",
   "name": "python3"
  },
  "language_info": {
   "codemirror_mode": {
    "name": "ipython",
    "version": 3
   },
   "file_extension": ".py",
   "mimetype": "text/x-python",
   "name": "python",
   "nbconvert_exporter": "python",
   "pygments_lexer": "ipython3",
   "version": "3.10.4"
  },
  "orig_nbformat": 4,
  "vscode": {
   "interpreter": {
    "hash": "2ab98c4b59af728aa8bd9922870b996a7fc5861c87b81242319b92eec59b5fef"
   }
  }
 },
 "nbformat": 4,
 "nbformat_minor": 2
}
